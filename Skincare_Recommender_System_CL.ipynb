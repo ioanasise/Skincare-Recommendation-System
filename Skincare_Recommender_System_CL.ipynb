{
  "cells": [
    {
      "cell_type": "markdown",
      "metadata": {
        "id": "view-in-github",
        "colab_type": "text"
      },
      "source": [
        "<a href=\"https://colab.research.google.com/github/ioanasise/Skincare-Recommendation-System/blob/main/Skincare_Recommender_System_CL.ipynb\" target=\"_parent\"><img src=\"https://colab.research.google.com/assets/colab-badge.svg\" alt=\"Open In Colab\"/></a>"
      ]
    },
    {
      "cell_type": "code",
      "source": [
        "!pip install plotly\n",
        "!pip install numpy\n",
        "!pip install pyspark"
      ],
      "metadata": {
        "id": "f042DrdZlOYf",
        "colab": {
          "base_uri": "https://localhost:8080/"
        },
        "outputId": "d0e986de-3c41-4796-be3f-40703eba1a22"
      },
      "execution_count": null,
      "outputs": [
        {
          "output_type": "stream",
          "name": "stdout",
          "text": [
            "Requirement already satisfied: plotly in /usr/local/lib/python3.7/dist-packages (5.5.0)\n",
            "Requirement already satisfied: tenacity>=6.2.0 in /usr/local/lib/python3.7/dist-packages (from plotly) (8.0.1)\n",
            "Requirement already satisfied: six in /usr/local/lib/python3.7/dist-packages (from plotly) (1.15.0)\n",
            "Requirement already satisfied: numpy in /usr/local/lib/python3.7/dist-packages (1.21.5)\n",
            "Collecting pyspark\n",
            "  Downloading pyspark-3.2.1.tar.gz (281.4 MB)\n",
            "\u001b[K     |████████████████████████████████| 281.4 MB 32 kB/s \n",
            "\u001b[?25hCollecting py4j==0.10.9.3\n",
            "  Downloading py4j-0.10.9.3-py2.py3-none-any.whl (198 kB)\n",
            "\u001b[K     |████████████████████████████████| 198 kB 61.6 MB/s \n",
            "\u001b[?25hBuilding wheels for collected packages: pyspark\n",
            "  Building wheel for pyspark (setup.py) ... \u001b[?25l\u001b[?25hdone\n",
            "  Created wheel for pyspark: filename=pyspark-3.2.1-py2.py3-none-any.whl size=281853642 sha256=fb349f3d4ef6a8c60a9849ff431a229955aef54e208fe180a3333835517a5cd6\n",
            "  Stored in directory: /root/.cache/pip/wheels/9f/f5/07/7cd8017084dce4e93e84e92efd1e1d5334db05f2e83bcef74f\n",
            "Successfully built pyspark\n",
            "Installing collected packages: py4j, pyspark\n",
            "Successfully installed py4j-0.10.9.3 pyspark-3.2.1\n"
          ]
        }
      ]
    },
    {
      "cell_type": "code",
      "execution_count": null,
      "metadata": {
        "id": "IRX7GeuRFEJo"
      },
      "outputs": [],
      "source": [
        "import numpy as np\n",
        "import pandas as pd\n",
        "import seaborn as sns\n",
        "import matplotlib.pyplot as plt\n",
        "%matplotlib inline\n",
        "import plotly\n",
        "import plotly.graph_objects as go\n",
        "from plotly.subplots import make_subplots\n",
        "import numpy as np\n",
        "\n",
        "# Formats values in pandas tables to 2dp\n",
        "pd.set_option('display.float_format', lambda x: '%.2f' % x)"
      ]
    },
    {
      "cell_type": "markdown",
      "metadata": {
        "id": "aW39Hf48AQsw"
      },
      "source": [
        "### A note from the Original Poster\n",
        "\n",
        "> A note on data acquisition and feature engineering: I scraped Sephora.com using selenium webdriver and got two dataframes: user data and product data. They were merged together on unique user id, cleaned, which resulted in a big dataframe with the following columns: 'Username', 'Skin_Tone', 'Skin_Type', 'Eye_Color', 'Hair_Color','Rating_Stars', 'Review', 'Product', 'Brand', 'Price', 'Rating','Ingredients', 'Combination', 'Dry', 'Normal', 'Oily', 'Sensitive','Category', 'Product_Url', 'User_id', 'Product_id','Ingredients_Cleaned', 'Review_Cleaned', 'Good_Stuff', 'Ing_Tfidf'."
      ]
    },
    {
      "cell_type": "markdown",
      "metadata": {
        "id": "3B57rc0RAYQZ"
      },
      "source": [
        "## Dataset Description\n",
        "Based on the information givena description for the dataset was created."
      ]
    },
    {
      "cell_type": "markdown",
      "metadata": {
        "id": "TmNbidc1_kcL"
      },
      "source": [
        "* Username: username of the user who left a review for the specific product\n",
        "* Skin_Tone: indicated skin color of the user\n",
        "* Skin_Type: indicated skin type of the user\n",
        "* Eye_Color: indicated eye color of the user\n",
        "* Hair_Color: indicated hair color of the user\n",
        "* Rating_Stars: selected rating that the user gave for the product on a scale of 1-5 stars\n",
        "* Review: text of the review left by the user\n",
        "* Product: name of the product\n",
        "* Brand: brand name of the product\n",
        "* Price: how much the product costs\n",
        "* Rating: average rating of the product\n",
        "* Ingredients: list of ingredients in the product\n",
        "* Combination, Dry, Normal, Oily, Sensitive: One-hot encoded columns for skin type that the product targets\n",
        "* Category: what type of product it's labeled as\n",
        "* Product_Url: link to the product webpage\n",
        "* User_id: unique id number of user\n",
        "* Product_id: unique id number of product\n",
        "* Ingredients_Cleaned: list of ingredients in the product, but cleaned and broken into list for each ingredient rather than a long block of text found in original Ingredients column\n",
        "* Review_Cleaned: similar to Ingredients_Cleaned; cleaned text of the review from original Review column\n",
        "* Good_Stuff: 1 or 0 for yes or no, indicator on Sephora's product pages for ingredients considered good/clean\n",
        "* Ing_Tfidf: a more clean and simplified ingredient list of product, after considering how important specific words are to the set"
      ]
    },
    {
      "cell_type": "markdown",
      "metadata": {
        "id": "rEB4cySd4enW"
      },
      "source": [
        "\n",
        "# Part 1 - EDA, Preprocessing & Visualisation"
      ]
    },
    {
      "cell_type": "markdown",
      "source": [
        "1. Data Cleaning\n",
        "2. Tokenization - splitting up items into smaller sections, removing certain characters and punctuation\n",
        "\n",
        "3. Remove Stopwords - useless words((such as “the”, “a”, “an”, “in”)\n",
        "4. Remove Punctuation\n",
        "5. Lemmatisation - keeps the true meaning of the word (caring turns to care)"
      ],
      "metadata": {
        "id": "sP-fL3uKcNdt"
      }
    },
    {
      "cell_type": "code",
      "execution_count": null,
      "metadata": {
        "id": "v0U7-_yw5MiT"
      },
      "outputs": [],
      "source": [
        "df = pd.read_csv('https://raw.githubusercontent.com/agorina91/final_project/master/Jupyter_Notebook_and_CSV/skindataall.csv', index_col = [0])"
      ]
    },
    {
      "cell_type": "code",
      "source": [
        "# Exploratory data analysis\n",
        "print(df.info())\n",
        "print(f'Total Duplicate Rows: {df[df.duplicated(keep=False)].shape[0]}')"
      ],
      "metadata": {
        "colab": {
          "base_uri": "https://localhost:8080/"
        },
        "id": "XltHKHZFlazC",
        "outputId": "6ee4adeb-f6ec-4479-e583-2b88a11d66c8"
      },
      "execution_count": null,
      "outputs": [
        {
          "output_type": "stream",
          "name": "stdout",
          "text": [
            "<class 'pandas.core.frame.DataFrame'>\n",
            "Int64Index: 8649 entries, 0 to 8702\n",
            "Data columns (total 25 columns):\n",
            " #   Column               Non-Null Count  Dtype  \n",
            "---  ------               --------------  -----  \n",
            " 0   Username             8649 non-null   object \n",
            " 1   Skin_Tone            8649 non-null   object \n",
            " 2   Skin_Type            8649 non-null   object \n",
            " 3   Eye_Color            8649 non-null   object \n",
            " 4   Hair_Color           8649 non-null   object \n",
            " 5   Rating_Stars         8649 non-null   int64  \n",
            " 6   Review               8649 non-null   object \n",
            " 7   Product              8649 non-null   object \n",
            " 8   Brand                8649 non-null   object \n",
            " 9   Price                8649 non-null   int64  \n",
            " 10  Rating               8649 non-null   float64\n",
            " 11  Ingredients          8649 non-null   object \n",
            " 12  Combination          8649 non-null   int64  \n",
            " 13  Dry                  8649 non-null   int64  \n",
            " 14  Normal               8649 non-null   int64  \n",
            " 15  Oily                 8649 non-null   int64  \n",
            " 16  Sensitive            8649 non-null   int64  \n",
            " 17  Category             8649 non-null   object \n",
            " 18  Product_Url          8649 non-null   object \n",
            " 19  User_id              8649 non-null   int64  \n",
            " 20  Product_id           8649 non-null   int64  \n",
            " 21  Ingredients_Cleaned  8649 non-null   object \n",
            " 22  Review_Cleaned       8649 non-null   object \n",
            " 23  Good_Stuff           8649 non-null   int64  \n",
            " 24  Ing_Tfidf            8649 non-null   object \n",
            "dtypes: float64(1), int64(10), object(14)\n",
            "memory usage: 1.7+ MB\n",
            "None\n",
            "Total Duplicate Rows: 2277\n"
          ]
        }
      ]
    },
    {
      "cell_type": "code",
      "execution_count": null,
      "metadata": {
        "colab": {
          "base_uri": "https://localhost:8080/",
          "height": 562
        },
        "id": "erH7yRTf572q",
        "outputId": "5c6db85e-ef3d-433c-9f6f-89b36aab7d3f"
      },
      "outputs": [
        {
          "output_type": "execute_result",
          "data": {
            "text/html": [
              "\n",
              "  <div id=\"df-10684cee-cdd4-4bdf-bcf7-6ad1a47539c1\">\n",
              "    <div class=\"colab-df-container\">\n",
              "      <div>\n",
              "<style scoped>\n",
              "    .dataframe tbody tr th:only-of-type {\n",
              "        vertical-align: middle;\n",
              "    }\n",
              "\n",
              "    .dataframe tbody tr th {\n",
              "        vertical-align: top;\n",
              "    }\n",
              "\n",
              "    .dataframe thead th {\n",
              "        text-align: right;\n",
              "    }\n",
              "</style>\n",
              "<table border=\"1\" class=\"dataframe\">\n",
              "  <thead>\n",
              "    <tr style=\"text-align: right;\">\n",
              "      <th></th>\n",
              "      <th>Username</th>\n",
              "      <th>Skin_Tone</th>\n",
              "      <th>Skin_Type</th>\n",
              "      <th>Eye_Color</th>\n",
              "      <th>Hair_Color</th>\n",
              "      <th>Rating_Stars</th>\n",
              "      <th>Review</th>\n",
              "      <th>Product</th>\n",
              "      <th>Brand</th>\n",
              "      <th>Price</th>\n",
              "      <th>Rating</th>\n",
              "      <th>Ingredients</th>\n",
              "      <th>Combination</th>\n",
              "      <th>Dry</th>\n",
              "      <th>Normal</th>\n",
              "      <th>Oily</th>\n",
              "      <th>Sensitive</th>\n",
              "      <th>Category</th>\n",
              "      <th>Product_Url</th>\n",
              "      <th>User_id</th>\n",
              "      <th>Product_id</th>\n",
              "      <th>Ingredients_Cleaned</th>\n",
              "      <th>Review_Cleaned</th>\n",
              "      <th>Good_Stuff</th>\n",
              "      <th>Ing_Tfidf</th>\n",
              "    </tr>\n",
              "  </thead>\n",
              "  <tbody>\n",
              "    <tr>\n",
              "      <th>count</th>\n",
              "      <td>8649</td>\n",
              "      <td>8649</td>\n",
              "      <td>8649</td>\n",
              "      <td>8649</td>\n",
              "      <td>8649</td>\n",
              "      <td>8649.00</td>\n",
              "      <td>8649</td>\n",
              "      <td>8649</td>\n",
              "      <td>8649</td>\n",
              "      <td>8649.00</td>\n",
              "      <td>8649.00</td>\n",
              "      <td>8649</td>\n",
              "      <td>8649.00</td>\n",
              "      <td>8649.00</td>\n",
              "      <td>8649.00</td>\n",
              "      <td>8649.00</td>\n",
              "      <td>8649.00</td>\n",
              "      <td>8649</td>\n",
              "      <td>8649</td>\n",
              "      <td>8649.00</td>\n",
              "      <td>8649.00</td>\n",
              "      <td>8649</td>\n",
              "      <td>8649</td>\n",
              "      <td>8649.00</td>\n",
              "      <td>8649</td>\n",
              "    </tr>\n",
              "    <tr>\n",
              "      <th>unique</th>\n",
              "      <td>6851</td>\n",
              "      <td>10</td>\n",
              "      <td>5</td>\n",
              "      <td>6</td>\n",
              "      <td>7</td>\n",
              "      <td>NaN</td>\n",
              "      <td>7496</td>\n",
              "      <td>315</td>\n",
              "      <td>60</td>\n",
              "      <td>NaN</td>\n",
              "      <td>NaN</td>\n",
              "      <td>299</td>\n",
              "      <td>NaN</td>\n",
              "      <td>NaN</td>\n",
              "      <td>NaN</td>\n",
              "      <td>NaN</td>\n",
              "      <td>NaN</td>\n",
              "      <td>4</td>\n",
              "      <td>315</td>\n",
              "      <td>NaN</td>\n",
              "      <td>NaN</td>\n",
              "      <td>299</td>\n",
              "      <td>7495</td>\n",
              "      <td>NaN</td>\n",
              "      <td>299</td>\n",
              "    </tr>\n",
              "    <tr>\n",
              "      <th>top</th>\n",
              "      <td>Eye</td>\n",
              "      <td>No data</td>\n",
              "      <td>Combination</td>\n",
              "      <td>Brown</td>\n",
              "      <td>Brunette</td>\n",
              "      <td>NaN</td>\n",
              "      <td>Love all of the Murad products for acne, has b...</td>\n",
              "      <td>Beauty Elixir</td>\n",
              "      <td>CLINIQUE</td>\n",
              "      <td>NaN</td>\n",
              "      <td>NaN</td>\n",
              "      <td>No Info</td>\n",
              "      <td>NaN</td>\n",
              "      <td>NaN</td>\n",
              "      <td>NaN</td>\n",
              "      <td>NaN</td>\n",
              "      <td>NaN</td>\n",
              "      <td>Cleanser</td>\n",
              "      <td>https://www.sephora.com/product/beauty-elixir-...</td>\n",
              "      <td>NaN</td>\n",
              "      <td>NaN</td>\n",
              "      <td>['info']</td>\n",
              "      <td>['love', 'murad', 'acne', 'ha', 'skin', 'care'...</td>\n",
              "      <td>NaN</td>\n",
              "      <td>info</td>\n",
              "    </tr>\n",
              "    <tr>\n",
              "      <th>freq</th>\n",
              "      <td>27</td>\n",
              "      <td>2102</td>\n",
              "      <td>3567</td>\n",
              "      <td>3529</td>\n",
              "      <td>3182</td>\n",
              "      <td>NaN</td>\n",
              "      <td>5</td>\n",
              "      <td>72</td>\n",
              "      <td>685</td>\n",
              "      <td>NaN</td>\n",
              "      <td>NaN</td>\n",
              "      <td>210</td>\n",
              "      <td>NaN</td>\n",
              "      <td>NaN</td>\n",
              "      <td>NaN</td>\n",
              "      <td>NaN</td>\n",
              "      <td>NaN</td>\n",
              "      <td>4117</td>\n",
              "      <td>72</td>\n",
              "      <td>NaN</td>\n",
              "      <td>NaN</td>\n",
              "      <td>210</td>\n",
              "      <td>5</td>\n",
              "      <td>NaN</td>\n",
              "      <td>210</td>\n",
              "    </tr>\n",
              "    <tr>\n",
              "      <th>mean</th>\n",
              "      <td>NaN</td>\n",
              "      <td>NaN</td>\n",
              "      <td>NaN</td>\n",
              "      <td>NaN</td>\n",
              "      <td>NaN</td>\n",
              "      <td>4.10</td>\n",
              "      <td>NaN</td>\n",
              "      <td>NaN</td>\n",
              "      <td>NaN</td>\n",
              "      <td>47.29</td>\n",
              "      <td>4.29</td>\n",
              "      <td>NaN</td>\n",
              "      <td>0.66</td>\n",
              "      <td>0.57</td>\n",
              "      <td>0.64</td>\n",
              "      <td>0.62</td>\n",
              "      <td>0.52</td>\n",
              "      <td>NaN</td>\n",
              "      <td>NaN</td>\n",
              "      <td>3429.43</td>\n",
              "      <td>155.09</td>\n",
              "      <td>NaN</td>\n",
              "      <td>NaN</td>\n",
              "      <td>0.62</td>\n",
              "      <td>NaN</td>\n",
              "    </tr>\n",
              "    <tr>\n",
              "      <th>std</th>\n",
              "      <td>NaN</td>\n",
              "      <td>NaN</td>\n",
              "      <td>NaN</td>\n",
              "      <td>NaN</td>\n",
              "      <td>NaN</td>\n",
              "      <td>1.36</td>\n",
              "      <td>NaN</td>\n",
              "      <td>NaN</td>\n",
              "      <td>NaN</td>\n",
              "      <td>35.77</td>\n",
              "      <td>0.47</td>\n",
              "      <td>NaN</td>\n",
              "      <td>0.47</td>\n",
              "      <td>0.50</td>\n",
              "      <td>0.48</td>\n",
              "      <td>0.49</td>\n",
              "      <td>0.50</td>\n",
              "      <td>NaN</td>\n",
              "      <td>NaN</td>\n",
              "      <td>1987.20</td>\n",
              "      <td>91.74</td>\n",
              "      <td>NaN</td>\n",
              "      <td>NaN</td>\n",
              "      <td>0.49</td>\n",
              "      <td>NaN</td>\n",
              "    </tr>\n",
              "    <tr>\n",
              "      <th>min</th>\n",
              "      <td>NaN</td>\n",
              "      <td>NaN</td>\n",
              "      <td>NaN</td>\n",
              "      <td>NaN</td>\n",
              "      <td>NaN</td>\n",
              "      <td>1.00</td>\n",
              "      <td>NaN</td>\n",
              "      <td>NaN</td>\n",
              "      <td>NaN</td>\n",
              "      <td>4.00</td>\n",
              "      <td>0.00</td>\n",
              "      <td>NaN</td>\n",
              "      <td>0.00</td>\n",
              "      <td>0.00</td>\n",
              "      <td>0.00</td>\n",
              "      <td>0.00</td>\n",
              "      <td>0.00</td>\n",
              "      <td>NaN</td>\n",
              "      <td>NaN</td>\n",
              "      <td>0.00</td>\n",
              "      <td>0.00</td>\n",
              "      <td>NaN</td>\n",
              "      <td>NaN</td>\n",
              "      <td>0.00</td>\n",
              "      <td>NaN</td>\n",
              "    </tr>\n",
              "    <tr>\n",
              "      <th>25%</th>\n",
              "      <td>NaN</td>\n",
              "      <td>NaN</td>\n",
              "      <td>NaN</td>\n",
              "      <td>NaN</td>\n",
              "      <td>NaN</td>\n",
              "      <td>3.00</td>\n",
              "      <td>NaN</td>\n",
              "      <td>NaN</td>\n",
              "      <td>NaN</td>\n",
              "      <td>28.00</td>\n",
              "      <td>4.20</td>\n",
              "      <td>NaN</td>\n",
              "      <td>0.00</td>\n",
              "      <td>0.00</td>\n",
              "      <td>0.00</td>\n",
              "      <td>0.00</td>\n",
              "      <td>0.00</td>\n",
              "      <td>NaN</td>\n",
              "      <td>NaN</td>\n",
              "      <td>1696.00</td>\n",
              "      <td>73.00</td>\n",
              "      <td>NaN</td>\n",
              "      <td>NaN</td>\n",
              "      <td>0.00</td>\n",
              "      <td>NaN</td>\n",
              "    </tr>\n",
              "    <tr>\n",
              "      <th>50%</th>\n",
              "      <td>NaN</td>\n",
              "      <td>NaN</td>\n",
              "      <td>NaN</td>\n",
              "      <td>NaN</td>\n",
              "      <td>NaN</td>\n",
              "      <td>5.00</td>\n",
              "      <td>NaN</td>\n",
              "      <td>NaN</td>\n",
              "      <td>NaN</td>\n",
              "      <td>38.00</td>\n",
              "      <td>4.40</td>\n",
              "      <td>NaN</td>\n",
              "      <td>1.00</td>\n",
              "      <td>1.00</td>\n",
              "      <td>1.00</td>\n",
              "      <td>1.00</td>\n",
              "      <td>1.00</td>\n",
              "      <td>NaN</td>\n",
              "      <td>NaN</td>\n",
              "      <td>3437.00</td>\n",
              "      <td>155.00</td>\n",
              "      <td>NaN</td>\n",
              "      <td>NaN</td>\n",
              "      <td>1.00</td>\n",
              "      <td>NaN</td>\n",
              "    </tr>\n",
              "    <tr>\n",
              "      <th>75%</th>\n",
              "      <td>NaN</td>\n",
              "      <td>NaN</td>\n",
              "      <td>NaN</td>\n",
              "      <td>NaN</td>\n",
              "      <td>NaN</td>\n",
              "      <td>5.00</td>\n",
              "      <td>NaN</td>\n",
              "      <td>NaN</td>\n",
              "      <td>NaN</td>\n",
              "      <td>58.00</td>\n",
              "      <td>4.50</td>\n",
              "      <td>NaN</td>\n",
              "      <td>1.00</td>\n",
              "      <td>1.00</td>\n",
              "      <td>1.00</td>\n",
              "      <td>1.00</td>\n",
              "      <td>1.00</td>\n",
              "      <td>NaN</td>\n",
              "      <td>NaN</td>\n",
              "      <td>5158.00</td>\n",
              "      <td>236.00</td>\n",
              "      <td>NaN</td>\n",
              "      <td>NaN</td>\n",
              "      <td>1.00</td>\n",
              "      <td>NaN</td>\n",
              "    </tr>\n",
              "    <tr>\n",
              "      <th>max</th>\n",
              "      <td>NaN</td>\n",
              "      <td>NaN</td>\n",
              "      <td>NaN</td>\n",
              "      <td>NaN</td>\n",
              "      <td>NaN</td>\n",
              "      <td>5.00</td>\n",
              "      <td>NaN</td>\n",
              "      <td>NaN</td>\n",
              "      <td>NaN</td>\n",
              "      <td>370.00</td>\n",
              "      <td>5.00</td>\n",
              "      <td>NaN</td>\n",
              "      <td>1.00</td>\n",
              "      <td>1.00</td>\n",
              "      <td>1.00</td>\n",
              "      <td>1.00</td>\n",
              "      <td>1.00</td>\n",
              "      <td>NaN</td>\n",
              "      <td>NaN</td>\n",
              "      <td>6890.00</td>\n",
              "      <td>314.00</td>\n",
              "      <td>NaN</td>\n",
              "      <td>NaN</td>\n",
              "      <td>1.00</td>\n",
              "      <td>NaN</td>\n",
              "    </tr>\n",
              "  </tbody>\n",
              "</table>\n",
              "</div>\n",
              "      <button class=\"colab-df-convert\" onclick=\"convertToInteractive('df-10684cee-cdd4-4bdf-bcf7-6ad1a47539c1')\"\n",
              "              title=\"Convert this dataframe to an interactive table.\"\n",
              "              style=\"display:none;\">\n",
              "        \n",
              "  <svg xmlns=\"http://www.w3.org/2000/svg\" height=\"24px\"viewBox=\"0 0 24 24\"\n",
              "       width=\"24px\">\n",
              "    <path d=\"M0 0h24v24H0V0z\" fill=\"none\"/>\n",
              "    <path d=\"M18.56 5.44l.94 2.06.94-2.06 2.06-.94-2.06-.94-.94-2.06-.94 2.06-2.06.94zm-11 1L8.5 8.5l.94-2.06 2.06-.94-2.06-.94L8.5 2.5l-.94 2.06-2.06.94zm10 10l.94 2.06.94-2.06 2.06-.94-2.06-.94-.94-2.06-.94 2.06-2.06.94z\"/><path d=\"M17.41 7.96l-1.37-1.37c-.4-.4-.92-.59-1.43-.59-.52 0-1.04.2-1.43.59L10.3 9.45l-7.72 7.72c-.78.78-.78 2.05 0 2.83L4 21.41c.39.39.9.59 1.41.59.51 0 1.02-.2 1.41-.59l7.78-7.78 2.81-2.81c.8-.78.8-2.07 0-2.86zM5.41 20L4 18.59l7.72-7.72 1.47 1.35L5.41 20z\"/>\n",
              "  </svg>\n",
              "      </button>\n",
              "      \n",
              "  <style>\n",
              "    .colab-df-container {\n",
              "      display:flex;\n",
              "      flex-wrap:wrap;\n",
              "      gap: 12px;\n",
              "    }\n",
              "\n",
              "    .colab-df-convert {\n",
              "      background-color: #E8F0FE;\n",
              "      border: none;\n",
              "      border-radius: 50%;\n",
              "      cursor: pointer;\n",
              "      display: none;\n",
              "      fill: #1967D2;\n",
              "      height: 32px;\n",
              "      padding: 0 0 0 0;\n",
              "      width: 32px;\n",
              "    }\n",
              "\n",
              "    .colab-df-convert:hover {\n",
              "      background-color: #E2EBFA;\n",
              "      box-shadow: 0px 1px 2px rgba(60, 64, 67, 0.3), 0px 1px 3px 1px rgba(60, 64, 67, 0.15);\n",
              "      fill: #174EA6;\n",
              "    }\n",
              "\n",
              "    [theme=dark] .colab-df-convert {\n",
              "      background-color: #3B4455;\n",
              "      fill: #D2E3FC;\n",
              "    }\n",
              "\n",
              "    [theme=dark] .colab-df-convert:hover {\n",
              "      background-color: #434B5C;\n",
              "      box-shadow: 0px 1px 3px 1px rgba(0, 0, 0, 0.15);\n",
              "      filter: drop-shadow(0px 1px 2px rgba(0, 0, 0, 0.3));\n",
              "      fill: #FFFFFF;\n",
              "    }\n",
              "  </style>\n",
              "\n",
              "      <script>\n",
              "        const buttonEl =\n",
              "          document.querySelector('#df-10684cee-cdd4-4bdf-bcf7-6ad1a47539c1 button.colab-df-convert');\n",
              "        buttonEl.style.display =\n",
              "          google.colab.kernel.accessAllowed ? 'block' : 'none';\n",
              "\n",
              "        async function convertToInteractive(key) {\n",
              "          const element = document.querySelector('#df-10684cee-cdd4-4bdf-bcf7-6ad1a47539c1');\n",
              "          const dataTable =\n",
              "            await google.colab.kernel.invokeFunction('convertToInteractive',\n",
              "                                                     [key], {});\n",
              "          if (!dataTable) return;\n",
              "\n",
              "          const docLinkHtml = 'Like what you see? Visit the ' +\n",
              "            '<a target=\"_blank\" href=https://colab.research.google.com/notebooks/data_table.ipynb>data table notebook</a>'\n",
              "            + ' to learn more about interactive tables.';\n",
              "          element.innerHTML = '';\n",
              "          dataTable['output_type'] = 'display_data';\n",
              "          await google.colab.output.renderOutput(dataTable, element);\n",
              "          const docLink = document.createElement('div');\n",
              "          docLink.innerHTML = docLinkHtml;\n",
              "          element.appendChild(docLink);\n",
              "        }\n",
              "      </script>\n",
              "    </div>\n",
              "  </div>\n",
              "  "
            ],
            "text/plain": [
              "       Username Skin_Tone  ... Good_Stuff Ing_Tfidf\n",
              "count      8649      8649  ...    8649.00      8649\n",
              "unique     6851        10  ...        NaN       299\n",
              "top         Eye   No data  ...        NaN      info\n",
              "freq         27      2102  ...        NaN       210\n",
              "mean        NaN       NaN  ...       0.62       NaN\n",
              "std         NaN       NaN  ...       0.49       NaN\n",
              "min         NaN       NaN  ...       0.00       NaN\n",
              "25%         NaN       NaN  ...       0.00       NaN\n",
              "50%         NaN       NaN  ...       1.00       NaN\n",
              "75%         NaN       NaN  ...       1.00       NaN\n",
              "max         NaN       NaN  ...       1.00       NaN\n",
              "\n",
              "[11 rows x 25 columns]"
            ]
          },
          "metadata": {},
          "execution_count": 6
        }
      ],
      "source": [
        "df.describe(include='all')"
      ]
    },
    {
      "cell_type": "code",
      "execution_count": null,
      "metadata": {
        "colab": {
          "base_uri": "https://localhost:8080/"
        },
        "id": "7If0ADzZ8DSj",
        "outputId": "d9e3322a-c9f1-4483-bf59-da25f4051860"
      },
      "outputs": [
        {
          "output_type": "stream",
          "name": "stdout",
          "text": [
            "Product Categories\n",
            "Cleanser\tMoisturizer\tFace Mask\tTreatment\n"
          ]
        }
      ],
      "source": [
        "print(\"Product Categories\")\n",
        "print(*df['Category'].unique(), sep=\"\\t\")"
      ]
    },
    {
      "cell_type": "code",
      "execution_count": null,
      "metadata": {
        "colab": {
          "base_uri": "https://localhost:8080/",
          "height": 300
        },
        "id": "MEsHVKUvA34j",
        "outputId": "d7351bf9-0b68-4d3a-ae27-2bbd5d903e5f"
      },
      "outputs": [
        {
          "output_type": "execute_result",
          "data": {
            "text/html": [
              "\n",
              "  <div id=\"df-1feccd8b-0570-4d11-a300-2cc5edde744c\">\n",
              "    <div class=\"colab-df-container\">\n",
              "      <div>\n",
              "<style scoped>\n",
              "    .dataframe tbody tr th:only-of-type {\n",
              "        vertical-align: middle;\n",
              "    }\n",
              "\n",
              "    .dataframe tbody tr th {\n",
              "        vertical-align: top;\n",
              "    }\n",
              "\n",
              "    .dataframe thead th {\n",
              "        text-align: right;\n",
              "    }\n",
              "</style>\n",
              "<table border=\"1\" class=\"dataframe\">\n",
              "  <thead>\n",
              "    <tr style=\"text-align: right;\">\n",
              "      <th></th>\n",
              "      <th>Price</th>\n",
              "      <th>Rating_Stars</th>\n",
              "      <th>Rating</th>\n",
              "    </tr>\n",
              "  </thead>\n",
              "  <tbody>\n",
              "    <tr>\n",
              "      <th>count</th>\n",
              "      <td>8649.00</td>\n",
              "      <td>8649.00</td>\n",
              "      <td>8649.00</td>\n",
              "    </tr>\n",
              "    <tr>\n",
              "      <th>mean</th>\n",
              "      <td>47.29</td>\n",
              "      <td>4.10</td>\n",
              "      <td>4.29</td>\n",
              "    </tr>\n",
              "    <tr>\n",
              "      <th>std</th>\n",
              "      <td>35.77</td>\n",
              "      <td>1.36</td>\n",
              "      <td>0.47</td>\n",
              "    </tr>\n",
              "    <tr>\n",
              "      <th>min</th>\n",
              "      <td>4.00</td>\n",
              "      <td>1.00</td>\n",
              "      <td>0.00</td>\n",
              "    </tr>\n",
              "    <tr>\n",
              "      <th>25%</th>\n",
              "      <td>28.00</td>\n",
              "      <td>3.00</td>\n",
              "      <td>4.20</td>\n",
              "    </tr>\n",
              "    <tr>\n",
              "      <th>50%</th>\n",
              "      <td>38.00</td>\n",
              "      <td>5.00</td>\n",
              "      <td>4.40</td>\n",
              "    </tr>\n",
              "    <tr>\n",
              "      <th>75%</th>\n",
              "      <td>58.00</td>\n",
              "      <td>5.00</td>\n",
              "      <td>4.50</td>\n",
              "    </tr>\n",
              "    <tr>\n",
              "      <th>max</th>\n",
              "      <td>370.00</td>\n",
              "      <td>5.00</td>\n",
              "      <td>5.00</td>\n",
              "    </tr>\n",
              "  </tbody>\n",
              "</table>\n",
              "</div>\n",
              "      <button class=\"colab-df-convert\" onclick=\"convertToInteractive('df-1feccd8b-0570-4d11-a300-2cc5edde744c')\"\n",
              "              title=\"Convert this dataframe to an interactive table.\"\n",
              "              style=\"display:none;\">\n",
              "        \n",
              "  <svg xmlns=\"http://www.w3.org/2000/svg\" height=\"24px\"viewBox=\"0 0 24 24\"\n",
              "       width=\"24px\">\n",
              "    <path d=\"M0 0h24v24H0V0z\" fill=\"none\"/>\n",
              "    <path d=\"M18.56 5.44l.94 2.06.94-2.06 2.06-.94-2.06-.94-.94-2.06-.94 2.06-2.06.94zm-11 1L8.5 8.5l.94-2.06 2.06-.94-2.06-.94L8.5 2.5l-.94 2.06-2.06.94zm10 10l.94 2.06.94-2.06 2.06-.94-2.06-.94-.94-2.06-.94 2.06-2.06.94z\"/><path d=\"M17.41 7.96l-1.37-1.37c-.4-.4-.92-.59-1.43-.59-.52 0-1.04.2-1.43.59L10.3 9.45l-7.72 7.72c-.78.78-.78 2.05 0 2.83L4 21.41c.39.39.9.59 1.41.59.51 0 1.02-.2 1.41-.59l7.78-7.78 2.81-2.81c.8-.78.8-2.07 0-2.86zM5.41 20L4 18.59l7.72-7.72 1.47 1.35L5.41 20z\"/>\n",
              "  </svg>\n",
              "      </button>\n",
              "      \n",
              "  <style>\n",
              "    .colab-df-container {\n",
              "      display:flex;\n",
              "      flex-wrap:wrap;\n",
              "      gap: 12px;\n",
              "    }\n",
              "\n",
              "    .colab-df-convert {\n",
              "      background-color: #E8F0FE;\n",
              "      border: none;\n",
              "      border-radius: 50%;\n",
              "      cursor: pointer;\n",
              "      display: none;\n",
              "      fill: #1967D2;\n",
              "      height: 32px;\n",
              "      padding: 0 0 0 0;\n",
              "      width: 32px;\n",
              "    }\n",
              "\n",
              "    .colab-df-convert:hover {\n",
              "      background-color: #E2EBFA;\n",
              "      box-shadow: 0px 1px 2px rgba(60, 64, 67, 0.3), 0px 1px 3px 1px rgba(60, 64, 67, 0.15);\n",
              "      fill: #174EA6;\n",
              "    }\n",
              "\n",
              "    [theme=dark] .colab-df-convert {\n",
              "      background-color: #3B4455;\n",
              "      fill: #D2E3FC;\n",
              "    }\n",
              "\n",
              "    [theme=dark] .colab-df-convert:hover {\n",
              "      background-color: #434B5C;\n",
              "      box-shadow: 0px 1px 3px 1px rgba(0, 0, 0, 0.15);\n",
              "      filter: drop-shadow(0px 1px 2px rgba(0, 0, 0, 0.3));\n",
              "      fill: #FFFFFF;\n",
              "    }\n",
              "  </style>\n",
              "\n",
              "      <script>\n",
              "        const buttonEl =\n",
              "          document.querySelector('#df-1feccd8b-0570-4d11-a300-2cc5edde744c button.colab-df-convert');\n",
              "        buttonEl.style.display =\n",
              "          google.colab.kernel.accessAllowed ? 'block' : 'none';\n",
              "\n",
              "        async function convertToInteractive(key) {\n",
              "          const element = document.querySelector('#df-1feccd8b-0570-4d11-a300-2cc5edde744c');\n",
              "          const dataTable =\n",
              "            await google.colab.kernel.invokeFunction('convertToInteractive',\n",
              "                                                     [key], {});\n",
              "          if (!dataTable) return;\n",
              "\n",
              "          const docLinkHtml = 'Like what you see? Visit the ' +\n",
              "            '<a target=\"_blank\" href=https://colab.research.google.com/notebooks/data_table.ipynb>data table notebook</a>'\n",
              "            + ' to learn more about interactive tables.';\n",
              "          element.innerHTML = '';\n",
              "          dataTable['output_type'] = 'display_data';\n",
              "          await google.colab.output.renderOutput(dataTable, element);\n",
              "          const docLink = document.createElement('div');\n",
              "          docLink.innerHTML = docLinkHtml;\n",
              "          element.appendChild(docLink);\n",
              "        }\n",
              "      </script>\n",
              "    </div>\n",
              "  </div>\n",
              "  "
            ],
            "text/plain": [
              "        Price  Rating_Stars  Rating\n",
              "count 8649.00       8649.00 8649.00\n",
              "mean    47.29          4.10    4.29\n",
              "std     35.77          1.36    0.47\n",
              "min      4.00          1.00    0.00\n",
              "25%     28.00          3.00    4.20\n",
              "50%     38.00          5.00    4.40\n",
              "75%     58.00          5.00    4.50\n",
              "max    370.00          5.00    5.00"
            ]
          },
          "metadata": {},
          "execution_count": 8
        }
      ],
      "source": [
        "# distribution of continuous features\n",
        "df[['Price', 'Rating_Stars', 'Rating']].describe()"
      ]
    },
    {
      "cell_type": "code",
      "execution_count": null,
      "metadata": {
        "colab": {
          "base_uri": "https://localhost:8080/",
          "height": 542
        },
        "id": "G5Nn8-EBsxbr",
        "outputId": "90d34a5b-aecd-465d-93cb-ed4e509adb5f"
      },
      "outputs": [
        {
          "output_type": "display_data",
          "data": {
            "text/html": [
              "<html>\n",
              "<head><meta charset=\"utf-8\" /></head>\n",
              "<body>\n",
              "    <div>            <script src=\"https://cdnjs.cloudflare.com/ajax/libs/mathjax/2.7.5/MathJax.js?config=TeX-AMS-MML_SVG\"></script><script type=\"text/javascript\">if (window.MathJax) {MathJax.Hub.Config({SVG: {font: \"STIX-Web\"}});}</script>                <script type=\"text/javascript\">window.PlotlyConfig = {MathJaxConfig: 'local'};</script>\n",
              "        <script src=\"https://cdn.plot.ly/plotly-2.8.3.min.js\"></script>                <div id=\"176e3786-dd11-4b68-b8cb-fd64d801cbd8\" class=\"plotly-graph-div\" style=\"height:525px; width:100%;\"></div>            <script type=\"text/javascript\">                                    window.PLOTLYENV=window.PLOTLYENV || {};                                    if (document.getElementById(\"176e3786-dd11-4b68-b8cb-fd64d801cbd8\")) {                    Plotly.newPlot(                        \"176e3786-dd11-4b68-b8cb-fd64d801cbd8\",                        [{\"hovertemplate\":\"<i>Price</i>: \\u00a3%{y:.2f}<br><b>Product Quantity Range:</b>: %{x}<br>\",\"name\":\"Price\",\"x\":[36,36,36,36,36,36,36,36,36,36,36,36,36,36,36,36,36,36,36,36,36,36,36,36,36,36,36,36,36,36,36,36,36,36,36,36,36,36,36,36,36,36,36,36,36,36,36,36,7,7,7,7,7,7,7,7,7,7,7,7,7,7,7,7,7,7,7,7,7,7,7,7,7,7,7,7,7,7,7,7,7,7,7,7,7,7,7,7,7,7,7,7,7,7,7,7,24,24,24,24,24,24,24,24,24,24,24,24,24,24,24,24,24,24,24,24,24,24,24,24,24,24,24,24,24,24,24,24,24,24,24,24,24,24,24,24,24,24,24,24,24,24,24,24,34,34,34,34,34,34,34,34,34,34,34,34,34,34,34,34,34,34,34,34,34,34,34,34,34,34,34,34,34,34,34,34,34,34,34,34,34,34,34,34,34,34,34,34,34,34,34,34,65,65,65,65,65,65,65,65,65,65,65,65,65,65,65,65,65,65,65,65,65,65,65,65,65,65,65,65,65,65,65,65,65,65,65,65,65,65,65,65,65,65,65,65,65,65,65,65,44,44,44,44,44,44,44,44,44,44,44,44,44,44,44,44,44,44,44,44,44,44,44,44,44,44,44,44,44,44,44,44,44,44,44,44,44,44,44,44,44,44,44,44,44,44,44,44,29,29,29,29,29,29,29,29,29,29,29,29,29,29,29,29,29,29,29,29,29,29,29,29,29,29,29,29,29,29,29,29,29,29,29,29,29,29,29,29,29,29,29,29,29,29,29,29,30,30,30,30,30,30,30,30,30,30,30,30,30,30,30,30,30,30,30,30,30,30,30,30,30,30,30,30,30,30,30,30,30,30,30,30,30,30,30,30,30,30,30,30,30,30,30,30,26,26,26,26,26,26,26,26,26,26,26,26,26,26,26,26,26,26,26,26,26,26,26,26,26,26,26,26,26,26,26,26,26,26,26,26,26,26,26,26,26,26,26,26,26,26,26,26,18,18,18,18,18,18,18,18,18,18,18,18,18,18,18,18,18,18,18,18,18,18,18,18,18,18,18,18,18,18,18,18,18,18,18,18,18,18,18,18,18,18,18,18,18,18,18,18,18,18,18,18,18,18,18,18,18,18,18,18,18,18,18,18,18,18,18,18,18,18,18,18,11,11,11,11,11,11,11,11,11,11,11,11,11,11,11,11,11,11,11,11,11,11,11,11,11,11,11,11,11,11,11,11,11,11,11,11,11,11,11,11,11,11,11,11,11,11,11,11,19,19,19,19,19,19,19,19,19,19,19,19,19,19,19,19,19,19,19,19,19,19,19,19,19,19,19,19,19,19,19,19,19,19,19,19,19,19,19,19,19,19,19,19,19,19,19,19,10,10,10,10,10,10,10,10,10,10,10,10,10,10,10,10,10,10,10,10,10,10,10,10,10,10,10,10,10,10,10,10,10,10,10,10,10,10,10,10,10,10,10,10,10,10,10,10,38,38,38,38,38,38,38,38,38,38,38,38,38,38,38,38,38,38,38,38,38,38,38,38,38,38,38,38,38,38,38,38,38,38,38,38,38,38,38,38,38,38,38,38,38,38,38,38,23,23,23,23,23,23,23,23,23,23,23,23,23,23,23,23,23,23,23,23,23,23,23,23,23,23,23,23,23,23,23,23,23,23,23,23,23,23,23,23,23,23,23,23,23,23,23,23,35,35,35,35,35,35,35,35,35,35,35,35,35,35,35,35,35,35,35,35,35,35,35,35,35,35,35,35,35,35,35,35,35,35,35,35,35,35,35,35,35,35,35,35,35,35,35,35,30,30,30,30,30,30,30,30,30,30,30,30,30,30,30,30,30,30,30,30,30,30,30,30,30,30,30,30,30,30,30,30,30,30,30,30,30,30,30,30,30,30,30,30,30,30,30,30,28,28,28,28,28,28,28,28,28,28,28,28,28,28,28,28,28,28,28,28,28,28,28,28,28,28,28,28,28,28,28,28,28,28,28,28,28,28,28,28,28,28,28,28,28,28,28,28,26,26,26,26,26,26,26,26,26,26,26,26,26,26,26,26,26,26,26,26,26,26,26,26,26,26,26,26,26,26,26,26,26,26,26,26,26,26,26,26,26,26,26,26,26,26,26,26,32,32,32,32,32,32,32,32,32,32,32,32,32,32,32,32,32,32,32,32,32,32,32,32,32,32,32,32,32,32,32,32,32,32,32,32,32,32,32,32,32,32,32,32,32,32,32,32,32,32,32,32,32,32,32,32,32,32,32,32,32,32,32,32,32,32,32,32,32,32,32,32,32,32,32,32,32,32,32,32,32,32,32,32,32,32,32,32,32,32,32,32,32,32,32,32,38,38,38,38,38,38,38,38,38,38,38,38,38,38,38,38,38,38,38,38,38,38,38,38,175,175,175,175,175,175,175,175,175,175,175,175,175,175,175,175,175,175,175,175,175,175,175,175,38,38,38,38,38,38,38,38,38,38,38,38,38,38,38,38,38,38,38,38,38,38,38,38,30,30,30,30,30,30,30,30,30,30,30,30,30,30,30,30,30,30,30,30,30,30,30,30,45,45,45,45,45,45,45,45,45,45,45,45,45,45,45,45,45,45,45,45,45,45,45,45,30,30,30,30,30,30,30,30,30,30,30,30,30,30,30,30,30,30,30,30,30,30,30,30,39,39,39,39,39,39,39,39,39,39,39,39,39,39,39,39,39,39,39,39,39,39,39,39,60,60,60,60,60,60,60,60,60,60,60,60,60,60,60,60,60,60,60,60,60,60,60,60,40,40,40,40,40,40,40,40,40,40,40,40,40,40,40,40,40,40,40,40,40,40,40,40,36,36,36,36,36,36,36,36,36,36,36,36,36,36,36,36,36,36,36,36,36,36,36,36,48,48,48,48,48,48,48,48,48,48,48,48,48,48,48,48,48,48,48,48,48,48,48,48,28,28,28,28,28,28,28,28,28,28,28,28,28,28,28,28,28,28,28,28,28,28,28,28,58,58,58,58,58,58,58,58,58,58,58,58,58,58,58,58,58,58,58,58,58,58,58,58,47,47,47,47,47,47,47,47,47,47,47,47,47,47,47,47,47,47,47,47,47,47,47,47,47,47,47,47,47,47,47,47,47,47,47,47,47,47,47,47,47,47,47,47,47,47,47,47,37,37,37,37,37,37,37,37,37,37,37,37,37,37,37,37,37,37,37,37,37,37,37,37,39,39,39,39,39,39,39,39,39,39,39,39,39,39,39,39,39,39,39,39,39,39,39,39,52,52,52,52,52,52,52,52,52,52,52,52,52,52,52,52,52,52,52,52,52,52,52,52,95,95,95,95,95,95,95,95,95,95,95,95,95,95,95,95,95,95,95,95,95,95,95,95,28,28,28,28,28,28,28,28,28,28,28,28,28,28,28,28,28,28,28,28,28,28,28,28,55,55,55,55,55,55,55,55,55,55,55,55,55,55,55,55,55,55,55,55,55,55,55,55,48,48,48,48,48,48,48,48,48,48,48,48,48,48,48,48,48,48,48,48,48,48,48,48,135,135,135,135,135,135,135,135,135,135,135,135,135,135,135,135,135,135,135,135,135,135,135,135,48,48,48,48,48,48,48,48,48,48,48,48,48,48,48,48,48,48,48,48,48,48,48,48,38,38,38,38,38,38,38,38,38,38,38,38,38,38,38,38,38,38,38,38,38,38,38,38,72,72,72,72,72,72,72,72,72,72,72,72,72,72,72,72,72,72,72,72,72,72,72,72,72,72,72,72,72,72,72,72,72,72,72,72,72,72,72,72,72,72,72,72,72,72,72,72,49,49,49,49,49,49,49,49,49,49,49,49,49,49,49,49,49,49,49,49,49,49,49,49,60,60,60,60,60,60,60,60,60,60,60,60,60,60,60,60,60,60,60,60,60,60,60,60,44,44,44,44,44,44,44,44,44,44,44,44,44,44,44,44,44,44,44,44,44,44,44,44,35,35,35,35,35,35,35,35,35,35,35,35,35,35,35,35,35,35,35,35,35,35,35,35,48,48,48,48,48,48,48,48,48,48,48,48,48,48,48,48,48,48,48,48,48,48,48,48,95,95,95,95,95,95,95,95,95,95,95,95,95,95,95,95,95,95,95,95,95,95,95,48,48,48,48,48,48,48,48,48,48,48,48,48,48,48,48,48,48,48,48,48,48,48,48,48,48,48,48,48,48,48,48,48,48,48,48,48,48,48,48,48,48,48,48,48,48,48,48,75,75,75,75,75,75,75,75,75,75,75,75,75,75,75,75,75,75,75,75,75,75,75,75,48,48,48,48,48,48,48,48,48,48,48,48,48,48,48,48,48,48,48,48,48,48,48,48,29,29,29,29,29,29,29,29,29,29,29,29,29,29,29,29,29,29,29,29,29,29,29,29,175,175,175,175,175,175,175,175,175,175,175,175,175,175,175,175,175,175,175,175,175,175,175,175,75,75,75,75,75,75,75,75,75,75,75,75,75,75,75,75,75,75,75,75,75,75,75,42,42,42,42,42,42,42,42,42,42,42,42,42,42,42,42,42,42,42,42,42,42,42,42,32,32,32,32,32,32,32,32,32,32,32,32,32,32,32,32,32,32,32,32,32,32,32,60,60,60,60,60,60,60,60,60,60,60,60,60,60,60,60,60,60,60,60,60,60,60,60,40,40,40,40,40,40,40,40,40,40,40,40,40,40,40,40,40,40,40,40,40,40,40,40,40,40,40,40,40,40,40,40,40,40,40,40,40,40,40,40,40,40,40,40,40,40,40,40,100,100,100,100,100,100,100,100,100,100,100,100,100,100,100,100,100,100,100,100,100,100,100,100,100,100,100,100,100,100,100,100,100,100,100,100,100,100,100,100,100,100,100,100,100,100,100,100,95,95,95,95,95,95,95,95,95,95,95,95,95,95,95,95,95,95,95,95,95,95,95,95,95,95,95,95,95,95,95,95,95,95,95,95,95,95,95,95,95,95,95,95,95,95,95,95,56,56,56,56,56,56,56,56,56,56,56,56,56,56,56,56,56,56,56,56,56,56,56,56,76,76,76,76,76,76,76,76,76,76,76,76,76,76,76,76,76,76,76,76,76,76,76,76,30,30,30,30,30,30,30,30,30,30,30,30,30,30,30,30,30,30,30,30,30,30,30,30,30,30,30,30,30,30,30,30,30,30,30,30,30,30,30,30,30,30,30,30,30,30,30,30,29,29,29,29,29,29,29,29,29,29,29,29,29,29,29,29,29,29,29,29,29,29,29,29,52,52,52,52,52,52,52,52,52,52,52,52,52,52,52,52,52,52,52,52,52,52,52,40,40,40,40,40,40,40,40,40,40,40,40,40,40,40,40,40,40,40,40,40,40,40,40,40,40,40,40,40,40,40,40,40,40,40,40,40,40,40,40,40,40,40,40,40,40,40,40,24,24,24,24,24,24,24,24,24,24,24,24,24,24,24,24,24,24,24,24,24,24,24,24,75,75,75,75,75,75,75,75,75,75,75,75,75,75,75,75,75,75,75,75,75,75,75,75,28,28,28,28,28,28,28,28,28,28,28,28,28,28,28,28,28,28,28,28,28,28,28,28,28,28,28,28,28,28,28,28,28,28,28,28,28,28,28,28,28,28,28,28,28,28,28,28,60,60,60,60,60,60,60,60,60,60,60,60,60,60,60,60,60,60,60,60,60,60,60,60,47,47,47,47,47,47,47,47,47,47,47,47,47,47,47,47,47,47,47,47,47,47,47,47,47,47,47,47,47,47,47,47,47,47,47,47,47,47,47,47,47,47,47,47,47,47,47,47,100,100,100,100,100,100,100,100,100,100,100,100,100,100,100,100,100,100,100,100,100,100,100,100,42,42,42,42,42,42,42,42,42,42,42,42,42,42,42,42,42,42,42,42,42,42,42,42,32,32,32,32,32,32,32,32,32,32,32,32,32,32,32,32,32,32,32,32,32,32,32,32,32,32,32,32,32,32,32,32,32,32,32,32,32,32,32,32,32,32,32,32,32,32,32,32,145,145,145,145,145,145,145,145,145,145,145,145,145,145,145,145,145,145,145,145,145,145,145,145,39,39,39,39,39,39,39,39,39,39,39,39,39,39,39,39,39,39,39,39,39,39,39,39,25,25,25,25,25,25,25,25,25,25,25,25,25,25,25,25,25,25,25,25,25,25,25,25,28,28,28,28,28,28,28,28,28,28,28,28,28,28,28,28,28,28,28,28,28,28,28,28,29,29,29,29,29,29,29,29,29,29,29,29,29,29,29,29,29,29,29,29,29,29,29,29,34,34,34,34,34,34,34,34,34,34,34,34,34,34,34,34,34,34,34,34,34,34,34,34,90,90,90,90,90,90,90,90,90,90,90,90,90,90,90,90,90,90,90,90,90,90,90,90,28,28,28,28,28,28,28,28,28,28,28,28,28,28,28,28,28,28,28,28,28,28,28,28,28,28,28,28,28,28,28,28,28,28,28,28,28,28,28,28,28,28,28,28,28,28,28,28,65,65,65,65,65,65,65,65,65,65,65,65,65,65,65,65,65,65,65,65,65,65,65,65,44,44,44,44,44,44,44,44,44,44,44,44,44,44,44,44,44,44,44,44,44,44,44,44,58,58,58,58,58,58,58,58,58,58,58,58,58,58,58,58,58,58,58,58,58,58,58,58,69,69,69,69,69,69,69,69,69,69,69,69,69,69,69,69,69,69,69,69,69,69,69,69,95,95,95,95,95,95,95,95,95,95,95,95,95,95,95,95,95,95,95,95,95,95,95,95,50,50,50,50,50,50,50,50,50,50,50,50,50,50,50,50,50,50,50,50,50,50,50,50,40,40,40,40,40,40,40,40,40,40,40,40,40,40,40,40,40,40,40,40,40,40,40,40,65,65,65,65,65,65,65,65,65,65,65,65,65,65,65,65,65,65,65,65,65,65,65,65,39,39,39,39,39,39,39,39,39,39,39,39,39,39,39,39,39,39,39,39,39,39,39,39,29,29,29,29,29,29,29,29,29,29,29,29,29,29,29,29,29,29,29,29,29,29,29,29,28,28,28,28,28,28,28,28,28,28,28,28,28,28,28,28,28,28,28,28,28,28,28,28,28,28,28,28,28,28,28,28,28,28,28,28,28,28,28,28,28,28,28,28,28,28,28,28,60,60,60,60,60,60,60,60,60,60,60,60,60,60,60,60,60,60,60,60,60,60,60,60,42,42,42,42,42,42,42,42,42,42,42,42,42,42,42,42,42,42,42,42,42,42,42,42,42,42,42,42,42,42,42,42,42,42,42,42,42,42,42,42,42,42,42,42,42,42,42,42,94,94,94,94,94,94,94,94,94,94,94,94,94,94,94,94,94,94,94,94,94,94,94,94,48,48,48,48,48,48,48,48,48,48,48,48,48,48,48,48,48,48,48,48,48,48,48,48,25,25,25,25,25,25,25,25,25,25,25,25,25,25,25,25,25,25,25,25,25,25,25,25,18,18,18,18,18,18,18,18,18,18,18,18,18,18,18,18,18,18,18,18,18,18,18,32,32,32,32,32,32,32,32,32,32,32,32,32,32,32,32,32,32,32,32,32,32,32,32,29,29,29,29,29,29,29,29,29,29,29,29,29,29,29,29,29,29,29,29,29,29,29,29,28,28,28,28,28,28,28,28,28,28,28,28,28,28,28,28,28,28,28,28,28,28,28,28,76,76,76,76,76,76,76,76,76,76,76,76,76,76,76,76,76,76,76,76,76,76,76,50,50,50,50,50,50,50,50,50,50,50,50,50,50,50,50,50,50,50,50,50,50,50,28,28,28,28,28,28,28,28,28,28,28,28,28,28,28,28,28,28,28,28,28,28,28,28,34,34,34,34,34,34,34,34,34,34,34,34,34,34,34,34,34,34,34,34,34,34,34,34,95,95,95,95,95,95,95,95,95,95,95,95,95,95,95,95,95,95,95,95,95,95,95,95,39,39,39,39,39,39,39,39,39,39,39,39,39,39,39,39,39,39,39,39,39,39,39,39,28,28,28,28,28,28,28,28,28,28,28,28,28,28,28,28,28,28,28,28,28,28,28,28,16,16,16,16,16,16,16,16,16,16,16,16,16,16,16,16,16,16,16,16,16,16,16,16,25,25,25,25,25,25,25,25,25,25,25,25,25,25,25,25,25,25,25,25,25,25,25,25,38,38,38,38,38,38,38,38,38,38,38,38,38,38,38,38,38,38,38,38,38,38,38,38,38,38,38,38,38,38,38,38,38,38,38,38,38,38,38,38,38,38,38,38,38,38,38,38,30,30,30,30,30,30,30,30,30,30,30,30,30,30,30,30,30,30,30,30,30,30,30,30,30,30,30,30,30,30,30,30,30,30,30,30,30,30,30,30,30,30,30,30,30,30,30,30,80,80,80,80,80,80,80,80,80,80,80,80,80,80,80,80,80,80,80,80,80,80,80,80,62,62,62,62,62,62,62,62,62,62,62,62,62,62,62,62,62,62,62,62,62,62,62,62,38,38,38,38,38,38,38,38,38,38,38,38,38,38,38,38,38,38,38,38,38,38,38,38,20,20,20,20,20,20,20,20,20,20,20,20,20,20,20,20,20,20,20,20,20,20,20,20,4,4,4,4,4,4,4,4,4,4,4,4,4,4,4,4,4,4,4,4,4,4,4,75,75,75,75,75,75,75,75,75,75,75,75,75,75,75,75,75,75,75,75,75,75,75,28,28,28,28,28,28,28,28,28,28,28,28,28,28,28,28,28,28,28,28,28,28,28,28,28,28,28,28,28,28,28,28,28,28,28,28,28,28,28,28,28,28,28,28,28,28,28,28,22,22,22,22,22,22,22,22,22,22,22,22,22,22,22,22,22,22,22,22,22,22,22,7,7,7,7,7,7,7,7,7,7,7,7,7,7,7,7,7,7,7,7,7,7,7,7,15,15,15,15,15,15,15,15,15,15,15,15,15,15,15,15,15,15,15,15,15,15,15,28,28,28,28,28,28,28,28,28,28,28,28,28,28,28,28,28,28,28,28,28,28,28,28,14,14,14,14,14,14,14,14,14,14,14,14,14,14,14,14,14,14,14,14,14,14,14,14,8,8,8,8,8,8,8,8,8,8,8,8,8,8,8,8,8,8,8,8,8,8,8,38,38,38,38,38,38,38,38,38,38,38,38,38,38,38,38,38,38,38,38,38,38,38,38,38,38,38,38,38,38,38,38,38,38,38,38,38,38,38,38,38,38,38,38,38,38,38,38,21,21,21,21,21,21,21,21,21,21,21,21,21,21,21,21,21,21,21,21,21,21,21,21,21,21,21,21,21,21,21,21,21,21,21,21,21,21,21,21,21,21,21,21,21,21,21,21,7,7,7,7,7,7,7,7,7,7,7,7,7,7,7,7,7,7,7,7,7,7,7,7,16,16,16,16,16,16,16,16,16,16,16,16,16,16,16,16,16,16,16,16,16,16,16,16,50,50,50,50,50,50,50,50,50,50,50,50,50,50,50,50,50,50,50,50,50,50,50,30,30,30,30,30,30,30,30,30,30,30,30,30,30,30,30,30,30,30,30,30,30,30,30,34,34,34,34,34,34,34,34,34,34,34,34,34,34,34,34,34,34,34,34,34,34,34,34,34,34,34,34,34,34,34,34,34,34,34,34,34,34,34,34,34,34,34,34,34,34,34,34,19,19,19,19,19,19,19,19,19,19,19,19,19,19,19,19,19,19,19,19,19,19,19,19,17,17,17,17,17,17,17,17,17,17,17,17,17,17,17,17,17,17,17,17,17,17,17,17,17,17,17,17,17,17,17,17,17,17,17,17,17,17,17,17,17,17,17,17,17,17,17,17,28,28,28,28,28,28,28,28,28,28,28,28,28,28,28,28,28,28,28,28,28,28,28,28,28,28,28,28,28,28,28,28,28,28,28,28,28,28,28,28,28,28,28,28,28,28,28,28,7,7,7,7,7,7,7,7,7,7,7,7,7,7,7,7,7,7,7,7,7,7,7,7,35,35,35,35,35,35,35,35,35,35,35,35,35,35,35,35,35,35,35,35,35,35,35,35,33,33,33,33,33,33,33,33,33,33,33,33,33,33,33,33,33,33,33,33,33,33,33,33,23,23,23,23,23,23,23,23,23,23,23,23,23,23,23,23,23,23,23,23,23,23,23,18,18,18,18,18,18,18,18,18,18,18,18,18,18,18,18,18,18,18,18,18,18,18,18,35,35,35,35,35,35,35,35,35,35,35,35,35,35,35,35,35,35,35,35,35,35,35,35,48,48,48,48,48,48,48,48,48,48,48,48,48,48,48,48,48,48,48,48,48,48,48,48,19,19,19,19,19,19,19,19,19,19,19,19,19,19,19,19,19,19,19,19,19,19,19,16,16,16,16,16,16,16,16,16,16,16,16,16,16,16,16,16,16,16,16,16,46,46,46,46,46,46,46,46,46,46,46,46,46,46,46,46,46,46,46,46,46,46,46,46,46,46,46,46,46,46,46,46,46,46,46,46,46,46,46,46,46,46,46,46,46,46,46,46,24,24,24,24,24,24,24,24,24,24,24,24,24,24,24,24,24,24,24,24,24,24,24,24,24,24,24,24,24,24,24,24,24,24,24,24,24,24,24,24,24,24,24,24,24,24,30,30,30,30,30,30,30,30,30,30,30,30,30,30,30,30,30,30,30,30,30,30,30,14,14,14,14,14,14,14,14,14,14,14,14,14,14,14,14,14,14,14,14,14,14,14,14,41,41,41,41,41,41,41,41,41,41,41,41,41,41,41,41,41,41,41,41,41,41,41,41,26,26,26,26,26,26,26,26,26,26,26,26,26,26,26,26,26,26,26,26,26,26,26,26,57,57,57,57,57,57,57,57,57,57,57,57,57,57,57,57,57,57,57,57,57,57,57,57,21,21,21,21,21,21,21,21,21,21,21,21,21,21,21,21,21,21,21,21,21,21,21,21,38,38,38,38,38,38,38,38,38,38,38,38,38,38,38,38,38,38,38,38,38,38,38,38,39,39,39,39,39,39,39,39,39,39,39,39,39,39,39,39,39,39,39,39,39,39,39,39,24,24,24,24,24,24,24,24,24,24,24,24,24,24,24,24,24,24,24,24,24,24,24,24,24,24,24,24,24,24,24,24,24,24,24,24,24,24,24,24,24,24,24,24,24,24,22,22,22,22,22,22,22,22,22,22,22,22,22,22,22,22,22,22,22,22,22,22,22,22,39,39,39,39,39,39,39,39,39,39,39,39,39,39,39,39,39,39,39,39,39,39,39,32,32,32,32,32,32,32,32,32,32,32,32,32,32,32,32,32,32,32,32,32,32,32,32,18,18,18,18,18,18,18,18,18,18,18,18,18,18,18,18,18,18,18,18,18,18,18,18,15,15,15,15,15,15,15,15,15,15,15,15,15,15,15,15,15,15,15,15,15,15,15,28,28,28,28,28,28,28,28,28,28,28,28,28,28,28,28,28,28,28,28,28,28,28,28,24,24,24,24,24,24,24,24,24,24,24,24,24,24,24,24,24,24,24,24,24,24,24,24,40,40,40,40,40,40,40,40,40,40,40,40,40,40,40,40,40,40,40,40,40,40,40,40,38,38,38,38,38,38,38,38,38,38,38,38,38,38,38,38,38,38,38,38,38,38,38,38,10,10,10,10,10,10,10,10,10,10,10,10,10,10,10,10,10,10,10,10,10,10,10,26,26,26,26,26,26,26,26,26,26,26,26,26,26,26,26,26,26,26,26,26,26,26,19,19,19,19,19,19,19,19,19,19,19,19,19,19,19,19,19,19,19,19,19,19,19,19,7,7,7,7,7,7,7,7,7,7,7,7,7,7,7,7,7,7,7,7,7,7,7,7,32,32,32,32,32,32,32,32,32,32,32,32,32,32,32,32,32,32,32,32,32,32,32,32,55,55,55,55,55,55,55,55,55,55,55,55,55,55,55,55,55,55,55,55,55,55,55,22,22,22,22,22,22,22,22,22,22,22,22,22,22,22,22,22,22,22,22,22,22,22,22,45,45,45,45,45,45,45,45,45,45,45,45,45,45,45,45,45,45,45,45,45,45,45,45,38,38,38,38,38,38,38,38,38,38,38,38,38,38,38,38,38,38,38,38,38,38,38,38,32,32,32,32,32,32,32,32,32,32,32,32,32,32,32,32,32,32,32,32,32,32,32,32,26,26,26,26,26,26,26,26,26,26,26,26,26,26,26,26,26,26,26,26,26,26,26,26,30,30,30,30,30,30,30,30,30,30,30,30,30,30,30,30,30,30,30,30,30,30,30,30,95,95,95,95,95,95,95,95,95,95,95,95,95,95,95,95,95,95,95,95,95,95,95,95,28,28,28,28,28,28,28,28,28,28,28,28,28,28,28,28,28,28,28,28,28,28,28,8,8,8,8,8,8,8,8,8,8,8,8,8,8,8,8,8,8,8,8,8,8,8,28,28,28,28,28,28,28,28,28,28,28,28,28,28,28,28,28,28,28,28,28,28,28,28,28,28,28,28,28,28,28,28,28,28,28,28,28,28,28,28,28,28,28,28,28,28,28,28,23,23,23,23,23,23,23,23,23,23,23,23,23,23,23,23,23,23,23,23,23,23,23,23,28,28,28,28,28,28,28,28,28,28,28,28,28,28,28,28,28,28,28,28,28,28,28,28,38,38,38,38,38,38,38,38,38,38,38,38,38,38,38,38,38,38,38,38,38,38,38,38,38,38,38,38,38,38,38,38,38,38,38,38,38,38,38,38,38,38,38,38,38,38,38,38,8,8,8,8,8,8,8,8,8,8,8,8,8,8,8,8,8,8,8,8,8,8,8,26,26,26,26,26,26,26,26,26,26,26,26,26,26,26,26,26,26,26,26,26,26,26,26,42,42,42,42,42,42,42,42,42,42,42,42,42,42,42,42,42,42,42,42,42,42,42,42,20,20,20,20,20,20,20,20,20,20,20,20,20,20,20,20,20,20,20,20,20,20,20,19,19,19,19,19,19,19,19,19,19,19,19,19,19,19,19,19,19,19,19,19,19,19,19,12,12,12,12,12,12,12,12,12,12,12,12,12,12,12,12,12,12,12,12,12,12,12,12,33,33,33,33,33,33,33,33,33,33,33,33,33,33,33,33,33,33,33,33,33,33,33,33,39,39,39,39,39,39,39,39,39,39,39,39,39,39,39,39,39,39,39,39,39,39,39,39,55,55,55,55,55,55,55,55,55,55,55,55,55,55,55,55,55,55,55,55,55,55,55,33,33,33,33,33,33,33,33,33,33,33,33,33,33,33,33,33,33,33,33,33,33,33,33,29,29,29,29,29,29,29,29,29,29,29,29,29,29,29,29,29,29,29,29,29,29,29,29,55,55,55,55,55,55,55,55,55,55,55,55,55,55,55,55,55,55,55,55,55,55,55,55,22,22,22,22,22,22,22,22,22,22,22,22,22,22,22,22,22,22,22,22,22,22,22,22,60,60,60,60,60,60,60,60,60,60,60,60,60,60,60,60,60,60,60,60,60,60,60,60,22,22,22,22,22,22,22,22,22,22,22,22,22,22,22,22,22,22,22,22,22,22,22,22,26,26,26,26,26,26,26,26,26,26,26,26,26,26,26,26,26,26,26,26,26,26,26,26,26,26,26,26,26,26,26,26,26,26,26,26,26,26,26,26,26,26,26,26,26,26,26,26,25,25,25,25,25,25,25,25,25,25,25,25,25,25,25,25,25,25,25,25,25,25,25,25,30,30,30,30,30,30,30,30,30,30,30,30,30,30,30,30,30,30,30,30,30,30,30,25,25,25,25,25,25,25,25,25,25,25,25,25,25,25,25,25,25,25,25,25,25,25,25,25,25,25,25,25,25,25,25,25,25,25,25,25,25,25,25,25,25,25,25,25,25,25,25,7,7,7,7,7,7,7,7,7,7,7,7,7,7,7,7,7,7,7,16,16,16,16,16,16,16,16,16,16,16,16,16,16,16,16,16,16,16,16,16,16,16,16,38,38,38,38,38,38,38,38,38,38,38,38,38,38,38,38,38,38,38,38,38,38,38,38,30,30,30,30,30,30,30,30,30,30,30,30,30,30,30,30,30,30,30,30,30,30,30,30,16,16,16,16,16,16,16,16,16,16,16,16,16,16,16,16,16,16,16,16,16,16,16,16,26,26,26,26,26,26,26,26,26,26,26,26,26,26,26,26,26,26,26,26,26,26,26,26,28,28,28,28,28,28,28,28,28,28,28,28,28,28,28,28,28,28,28,28,28,28,28,28,23,23,23,23,23,23,23,23,23,23,23,23,23,23,23,23,23,23,23,23,23,23,23,23,29,29,29,29,29,29,29,29,29,29,29,29,29,29,29,29,29,29,29,29,29,29,29,33,33,33,33,33,33,33,33,33,33,33,33,33,33,33,33,33,33,33,33,33,33,33,33,24,24,24,24,24,24,24,24,24,24,24,24,24,24,24,24,24,24,24,24,24,24,24,24,95,95,95,95,95,95,95,95,95,95,95,95,95,95,95,95,95,95,95,95,95,95,95,95,38,38,38,38,38,38,38,38,38,38,38,38,38,38,38,38,38,38,38,38,38,38,38,38,84,84,84,84,84,84,84,84,84,84,84,84,84,84,84,84,84,84,84,84,84,84,84,84,98,98,98,98,98,98,98,98,98,98,98,98,98,98,98,98,98,98,98,98,98,98,98,98,58,58,58,58,58,58,58,58,58,58,58,58,58,58,58,58,58,58,58,58,58,58,58,58,118,118,118,118,118,118,118,118,118,118,118,118,118,118,118,118,118,118,118,118,118,118,118,118,195,195,195,195,195,195,195,195,195,195,195,195,195,195,195,195,195,195,195,195,195,195,195,195,69,69,69,69,69,69,69,69,69,69,69,69,69,69,69,69,69,69,69,69,69,69,69,69,48,48,48,48,48,48,48,48,48,48,48,48,48,48,48,48,48,48,48,48,48,48,48,98,98,98,98,98,98,98,98,98,98,98,98,98,98,98,98,98,98,98,98,98,98,98,98,60,60,60,60,60,60,60,60,60,60,60,60,60,60,60,60,60,60,60,60,60,60,60,60,100,100,100,100,100,100,100,100,100,100,100,100,100,100,100,100,100,100,100,100,100,100,100,100,52,52,52,52,52,52,52,52,52,52,52,52,52,52,52,52,52,52,52,52,52,52,52,30,30,30,30,30,30,30,30,30,30,30,30,30,30,30,30,30,30,30,30,30,30,30,30,69,69,69,69,69,69,69,69,69,69,69,69,69,69,69,69,69,69,69,69,69,69,69,69,69,69,69,69,69,69,69,69,69,69,69,69,69,69,69,69,69,69,69,69,69,69,69,100,100,100,100,100,100,100,100,100,100,100,100,100,100,100,100,100,100,100,100,100,100,100,100,86,86,86,86,86,86,86,86,86,86,86,86,86,86,86,86,86,86,86,86,86,86,86,86,95,95,95,95,95,95,95,95,95,95,95,95,95,95,95,95,95,95,95,95,95,95,95,95,39,39,39,39,39,39,39,39,39,39,39,39,39,39,39,39,39,39,39,39,39,39,39,39,48,48,48,48,48,48,48,48,48,48,48,48,48,48,48,48,48,48,48,48,48,48,48,48,88,88,88,88,88,88,88,88,88,88,88,88,88,88,88,88,88,88,88,88,88,88,88,88,158,158,158,158,158,158,158,158,158,158,158,158,158,158,158,158,158,158,158,158,158,158,158,158,19,19,19,19,19,19,19,19,19,19,19,19,19,19,19,19,19,19,19,19,19,19,19,19,52,52,52,52,52,52,52,52,52,52,52,52,52,52,52,52,52,52,52,52,52,52,52,52,98,98,98,98,98,98,98,98,98,98,98,98,98,98,98,98,98,98,98,98,98,98,98,98,88,88,88,88,88,88,88,88,88,88,88,88,88,88,88,88,88,88,88,88,88,88,88,88,150,150,150,150,150,150,150,150,150,150,150,150,150,150,150,150,150,150,150,150,150,150,150,150,370,370,370,370,370,370,370,370,370,370,370,370,370,370,370,370,370,370,370,370,370,370,370,370,50,50,50,50,50,50,50,50,50,50,50,50,50,50,50,50,50,50,50,50,50,50,50,50,36,36,36,36,36,36,36,36,36,36,36,36,36,36,36,36,36,36,36,36,36,36,36,36,105,105,105,105,105,105,105,105,105,105,105,105,105,105,105,105,105,105,105,105,105,105,105,105,30,30,30,30,30,30,30,30,30,30,30,30,30,30,30,30,30,30,30,30,30,30,30,30,89,89,89,89,89,89,89,89,89,89,89,89,89,89,89,89,89,89,89,89,89,89,89,89,34,34,34,34,34,34,34,34,34,34,34,34,34,34,34,34,34,34,34,34,34,34,34,34,58,58,58,58,58,58,58,58,58,58,58,58,58,58,58,58,58,58,58,58,58,58,58,58,116,116,116,116,116,116,116,116,116,116,116,116,116,116,116,116,116,116,116,116,116,116,116,116,62,62,62,62,62,62,62,62,62,62,62,62,62,62,62,62,62,62,62,62,62,62,62,62,78,78,78,78,78,78,78,78,78,78,78,78,78,78,78,78,78,78,78,78,78,78,78,78,80,80,80,80,80,80,80,80,80,80,80,80,80,80,80,80,80,80,80,80,80,80,80,80,69,69,69,69,69,69,69,69,69,69,69,69,69,69,69,69,69,69,69,69,69,69,69,69,49,49,49,49,49,49,49,49,49,49,49,49,49,49,49,49,49,49,49,49,49,49,49,49,115,115,115,115,115,115,115,115,115,115,115,115,115,115,115,115,115,115,115,115,115,115,115,115,54,54,54,54,54,54,54,54,54,54,54,54,54,54,54,54,54,54,54,54,54,54,54,54,48,48,48,48,48,48,48,48,48,48,48,48,48,48,48,48,48,48,48,48,48,48,48,48,26,26,26,26,26,26,26,26,26,26,26,26,26,26,26,26,26,26,26,26,26,26,26,26,88,88,88,88,88,88,88,88,88,88,88,88,88,88,88,88,88,88,88,88,88,88,88,88,38,38,38,38,38,38,38,38,38,38,38,38,38,38,38,38,38,38,38,38,38,38,38,38,40,40,40,40,40,40,40,40,40,40,40,40,40,40,40,40,40,40,40,40,40,40,40,40,19,19,19,19,19,19,19,19,19,19,19,19,19,19,19,19,19,19,19,19,19,19,19,19,90,90,90,90,90,90,90,90,90,90,90,90,90,90,90,90,90,90,90,90,90,90,90,90,54,54,54,54,54,54,54,54,54,54,54,54,54,54,54,54,54,54,54,54,54,54,54,54,58,58,58,58,58,58,58,58,58,58,58,58,58,58,58,58,58,58,58,58,58,58,58,58,72,72,72,72,72,72,72,72,72,72,72,72,72,72,72,72,72,72,72,72,72,72,72,72,88,88,88,88,88,88,88,88,88,88,88,88,88,88,88,88,88,88,88,88,88,88,88,88,240,240,240,240,240,240,240,240,240,240,240,240,240,240,240,240,240,240,240,240,240,240,240,240,36,36,36,36,36,36,36,36,36,36,36,36,36,36,36,36,36,36,36,36,36,36,36,36,95,95,95,95,95,95,95,95,95,95,95,95,95,95,95,95,95,95,95,95,95,95,62,62,62,62,62,62,62,62,62,62,62,62,62,62,62,62,62,62,62,62,62,62,62,62,22,22,22,22,22,22,22,22,22,22,22,22,22,22,22,22,22,22,22,22,22,22,22,22,65,65,65,65,65,65,65,65,65,65,65,65,65,65,65,65,65,65,65,65,65,65,65,65,65,65,65,65,65,65,65,65,65,65,65,65,65,65,65,65,65,65,65,65,65,65,65,42,42,42,42,42,42,42,42,42,42,42,42,42,42,42,42,42,42,42,42,42,42,42,42,56,56,56,56,56,56,56,56,56,56,56,56,56,56,56,56,56,56,56,56,56,56,56,47,47,47,47,47,47,47,47,47,47,47,47,47,47,47,47,47,47,47,47,47,47,47,47,65,65,65,65,65,65,65,65,65,65,65,65,65,65,65,65,65,65,65,65,65,65,65,65,68,68,68,68,68,68,68,68,68,68,68,68,68,68,68,68,68,68,68,68,68,68,68,38,38,38,38,38,38,38,38,38,38,38,38,38,38,38,38,38,38,38,38,38,38,38,38,62,62,62,62,62,62,62,62,62,62,62,62,62,62,62,62,62,62,62,62,62,62,62,62,88,88,88,88,88,88,88,88,88,88,88,88,88,88,88,88,88,88,88,88,88,88,88,88,28,28,28,28,28,28,28,28,28,28,28,28,28,28,28,28,28,28,28,28,28,28,205,205,205,205,205,205,205,205,205,205,205,205,205,205,205,205,205,205,205,90,90,90,90,90,90,90,90,90,90,90,90,90,90,90,90,90,90,90,90,90,90,90,90,78,78,78,78,78,78,78,78,78,78,78,78,78,78,78,78,78,78,78,78,78,78,78,78,40,40,40,40,40,40,40,40,40,40,40,40,40,40,40,40,40,40,40,40,40,40,40,39,39,39,39,39,39,39,39,39,39,39,39,39,39,39,39,39,39,39,39,39,39,39,39,48,48,48,48,48,48,48,48,48,48,48,48,48,48,48,48,48,48,48,48,48,48,48,48,54,54,54,54,54,54,54,54,54,54,54,54,54,54,54,54,54,54,54,54,54,54,54,54,50,50,50,50,50,50,50,50,50,50,50,50,50,50,50,50,50,50,50,50,50,50,50,50,48,48,48,48,48,48,48,48,48,48,48,48,48,48,48,48,48,48,48,48,48,48,48,48,19,19,19,19,19,19,19,19,19,19,19,19,19,19,19,19,19,19,19,19,19,19,19,29,29,29,29,29,29,29,29,29,29,29,29,29,29,29,29,29,29,29,29,29,29,29,70,70,70,70,70,70,70,70,70,70,70,70,70,70,70,70,70,70,70,70,70,70,70,70,75,75,75,75,75,75,75,75,75,75,75,75,75,75,75,75,75,75,75,75,75,75,75,75,82,82,82,82,82,82,82,82,82,82,82,82,82,82,82,82,82,82,82,82,82,82,82,82,44,44,44,44,44,44,44,44,44,44,44,44,44,44,44,44,44,44,44,44,44,44,44,44,55,55,55,55,55,55,55,55,55,55,55,55,55,55,55,55,55,55,55,55,55,55,55,62,62,62,62,62,62,62,62,62,62,62,62,62,62,62,62,62,62,62,62,62,62,62,62,55,55,55,55,55,55,55,55,55,55,55,55,55,55,55,55,55,55,55,55,55,55,55,55,29,29,29,29,29,29,29,29,29,29,29,29,29,29,29,29,29,29,29,29,29,29,29,65,65,65,65,65,65,65,65,65,65,65,65,65,65,65,65,65,65,65,65,65,65,65,65,59,59,59,59,59,59,59,59,59,59,59,59,59,59,59,59,59,59,59,59,59,59,59,72,72,72,72,72,72,72,72,72,72,72,72,72,72,72,72,72,72,72,72,72,72,72,88,88,88,88,88,88,88,88,88,88,88,88,88,88,88,88,88,88,88,88,88,88,88],\"type\":\"histogram\",\"xaxis\":\"x\",\"yaxis\":\"y\"},{\"hovertemplate\":\"<i>Rating Stars</i>: %{y}<br><b>Products:</b>: %{x}<br>\",\"name\":\"Rating Stars\",\"x\":[5,1,5,5,5,2,1,5,5,5,5,5,5,5,5,5,5,5,4,5,3,5,4,5,5,1,5,5,5,2,1,5,5,5,5,5,5,5,5,5,5,5,4,5,3,5,4,5,5,2,2,4,4,4,4,5,3,3,5,4,4,1,4,5,5,4,5,5,4,5,5,3,5,2,2,4,4,4,4,5,3,3,5,4,4,1,4,5,5,4,5,5,4,5,5,3,5,5,5,5,5,5,5,5,4,5,1,4,5,5,5,1,1,4,2,5,5,5,5,5,5,5,5,5,5,5,5,5,4,5,1,4,5,5,5,1,1,4,2,5,5,5,5,5,5,2,4,4,1,1,5,4,5,5,2,5,5,1,2,5,4,5,5,5,5,1,2,5,5,2,4,4,1,1,5,4,5,5,2,5,5,1,2,5,4,5,5,5,5,1,2,5,5,5,5,5,4,4,5,5,5,5,5,5,5,5,5,5,5,5,2,5,5,5,5,5,5,5,5,5,4,4,5,5,5,5,5,5,5,5,5,5,5,5,2,5,5,5,5,5,5,1,5,4,4,5,5,5,5,5,2,4,2,5,5,5,5,5,5,4,5,5,5,5,5,1,5,4,4,5,5,5,5,5,2,4,2,5,5,5,5,5,5,4,5,5,5,5,5,3,4,1,1,5,5,5,4,3,5,5,5,4,3,5,5,5,3,5,5,5,5,5,5,3,4,1,1,5,5,5,4,3,5,5,5,4,3,5,5,5,3,5,5,5,5,5,5,4,5,5,5,4,5,5,3,5,3,5,5,5,5,5,5,5,5,5,5,5,5,5,5,4,5,5,5,4,5,5,3,5,3,5,5,5,5,5,5,5,5,5,5,5,5,5,1,5,5,5,5,5,5,5,4,1,1,5,5,5,5,5,5,5,5,4,5,3,3,5,1,5,5,5,5,5,5,5,4,1,1,5,5,5,5,5,5,5,5,4,5,3,3,5,5,2,2,4,5,2,2,5,2,5,5,2,5,5,1,5,5,5,1,4,1,5,5,5,2,2,4,5,2,2,5,2,5,5,2,5,5,1,5,5,5,1,4,1,5,5,5,3,5,2,2,4,5,2,2,5,2,5,5,2,5,5,1,5,5,5,1,4,1,5,5,5,5,5,5,5,5,5,5,5,4,4,3,5,5,5,5,5,5,5,5,1,1,4,2,5,5,5,5,5,5,5,5,5,4,4,3,5,5,5,5,5,5,5,5,1,1,4,2,5,5,4,5,1,5,5,5,5,5,2,5,5,5,5,5,4,5,5,3,5,5,5,5,5,5,4,5,1,5,5,5,5,5,2,5,5,5,5,5,4,5,5,3,5,5,5,5,5,4,5,5,5,5,5,5,4,5,5,5,5,5,5,5,5,5,4,5,5,5,5,5,3,4,5,5,5,5,5,5,4,5,5,5,5,5,5,5,5,5,4,5,5,5,5,5,3,5,4,5,5,5,5,5,4,5,4,5,5,5,5,5,5,5,5,4,5,3,5,1,5,5,4,5,5,5,5,5,4,5,4,5,5,5,5,5,5,5,5,4,5,3,5,1,5,5,5,5,4,5,4,1,5,5,5,5,5,1,5,5,4,5,5,5,4,5,5,3,1,5,5,5,4,5,4,1,5,5,5,5,5,1,5,5,4,5,5,5,4,5,5,3,1,5,5,3,4,5,5,5,1,5,5,5,1,5,5,5,5,4,5,5,3,5,5,2,5,5,5,3,4,5,5,5,1,5,5,5,1,5,5,5,5,4,5,5,3,5,5,2,5,2,2,2,5,5,2,3,5,2,1,3,1,4,5,5,2,2,5,5,5,5,4,5,5,2,2,2,5,5,2,3,5,2,1,3,1,4,5,5,2,2,5,5,5,5,4,5,5,5,1,5,5,3,5,3,4,5,4,5,5,5,5,4,5,5,4,4,2,4,5,5,2,5,1,5,5,3,5,3,4,5,4,5,5,5,5,4,5,5,4,4,2,4,5,5,2,5,5,5,2,5,5,5,5,5,4,1,5,5,1,5,5,5,5,2,5,5,5,5,5,5,5,5,2,5,5,5,5,5,4,1,5,5,1,5,5,5,5,2,5,5,5,5,5,5,4,5,4,5,3,5,3,5,5,5,3,5,3,5,5,5,5,5,5,4,5,1,5,5,4,5,4,5,3,5,3,5,5,5,3,5,3,5,5,5,5,5,5,4,5,1,5,5,5,5,5,5,5,5,4,5,5,3,5,4,1,5,3,5,3,1,5,2,5,5,5,5,5,5,5,5,5,5,4,5,5,3,5,4,1,5,3,5,3,1,5,2,5,5,5,5,5,3,5,5,5,4,5,5,5,5,5,5,4,5,5,1,5,5,4,4,4,5,4,5,5,5,1,1,1,2,5,4,5,3,5,5,5,5,4,5,4,5,4,5,4,5,5,5,5,5,5,5,4,5,5,5,5,5,5,5,3,5,5,3,5,5,5,5,5,4,5,5,5,4,3,5,5,2,5,3,5,5,5,5,5,5,5,5,2,5,5,4,5,5,5,1,1,5,1,5,5,4,1,5,4,5,5,5,4,4,3,1,4,5,5,4,5,5,4,5,5,3,5,5,4,5,5,5,1,5,3,5,4,1,1,1,5,5,5,4,5,5,5,5,1,5,5,5,4,5,5,5,1,5,2,5,4,5,5,5,4,2,5,5,2,5,5,1,4,3,5,5,5,5,5,5,5,1,5,5,4,5,5,5,5,2,4,5,5,5,1,5,5,2,1,3,5,5,2,3,2,5,2,1,5,5,5,4,5,5,1,5,3,5,5,4,5,4,5,5,4,2,5,3,3,5,2,5,1,5,5,5,5,4,3,4,5,5,5,3,4,5,5,4,3,2,5,5,5,3,4,5,5,5,4,2,5,5,5,5,5,5,5,5,5,5,3,5,5,4,1,1,5,5,5,5,5,5,5,5,5,5,4,4,1,3,3,5,3,5,2,5,3,5,5,1,2,5,5,5,5,3,4,5,5,4,4,5,1,4,3,5,5,5,5,5,5,5,5,5,5,3,5,5,1,5,4,1,5,5,4,5,5,5,1,5,5,5,5,5,5,5,5,5,5,3,5,5,1,5,4,1,5,5,4,5,5,5,1,2,5,5,5,4,5,4,4,5,5,5,3,5,5,5,4,4,2,5,5,5,4,5,4,4,4,5,5,3,4,5,5,4,4,3,5,4,5,5,5,5,1,1,2,4,5,1,5,5,2,5,5,3,5,5,3,5,5,5,5,5,1,4,5,5,4,2,5,3,5,1,3,5,5,5,5,5,5,2,4,3,5,3,5,5,5,5,1,1,4,5,5,4,5,5,5,2,5,4,4,5,5,4,4,5,5,5,5,5,4,5,5,5,4,5,2,2,5,5,5,1,5,4,2,5,4,1,5,5,5,4,1,5,1,5,1,1,5,5,2,5,2,1,3,2,5,5,5,1,1,1,5,2,5,1,1,1,5,5,2,3,2,4,5,5,1,5,5,4,5,5,4,5,5,4,1,1,5,1,1,4,1,4,4,5,5,2,3,5,3,2,5,5,4,5,4,4,3,3,5,5,5,5,2,5,5,4,1,4,2,1,5,5,5,3,5,4,5,5,5,5,5,4,5,5,2,2,5,5,3,2,5,5,5,3,5,5,4,5,3,5,4,5,2,5,4,4,4,5,2,5,5,3,5,5,1,5,5,1,5,5,3,5,4,5,3,5,4,5,2,5,4,4,4,5,2,5,5,3,5,5,1,5,5,1,5,5,3,5,5,5,5,2,3,3,5,1,5,3,5,5,1,2,3,4,3,5,5,5,5,4,3,4,1,5,5,5,3,4,5,3,4,5,5,5,1,5,5,5,1,5,5,5,5,5,5,1,5,5,5,1,5,5,5,4,5,5,2,5,4,5,5,5,5,5,5,4,5,5,5,1,2,5,3,3,5,4,5,4,5,5,3,2,5,1,1,2,5,1,5,1,1,3,4,5,5,5,5,5,5,5,4,5,2,3,5,5,5,5,5,1,1,1,5,5,4,5,5,4,5,2,3,1,5,5,5,3,5,3,5,5,4,1,5,4,3,5,1,4,5,5,2,4,5,4,5,5,1,4,4,5,3,1,5,1,5,5,5,5,5,5,1,4,3,5,2,4,5,4,5,5,1,4,4,5,3,1,5,1,5,5,5,5,5,5,1,4,3,5,5,4,5,3,5,5,5,5,5,1,5,1,5,5,5,1,4,5,5,5,5,5,5,2,5,3,5,5,2,5,3,5,3,5,4,2,4,1,5,1,4,5,5,4,5,5,2,1,5,3,2,1,5,5,3,1,5,4,3,3,5,5,2,2,1,5,5,3,1,1,1,5,1,5,2,5,4,5,5,5,5,5,5,5,5,3,5,5,1,5,1,5,1,1,4,1,2,5,5,4,2,5,4,1,5,5,1,5,1,5,5,1,1,5,4,5,4,5,3,1,3,5,5,5,1,3,4,5,2,5,5,5,5,5,3,5,5,5,5,5,3,2,5,5,5,5,5,5,5,2,5,4,5,3,5,4,5,2,1,5,5,5,5,5,5,4,4,5,5,5,3,5,5,5,3,5,4,5,5,5,3,4,5,5,3,1,2,5,5,5,1,5,5,5,4,5,5,3,5,4,3,4,5,1,4,3,5,2,5,4,5,5,5,3,1,5,5,5,4,5,5,3,5,4,3,4,5,1,4,3,5,2,5,4,5,5,5,3,5,5,5,5,5,5,5,5,5,1,5,4,5,5,5,2,1,5,5,2,5,4,5,5,5,5,5,5,5,5,5,5,5,1,5,4,5,5,5,2,1,5,5,2,5,4,5,5,4,1,5,5,4,2,4,1,2,4,4,2,5,4,5,2,1,2,2,5,4,1,5,2,4,1,5,5,4,2,4,1,2,4,4,2,5,4,5,2,1,2,2,5,4,1,5,2,5,1,5,5,5,3,5,4,4,3,5,3,5,5,5,5,5,4,5,5,4,5,3,1,5,5,5,5,5,5,5,5,5,3,5,5,3,4,5,4,1,5,5,5,5,4,1,4,5,5,5,4,5,2,3,4,5,4,2,5,5,3,3,5,5,5,2,5,5,5,3,5,5,5,5,4,5,2,3,4,5,4,2,5,5,3,3,5,5,5,2,5,5,5,3,5,3,5,5,4,4,5,5,4,5,5,5,1,1,3,5,3,5,1,5,5,3,5,2,5,2,5,5,3,5,5,5,5,5,4,5,4,5,5,3,5,5,5,5,5,5,2,5,5,5,3,5,5,1,4,1,2,4,5,5,4,5,5,5,2,5,5,2,2,2,5,5,5,5,3,5,5,1,4,1,2,4,5,5,4,5,5,5,2,5,5,2,2,2,5,5,5,4,5,5,4,5,1,1,2,3,2,5,1,3,5,5,5,4,1,5,5,2,1,5,5,5,1,4,1,2,4,4,2,5,1,5,4,5,5,5,5,3,5,5,5,5,5,5,5,4,2,3,5,1,5,5,1,5,1,5,1,5,1,2,1,1,1,2,1,4,1,4,5,5,4,2,3,5,1,5,5,1,5,1,5,1,5,1,2,1,1,1,2,1,4,1,3,5,4,3,5,5,5,3,5,2,5,5,4,5,5,3,5,5,5,1,5,1,5,4,5,5,5,5,5,3,5,4,5,3,5,1,5,5,5,5,5,5,4,5,5,5,5,5,5,5,5,5,5,3,5,4,5,3,5,1,5,5,5,5,5,5,4,5,5,5,5,5,5,5,4,4,5,5,5,3,5,5,3,5,5,4,5,4,5,5,5,5,5,5,5,5,3,5,5,2,5,5,1,5,5,5,5,2,5,1,2,5,1,5,5,5,5,5,3,5,1,5,1,1,5,2,5,5,5,3,3,4,5,5,5,5,2,5,5,5,5,4,5,5,1,5,1,1,5,2,5,5,5,3,3,4,5,5,5,5,2,5,5,5,5,4,5,5,4,1,5,5,1,1,5,4,5,5,5,5,3,5,5,5,5,5,4,5,5,5,5,2,5,5,4,5,5,1,4,1,5,1,3,5,5,5,2,4,1,5,5,3,2,1,1,1,5,5,5,5,5,1,5,5,4,4,5,5,2,5,5,5,5,5,1,5,5,5,4,5,5,4,5,4,5,5,4,5,5,5,5,5,4,5,5,5,5,2,5,3,5,3,2,5,1,5,1,5,4,5,5,5,2,2,2,5,5,3,5,5,5,4,1,1,4,1,2,3,2,5,4,3,5,4,5,5,2,5,5,1,5,5,5,3,5,5,4,5,5,5,2,1,5,5,5,4,3,5,5,1,4,4,5,5,4,5,5,3,2,4,5,5,1,3,5,5,5,5,2,1,1,5,4,5,5,5,5,1,4,5,5,1,5,5,4,5,3,5,2,5,5,5,2,1,1,5,4,5,5,5,5,1,4,5,5,1,5,5,4,5,3,5,2,5,1,5,4,3,5,5,5,4,4,5,5,5,5,4,5,3,5,4,5,5,3,2,5,5,5,5,5,5,5,4,5,5,5,2,5,5,5,4,5,5,5,5,3,5,5,5,5,5,5,3,1,5,5,5,1,4,3,5,5,5,5,5,5,5,5,5,5,5,3,5,5,5,5,5,3,5,4,3,1,5,5,5,5,5,5,5,5,5,5,5,4,5,4,5,5,4,4,3,5,5,5,3,1,5,5,5,5,5,5,1,5,5,4,5,5,5,5,5,5,5,5,5,5,5,5,5,5,5,5,5,5,5,5,5,5,3,4,5,5,5,5,4,5,5,5,2,5,3,1,5,1,3,5,5,3,5,5,4,1,5,5,3,5,5,5,4,5,5,2,4,3,3,5,5,3,5,5,4,5,3,2,5,4,2,5,5,4,4,5,3,5,5,1,4,4,5,3,5,5,5,5,5,5,1,5,5,5,4,5,3,5,5,5,5,5,4,3,5,3,1,3,1,5,4,3,1,5,1,5,5,5,5,5,5,5,5,5,5,5,5,5,5,5,5,2,2,5,5,5,5,1,4,5,5,5,4,5,4,5,4,5,5,5,5,5,5,5,5,2,2,5,5,5,5,1,4,5,5,5,4,5,4,5,4,5,5,5,5,5,4,5,4,5,4,5,5,5,5,5,4,1,4,5,1,4,3,5,5,5,5,5,4,5,5,5,5,5,5,5,5,2,5,4,5,5,5,5,5,1,5,5,1,5,5,5,5,5,5,5,5,5,5,5,5,2,5,4,5,5,5,5,5,1,5,5,1,5,5,5,5,5,5,4,5,5,5,5,4,5,5,5,5,3,5,4,5,5,3,5,5,4,5,5,5,2,4,5,3,5,2,5,5,2,3,3,5,5,5,5,5,5,1,5,5,5,5,5,5,5,5,5,1,4,5,3,5,4,5,5,4,5,2,1,3,1,5,5,5,1,4,1,5,5,5,4,5,5,4,5,5,1,5,5,2,5,5,5,5,5,4,5,5,4,5,5,4,5,5,5,5,5,5,5,5,5,4,5,5,5,5,5,5,5,1,5,5,5,3,5,5,5,5,5,5,5,5,5,4,5,5,5,5,1,5,5,4,5,5,5,4,5,5,1,4,5,5,5,3,5,5,4,5,4,4,4,5,5,5,5,5,5,3,5,5,5,5,5,5,1,4,1,5,5,5,4,4,5,5,5,5,4,5,1,5,5,4,5,5,5,5,5,5,4,2,3,2,3,1,5,4,5,4,5,5,1,5,5,4,5,5,5,5,4,5,5,5,5,5,5,5,5,5,4,5,5,5,5,3,2,5,5,5,5,5,5,5,5,5,5,5,3,5,5,3,5,5,5,5,1,5,2,5,1,1,3,5,5,5,4,5,5,5,1,4,1,3,2,5,5,4,5,3,5,2,3,3,4,5,5,5,5,5,5,5,3,5,5,5,4,1,5,5,1,5,1,5,5,4,5,1,5,1,5,5,4,5,5,5,3,5,3,4,5,5,5,5,5,4,3,5,1,5,5,3,5,5,5,5,2,2,1,5,1,4,4,2,5,1,5,5,5,5,5,1,5,5,1,1,5,5,5,1,5,5,3,5,5,5,5,1,5,5,5,5,5,5,5,3,1,2,4,4,1,2,5,1,5,1,2,4,5,4,5,5,5,5,5,5,5,4,1,5,5,4,1,5,5,4,5,5,3,5,5,5,5,4,5,5,5,5,5,5,5,4,1,5,5,4,1,5,5,4,5,5,3,5,5,5,5,2,5,5,3,5,1,3,5,1,5,1,5,5,1,4,3,2,1,5,5,3,5,2,3,2,5,5,3,5,1,3,5,1,5,1,5,5,1,4,3,2,1,5,5,3,5,2,3,5,5,5,5,5,5,2,4,1,1,4,5,4,5,4,5,5,5,5,5,3,5,5,3,4,5,5,5,5,5,2,5,5,3,5,5,5,5,5,3,2,4,5,5,4,5,5,4,5,4,5,2,3,5,5,5,5,5,3,5,5,5,5,5,5,2,4,4,5,5,5,5,4,1,5,1,4,5,2,3,5,1,5,4,5,5,3,5,4,5,5,5,2,5,5,5,4,4,2,2,4,5,5,5,5,5,5,5,3,5,5,5,5,5,3,3,5,5,5,2,5,5,1,5,5,5,5,5,5,5,5,4,3,4,5,4,5,3,5,5,5,4,5,5,5,4,5,5,5,5,1,5,5,5,5,5,5,5,5,5,3,2,5,5,5,5,5,5,5,4,5,5,5,5,1,5,5,5,5,5,5,5,5,5,3,2,5,5,5,5,5,5,5,5,5,2,4,5,5,5,5,5,5,4,5,5,5,1,5,5,5,5,5,5,2,2,5,5,2,2,2,5,5,2,3,2,5,5,3,4,5,2,5,5,1,5,5,5,5,5,5,4,5,4,5,5,5,5,1,5,5,4,4,4,3,5,3,4,5,3,5,5,5,5,5,5,5,5,5,5,3,2,5,3,5,5,3,5,5,5,2,5,5,4,5,4,4,2,3,4,5,4,5,5,5,5,5,5,5,5,4,4,5,5,5,5,5,5,5,4,5,5,5,5,1,5,5,5,5,5,3,5,5,3,3,5,5,5,4,2,5,5,4,5,5,5,5,3,5,5,5,3,5,5,5,5,5,2,5,5,5,5,5,3,5,5,4,5,5,5,5,3,5,5,5,3,5,5,5,5,5,2,5,5,5,5,5,3,5,3,5,4,5,2,5,4,2,4,5,5,2,5,1,5,4,2,5,5,5,2,5,5,5,3,5,4,5,2,5,4,2,4,5,5,2,5,1,5,4,2,5,5,5,2,5,5,5,5,5,5,5,5,4,5,4,5,5,5,2,5,5,5,5,5,5,5,5,5,5,5,5,2,3,3,5,3,2,1,5,5,5,2,5,5,5,2,5,5,5,5,5,5,5,4,1,5,5,3,5,5,1,4,1,5,5,5,4,5,4,5,2,1,5,5,5,5,5,5,4,5,1,5,3,1,5,5,5,5,5,5,5,2,5,5,5,2,3,5,3,2,1,4,1,4,1,5,5,1,1,5,5,5,1,5,5,4,5,2,1,5,3,5,1,5,5,4,1,4,1,5,5,1,1,5,5,5,1,5,5,4,5,2,1,5,3,5,1,5,5,4,5,5,5,5,5,2,5,5,5,5,5,5,5,5,1,5,3,4,5,5,5,3,5,5,5,3,5,5,5,4,5,5,2,4,4,4,5,3,5,5,5,4,5,5,5,2,5,5,5,3,5,5,5,4,5,5,2,4,4,4,5,3,5,5,5,4,5,5,5,2,5,5,5,5,5,1,3,1,5,2,5,5,5,5,1,5,4,5,5,5,5,5,5,1,5,1,5,5,5,1,3,1,5,2,5,5,5,5,1,5,4,5,5,5,5,5,5,1,5,1,5,5,3,1,5,5,5,5,1,1,3,2,3,2,2,3,5,3,5,4,5,5,1,5,1,1,5,5,5,1,1,5,5,5,1,4,1,1,5,2,3,2,5,1,5,5,1,3,5,5,5,4,5,5,5,5,5,5,2,5,5,5,5,5,5,5,5,5,5,5,5,5,1,4,5,5,5,5,2,5,2,5,5,5,5,4,3,2,2,5,5,5,5,5,5,2,5,4,4,2,2,5,2,1,4,5,1,5,5,4,5,1,1,5,5,3,2,5,5,5,5,5,3,4,5,4,5,5,5,5,5,3,5,4,5,3,2,5,5,5,4,5,5,5,1,5,5,5,4,3,5,2,4,5,4,5,5,2,4,5,2,2,5,2,5,5,1,4,5,5,5,5,4,5,1,5,5,5,4,5,5,5,4,4,5,5,5,5,4,5,1,5,5,1,1,4,2,5,5,5,4,5,3,5,5,5,5,5,5,4,5,5,5,5,5,5,5,5,5,5,5,4,5,5,5,3,5,5,5,5,5,5,4,5,5,5,5,5,5,5,5,5,5,5,5,4,5,5,5,3,5,5,5,5,5,5,4,5,5,5,5,5,5,5,5,4,5,5,2,1,5,1,5,1,4,4,3,5,3,5,5,2,5,5,5,5,5,5,4,5,5,2,1,5,1,5,1,4,4,3,5,3,5,5,2,2,5,5,2,5,2,4,5,5,5,5,2,5,5,5,5,4,5,1,2,4,1,5,2,5,5,4,2,3,4,2,2,1,5,5,5,3,3,5,5,5,1,2,3,3,5,5,5,5,1,4,5,5,4,5,5,5,5,5,5,5,5,5,5,5,5,5,5,2,5,5,4,5,5,5,5,4,5,5,5,5,3,5,5,5,4,5,5,5,3,3,5,5,5,2,5,2,1,5,5,5,3,5,5,5,5,5,5,5,3,3,5,5,5,2,5,5,5,5,5,2,2,2,5,4,5,3,5,5,1,5,5,3,5,5,5,3,5,5,5,5,5,5,5,3,1,5,5,5,5,5,5,5,4,5,2,3,5,5,5,5,2,5,5,5,5,5,5,4,5,4,5,5,4,5,5,1,4,4,5,5,3,5,5,5,4,5,5,5,4,5,5,5,2,4,2,5,5,5,5,5,4,2,3,3,5,5,5,5,5,5,4,5,3,5,5,2,4,2,5,5,5,5,5,4,2,3,3,5,5,5,5,5,5,4,5,3,5,5,5,5,5,5,5,5,4,5,5,5,5,5,5,3,5,1,5,4,5,5,1,5,3,2,2,5,1,4,5,5,5,4,5,3,4,5,3,2,2,1,4,5,5,1,5,5,3,4,1,4,5,5,4,5,5,5,5,5,5,5,5,5,3,2,5,5,5,5,3,5,5,5,5,5,5,5,5,5,4,5,4,5,5,5,5,5,5,5,5,4,5,5,5,4,3,2,5,5,5,5,1,5,2,5,4,4,3,4,4,5,5,2,1,5,3,5,4,1,1,4,1,5,2,4,5,5,4,5,5,2,5,2,5,3,5,5,5,4,5,5,5,2,1,5,1,4,5,2,5,4,5,5,5,5,5,1,5,5,4,4,5,4,5,5,5,4,5,5,3,3,4,3,5,5,5,5,5,3,5,1,5,4,2,4,3,5,2,3,4,4,5,5,5,5,5,4,5,5,5,5,3,4,5,5,3,1,5,5,5,5,5,5,5,4,4,5,5,4,5,5,5,3,4,5,5,5,5,5,5,4,3,5,5,5,1,1,5,5,5,5,1,3,5,5,2,5,5,3,5,5,5,2,3,5,3,5,5,5,5,1,2,5,5,3,1,2,5,5,5,5,4,4,5,1,3,5,5,5,5,5,5,3,5,3,5,4,5,5,5,5,5,5,5,3,5,5,5,5,5,5,4,5,5,5,5,5,2,4,5,5,1,5,1,2,5,4,5,3,5,1,2,5,5,5,1,5,5,3,5,3,5,2,2,5,5,5,5,5,5,5,5,4,4,5,5,5,4,4,5,5,5,3,5,5,5,3,5,5,5,5,5,2,5,5,5,5,5,4,5,5,4,5,4,5,3,5,5,5,5,5,5,3,5,5,5,5,5,5,5,5,5,5,4,5,4,5,3,5,5,4,3,5,3,5,5,5,5,5,5,3,5,1,5,5,5,5,1,2,5,4,5,3,5,2,1,5,4,5,5,5,4,5,2,4,5,5,5,5,5,1,3,5,2,5,1,1,4,2,2,5,1,5,1,5,5,5,5,5,1,5,2,5,5,5,2,5,2,5,5,5,5,5,5,5,4,4,5,2,5,5,5,5,1,4,2,1,4,3,1,4,4,5,5,5,5,5,4,5,5,1,5,4,2,5,4,5,3,5,4,5,5,5,5,5,5,5,2,1,4,5,5,1,5,3,5,5,4,3,5,5,2,4,5,5,4,1,5,5,5,5,1,4,5,5,5,5,5,5,5,4,5,5,5,5,5,5,5,5,5,5,5,4,5,5,4,5,5,5,5,5,2,5,5,5,2,5,5,5,5,5,5,5,5,2,4,5,5,4,4,5,2,5,5,2,5,5,5,5,5,5,5,2,5,5,5,1,1,5,5,1,3,5,5,4,1,1,5,5,5,1,5,5,1,5,5,4,5,5,5,5,2,5,4,5,4,2,3,1,5,5,5,5,5,4,5,4,4,4,1,4,5,4,1,5,5,4,1,5,3,5,5,2,5,5,5,1,5,5,5,5,3,5,2,5,3,5,5,5,5,4,5,4,4,5,5,1,4,5,5,1,5,5,5,5,3,5,2,5,3,5,5,5,5,4,5,4,4,5,5,1,4,5,5,5,5,5,5,3,4,1,5,5,5,5,2,3,5,5,5,5,2,5,5,5,3,3,5,1,1,3,4,5,5,1,1,4,3,1,5,4,5,1,5,3,4,3,4,5,5,5,4,5,5,5,1,4,5,5,5,4,5,5,5,5,5,5,5,5,5,5,4,3,4,5,5,1,5,5,5,1,4,5,5,1,5,5,5,5,5,3,5,5,5,5,5,4,2,5,2,3,5,5,5,5,1,5,5,5,5,1,5,4,1,5,5,5,5,3,5,3,4,5,5,5,1,5,4,4,1,4,1,4,4,5,3,4,5,2,5,5,5,2,2,5,5,5,3,5,4,5,2,5,4,5,3,5,5,5,4,4,5,5,4,5,5,5,5,5,5,5,5,5,5,5,1,5,5,5,4,5,5,5,5,5,5,5,5,3,5,5,4,5,5,5,3,5,5,5,5,5,5,5,5,5,5,1,5,4,5,4,5,1,5,5,1,5,5,4,5,5,4,5,5,2,5,2,5,5,5,5,3,5,5,5,5,5,5,5,2,5,5,3,5,5,5,5,5,5,5,5,4,4,2,4,4,5,4,3,5,1,5,3,1,2,5,3,1,4,4,1,1,5,3,1,3,3,5,5,1,3,1,1,1,5,1,4,4,5,4,4,5,5,5,5,1,5,4,5,5,1,4,5,5,5,5,5,1,5,3,5,2,5,5,5,3,5,4,5,4,5,5,1,4,5,3,5,1,5,5,5,5,5,5,4,5,5,5,5,1,4,5,5,5,5,1,5,5,5,5,5,4,3,2,5,5,5,4,5,5,5,5,3,1,4,4,4,5,5,5,2,5,5,5,5,5,3,5,5,2,5,5,5,4,5,5,5,1,4,5,2,5,5,5,1,5,5,5,5,5,5,5,5,2,4,1,5,5,4,2,5,4,5,5,5,5,3,2,5,2,5,4,5,4,5,5,2,5,4,4,5,4,2,5,5,5,4,5,5,5,5,5,5,3,5,5,5,4,5,5,5,5,4,5,5,3,5,3,4,1,5,1,5,5,5,3,4,1,5,5,5,4,4,5,3,5,4,3,3,1,5,5,4,5,1,2,1,4,5,5,3,3,5,1,5,2,5,3,4,1,4,3,5,1,5,5,5,5,3,4,5,5,5,5,5,5,5,5,4,4,5,4,2,4,5,5,5,4,5,5,3,4,5,1,4,2,5,1,1,5,1,3,2,5,5,5,1,5,2,5,5,5,5,2,5,4,5,5,5,5,2,5,3,4,1,1,1,5,1,4,5,4,5,5,5,5,5,5,1,4,3,3,5,5,5,5,5,5,5,5,5,5,3,5,5,5,1,5,5,4,5,5,5,5,5,5,5,5,5,2,5,3,5,5,5,3,4,4,2,2,2,1,5,5,3,2,5,5,2,4,5,5,5,4,2,1,5,1,5,2,5,2,3,5,4,1,2,4,2,5,3,5,5,5,2,4,5,5,1,4,5,5,4,4,1,1,5,4,5,5,3,5,3,2,2,5,5,5,5,5,4,5,5,1,1,3,5,5,3,5,3,1,4,5,5,4,1,5,5,5,5,5,5,5,5,3,5,5,5,5,5,5,5,4,5,5,5,4,5,5,5,1,2,5,5,5,4,5,3,5,5,5,4,5,1,5,5,5,5,4,5,2,3,5,4,5,5,4,1,5,5,5,5,5,4,5,5,2,5,5,5,5,5,3,5,5,5,5,5,5,5,3,5,5,2,4,5,5,4,5,5,5,5,3,5,5,5,5,5,3,5,5,2,4,5,3,5,5,5,5,2,5,5,5,5,5,5,5,5,4,2,4,5,5,5,5,5,5,3,5,4,5,5,5,5,2,5,4,1,5,4,4,3,5,5,5,5,5,5,5,5,5,4,1,5,3,1,1,5,5,5,4,5,5,5,1,3,5,5,5,5,5,2,1,3,2,2,5,5,5,1,5,5,1,4,1,5,4,4,3,4,2,4,5,5,5,5,4,5,5,5,5,4,5,5,4,2,4,5,3,5,1,2,4,1,5,5,4,5,2,5,5,3,5,5,5,5,5,5,5,5,2,5,4,3,5,5,4,4,3,1,5,1,3,3,3,4,5,5,5,4,4,4,5,4,5,4,3,4,4,3,5,1,5,5,1,1,1,1,5,5,5,5,3,5,5,2,1,2,5,1,4,5,5,5,1,5,5,5,5,5,3,2,3,3,5,5,5,5,4,5,1,4,4,5,4,4,5,2,5,5,5,1,3,1,1,2,5,4,2,5,5,5,5,5,5,4,4,5,5,4,5,4,2,5,5,4,5,3,5,5,5,5,5,5,1,5,5,5,5,5,5,5,2,5,5,5,5,5,5,1,3,5,5,5,5,5,5,5,5,5,4,5,4,1,4,5,4,1,5,5,5,4,2,5,3,5,5,5,5,5,2,5,5,5,5,1,5,5,5,5,2,5,5,2,5,4,5,5,3,5,5,4,5,5,5,3,3,5,2,3,4,4,5,5,1,1,3,1,2,5,4,5,5,5,5,5,2,5,5,2,4,5,5,3,3,5,5,3,4,5,5,5,5,1,2,3,5,5,5,5,4,1,5,5,4,2,5,5,5,5,5,5,5,5,5,1,2,2,3,5,2,5,5,5,5,1,1,5,5,4,5,2,5,1,2,5,4,5,5,4,5,3,5,5,5,5,5,5,5,5,5,5,5,5,4,3,5,5,5,4,5,1,5,5,5,5,4,4,5,5,3,5,4,5,1,5,5,5,5,5,4,5,5,5,4,5,5,5,5,5,5,5,5,5,2,5,5,5,5,4,5,5,5,2,3,3,5,5,4,5,5,5,5,5,5,5,5,5,5,5,4,5,5,5,5,5,5,1,1,5,5,1,5,5,5,5,5,5,5,1,5,3,5,5,2,1,5,5,1,1,5,1,5,2,2,2,1,5,5,5,5,5,1,5,5,1,5,5,5,2,5,5,5,5,1,3,4,5,5,4,5,4,3,5,5,2,4,5,2,5,5,5,5,3,3,5,5,5,3,5,5,5,1,1,5,3,5,5,5,5,3,1,3,5,4,3,4,5,2,5,5,5,4,1,5,5,5,3,5,4,5,5,5,5,4,4,5,5,5,1,5,5,5,5,4,5,5,5,5,1,5,4,5,5,5,3,5,5,2,5,4,5,5,4,5,5,5,5,5,5,4,5,5,5,5,5,5,5,2,3,5,5,1,5,4,5,5,4,2,1,2,5,5,1,5,5,1,4,5,5,5,5,4,5,3,1,5,1,1,1,4,1,5,5,5,1,2,2,5,3,4,5,3,4,2,4,1,4,1,5,4,4,5,5,4,5,5,5,5,5,5,5,5,2,5,5,5,4,3,4,2,4,4,2,2,4,5,5,5,5,5,4,5,5,5,4,1,5,5,5,1,5,5,5,5,4,4,2,5,5,5,5,5,4,4,3,1,5,5,5,5,5,1,5,5,5,1,5,5,5,5,5,5,2,3,5,5,5,5,5,5,5,2,5,2,5,3,5,3,5,4,5,2,4,5,5,5,5,5,4,5,5,5,5,5,5,5,5,1,4,5,5,1,5,5,3,1,5,5,2,5,5,3,4,1,5,5,5,5,5,4,5,5,5,5,3,4,4,5,4,5,2,5,5,5,5,5,3,5,1,5,5,3,4,5,5,2,4,3,5,1,5,2,5,5,5,5,5,5,5,3,5,1,2,3,5,1,5,5,1,5,5,5,2,1,5,2,3,5,3,4,5,3,5,4,5,4,3,5,5,4,4,5,5,5,3,5,4,5,4,5,4,1,5,3,5,2,5,4,5,1,5,5,4,5,5,4,5,5,5,5,5,5,5,5,1,2,1,5,3,1,5,5,3,2,5,5,5,5,5,1,5,1,1,5,5,5,5,5,5,5,5,5,5,5,5,5,5,5,5,1,5,5,4,5,5,3,5,4,1,1,4,5,1,5,5,1,2,3,1,1,5,5,5,1,5,1,5,1,5,1,2,5,4,5,5,1,5,1,1,2,5,4,5,5,5,5,4,5,3,1,4,2,5,1,2,1,2,4,1,1,1,5,5,5,5,5,5,5,5,5,5,5,3,5,3,5,3,5,5,4,5,5,5,5,5,4,1,5,5,5,2,5,4,5,3,2,4,3,1,5,4,5,2,5,5,4,5,5,1,1,4,5,4,5,5,2,4,5,4,5,4,2,5,4,5,5,5,5,5,4,5,5,4,2,5,5,4,5,1,5,1,5,5,5,5,5,2,5,5,5,5,4,5,5,3,5,5,5,5,5,5,5,5,4,5,5,5,2,5,5,5,5,1,5,3,5,3,5,5,5,5,5,5,4,5,5,2,1,5,1,5,5,5,5,5,5,5,5,5,5,5,5,5,5,4,3,3,5,4,5,2,5,3,5,1,5,5,1,2,3,5,3,5,5,5,5,1,2,5,2,1,1,1,5,1,1,3,2,4,2,3,2,5,1,2,1,1,1,2,1,5,3,5,5,5,5,2,5,1,5,3,5,5,5,5,5,5,5,1,5,5,5,2,5,5,5,1,4,2,1,3,5,5,5,5,5,2,5,4,5,3,5,5,2,2,3,5,5,5,1,5,5,5,2,5,5,5,5,1,3,5,5,5,5,3,5,5,5,5,1,4,2,5,2,4,2,5,5,5,3,2,5,1,2,5,5,5,5,2,5,4,3,1,5,5,2,5,5,4,5,5,5,2,3,4,2,5,5,1,5,5,1,5,5,5,4,5,5,5,4,1,5,5,5,5,2,5,4,3,1,3,4,2,4,1,5,3,5,5,4,5,5,2,2,5,5,5,5,1,5,4,3,3,5,2,5,5,4,4,5,1,1,5,1,5,4,5,3,2,5,1,4,5,5,5,1,5,5,1,5,5,5,5,1,1,5,5,5,5,2,5,5,2,1,5,5,4,5,5,5,5,5,4,1,1,5,5,2,3,4,1,5,3,5,4,4,5,5,5,4,5,3,5,4,5,5,5,5,5,5,5,4,3,4,5,2,1,3,5,5,5,5,5,4,5,4,5,5,5,5,5,5,2,5,5,5,5,5,3,5,5,5,5,5,2,5,5,4,5,5,1,5,5,5,5,5,5,3,5,4,1,3,5,4,3,5,5,4,5,5,5,2,5,2,1,5,3,3,5,3,5,5,1,4,5,3,5,5,5,5,5,5,5,5,5,2,5,4,5,5,5,5,5,5,3,5,4,5,5,2,2,5,5,5,5,1,5,5,5,4,5,5,5,5,5,5,4,5,5,5,1,5,5,5,5,5,5,5,5,1,1,4,1,4,5,5,5,3,5,5,5,5,2,5,3,1,4,1,5,1,1,5,5,5,3,5,5,5,3,5,2,3,2,5,5,2,5,5,5,5,1,5,5,5,5,1,5,5,5,5,5,5,5,4,5,5,5,5,4,5,1,5,5,5,4,5,5,5,3,1,2,4,5,5,5,5,3,1,3,4,4,1,5,5,5,3,5,5,5,5,5,5,5,5,5,5,5,3,5,5,3,2,5,4,5,5,4,5,5,5,3,5,5,5,5,5,5,5,5,1,5,1,5,5,1,5,5,4,4,5,5,5,5,5,5,1,1,3,5,5,5,3,1,5,1,3,5,2,5,1,1,5,2,5,2,5,3,1,5,5,2,5,5,1,5,1,4,5,1,5,4,3,5,1,5,1,4,5,5,5,1,4,5,5,5,5,5,5,2,5,4,5,5,4,3,5,5,4,5,5,5,5,5,5,5,3,5,4,5,5,5,3,5,2,4,5,3,1,5,3,5,3,1,5,5,4,4,5,4,4,4,5,5,2,5,1,3,1,5,5,1,5,5,5,1,5,5,1,4,5,5,1,3,5,5,5,1,5,5,1,5,1,1,1,5,1,5,5,5,1,5,1,3,5,5,1,5,5,5,4,2,5,1,5,4,3,5,5,2,3,5,5,5,4,2,3,3,1,5,5,4,4,1,5,5,5,5,5,5,4,5,4,5,5,5,5,2,4,2,4,3,5,1,3,4,1,5,4,4,5,1,5,5,2,1,5,3,2,5,1,2,2,5,3,3,2,1,3,4,5,2,5,5,5,1,3,4,5,5,4,5,5,1,5,1,2,5,4,5,5,5,2,4,5,5,5,5,2,5,5,2,1,5,4,5,4,5,5,5,3,1,5,4,5,2,3,5,5,5,4,4,4,5,1,5,5,3,5,4,5,3,2,2,5,4,5,4,3,5,5,2,1,1,5,1,3,3,1,5,5,3,5,5,5,5,5,4,5,3,1,4,5,3,4,4,5,5,5,4,2,5,5,4,5,2,3,5,5,5,4,3,5,5,5,5,5,4,5,5,2,5,5,5,5,5,5,4,5,5,5,1,3,5,5,5,5,5,5,4,5,5,5,2,5,4,5,3,3,3,5,1,5,5,1,5,3,4,5,3,1,4,1,1,3,5,1,5,2,5,5,5,5,5,5,3,4,2,5,2,5,5,5,5,5,5,2,4,2,5,5,5,4,5,5,5,5,1,5,5,4,1,3,4,3,2,1,5,5,4,5,2,2,2,5,5,3,5,5,5,2,5,5,1,4,5,5,1,4,3,1,5,3,5,5,1,5,5,5,5,4,5,5,4,4,5,5,4,5,5,5,2,5,5,5,5,5,5,5,5,2,5,2,4,5,2,1,5,5,1,5,5,4,5,5,5,5,5,5,5,5,5],\"type\":\"histogram\",\"xaxis\":\"x2\",\"yaxis\":\"y2\"},{\"hovertemplate\":\"<i>Rating</i>: %{x}<br><b>Product Quantity Range:</b>: %{y}<br>\",\"name\":\"Rating\",\"x\":[4.4,4.4,4.4,4.4,4.4,4.4,4.4,4.4,4.4,4.4,4.4,4.4,4.4,4.4,4.4,4.4,4.4,4.4,4.4,4.4,4.4,4.4,4.4,4.4,4.4,4.4,4.4,4.4,4.4,4.4,4.4,4.4,4.4,4.4,4.4,4.4,4.4,4.4,4.4,4.4,4.4,4.4,4.4,4.4,4.4,4.4,4.4,4.4,4.5,4.5,4.5,4.5,4.5,4.5,4.5,4.5,4.5,4.5,4.5,4.5,4.5,4.5,4.5,4.5,4.5,4.5,4.5,4.5,4.5,4.5,4.5,4.5,4.5,4.5,4.5,4.5,4.5,4.5,4.5,4.5,4.5,4.5,4.5,4.5,4.5,4.5,4.5,4.5,4.5,4.5,4.5,4.5,4.5,4.5,4.5,4.5,4.5,4.5,4.5,4.5,4.5,4.5,4.5,4.5,4.5,4.5,4.5,4.5,4.5,4.5,4.5,4.5,4.5,4.5,4.5,4.5,4.5,4.5,4.5,4.5,4.5,4.5,4.5,4.5,4.5,4.5,4.5,4.5,4.5,4.5,4.5,4.5,4.5,4.5,4.5,4.5,4.5,4.5,4.5,4.5,4.5,4.5,4.5,4.5,4.1,4.1,4.1,4.1,4.1,4.1,4.1,4.1,4.1,4.1,4.1,4.1,4.1,4.1,4.1,4.1,4.1,4.1,4.1,4.1,4.1,4.1,4.1,4.1,4.1,4.1,4.1,4.1,4.1,4.1,4.1,4.1,4.1,4.1,4.1,4.1,4.1,4.1,4.1,4.1,4.1,4.1,4.1,4.1,4.1,4.1,4.1,4.1,4.4,4.4,4.4,4.4,4.4,4.4,4.4,4.4,4.4,4.4,4.4,4.4,4.4,4.4,4.4,4.4,4.4,4.4,4.4,4.4,4.4,4.4,4.4,4.4,4.4,4.4,4.4,4.4,4.4,4.4,4.4,4.4,4.4,4.4,4.4,4.4,4.4,4.4,4.4,4.4,4.4,4.4,4.4,4.4,4.4,4.4,4.4,4.4,4.2,4.2,4.2,4.2,4.2,4.2,4.2,4.2,4.2,4.2,4.2,4.2,4.2,4.2,4.2,4.2,4.2,4.2,4.2,4.2,4.2,4.2,4.2,4.2,4.2,4.2,4.2,4.2,4.2,4.2,4.2,4.2,4.2,4.2,4.2,4.2,4.2,4.2,4.2,4.2,4.2,4.2,4.2,4.2,4.2,4.2,4.2,4.2,4.6,4.6,4.6,4.6,4.6,4.6,4.6,4.6,4.6,4.6,4.6,4.6,4.6,4.6,4.6,4.6,4.6,4.6,4.6,4.6,4.6,4.6,4.6,4.6,4.6,4.6,4.6,4.6,4.6,4.6,4.6,4.6,4.6,4.6,4.6,4.6,4.6,4.6,4.6,4.6,4.6,4.6,4.6,4.6,4.6,4.6,4.6,4.6,4.7,4.7,4.7,4.7,4.7,4.7,4.7,4.7,4.7,4.7,4.7,4.7,4.7,4.7,4.7,4.7,4.7,4.7,4.7,4.7,4.7,4.7,4.7,4.7,4.7,4.7,4.7,4.7,4.7,4.7,4.7,4.7,4.7,4.7,4.7,4.7,4.7,4.7,4.7,4.7,4.7,4.7,4.7,4.7,4.7,4.7,4.7,4.7,4.4,4.4,4.4,4.4,4.4,4.4,4.4,4.4,4.4,4.4,4.4,4.4,4.4,4.4,4.4,4.4,4.4,4.4,4.4,4.4,4.4,4.4,4.4,4.4,4.4,4.4,4.4,4.4,4.4,4.4,4.4,4.4,4.4,4.4,4.4,4.4,4.4,4.4,4.4,4.4,4.4,4.4,4.4,4.4,4.4,4.4,4.4,4.4,4.3,4.3,4.3,4.3,4.3,4.3,4.3,4.3,4.3,4.3,4.3,4.3,4.3,4.3,4.3,4.3,4.3,4.3,4.3,4.3,4.3,4.3,4.3,4.3,4.3,4.3,4.3,4.3,4.3,4.3,4.3,4.3,4.3,4.3,4.3,4.3,4.3,4.3,4.3,4.3,4.3,4.3,4.3,4.3,4.3,4.3,4.3,4.3,4.3,4.3,4.3,4.3,4.3,4.3,4.3,4.3,4.3,4.3,4.3,4.3,4.3,4.3,4.3,4.3,4.3,4.3,4.3,4.3,4.3,4.3,4.3,4.3,4.4,4.4,4.4,4.4,4.4,4.4,4.4,4.4,4.4,4.4,4.4,4.4,4.4,4.4,4.4,4.4,4.4,4.4,4.4,4.4,4.4,4.4,4.4,4.4,4.4,4.4,4.4,4.4,4.4,4.4,4.4,4.4,4.4,4.4,4.4,4.4,4.4,4.4,4.4,4.4,4.4,4.4,4.4,4.4,4.4,4.4,4.4,4.4,4.6,4.6,4.6,4.6,4.6,4.6,4.6,4.6,4.6,4.6,4.6,4.6,4.6,4.6,4.6,4.6,4.6,4.6,4.6,4.6,4.6,4.6,4.6,4.6,4.6,4.6,4.6,4.6,4.6,4.6,4.6,4.6,4.6,4.6,4.6,4.6,4.6,4.6,4.6,4.6,4.6,4.6,4.6,4.6,4.6,4.6,4.6,4.6,4.9,4.9,4.9,4.9,4.9,4.9,4.9,4.9,4.9,4.9,4.9,4.9,4.9,4.9,4.9,4.9,4.9,4.9,4.9,4.9,4.9,4.9,4.9,4.9,4.9,4.9,4.9,4.9,4.9,4.9,4.9,4.9,4.9,4.9,4.9,4.9,4.9,4.9,4.9,4.9,4.9,4.9,4.9,4.9,4.9,4.9,4.9,4.9,4.5,4.5,4.5,4.5,4.5,4.5,4.5,4.5,4.5,4.5,4.5,4.5,4.5,4.5,4.5,4.5,4.5,4.5,4.5,4.5,4.5,4.5,4.5,4.5,4.5,4.5,4.5,4.5,4.5,4.5,4.5,4.5,4.5,4.5,4.5,4.5,4.5,4.5,4.5,4.5,4.5,4.5,4.5,4.5,4.5,4.5,4.5,4.5,4.3,4.3,4.3,4.3,4.3,4.3,4.3,4.3,4.3,4.3,4.3,4.3,4.3,4.3,4.3,4.3,4.3,4.3,4.3,4.3,4.3,4.3,4.3,4.3,4.3,4.3,4.3,4.3,4.3,4.3,4.3,4.3,4.3,4.3,4.3,4.3,4.3,4.3,4.3,4.3,4.3,4.3,4.3,4.3,4.3,4.3,4.3,4.3,4.3,4.3,4.3,4.3,4.3,4.3,4.3,4.3,4.3,4.3,4.3,4.3,4.3,4.3,4.3,4.3,4.3,4.3,4.3,4.3,4.3,4.3,4.3,4.3,4.3,4.3,4.3,4.3,4.3,4.3,4.3,4.3,4.3,4.3,4.3,4.3,4.3,4.3,4.3,4.3,4.3,4.3,4.3,4.3,4.3,4.3,4.3,4.3,4.4,4.4,4.4,4.4,4.4,4.4,4.4,4.4,4.4,4.4,4.4,4.4,4.4,4.4,4.4,4.4,4.4,4.4,4.4,4.4,4.4,4.4,4.4,4.4,4.4,4.4,4.4,4.4,4.4,4.4,4.4,4.4,4.4,4.4,4.4,4.4,4.4,4.4,4.4,4.4,4.4,4.4,4.4,4.4,4.4,4.4,4.4,4.4,4.7,4.7,4.7,4.7,4.7,4.7,4.7,4.7,4.7,4.7,4.7,4.7,4.7,4.7,4.7,4.7,4.7,4.7,4.7,4.7,4.7,4.7,4.7,4.7,4.7,4.7,4.7,4.7,4.7,4.7,4.7,4.7,4.7,4.7,4.7,4.7,4.7,4.7,4.7,4.7,4.7,4.7,4.7,4.7,4.7,4.7,4.7,4.7,4.6,4.6,4.6,4.6,4.6,4.6,4.6,4.6,4.6,4.6,4.6,4.6,4.6,4.6,4.6,4.6,4.6,4.6,4.6,4.6,4.6,4.6,4.6,4.6,4.6,4.6,4.6,4.6,4.6,4.6,4.6,4.6,4.6,4.6,4.6,4.6,4.6,4.6,4.6,4.6,4.6,4.6,4.6,4.6,4.6,4.6,4.6,4.6,4.4,4.4,4.4,4.4,4.4,4.4,4.4,4.4,4.4,4.4,4.4,4.4,4.4,4.4,4.4,4.4,4.4,4.4,4.4,4.4,4.4,4.4,4.4,4.4,4.4,4.4,4.4,4.4,4.4,4.4,4.4,4.4,4.4,4.4,4.4,4.4,4.4,4.4,4.4,4.4,4.4,4.4,4.4,4.4,4.4,4.4,4.4,4.4,4.4,4.4,4.4,4.4,4.4,4.4,4.4,4.4,4.4,4.4,4.4,4.4,4.4,4.4,4.4,4.4,4.4,4.4,4.4,4.4,4.4,4.4,4.4,4.4,4.4,4.4,4.4,4.4,4.4,4.4,4.4,4.4,4.4,4.4,4.4,4.4,4.4,4.4,4.4,4.4,4.4,4.4,4.4,4.4,4.4,4.4,4.4,4.4,4.5,4.5,4.5,4.5,4.5,4.5,4.5,4.5,4.5,4.5,4.5,4.5,4.5,4.5,4.5,4.5,4.5,4.5,4.5,4.5,4.5,4.5,4.5,4.5,3.8,3.8,3.8,3.8,3.8,3.8,3.8,3.8,3.8,3.8,3.8,3.8,3.8,3.8,3.8,3.8,3.8,3.8,3.8,3.8,3.8,3.8,3.8,3.8,4.6,4.6,4.6,4.6,4.6,4.6,4.6,4.6,4.6,4.6,4.6,4.6,4.6,4.6,4.6,4.6,4.6,4.6,4.6,4.6,4.6,4.6,4.6,4.6,3.9,3.9,3.9,3.9,3.9,3.9,3.9,3.9,3.9,3.9,3.9,3.9,3.9,3.9,3.9,3.9,3.9,3.9,3.9,3.9,3.9,3.9,3.9,3.9,4.3,4.3,4.3,4.3,4.3,4.3,4.3,4.3,4.3,4.3,4.3,4.3,4.3,4.3,4.3,4.3,4.3,4.3,4.3,4.3,4.3,4.3,4.3,4.3,4.6,4.6,4.6,4.6,4.6,4.6,4.6,4.6,4.6,4.6,4.6,4.6,4.6,4.6,4.6,4.6,4.6,4.6,4.6,4.6,4.6,4.6,4.6,4.6,4.4,4.4,4.4,4.4,4.4,4.4,4.4,4.4,4.4,4.4,4.4,4.4,4.4,4.4,4.4,4.4,4.4,4.4,4.4,4.4,4.4,4.4,4.4,4.4,4.5,4.5,4.5,4.5,4.5,4.5,4.5,4.5,4.5,4.5,4.5,4.5,4.5,4.5,4.5,4.5,4.5,4.5,4.5,4.5,4.5,4.5,4.5,4.5,4.4,4.4,4.4,4.4,4.4,4.4,4.4,4.4,4.4,4.4,4.4,4.4,4.4,4.4,4.4,4.4,4.4,4.4,4.4,4.4,4.4,4.4,4.4,4.4,4.3,4.3,4.3,4.3,4.3,4.3,4.3,4.3,4.3,4.3,4.3,4.3,4.3,4.3,4.3,4.3,4.3,4.3,4.3,4.3,4.3,4.3,4.3,4.3,4.6,4.6,4.6,4.6,4.6,4.6,4.6,4.6,4.6,4.6,4.6,4.6,4.6,4.6,4.6,4.6,4.6,4.6,4.6,4.6,4.6,4.6,4.6,4.6,3.9,3.9,3.9,3.9,3.9,3.9,3.9,3.9,3.9,3.9,3.9,3.9,3.9,3.9,3.9,3.9,3.9,3.9,3.9,3.9,3.9,3.9,3.9,3.9,4.7,4.7,4.7,4.7,4.7,4.7,4.7,4.7,4.7,4.7,4.7,4.7,4.7,4.7,4.7,4.7,4.7,4.7,4.7,4.7,4.7,4.7,4.7,4.7,4.4,4.4,4.4,4.4,4.4,4.4,4.4,4.4,4.4,4.4,4.4,4.4,4.4,4.4,4.4,4.4,4.4,4.4,4.4,4.4,4.4,4.4,4.4,4.4,4.4,4.4,4.4,4.4,4.4,4.4,4.4,4.4,4.4,4.4,4.4,4.4,4.4,4.4,4.4,4.4,4.4,4.4,4.4,4.4,4.4,4.4,4.4,4.4,4.3,4.3,4.3,4.3,4.3,4.3,4.3,4.3,4.3,4.3,4.3,4.3,4.3,4.3,4.3,4.3,4.3,4.3,4.3,4.3,4.3,4.3,4.3,4.3,4.2,4.2,4.2,4.2,4.2,4.2,4.2,4.2,4.2,4.2,4.2,4.2,4.2,4.2,4.2,4.2,4.2,4.2,4.2,4.2,4.2,4.2,4.2,4.2,4.4,4.4,4.4,4.4,4.4,4.4,4.4,4.4,4.4,4.4,4.4,4.4,4.4,4.4,4.4,4.4,4.4,4.4,4.4,4.4,4.4,4.4,4.4,4.4,4.4,4.4,4.4,4.4,4.4,4.4,4.4,4.4,4.4,4.4,4.4,4.4,4.4,4.4,4.4,4.4,4.4,4.4,4.4,4.4,4.4,4.4,4.4,4.4,4.5,4.5,4.5,4.5,4.5,4.5,4.5,4.5,4.5,4.5,4.5,4.5,4.5,4.5,4.5,4.5,4.5,4.5,4.5,4.5,4.5,4.5,4.5,4.5,4.3,4.3,4.3,4.3,4.3,4.3,4.3,4.3,4.3,4.3,4.3,4.3,4.3,4.3,4.3,4.3,4.3,4.3,4.3,4.3,4.3,4.3,4.3,4.3,4.5,4.5,4.5,4.5,4.5,4.5,4.5,4.5,4.5,4.5,4.5,4.5,4.5,4.5,4.5,4.5,4.5,4.5,4.5,4.5,4.5,4.5,4.5,4.5,3.8,3.8,3.8,3.8,3.8,3.8,3.8,3.8,3.8,3.8,3.8,3.8,3.8,3.8,3.8,3.8,3.8,3.8,3.8,3.8,3.8,3.8,3.8,3.8,4.0,4.0,4.0,4.0,4.0,4.0,4.0,4.0,4.0,4.0,4.0,4.0,4.0,4.0,4.0,4.0,4.0,4.0,4.0,4.0,4.0,4.0,4.0,4.0,4.2,4.2,4.2,4.2,4.2,4.2,4.2,4.2,4.2,4.2,4.2,4.2,4.2,4.2,4.2,4.2,4.2,4.2,4.2,4.2,4.2,4.2,4.2,4.2,4.4,4.4,4.4,4.4,4.4,4.4,4.4,4.4,4.4,4.4,4.4,4.4,4.4,4.4,4.4,4.4,4.4,4.4,4.4,4.4,4.4,4.4,4.4,4.4,4.4,4.4,4.4,4.4,4.4,4.4,4.4,4.4,4.4,4.4,4.4,4.4,4.4,4.4,4.4,4.4,4.4,4.4,4.4,4.4,4.4,4.4,4.4,4.4,4.0,4.0,4.0,4.0,4.0,4.0,4.0,4.0,4.0,4.0,4.0,4.0,4.0,4.0,4.0,4.0,4.0,4.0,4.0,4.0,4.0,4.0,4.0,4.0,4.0,4.0,4.0,4.0,4.0,4.0,4.0,4.0,4.0,4.0,4.0,4.0,4.0,4.0,4.0,4.0,4.0,4.0,4.0,4.0,4.0,4.0,4.0,4.0,4.8,4.8,4.8,4.8,4.8,4.8,4.8,4.8,4.8,4.8,4.8,4.8,4.8,4.8,4.8,4.8,4.8,4.8,4.8,4.8,4.8,4.8,4.8,4.8,4.4,4.4,4.4,4.4,4.4,4.4,4.4,4.4,4.4,4.4,4.4,4.4,4.4,4.4,4.4,4.4,4.4,4.4,4.4,4.4,4.4,4.4,4.4,4.4,4.9,4.9,4.9,4.9,4.9,4.9,4.9,4.9,4.9,4.9,4.9,4.9,4.9,4.9,4.9,4.9,4.9,4.9,4.9,4.9,4.9,4.9,4.9,4.9,4.0,4.0,4.0,4.0,4.0,4.0,4.0,4.0,4.0,4.0,4.0,4.0,4.0,4.0,4.0,4.0,4.0,4.0,4.0,4.0,4.0,4.0,4.0,4.3,4.3,4.3,4.3,4.3,4.3,4.3,4.3,4.3,4.3,4.3,4.3,4.3,4.3,4.3,4.3,4.3,4.3,4.3,4.3,4.3,4.3,4.3,4.3,4.3,4.3,4.3,4.3,4.3,4.3,4.3,4.3,4.3,4.3,4.3,4.3,4.3,4.3,4.3,4.3,4.3,4.3,4.3,4.3,4.3,4.3,4.3,4.3,4.4,4.4,4.4,4.4,4.4,4.4,4.4,4.4,4.4,4.4,4.4,4.4,4.4,4.4,4.4,4.4,4.4,4.4,4.4,4.4,4.4,4.4,4.4,4.4,4.6,4.6,4.6,4.6,4.6,4.6,4.6,4.6,4.6,4.6,4.6,4.6,4.6,4.6,4.6,4.6,4.6,4.6,4.6,4.6,4.6,4.6,4.6,4.6,3.5,3.5,3.5,3.5,3.5,3.5,3.5,3.5,3.5,3.5,3.5,3.5,3.5,3.5,3.5,3.5,3.5,3.5,3.5,3.5,3.5,3.5,3.5,3.5,3.3,3.3,3.3,3.3,3.3,3.3,3.3,3.3,3.3,3.3,3.3,3.3,3.3,3.3,3.3,3.3,3.3,3.3,3.3,3.3,3.3,3.3,3.3,3.3,4.0,4.0,4.0,4.0,4.0,4.0,4.0,4.0,4.0,4.0,4.0,4.0,4.0,4.0,4.0,4.0,4.0,4.0,4.0,4.0,4.0,4.0,4.0,4.3,4.3,4.3,4.3,4.3,4.3,4.3,4.3,4.3,4.3,4.3,4.3,4.3,4.3,4.3,4.3,4.3,4.3,4.3,4.3,4.3,4.3,4.3,4.3,4.1,4.1,4.1,4.1,4.1,4.1,4.1,4.1,4.1,4.1,4.1,4.1,4.1,4.1,4.1,4.1,4.1,4.1,4.1,4.1,4.1,4.1,4.1,4.6,4.6,4.6,4.6,4.6,4.6,4.6,4.6,4.6,4.6,4.6,4.6,4.6,4.6,4.6,4.6,4.6,4.6,4.6,4.6,4.6,4.6,4.6,4.6,4.3,4.3,4.3,4.3,4.3,4.3,4.3,4.3,4.3,4.3,4.3,4.3,4.3,4.3,4.3,4.3,4.3,4.3,4.3,4.3,4.3,4.3,4.3,4.3,4.3,4.3,4.3,4.3,4.3,4.3,4.3,4.3,4.3,4.3,4.3,4.3,4.3,4.3,4.3,4.3,4.3,4.3,4.3,4.3,4.3,4.3,4.3,4.3,4.4,4.4,4.4,4.4,4.4,4.4,4.4,4.4,4.4,4.4,4.4,4.4,4.4,4.4,4.4,4.4,4.4,4.4,4.4,4.4,4.4,4.4,4.4,4.4,4.4,4.4,4.4,4.4,4.4,4.4,4.4,4.4,4.4,4.4,4.4,4.4,4.4,4.4,4.4,4.4,4.4,4.4,4.4,4.4,4.4,4.4,4.4,4.4,3.9,3.9,3.9,3.9,3.9,3.9,3.9,3.9,3.9,3.9,3.9,3.9,3.9,3.9,3.9,3.9,3.9,3.9,3.9,3.9,3.9,3.9,3.9,3.9,3.9,3.9,3.9,3.9,3.9,3.9,3.9,3.9,3.9,3.9,3.9,3.9,3.9,3.9,3.9,3.9,3.9,3.9,3.9,3.9,3.9,3.9,3.9,3.9,4.1,4.1,4.1,4.1,4.1,4.1,4.1,4.1,4.1,4.1,4.1,4.1,4.1,4.1,4.1,4.1,4.1,4.1,4.1,4.1,4.1,4.1,4.1,4.1,4.1,4.1,4.1,4.1,4.1,4.1,4.1,4.1,4.1,4.1,4.1,4.1,4.1,4.1,4.1,4.1,4.1,4.1,4.1,4.1,4.1,4.1,4.1,4.1,4.4,4.4,4.4,4.4,4.4,4.4,4.4,4.4,4.4,4.4,4.4,4.4,4.4,4.4,4.4,4.4,4.4,4.4,4.4,4.4,4.4,4.4,4.4,4.4,4.4,4.4,4.4,4.4,4.4,4.4,4.4,4.4,4.4,4.4,4.4,4.4,4.4,4.4,4.4,4.4,4.4,4.4,4.4,4.4,4.4,4.4,4.4,4.4,4.1,4.1,4.1,4.1,4.1,4.1,4.1,4.1,4.1,4.1,4.1,4.1,4.1,4.1,4.1,4.1,4.1,4.1,4.1,4.1,4.1,4.1,4.1,4.1,4.4,4.4,4.4,4.4,4.4,4.4,4.4,4.4,4.4,4.4,4.4,4.4,4.4,4.4,4.4,4.4,4.4,4.4,4.4,4.4,4.4,4.4,4.4,4.1,4.1,4.1,4.1,4.1,4.1,4.1,4.1,4.1,4.1,4.1,4.1,4.1,4.1,4.1,4.1,4.1,4.1,4.1,4.1,4.1,4.1,4.1,4.1,4.1,4.1,4.1,4.1,4.1,4.1,4.1,4.1,4.1,4.1,4.1,4.1,4.1,4.1,4.1,4.1,4.1,4.1,4.1,4.1,4.1,4.1,4.1,4.1,3.8,3.8,3.8,3.8,3.8,3.8,3.8,3.8,3.8,3.8,3.8,3.8,3.8,3.8,3.8,3.8,3.8,3.8,3.8,3.8,3.8,3.8,3.8,3.8,4.1,4.1,4.1,4.1,4.1,4.1,4.1,4.1,4.1,4.1,4.1,4.1,4.1,4.1,4.1,4.1,4.1,4.1,4.1,4.1,4.1,4.1,4.1,4.1,4.2,4.2,4.2,4.2,4.2,4.2,4.2,4.2,4.2,4.2,4.2,4.2,4.2,4.2,4.2,4.2,4.2,4.2,4.2,4.2,4.2,4.2,4.2,4.2,4.2,4.2,4.2,4.2,4.2,4.2,4.2,4.2,4.2,4.2,4.2,4.2,4.2,4.2,4.2,4.2,4.2,4.2,4.2,4.2,4.2,4.2,4.2,4.2,4.2,4.2,4.2,4.2,4.2,4.2,4.2,4.2,4.2,4.2,4.2,4.2,4.2,4.2,4.2,4.2,4.2,4.2,4.2,4.2,4.2,4.2,4.2,4.2,4.7,4.7,4.7,4.7,4.7,4.7,4.7,4.7,4.7,4.7,4.7,4.7,4.7,4.7,4.7,4.7,4.7,4.7,4.7,4.7,4.7,4.7,4.7,4.7,4.7,4.7,4.7,4.7,4.7,4.7,4.7,4.7,4.7,4.7,4.7,4.7,4.7,4.7,4.7,4.7,4.7,4.7,4.7,4.7,4.7,4.7,4.7,4.7,4.2,4.2,4.2,4.2,4.2,4.2,4.2,4.2,4.2,4.2,4.2,4.2,4.2,4.2,4.2,4.2,4.2,4.2,4.2,4.2,4.2,4.2,4.2,4.2,4.1,4.1,4.1,4.1,4.1,4.1,4.1,4.1,4.1,4.1,4.1,4.1,4.1,4.1,4.1,4.1,4.1,4.1,4.1,4.1,4.1,4.1,4.1,4.1,4.1,4.1,4.1,4.1,4.1,4.1,4.1,4.1,4.1,4.1,4.1,4.1,4.1,4.1,4.1,4.1,4.1,4.1,4.1,4.1,4.1,4.1,4.1,4.1,4.1,4.1,4.1,4.1,4.1,4.1,4.1,4.1,4.1,4.1,4.1,4.1,4.1,4.1,4.1,4.1,4.1,4.1,4.1,4.1,4.1,4.1,4.1,4.1,4.5,4.5,4.5,4.5,4.5,4.5,4.5,4.5,4.5,4.5,4.5,4.5,4.5,4.5,4.5,4.5,4.5,4.5,4.5,4.5,4.5,4.5,4.5,4.5,4.6,4.6,4.6,4.6,4.6,4.6,4.6,4.6,4.6,4.6,4.6,4.6,4.6,4.6,4.6,4.6,4.6,4.6,4.6,4.6,4.6,4.6,4.6,4.6,4.2,4.2,4.2,4.2,4.2,4.2,4.2,4.2,4.2,4.2,4.2,4.2,4.2,4.2,4.2,4.2,4.2,4.2,4.2,4.2,4.2,4.2,4.2,4.2,4.4,4.4,4.4,4.4,4.4,4.4,4.4,4.4,4.4,4.4,4.4,4.4,4.4,4.4,4.4,4.4,4.4,4.4,4.4,4.4,4.4,4.4,4.4,4.4,4.2,4.2,4.2,4.2,4.2,4.2,4.2,4.2,4.2,4.2,4.2,4.2,4.2,4.2,4.2,4.2,4.2,4.2,4.2,4.2,4.2,4.2,4.2,4.2,4.7,4.7,4.7,4.7,4.7,4.7,4.7,4.7,4.7,4.7,4.7,4.7,4.7,4.7,4.7,4.7,4.7,4.7,4.7,4.7,4.7,4.7,4.7,4.7,4.2,4.2,4.2,4.2,4.2,4.2,4.2,4.2,4.2,4.2,4.2,4.2,4.2,4.2,4.2,4.2,4.2,4.2,4.2,4.2,4.2,4.2,4.2,4.2,4.3,4.3,4.3,4.3,4.3,4.3,4.3,4.3,4.3,4.3,4.3,4.3,4.3,4.3,4.3,4.3,4.3,4.3,4.3,4.3,4.3,4.3,4.3,4.3,4.3,4.3,4.3,4.3,4.3,4.3,4.3,4.3,4.3,4.3,4.3,4.3,4.3,4.3,4.3,4.3,4.3,4.3,4.3,4.3,4.3,4.3,4.3,4.3,4.2,4.2,4.2,4.2,4.2,4.2,4.2,4.2,4.2,4.2,4.2,4.2,4.2,4.2,4.2,4.2,4.2,4.2,4.2,4.2,4.2,4.2,4.2,4.2,4.8,4.8,4.8,4.8,4.8,4.8,4.8,4.8,4.8,4.8,4.8,4.8,4.8,4.8,4.8,4.8,4.8,4.8,4.8,4.8,4.8,4.8,4.8,4.8,4.7,4.7,4.7,4.7,4.7,4.7,4.7,4.7,4.7,4.7,4.7,4.7,4.7,4.7,4.7,4.7,4.7,4.7,4.7,4.7,4.7,4.7,4.7,4.7,4.2,4.2,4.2,4.2,4.2,4.2,4.2,4.2,4.2,4.2,4.2,4.2,4.2,4.2,4.2,4.2,4.2,4.2,4.2,4.2,4.2,4.2,4.2,4.2,4.6,4.6,4.6,4.6,4.6,4.6,4.6,4.6,4.6,4.6,4.6,4.6,4.6,4.6,4.6,4.6,4.6,4.6,4.6,4.6,4.6,4.6,4.6,4.6,4.5,4.5,4.5,4.5,4.5,4.5,4.5,4.5,4.5,4.5,4.5,4.5,4.5,4.5,4.5,4.5,4.5,4.5,4.5,4.5,4.5,4.5,4.5,4.5,3.9,3.9,3.9,3.9,3.9,3.9,3.9,3.9,3.9,3.9,3.9,3.9,3.9,3.9,3.9,3.9,3.9,3.9,3.9,3.9,3.9,3.9,3.9,3.9,4.1,4.1,4.1,4.1,4.1,4.1,4.1,4.1,4.1,4.1,4.1,4.1,4.1,4.1,4.1,4.1,4.1,4.1,4.1,4.1,4.1,4.1,4.1,4.1,4.3,4.3,4.3,4.3,4.3,4.3,4.3,4.3,4.3,4.3,4.3,4.3,4.3,4.3,4.3,4.3,4.3,4.3,4.3,4.3,4.3,4.3,4.3,4.3,3.9,3.9,3.9,3.9,3.9,3.9,3.9,3.9,3.9,3.9,3.9,3.9,3.9,3.9,3.9,3.9,3.9,3.9,3.9,3.9,3.9,3.9,3.9,3.9,4.4,4.4,4.4,4.4,4.4,4.4,4.4,4.4,4.4,4.4,4.4,4.4,4.4,4.4,4.4,4.4,4.4,4.4,4.4,4.4,4.4,4.4,4.4,4.4,4.4,4.4,4.4,4.4,4.4,4.4,4.4,4.4,4.4,4.4,4.4,4.4,4.4,4.4,4.4,4.4,4.4,4.4,4.4,4.4,4.4,4.4,4.4,4.4,4.7,4.7,4.7,4.7,4.7,4.7,4.7,4.7,4.7,4.7,4.7,4.7,4.7,4.7,4.7,4.7,4.7,4.7,4.7,4.7,4.7,4.7,4.7,4.7,4.3,4.3,4.3,4.3,4.3,4.3,4.3,4.3,4.3,4.3,4.3,4.3,4.3,4.3,4.3,4.3,4.3,4.3,4.3,4.3,4.3,4.3,4.3,4.3,4.3,4.3,4.3,4.3,4.3,4.3,4.3,4.3,4.3,4.3,4.3,4.3,4.3,4.3,4.3,4.3,4.3,4.3,4.3,4.3,4.3,4.3,4.3,4.3,4.7,4.7,4.7,4.7,4.7,4.7,4.7,4.7,4.7,4.7,4.7,4.7,4.7,4.7,4.7,4.7,4.7,4.7,4.7,4.7,4.7,4.7,4.7,4.7,4.4,4.4,4.4,4.4,4.4,4.4,4.4,4.4,4.4,4.4,4.4,4.4,4.4,4.4,4.4,4.4,4.4,4.4,4.4,4.4,4.4,4.4,4.4,4.4,4.5,4.5,4.5,4.5,4.5,4.5,4.5,4.5,4.5,4.5,4.5,4.5,4.5,4.5,4.5,4.5,4.5,4.5,4.5,4.5,4.5,4.5,4.5,4.5,4.4,4.4,4.4,4.4,4.4,4.4,4.4,4.4,4.4,4.4,4.4,4.4,4.4,4.4,4.4,4.4,4.4,4.4,4.4,4.4,4.4,4.4,4.4,4.5,4.5,4.5,4.5,4.5,4.5,4.5,4.5,4.5,4.5,4.5,4.5,4.5,4.5,4.5,4.5,4.5,4.5,4.5,4.5,4.5,4.5,4.5,4.5,4.7,4.7,4.7,4.7,4.7,4.7,4.7,4.7,4.7,4.7,4.7,4.7,4.7,4.7,4.7,4.7,4.7,4.7,4.7,4.7,4.7,4.7,4.7,4.7,4.6,4.6,4.6,4.6,4.6,4.6,4.6,4.6,4.6,4.6,4.6,4.6,4.6,4.6,4.6,4.6,4.6,4.6,4.6,4.6,4.6,4.6,4.6,4.6,4.1,4.1,4.1,4.1,4.1,4.1,4.1,4.1,4.1,4.1,4.1,4.1,4.1,4.1,4.1,4.1,4.1,4.1,4.1,4.1,4.1,4.1,4.1,4.4,4.4,4.4,4.4,4.4,4.4,4.4,4.4,4.4,4.4,4.4,4.4,4.4,4.4,4.4,4.4,4.4,4.4,4.4,4.4,4.4,4.4,4.4,4.5,4.5,4.5,4.5,4.5,4.5,4.5,4.5,4.5,4.5,4.5,4.5,4.5,4.5,4.5,4.5,4.5,4.5,4.5,4.5,4.5,4.5,4.5,4.5,4.4,4.4,4.4,4.4,4.4,4.4,4.4,4.4,4.4,4.4,4.4,4.4,4.4,4.4,4.4,4.4,4.4,4.4,4.4,4.4,4.4,4.4,4.4,4.4,4.3,4.3,4.3,4.3,4.3,4.3,4.3,4.3,4.3,4.3,4.3,4.3,4.3,4.3,4.3,4.3,4.3,4.3,4.3,4.3,4.3,4.3,4.3,4.3,4.6,4.6,4.6,4.6,4.6,4.6,4.6,4.6,4.6,4.6,4.6,4.6,4.6,4.6,4.6,4.6,4.6,4.6,4.6,4.6,4.6,4.6,4.6,4.6,4.4,4.4,4.4,4.4,4.4,4.4,4.4,4.4,4.4,4.4,4.4,4.4,4.4,4.4,4.4,4.4,4.4,4.4,4.4,4.4,4.4,4.4,4.4,4.4,4.4,4.4,4.4,4.4,4.4,4.4,4.4,4.4,4.4,4.4,4.4,4.4,4.4,4.4,4.4,4.4,4.4,4.4,4.4,4.4,4.4,4.4,4.4,4.4,4.4,4.4,4.4,4.4,4.4,4.4,4.4,4.4,4.4,4.4,4.4,4.4,4.4,4.4,4.4,4.4,4.4,4.4,4.4,4.4,4.4,4.4,4.4,4.4,4.3,4.3,4.3,4.3,4.3,4.3,4.3,4.3,4.3,4.3,4.3,4.3,4.3,4.3,4.3,4.3,4.3,4.3,4.3,4.3,4.3,4.3,4.3,4.3,4.3,4.3,4.3,4.3,4.3,4.3,4.3,4.3,4.3,4.3,4.3,4.3,4.3,4.3,4.3,4.3,4.3,4.3,4.3,4.3,4.3,4.3,4.3,4.3,4.3,4.3,4.3,4.3,4.3,4.3,4.3,4.3,4.3,4.3,4.3,4.3,4.3,4.3,4.3,4.3,4.3,4.3,4.3,4.3,4.3,4.3,4.3,4.3,4.3,4.3,4.3,4.3,4.3,4.3,4.3,4.3,4.3,4.3,4.3,4.3,4.3,4.3,4.3,4.3,4.3,4.3,4.3,4.3,4.3,4.3,4.3,4.3,4.3,4.3,4.3,4.3,4.3,4.3,4.3,4.3,4.3,4.3,4.3,4.3,4.3,4.3,4.3,4.3,4.3,4.3,4.3,4.3,4.3,4.3,4.3,4.3,4.6,4.6,4.6,4.6,4.6,4.6,4.6,4.6,4.6,4.6,4.6,4.6,4.6,4.6,4.6,4.6,4.6,4.6,4.6,4.6,4.6,4.6,4.6,4.6,4.4,4.4,4.4,4.4,4.4,4.4,4.4,4.4,4.4,4.4,4.4,4.4,4.4,4.4,4.4,4.4,4.4,4.4,4.4,4.4,4.4,4.4,4.4,4.4,4.6,4.6,4.6,4.6,4.6,4.6,4.6,4.6,4.6,4.6,4.6,4.6,4.6,4.6,4.6,4.6,4.6,4.6,4.6,4.6,4.6,4.6,4.6,4.6,4.6,4.6,4.6,4.6,4.6,4.6,4.6,4.6,4.6,4.6,4.6,4.6,4.6,4.6,4.6,4.6,4.6,4.6,4.6,4.6,4.6,4.6,4.6,4.3,4.3,4.3,4.3,4.3,4.3,4.3,4.3,4.3,4.3,4.3,4.3,4.3,4.3,4.3,4.3,4.3,4.3,4.3,4.3,4.3,4.3,4.3,4.6,4.6,4.6,4.6,4.6,4.6,4.6,4.6,4.6,4.6,4.6,4.6,4.6,4.6,4.6,4.6,4.6,4.6,4.6,4.6,4.6,4.6,4.6,4.6,4.6,4.6,4.6,4.6,4.6,4.6,4.6,4.6,4.6,4.6,4.6,4.6,4.6,4.6,4.6,4.6,4.6,4.6,4.6,4.6,4.6,4.6,4.6,4.6,4.7,4.7,4.7,4.7,4.7,4.7,4.7,4.7,4.7,4.7,4.7,4.7,4.7,4.7,4.7,4.7,4.7,4.7,4.7,4.7,4.7,4.7,4.7,4.7,4.7,4.7,4.7,4.7,4.7,4.7,4.7,4.7,4.7,4.7,4.7,4.7,4.7,4.7,4.7,4.7,4.7,4.7,4.7,4.7,4.7,4.7,4.7,4.2,4.2,4.2,4.2,4.2,4.2,4.2,4.2,4.2,4.2,4.2,4.2,4.2,4.2,4.2,4.2,4.2,4.2,4.2,4.2,4.2,4.2,4.2,4.3,4.3,4.3,4.3,4.3,4.3,4.3,4.3,4.3,4.3,4.3,4.3,4.3,4.3,4.3,4.3,4.3,4.3,4.3,4.3,4.3,4.3,4.3,4.3,4.0,4.0,4.0,4.0,4.0,4.0,4.0,4.0,4.0,4.0,4.0,4.0,4.0,4.0,4.0,4.0,4.0,4.0,4.0,4.0,4.0,4.0,4.0,4.0,4.6,4.6,4.6,4.6,4.6,4.6,4.6,4.6,4.6,4.6,4.6,4.6,4.6,4.6,4.6,4.6,4.6,4.6,4.6,4.6,4.6,4.6,4.6,4.4,4.4,4.4,4.4,4.4,4.4,4.4,4.4,4.4,4.4,4.4,4.4,4.4,4.4,4.4,4.4,4.4,4.4,4.4,4.4,4.4,4.4,4.4,4.4,4.4,4.4,4.4,4.4,4.4,4.4,4.4,4.4,4.4,4.4,4.4,4.4,4.4,4.4,4.4,4.4,4.4,4.4,4.4,4.4,4.4,4.4,4.4,4.4,4.2,4.2,4.2,4.2,4.2,4.2,4.2,4.2,4.2,4.2,4.2,4.2,4.2,4.2,4.2,4.2,4.2,4.2,4.2,4.2,4.2,4.2,4.2,4.2,4.2,4.2,4.2,4.2,4.2,4.2,4.2,4.2,4.2,4.2,4.2,4.2,4.2,4.2,4.2,4.2,4.2,4.2,4.2,4.2,4.2,4.2,4.2,4.2,4.6,4.6,4.6,4.6,4.6,4.6,4.6,4.6,4.6,4.6,4.6,4.6,4.6,4.6,4.6,4.6,4.6,4.6,4.6,4.6,4.6,4.6,4.6,4.6,4.5,4.5,4.5,4.5,4.5,4.5,4.5,4.5,4.5,4.5,4.5,4.5,4.5,4.5,4.5,4.5,4.5,4.5,4.5,4.5,4.5,4.5,4.5,4.5,4.5,4.5,4.5,4.5,4.5,4.5,4.5,4.5,4.5,4.5,4.5,4.5,4.5,4.5,4.5,4.5,4.5,4.5,4.5,4.5,4.5,4.5,4.5,4.3,4.3,4.3,4.3,4.3,4.3,4.3,4.3,4.3,4.3,4.3,4.3,4.3,4.3,4.3,4.3,4.3,4.3,4.3,4.3,4.3,4.3,4.3,4.3,4.1,4.1,4.1,4.1,4.1,4.1,4.1,4.1,4.1,4.1,4.1,4.1,4.1,4.1,4.1,4.1,4.1,4.1,4.1,4.1,4.1,4.1,4.1,4.1,4.1,4.1,4.1,4.1,4.1,4.1,4.1,4.1,4.1,4.1,4.1,4.1,4.1,4.1,4.1,4.1,4.1,4.1,4.1,4.1,4.1,4.1,4.1,4.1,4.6,4.6,4.6,4.6,4.6,4.6,4.6,4.6,4.6,4.6,4.6,4.6,4.6,4.6,4.6,4.6,4.6,4.6,4.6,4.6,4.6,4.6,4.6,4.6,4.4,4.4,4.4,4.4,4.4,4.4,4.4,4.4,4.4,4.4,4.4,4.4,4.4,4.4,4.4,4.4,4.4,4.4,4.4,4.4,4.4,4.4,4.4,4.4,4.4,4.4,4.4,4.4,4.4,4.4,4.4,4.4,4.4,4.4,4.4,4.4,4.4,4.4,4.4,4.4,4.4,4.4,4.4,4.4,4.4,4.4,4.4,4.4,3.8,3.8,3.8,3.8,3.8,3.8,3.8,3.8,3.8,3.8,3.8,3.8,3.8,3.8,3.8,3.8,3.8,3.8,3.8,3.8,3.8,3.8,3.8,3.8,3.8,3.8,3.8,3.8,3.8,3.8,3.8,3.8,3.8,3.8,3.8,3.8,3.8,3.8,3.8,3.8,3.8,3.8,3.8,3.8,3.8,3.8,3.8,3.8,4.2,4.2,4.2,4.2,4.2,4.2,4.2,4.2,4.2,4.2,4.2,4.2,4.2,4.2,4.2,4.2,4.2,4.2,4.2,4.2,4.2,4.2,4.2,4.2,4.3,4.3,4.3,4.3,4.3,4.3,4.3,4.3,4.3,4.3,4.3,4.3,4.3,4.3,4.3,4.3,4.3,4.3,4.3,4.3,4.3,4.3,4.3,4.3,4.7,4.7,4.7,4.7,4.7,4.7,4.7,4.7,4.7,4.7,4.7,4.7,4.7,4.7,4.7,4.7,4.7,4.7,4.7,4.7,4.7,4.7,4.7,4.7,4.6,4.6,4.6,4.6,4.6,4.6,4.6,4.6,4.6,4.6,4.6,4.6,4.6,4.6,4.6,4.6,4.6,4.6,4.6,4.6,4.6,4.6,4.6,4.5,4.5,4.5,4.5,4.5,4.5,4.5,4.5,4.5,4.5,4.5,4.5,4.5,4.5,4.5,4.5,4.5,4.5,4.5,4.5,4.5,4.5,4.5,4.5,4.6,4.6,4.6,4.6,4.6,4.6,4.6,4.6,4.6,4.6,4.6,4.6,4.6,4.6,4.6,4.6,4.6,4.6,4.6,4.6,4.6,4.6,4.6,4.6,4.6,4.6,4.6,4.6,4.6,4.6,4.6,4.6,4.6,4.6,4.6,4.6,4.6,4.6,4.6,4.6,4.6,4.6,4.6,4.6,4.6,4.6,4.6,4.6,4.5,4.5,4.5,4.5,4.5,4.5,4.5,4.5,4.5,4.5,4.5,4.5,4.5,4.5,4.5,4.5,4.5,4.5,4.5,4.5,4.5,4.5,4.5,4.4,4.4,4.4,4.4,4.4,4.4,4.4,4.4,4.4,4.4,4.4,4.4,4.4,4.4,4.4,4.4,4.4,4.4,4.4,4.4,4.4,4.5,4.5,4.5,4.5,4.5,4.5,4.5,4.5,4.5,4.5,4.5,4.5,4.5,4.5,4.5,4.5,4.5,4.5,4.5,4.5,4.5,4.5,4.5,4.5,4.5,4.5,4.5,4.5,4.5,4.5,4.5,4.5,4.5,4.5,4.5,4.5,4.5,4.5,4.5,4.5,4.5,4.5,4.5,4.5,4.5,4.5,4.5,4.5,4.2,4.2,4.2,4.2,4.2,4.2,4.2,4.2,4.2,4.2,4.2,4.2,4.2,4.2,4.2,4.2,4.2,4.2,4.2,4.2,4.2,4.2,4.2,4.2,4.2,4.2,4.2,4.2,4.2,4.2,4.2,4.2,4.2,4.2,4.2,4.2,4.2,4.2,4.2,4.2,4.2,4.2,4.2,4.2,4.2,4.2,4.3,4.3,4.3,4.3,4.3,4.3,4.3,4.3,4.3,4.3,4.3,4.3,4.3,4.3,4.3,4.3,4.3,4.3,4.3,4.3,4.3,4.3,4.3,3.6,3.6,3.6,3.6,3.6,3.6,3.6,3.6,3.6,3.6,3.6,3.6,3.6,3.6,3.6,3.6,3.6,3.6,3.6,3.6,3.6,3.6,3.6,3.6,5.0,5.0,5.0,5.0,5.0,5.0,5.0,5.0,5.0,5.0,5.0,5.0,5.0,5.0,5.0,5.0,5.0,5.0,5.0,5.0,5.0,5.0,5.0,5.0,4.5,4.5,4.5,4.5,4.5,4.5,4.5,4.5,4.5,4.5,4.5,4.5,4.5,4.5,4.5,4.5,4.5,4.5,4.5,4.5,4.5,4.5,4.5,4.5,4.5,4.5,4.5,4.5,4.5,4.5,4.5,4.5,4.5,4.5,4.5,4.5,4.5,4.5,4.5,4.5,4.5,4.5,4.5,4.5,4.5,4.5,4.5,4.5,4.6,4.6,4.6,4.6,4.6,4.6,4.6,4.6,4.6,4.6,4.6,4.6,4.6,4.6,4.6,4.6,4.6,4.6,4.6,4.6,4.6,4.6,4.6,4.6,4.5,4.5,4.5,4.5,4.5,4.5,4.5,4.5,4.5,4.5,4.5,4.5,4.5,4.5,4.5,4.5,4.5,4.5,4.5,4.5,4.5,4.5,4.5,4.5,4.5,4.5,4.5,4.5,4.5,4.5,4.5,4.5,4.5,4.5,4.5,4.5,4.5,4.5,4.5,4.5,4.5,4.5,4.5,4.5,4.5,4.5,4.5,4.5,0.0,0.0,0.0,0.0,0.0,0.0,0.0,0.0,0.0,0.0,0.0,0.0,0.0,0.0,0.0,0.0,0.0,0.0,0.0,0.0,0.0,0.0,0.0,0.0,0.0,0.0,0.0,0.0,0.0,0.0,0.0,0.0,0.0,0.0,0.0,0.0,0.0,0.0,0.0,0.0,0.0,0.0,0.0,0.0,0.0,0.0,4.6,4.6,4.6,4.6,4.6,4.6,4.6,4.6,4.6,4.6,4.6,4.6,4.6,4.6,4.6,4.6,4.6,4.6,4.6,4.6,4.6,4.6,4.6,4.6,4.2,4.2,4.2,4.2,4.2,4.2,4.2,4.2,4.2,4.2,4.2,4.2,4.2,4.2,4.2,4.2,4.2,4.2,4.2,4.2,4.2,4.2,4.2,4.4,4.4,4.4,4.4,4.4,4.4,4.4,4.4,4.4,4.4,4.4,4.4,4.4,4.4,4.4,4.4,4.4,4.4,4.4,4.4,4.4,4.4,4.4,4.4,4.8,4.8,4.8,4.8,4.8,4.8,4.8,4.8,4.8,4.8,4.8,4.8,4.8,4.8,4.8,4.8,4.8,4.8,4.8,4.8,4.8,4.8,4.8,4.8,3.9,3.9,3.9,3.9,3.9,3.9,3.9,3.9,3.9,3.9,3.9,3.9,3.9,3.9,3.9,3.9,3.9,3.9,3.9,3.9,3.9,3.9,3.9,4.4,4.4,4.4,4.4,4.4,4.4,4.4,4.4,4.4,4.4,4.4,4.4,4.4,4.4,4.4,4.4,4.4,4.4,4.4,4.4,4.4,4.4,4.4,4.4,4.3,4.3,4.3,4.3,4.3,4.3,4.3,4.3,4.3,4.3,4.3,4.3,4.3,4.3,4.3,4.3,4.3,4.3,4.3,4.3,4.3,4.3,4.3,4.3,4.3,4.3,4.3,4.3,4.3,4.3,4.3,4.3,4.3,4.3,4.3,4.3,4.3,4.3,4.3,4.3,4.3,4.3,4.3,4.3,4.3,4.3,4.3,4.3,4.4,4.4,4.4,4.4,4.4,4.4,4.4,4.4,4.4,4.4,4.4,4.4,4.4,4.4,4.4,4.4,4.4,4.4,4.4,4.4,4.4,4.4,4.4,4.4,4.3,4.3,4.3,4.3,4.3,4.3,4.3,4.3,4.3,4.3,4.3,4.3,4.3,4.3,4.3,4.3,4.3,4.3,4.3,4.3,4.3,4.3,4.3,4.5,4.5,4.5,4.5,4.5,4.5,4.5,4.5,4.5,4.5,4.5,4.5,4.5,4.5,4.5,4.5,4.5,4.5,4.5,4.5,4.5,4.5,4.5,4.3,4.3,4.3,4.3,4.3,4.3,4.3,4.3,4.3,4.3,4.3,4.3,4.3,4.3,4.3,4.3,4.3,4.3,4.3,4.3,4.3,4.3,4.3,4.3,4.9,4.9,4.9,4.9,4.9,4.9,4.9,4.9,4.9,4.9,4.9,4.9,4.9,4.9,4.9,4.9,4.9,4.9,4.9,4.9,4.9,4.9,4.9,4.9,3.9,3.9,3.9,3.9,3.9,3.9,3.9,3.9,3.9,3.9,3.9,3.9,3.9,3.9,3.9,3.9,3.9,3.9,3.9,3.9,3.9,3.9,3.9,3.9,4.4,4.4,4.4,4.4,4.4,4.4,4.4,4.4,4.4,4.4,4.4,4.4,4.4,4.4,4.4,4.4,4.4,4.4,4.4,4.4,4.4,4.4,4.4,4.6,4.6,4.6,4.6,4.6,4.6,4.6,4.6,4.6,4.6,4.6,4.6,4.6,4.6,4.6,4.6,4.6,4.6,4.6,4.6,4.6,4.6,4.6,4.6,4.6,4.6,4.6,4.6,4.6,4.6,4.6,4.6,4.6,4.6,4.6,4.6,4.6,4.6,4.6,4.6,4.6,4.6,4.6,4.6,4.6,4.6,4.6,4.6,3.9,3.9,3.9,3.9,3.9,3.9,3.9,3.9,3.9,3.9,3.9,3.9,3.9,3.9,3.9,3.9,3.9,3.9,3.9,3.9,3.9,3.9,3.9,3.9,4.4,4.4,4.4,4.4,4.4,4.4,4.4,4.4,4.4,4.4,4.4,4.4,4.4,4.4,4.4,4.4,4.4,4.4,4.4,4.4,4.4,4.4,4.4,4.4,4.5,4.5,4.5,4.5,4.5,4.5,4.5,4.5,4.5,4.5,4.5,4.5,4.5,4.5,4.5,4.5,4.5,4.5,4.5,4.5,4.5,4.5,4.5,4.5,4.4,4.4,4.4,4.4,4.4,4.4,4.4,4.4,4.4,4.4,4.4,4.4,4.4,4.4,4.4,4.4,4.4,4.4,4.4,4.4,4.4,4.4,4.4,4.4,4.2,4.2,4.2,4.2,4.2,4.2,4.2,4.2,4.2,4.2,4.2,4.2,4.2,4.2,4.2,4.2,4.2,4.2,4.2,4.2,4.2,4.2,4.2,4.2,4.1,4.1,4.1,4.1,4.1,4.1,4.1,4.1,4.1,4.1,4.1,4.1,4.1,4.1,4.1,4.1,4.1,4.1,4.1,4.1,4.1,4.1,4.1,4.5,4.5,4.5,4.5,4.5,4.5,4.5,4.5,4.5,4.5,4.5,4.5,4.5,4.5,4.5,4.5,4.5,4.5,4.5,4.5,4.5,4.5,4.5,4.5,4.5,4.5,4.5,4.5,4.5,4.5,4.5,4.5,4.5,4.5,4.5,4.5,4.5,4.5,4.5,4.5,4.5,4.5,4.5,4.5,4.5,4.5,4.5,4.6,4.6,4.6,4.6,4.6,4.6,4.6,4.6,4.6,4.6,4.6,4.6,4.6,4.6,4.6,4.6,4.6,4.6,4.6,4.6,4.6,4.6,4.6,4.6,4.3,4.3,4.3,4.3,4.3,4.3,4.3,4.3,4.3,4.3,4.3,4.3,4.3,4.3,4.3,4.3,4.3,4.3,4.3,4.3,4.3,4.3,4.3,4.3,4.3,4.3,4.3,4.3,4.3,4.3,4.3,4.3,4.3,4.3,4.3,4.3,4.3,4.3,4.3,4.3,4.3,4.3,4.3,4.3,4.3,4.3,4.3,4.3,4.2,4.2,4.2,4.2,4.2,4.2,4.2,4.2,4.2,4.2,4.2,4.2,4.2,4.2,4.2,4.2,4.2,4.2,4.2,4.2,4.2,4.2,4.2,4.2,4.2,4.2,4.2,4.2,4.2,4.2,4.2,4.2,4.2,4.2,4.2,4.2,4.2,4.2,4.2,4.2,4.2,4.2,4.2,4.2,4.2,4.2,4.2,4.2,4.3,4.3,4.3,4.3,4.3,4.3,4.3,4.3,4.3,4.3,4.3,4.3,4.3,4.3,4.3,4.3,4.3,4.3,4.3,4.3,4.3,4.3,4.3,4.5,4.5,4.5,4.5,4.5,4.5,4.5,4.5,4.5,4.5,4.5,4.5,4.5,4.5,4.5,4.5,4.5,4.5,4.5,4.5,4.5,4.5,4.5,4.5,4.5,4.5,4.5,4.5,4.5,4.5,4.5,4.5,4.5,4.5,4.5,4.5,4.5,4.5,4.5,4.5,4.5,4.5,4.5,4.5,4.5,4.5,4.5,4.5,4.7,4.7,4.7,4.7,4.7,4.7,4.7,4.7,4.7,4.7,4.7,4.7,4.7,4.7,4.7,4.7,4.7,4.7,4.7,4.7,4.7,4.7,4.7,4.4,4.4,4.4,4.4,4.4,4.4,4.4,4.4,4.4,4.4,4.4,4.4,4.4,4.4,4.4,4.4,4.4,4.4,4.4,4.4,4.4,4.4,4.4,4.4,4.5,4.5,4.5,4.5,4.5,4.5,4.5,4.5,4.5,4.5,4.5,4.5,4.5,4.5,4.5,4.5,4.5,4.5,4.5,4.5,4.5,4.5,4.5,4.5,4.5,4.5,4.5,4.5,4.5,4.5,4.5,4.5,4.5,4.5,4.5,4.5,4.5,4.5,4.5,4.5,4.5,4.5,4.5,4.5,4.5,4.5,4.5,4.5,4.5,4.5,4.5,4.5,4.5,4.5,4.5,4.5,4.5,4.5,4.5,4.5,4.5,4.5,4.5,4.5,4.5,4.5,4.5,4.5,4.5,4.5,4.5,4.5,4.5,4.5,4.5,4.5,4.5,4.5,4.5,4.5,4.5,4.5,4.5,4.5,4.5,4.5,4.5,4.5,4.5,4.5,4.5,4.5,4.5,4.5,4.5,4.3,4.3,4.3,4.3,4.3,4.3,4.3,4.3,4.3,4.3,4.3,4.3,4.3,4.3,4.3,4.3,4.3,4.3,4.3,4.3,4.3,4.3,4.3,4.3,3.6,3.6,3.6,3.6,3.6,3.6,3.6,3.6,3.6,3.6,3.6,3.6,3.6,3.6,3.6,3.6,3.6,3.6,3.6,3.6,3.6,3.6,3.6,3.6,3.9,3.9,3.9,3.9,3.9,3.9,3.9,3.9,3.9,3.9,3.9,3.9,3.9,3.9,3.9,3.9,3.9,3.9,3.9,3.9,3.9,3.9,3.9,3.9,3.5,3.5,3.5,3.5,3.5,3.5,3.5,3.5,3.5,3.5,3.5,3.5,3.5,3.5,3.5,3.5,3.5,3.5,3.5,3.5,3.5,3.5,3.5,3.5,4.9,4.9,4.9,4.9,4.9,4.9,4.9,4.9,4.9,4.9,4.9,4.9,4.9,4.9,4.9,4.9,4.9,4.9,4.9,4.9,4.9,4.9,4.9,4.9,4.3,4.3,4.3,4.3,4.3,4.3,4.3,4.3,4.3,4.3,4.3,4.3,4.3,4.3,4.3,4.3,4.3,4.3,4.3,4.3,4.3,4.3,4.3,4.3,4.4,4.4,4.4,4.4,4.4,4.4,4.4,4.4,4.4,4.4,4.4,4.4,4.4,4.4,4.4,4.4,4.4,4.4,4.4,4.4,4.4,4.4,4.4,4.4,4.1,4.1,4.1,4.1,4.1,4.1,4.1,4.1,4.1,4.1,4.1,4.1,4.1,4.1,4.1,4.1,4.1,4.1,4.1,4.1,4.1,4.1,4.1,4.1,4.5,4.5,4.5,4.5,4.5,4.5,4.5,4.5,4.5,4.5,4.5,4.5,4.5,4.5,4.5,4.5,4.5,4.5,4.5,4.5,4.5,4.5,4.5,4.5,4.5,4.5,4.5,4.5,4.5,4.5,4.5,4.5,4.5,4.5,4.5,4.5,4.5,4.5,4.5,4.5,4.5,4.5,4.5,4.5,4.5,4.5,4.5,4.4,4.4,4.4,4.4,4.4,4.4,4.4,4.4,4.4,4.4,4.4,4.4,4.4,4.4,4.4,4.4,4.4,4.4,4.4,4.4,4.4,4.4,4.4,4.4,4.2,4.2,4.2,4.2,4.2,4.2,4.2,4.2,4.2,4.2,4.2,4.2,4.2,4.2,4.2,4.2,4.2,4.2,4.2,4.2,4.2,4.2,4.2,4.2,4.7,4.7,4.7,4.7,4.7,4.7,4.7,4.7,4.7,4.7,4.7,4.7,4.7,4.7,4.7,4.7,4.7,4.7,4.7,4.1,4.1,4.1,4.1,4.1,4.1,4.1,4.1,4.1,4.1,4.1,4.1,4.1,4.1,4.1,4.1,4.1,4.1,4.1,4.1,4.1,4.1,4.1,4.1,4.6,4.6,4.6,4.6,4.6,4.6,4.6,4.6,4.6,4.6,4.6,4.6,4.6,4.6,4.6,4.6,4.6,4.6,4.6,4.6,4.6,4.6,4.6,4.6,4.5,4.5,4.5,4.5,4.5,4.5,4.5,4.5,4.5,4.5,4.5,4.5,4.5,4.5,4.5,4.5,4.5,4.5,4.5,4.5,4.5,4.5,4.5,4.5,4.5,4.5,4.5,4.5,4.5,4.5,4.5,4.5,4.5,4.5,4.5,4.5,4.5,4.5,4.5,4.5,4.5,4.5,4.5,4.5,4.5,4.5,4.5,4.5,3.7,3.7,3.7,3.7,3.7,3.7,3.7,3.7,3.7,3.7,3.7,3.7,3.7,3.7,3.7,3.7,3.7,3.7,3.7,3.7,3.7,3.7,3.7,3.7,4.4,4.4,4.4,4.4,4.4,4.4,4.4,4.4,4.4,4.4,4.4,4.4,4.4,4.4,4.4,4.4,4.4,4.4,4.4,4.4,4.4,4.4,4.4,4.4,4.3,4.3,4.3,4.3,4.3,4.3,4.3,4.3,4.3,4.3,4.3,4.3,4.3,4.3,4.3,4.3,4.3,4.3,4.3,4.3,4.3,4.3,4.3,4.3,4.9,4.9,4.9,4.9,4.9,4.9,4.9,4.9,4.9,4.9,4.9,4.9,4.9,4.9,4.9,4.9,4.9,4.9,4.9,4.9,4.9,4.9,4.9,4.6,4.6,4.6,4.6,4.6,4.6,4.6,4.6,4.6,4.6,4.6,4.6,4.6,4.6,4.6,4.6,4.6,4.6,4.6,4.6,4.6,4.6,4.6,4.6,4.5,4.5,4.5,4.5,4.5,4.5,4.5,4.5,4.5,4.5,4.5,4.5,4.5,4.5,4.5,4.5,4.5,4.5,4.5,4.5,4.5,4.5,4.5,4.5,4.5,4.5,4.5,4.5,4.5,4.5,4.5,4.5,4.5,4.5,4.5,4.5,4.5,4.5,4.5,4.5,4.5,4.5,4.5,4.5,4.5,4.5,4.5,4.5,4.1,4.1,4.1,4.1,4.1,4.1,4.1,4.1,4.1,4.1,4.1,4.1,4.1,4.1,4.1,4.1,4.1,4.1,4.1,4.1,4.1,4.1,4.1,4.1,4.2,4.2,4.2,4.2,4.2,4.2,4.2,4.2,4.2,4.2,4.2,4.2,4.2,4.2,4.2,4.2,4.2,4.2,4.2,4.2,4.2,4.2,4.2,4.2,4.3,4.3,4.3,4.3,4.3,4.3,4.3,4.3,4.3,4.3,4.3,4.3,4.3,4.3,4.3,4.3,4.3,4.3,4.3,4.3,4.3,4.3,4.3,4.3,4.3,4.3,4.3,4.3,4.3,4.3,4.3,4.3,4.3,4.3,4.3,4.3,4.3,4.3,4.3,4.3,4.3,4.3,4.3,4.3,4.3,4.3,4.3,4.3,3.9,3.9,3.9,3.9,3.9,3.9,3.9,3.9,3.9,3.9,3.9,3.9,3.9,3.9,3.9,3.9,3.9,3.9,3.9,3.9,3.9,3.9,3.9,3.9,4.4,4.4,4.4,4.4,4.4,4.4,4.4,4.4,4.4,4.4,4.4,4.4,4.4,4.4,4.4,4.4,4.4,4.4,4.4,4.4,4.4,4.4,4.4,4.4,4.5,4.5,4.5,4.5,4.5,4.5,4.5,4.5,4.5,4.5,4.5,4.5,4.5,4.5,4.5,4.5,4.5,4.5,4.5,4.5,4.5,4.5,4.5,4.5,4.2,4.2,4.2,4.2,4.2,4.2,4.2,4.2,4.2,4.2,4.2,4.2,4.2,4.2,4.2,4.2,4.2,4.2,4.2,4.2,4.2,4.2,4.2,3.9,3.9,3.9,3.9,3.9,3.9,3.9,3.9,3.9,3.9,3.9,3.9,3.9,3.9,3.9,3.9,3.9,3.9,3.9,3.9,3.9,3.9,3.9,3.9,3.9,3.9,3.9,3.9,3.9,3.9,3.9,3.9,3.9,3.9,3.9,3.9,3.9,3.9,3.9,3.9,3.9,3.9,3.9,3.9,3.9,3.9,3.9,3.9,4.4,4.4,4.4,4.4,4.4,4.4,4.4,4.4,4.4,4.4,4.4,4.4,4.4,4.4,4.4,4.4,4.4,4.4,4.4,4.4,4.4,4.4,4.4,4.4,4.0,4.0,4.0,4.0,4.0,4.0,4.0,4.0,4.0,4.0,4.0,4.0,4.0,4.0,4.0,4.0,4.0,4.0,4.0,4.0,4.0,4.0,4.0,4.2,4.2,4.2,4.2,4.2,4.2,4.2,4.2,4.2,4.2,4.2,4.2,4.2,4.2,4.2,4.2,4.2,4.2,4.2,4.2,4.2,4.2,4.2,4.2,4.2,4.2,4.2,4.2,4.2,4.2,4.2,4.2,4.2,4.2,4.2,4.2,4.2,4.2,4.2,4.2,4.2,4.2,4.2,4.2,4.2,4.2,4.2,4.5,4.5,4.5,4.5,4.5,4.5,4.5,4.5,4.5,4.5,4.5,4.5,4.5,4.5,4.5,4.5,4.5,4.5,4.5,4.5,4.5,4.5,4.5,4.5,4.6,4.6,4.6,4.6,4.6,4.6,4.6,4.6,4.6,4.6,4.6,4.6,4.6,4.6,4.6,4.6,4.6,4.6,4.6,4.6,4.6,4.6,4.6,4.6,4.0,4.0,4.0,4.0,4.0,4.0,4.0,4.0,4.0,4.0,4.0,4.0,4.0,4.0,4.0,4.0,4.0,4.0,4.0,4.0,4.0,4.0,4.0,4.0,4.4,4.4,4.4,4.4,4.4,4.4,4.4,4.4,4.4,4.4,4.4,4.4,4.4,4.4,4.4,4.4,4.4,4.4,4.4,4.4,4.4,4.4,4.4,4.4,4.5,4.5,4.5,4.5,4.5,4.5,4.5,4.5,4.5,4.5,4.5,4.5,4.5,4.5,4.5,4.5,4.5,4.5,4.5,4.5,4.5,4.5,4.5,4.5,4.3,4.3,4.3,4.3,4.3,4.3,4.3,4.3,4.3,4.3,4.3,4.3,4.3,4.3,4.3,4.3,4.3,4.3,4.3,4.3,4.3,4.3,4.3,4.3,4.5,4.5,4.5,4.5,4.5,4.5,4.5,4.5,4.5,4.5,4.5,4.5,4.5,4.5,4.5,4.5,4.5,4.5,4.5,4.5,4.5,4.5,4.5,4.5,4.3,4.3,4.3,4.3,4.3,4.3,4.3,4.3,4.3,4.3,4.3,4.3,4.3,4.3,4.3,4.3,4.3,4.3,4.3,4.3,4.3,4.3,4.3,4.3,4.3,4.3,4.3,4.3,4.3,4.3,4.3,4.3,4.3,4.3,4.3,4.3,4.3,4.3,4.3,4.3,4.3,4.3,4.3,4.3,4.3,4.3,4.3,4.3,4.2,4.2,4.2,4.2,4.2,4.2,4.2,4.2,4.2,4.2,4.2,4.2,4.2,4.2,4.2,4.2,4.2,4.2,4.2,4.2,4.2,4.2,4.2,4.2,4.3,4.3,4.3,4.3,4.3,4.3,4.3,4.3,4.3,4.3,4.3,4.3,4.3,4.3,4.3,4.3,4.3,4.3,4.3,4.3,4.3,4.3,4.3,4.3,4.5,4.5,4.5,4.5,4.5,4.5,4.5,4.5,4.5,4.5,4.5,4.5,4.5,4.5,4.5,4.5,4.5,4.5,4.5,4.5,4.5,4.5,4.5,4.5,4.4,4.4,4.4,4.4,4.4,4.4,4.4,4.4,4.4,4.4,4.4,4.4,4.4,4.4,4.4,4.4,4.4,4.4,4.4,4.4,4.4,4.4,4.4,4.4,3.9,3.9,3.9,3.9,3.9,3.9,3.9,3.9,3.9,3.9,3.9,3.9,3.9,3.9,3.9,3.9,3.9,3.9,3.9,3.9,3.9,3.9,3.9,3.9,3.5,3.5,3.5,3.5,3.5,3.5,3.5,3.5,3.5,3.5,3.5,3.5,3.5,3.5,3.5,3.5,3.5,3.5,3.5,3.5,3.5,3.5,3.5,3.5,4.5,4.5,4.5,4.5,4.5,4.5,4.5,4.5,4.5,4.5,4.5,4.5,4.5,4.5,4.5,4.5,4.5,4.5,4.5,4.5,4.5,4.5,4.5,4.5,4.5,4.5,4.5,4.5,4.5,4.5,4.5,4.5,4.5,4.5,4.5,4.5,4.5,4.5,4.5,4.5,4.5,4.5,4.5,4.5,4.5,4.5,4.5,4.5,4.3,4.3,4.3,4.3,4.3,4.3,4.3,4.3,4.3,4.3,4.3,4.3,4.3,4.3,4.3,4.3,4.3,4.3,4.3,4.3,4.3,4.3,4.3,4.3,4.1,4.1,4.1,4.1,4.1,4.1,4.1,4.1,4.1,4.1,4.1,4.1,4.1,4.1,4.1,4.1,4.1,4.1,4.1,4.1,4.1,4.1,4.1,4.1,4.4,4.4,4.4,4.4,4.4,4.4,4.4,4.4,4.4,4.4,4.4,4.4,4.4,4.4,4.4,4.4,4.4,4.4,4.4,4.4,4.4,4.4,4.4,4.4,4.4,4.4,4.4,4.4,4.4,4.4,4.4,4.4,4.4,4.4,4.4,4.4,4.4,4.4,4.4,4.4,4.4,4.4,4.4,4.4,4.4,4.4,4.4,4.4,4.2,4.2,4.2,4.2,4.2,4.2,4.2,4.2,4.2,4.2,4.2,4.2,4.2,4.2,4.2,4.2,4.2,4.2,4.2,4.2,4.2,4.2,4.2,4.2,3.8,3.8,3.8,3.8,3.8,3.8,3.8,3.8,3.8,3.8,3.8,3.8,3.8,3.8,3.8,3.8,3.8,3.8,3.8,3.8,3.8,3.8,3.8,3.8,4.3,4.3,4.3,4.3,4.3,4.3,4.3,4.3,4.3,4.3,4.3,4.3,4.3,4.3,4.3,4.3,4.3,4.3,4.3,4.3,4.3,4.3,4.3,4.3,4.2,4.2,4.2,4.2,4.2,4.2,4.2,4.2,4.2,4.2,4.2,4.2,4.2,4.2,4.2,4.2,4.2,4.2,4.2,4.2,4.2,4.2,4.2,4.2,3.8,3.8,3.8,3.8,3.8,3.8,3.8,3.8,3.8,3.8,3.8,3.8,3.8,3.8,3.8,3.8,3.8,3.8,3.8,3.8,3.8,3.8,3.8,3.8,4.4,4.4,4.4,4.4,4.4,4.4,4.4,4.4,4.4,4.4,4.4,4.4,4.4,4.4,4.4,4.4,4.4,4.4,4.4,4.4,4.4,4.4,4.4,4.4,4.0,4.0,4.0,4.0,4.0,4.0,4.0,4.0,4.0,4.0,4.0,4.0,4.0,4.0,4.0,4.0,4.0,4.0,4.0,4.0,4.0,4.0,4.0,4.0,4.2,4.2,4.2,4.2,4.2,4.2,4.2,4.2,4.2,4.2,4.2,4.2,4.2,4.2,4.2,4.2,4.2,4.2,4.2,4.2,4.2,4.2,4.2,4.2,4.6,4.6,4.6,4.6,4.6,4.6,4.6,4.6,4.6,4.6,4.6,4.6,4.6,4.6,4.6,4.6,4.6,4.6,4.6,4.6,4.6,4.6,4.6,4.6,4.3,4.3,4.3,4.3,4.3,4.3,4.3,4.3,4.3,4.3,4.3,4.3,4.3,4.3,4.3,4.3,4.3,4.3,4.3,4.3,4.3,4.3,4.3,4.3,4.3,4.3,4.3,4.3,4.3,4.3,4.3,4.3,4.3,4.3,4.3,4.3,4.3,4.3,4.3,4.3,4.3,4.3,4.3,4.3,4.3,4.3,4.3,4.3,4.2,4.2,4.2,4.2,4.2,4.2,4.2,4.2,4.2,4.2,4.2,4.2,4.2,4.2,4.2,4.2,4.2,4.2,4.2,4.2,4.2,4.2,4.2,4.2,4.4,4.4,4.4,4.4,4.4,4.4,4.4,4.4,4.4,4.4,4.4,4.4,4.4,4.4,4.4,4.4,4.4,4.4,4.4,4.4,4.4,4.4,4.4,4.4,4.2,4.2,4.2,4.2,4.2,4.2,4.2,4.2,4.2,4.2,4.2,4.2,4.2,4.2,4.2,4.2,4.2,4.2,4.2,4.2,4.2,4.2,4.2,4.2,4.2,4.2,4.2,4.2,4.2,4.2,4.2,4.2,4.2,4.2,4.2,4.2,4.2,4.2,4.2,4.2,4.2,4.2,4.2,4.2,4.2,4.2,4.2,4.2,4.0,4.0,4.0,4.0,4.0,4.0,4.0,4.0,4.0,4.0,4.0,4.0,4.0,4.0,4.0,4.0,4.0,4.0,4.0,4.0,4.0,4.0,4.0,4.0,4.4,4.4,4.4,4.4,4.4,4.4,4.4,4.4,4.4,4.4,4.4,4.4,4.4,4.4,4.4,4.4,4.4,4.4,4.4,4.4,4.4,4.4,4.4,4.4,4.4,4.4,4.4,4.4,4.4,4.4,4.4,4.4,4.4,4.4,4.4,4.4,4.4,4.4,4.4,4.4,4.4,4.4,4.4,4.4,4.4,4.4,4.4,4.4,4.1,4.1,4.1,4.1,4.1,4.1,4.1,4.1,4.1,4.1,4.1,4.1,4.1,4.1,4.1,4.1,4.1,4.1,4.1,4.1,4.1,4.1,4.1,4.1,4.1,4.1,4.1,4.1,4.1,4.1,4.1,4.1,4.1,4.1,4.1,4.1,4.1,4.1,4.1,4.1,4.1,4.1,4.1,4.1,4.1,4.1,4.1,4.1,4.2,4.2,4.2,4.2,4.2,4.2,4.2,4.2,4.2,4.2,4.2,4.2,4.2,4.2,4.2,4.2,4.2,4.2,4.2,4.2,4.2,4.2,4.2,4.2,3.8,3.8,3.8,3.8,3.8,3.8,3.8,3.8,3.8,3.8,3.8,3.8,3.8,3.8,3.8,3.8,3.8,3.8,3.8,3.8,3.8,3.8,3.9,3.9,3.9,3.9,3.9,3.9,3.9,3.9,3.9,3.9,3.9,3.9,3.9,3.9,3.9,3.9,3.9,3.9,3.9,3.9,3.9,3.9,3.9,3.9,4.1,4.1,4.1,4.1,4.1,4.1,4.1,4.1,4.1,4.1,4.1,4.1,4.1,4.1,4.1,4.1,4.1,4.1,4.1,4.1,4.1,4.1,4.1,4.1,3.9,3.9,3.9,3.9,3.9,3.9,3.9,3.9,3.9,3.9,3.9,3.9,3.9,3.9,3.9,3.9,3.9,3.9,3.9,3.9,3.9,3.9,3.9,4.4,4.4,4.4,4.4,4.4,4.4,4.4,4.4,4.4,4.4,4.4,4.4,4.4,4.4,4.4,4.4,4.4,4.4,4.4,4.4,4.4,4.4,4.4,4.4,4.4,4.4,4.4,4.4,4.4,4.4,4.4,4.4,4.4,4.4,4.4,4.4,4.4,4.4,4.4,4.4,4.4,4.4,4.4,4.4,4.4,4.4,4.4,4.4,4.0,4.0,4.0,4.0,4.0,4.0,4.0,4.0,4.0,4.0,4.0,4.0,4.0,4.0,4.0,4.0,4.0,4.0,4.0,4.0,4.0,4.0,4.0,4.6,4.6,4.6,4.6,4.6,4.6,4.6,4.6,4.6,4.6,4.6,4.6,4.6,4.6,4.6,4.6,4.6,4.6,4.6,4.6,4.6,4.6,4.6,4.6,4.2,4.2,4.2,4.2,4.2,4.2,4.2,4.2,4.2,4.2,4.2,4.2,4.2,4.2,4.2,4.2,4.2,4.2,4.2,4.2,4.2,4.2,4.2,4.2,4.4,4.4,4.4,4.4,4.4,4.4,4.4,4.4,4.4,4.4,4.4,4.4,4.4,4.4,4.4,4.4,4.4,4.4,4.4,4.4,4.4,4.4,4.4,3.6,3.6,3.6,3.6,3.6,3.6,3.6,3.6,3.6,3.6,3.6,3.6,3.6,3.6,3.6,3.6,3.6,3.6,3.6,3.6,3.6,3.6,3.6,3.6,4.7,4.7,4.7,4.7,4.7,4.7,4.7,4.7,4.7,4.7,4.7,4.7,4.7,4.7,4.7,4.7,4.7,4.7,4.7,4.7,4.7,4.7,4.7,4.7,4.4,4.4,4.4,4.4,4.4,4.4,4.4,4.4,4.4,4.4,4.4,4.4,4.4,4.4,4.4,4.4,4.4,4.4,4.4,4.4,4.4,4.4,4.4,4.4,3.9,3.9,3.9,3.9,3.9,3.9,3.9,3.9,3.9,3.9,3.9,3.9,3.9,3.9,3.9,3.9,3.9,3.9,3.9,3.9,3.9,3.9,4.2,4.2,4.2,4.2,4.2,4.2,4.2,4.2,4.2,4.2,4.2,4.2,4.2,4.2,4.2,4.2,4.2,4.2,4.2,4.7,4.7,4.7,4.7,4.7,4.7,4.7,4.7,4.7,4.7,4.7,4.7,4.7,4.7,4.7,4.7,4.7,4.7,4.7,4.7,4.7,4.7,4.7,4.7,3.9,3.9,3.9,3.9,3.9,3.9,3.9,3.9,3.9,3.9,3.9,3.9,3.9,3.9,3.9,3.9,3.9,3.9,3.9,3.9,3.9,3.9,3.9,3.9,4.1,4.1,4.1,4.1,4.1,4.1,4.1,4.1,4.1,4.1,4.1,4.1,4.1,4.1,4.1,4.1,4.1,4.1,4.1,4.1,4.1,4.1,4.1,4.2,4.2,4.2,4.2,4.2,4.2,4.2,4.2,4.2,4.2,4.2,4.2,4.2,4.2,4.2,4.2,4.2,4.2,4.2,4.2,4.2,4.2,4.2,4.2,4.3,4.3,4.3,4.3,4.3,4.3,4.3,4.3,4.3,4.3,4.3,4.3,4.3,4.3,4.3,4.3,4.3,4.3,4.3,4.3,4.3,4.3,4.3,4.3,0.0,0.0,0.0,0.0,0.0,0.0,0.0,0.0,0.0,0.0,0.0,0.0,0.0,0.0,0.0,0.0,0.0,0.0,0.0,0.0,0.0,0.0,0.0,0.0,4.1,4.1,4.1,4.1,4.1,4.1,4.1,4.1,4.1,4.1,4.1,4.1,4.1,4.1,4.1,4.1,4.1,4.1,4.1,4.1,4.1,4.1,4.1,4.1,3.8,3.8,3.8,3.8,3.8,3.8,3.8,3.8,3.8,3.8,3.8,3.8,3.8,3.8,3.8,3.8,3.8,3.8,3.8,3.8,3.8,3.8,3.8,3.8,4.0,4.0,4.0,4.0,4.0,4.0,4.0,4.0,4.0,4.0,4.0,4.0,4.0,4.0,4.0,4.0,4.0,4.0,4.0,4.0,4.0,4.0,4.0,3.7,3.7,3.7,3.7,3.7,3.7,3.7,3.7,3.7,3.7,3.7,3.7,3.7,3.7,3.7,3.7,3.7,3.7,3.7,3.7,3.7,3.7,3.7,4.1,4.1,4.1,4.1,4.1,4.1,4.1,4.1,4.1,4.1,4.1,4.1,4.1,4.1,4.1,4.1,4.1,4.1,4.1,4.1,4.1,4.1,4.1,4.1,3.9,3.9,3.9,3.9,3.9,3.9,3.9,3.9,3.9,3.9,3.9,3.9,3.9,3.9,3.9,3.9,3.9,3.9,3.9,3.9,3.9,3.9,3.9,3.9,4.3,4.3,4.3,4.3,4.3,4.3,4.3,4.3,4.3,4.3,4.3,4.3,4.3,4.3,4.3,4.3,4.3,4.3,4.3,4.3,4.3,4.3,4.3,4.3,4.3,4.3,4.3,4.3,4.3,4.3,4.3,4.3,4.3,4.3,4.3,4.3,4.3,4.3,4.3,4.3,4.3,4.3,4.3,4.3,4.3,4.3,4.3,4.3,4.0,4.0,4.0,4.0,4.0,4.0,4.0,4.0,4.0,4.0,4.0,4.0,4.0,4.0,4.0,4.0,4.0,4.0,4.0,4.0,4.0,4.0,4.0,4.7,4.7,4.7,4.7,4.7,4.7,4.7,4.7,4.7,4.7,4.7,4.7,4.7,4.7,4.7,4.7,4.7,4.7,4.7,4.7,4.7,4.7,4.7,4.7,4.3,4.3,4.3,4.3,4.3,4.3,4.3,4.3,4.3,4.3,4.3,4.3,4.3,4.3,4.3,4.3,4.3,4.3,4.3,4.3,4.3,4.3,4.3,4.3,4.2,4.2,4.2,4.2,4.2,4.2,4.2,4.2,4.2,4.2,4.2,4.2,4.2,4.2,4.2,4.2,4.2,4.2,4.2,4.2,4.2,4.2,4.2,3.7,3.7,3.7,3.7,3.7,3.7,3.7,3.7,3.7,3.7,3.7,3.7,3.7,3.7,3.7,3.7,3.7,3.7,3.7,3.7,3.7,3.7,3.7,3.7,4.7,4.7,4.7,4.7,4.7,4.7,4.7,4.7,4.7,4.7,4.7,4.7,4.7,4.7,4.7,4.7,4.7,4.7,4.7,4.7,4.7,4.7,4.7,4.7,4.7,4.7,4.7,4.7,4.7,4.7,4.7,4.7,4.7,4.7,4.7,4.7,4.7,4.7,4.7,4.7,4.7,4.7,4.7,4.7,4.7,4.7,4.4,4.4,4.4,4.4,4.4,4.4,4.4,4.4,4.4,4.4,4.4,4.4,4.4,4.4,4.4,4.4,4.4,4.4,4.4,4.4,4.4,4.4,4.4],\"type\":\"histogram\",\"xaxis\":\"x3\",\"yaxis\":\"y3\"}],                        {\"template\":{\"data\":{\"bar\":[{\"error_x\":{\"color\":\"#2a3f5f\"},\"error_y\":{\"color\":\"#2a3f5f\"},\"marker\":{\"line\":{\"color\":\"#E5ECF6\",\"width\":0.5},\"pattern\":{\"fillmode\":\"overlay\",\"size\":10,\"solidity\":0.2}},\"type\":\"bar\"}],\"barpolar\":[{\"marker\":{\"line\":{\"color\":\"#E5ECF6\",\"width\":0.5},\"pattern\":{\"fillmode\":\"overlay\",\"size\":10,\"solidity\":0.2}},\"type\":\"barpolar\"}],\"carpet\":[{\"aaxis\":{\"endlinecolor\":\"#2a3f5f\",\"gridcolor\":\"white\",\"linecolor\":\"white\",\"minorgridcolor\":\"white\",\"startlinecolor\":\"#2a3f5f\"},\"baxis\":{\"endlinecolor\":\"#2a3f5f\",\"gridcolor\":\"white\",\"linecolor\":\"white\",\"minorgridcolor\":\"white\",\"startlinecolor\":\"#2a3f5f\"},\"type\":\"carpet\"}],\"choropleth\":[{\"colorbar\":{\"outlinewidth\":0,\"ticks\":\"\"},\"type\":\"choropleth\"}],\"contour\":[{\"colorbar\":{\"outlinewidth\":0,\"ticks\":\"\"},\"colorscale\":[[0.0,\"#0d0887\"],[0.1111111111111111,\"#46039f\"],[0.2222222222222222,\"#7201a8\"],[0.3333333333333333,\"#9c179e\"],[0.4444444444444444,\"#bd3786\"],[0.5555555555555556,\"#d8576b\"],[0.6666666666666666,\"#ed7953\"],[0.7777777777777778,\"#fb9f3a\"],[0.8888888888888888,\"#fdca26\"],[1.0,\"#f0f921\"]],\"type\":\"contour\"}],\"contourcarpet\":[{\"colorbar\":{\"outlinewidth\":0,\"ticks\":\"\"},\"type\":\"contourcarpet\"}],\"heatmap\":[{\"colorbar\":{\"outlinewidth\":0,\"ticks\":\"\"},\"colorscale\":[[0.0,\"#0d0887\"],[0.1111111111111111,\"#46039f\"],[0.2222222222222222,\"#7201a8\"],[0.3333333333333333,\"#9c179e\"],[0.4444444444444444,\"#bd3786\"],[0.5555555555555556,\"#d8576b\"],[0.6666666666666666,\"#ed7953\"],[0.7777777777777778,\"#fb9f3a\"],[0.8888888888888888,\"#fdca26\"],[1.0,\"#f0f921\"]],\"type\":\"heatmap\"}],\"heatmapgl\":[{\"colorbar\":{\"outlinewidth\":0,\"ticks\":\"\"},\"colorscale\":[[0.0,\"#0d0887\"],[0.1111111111111111,\"#46039f\"],[0.2222222222222222,\"#7201a8\"],[0.3333333333333333,\"#9c179e\"],[0.4444444444444444,\"#bd3786\"],[0.5555555555555556,\"#d8576b\"],[0.6666666666666666,\"#ed7953\"],[0.7777777777777778,\"#fb9f3a\"],[0.8888888888888888,\"#fdca26\"],[1.0,\"#f0f921\"]],\"type\":\"heatmapgl\"}],\"histogram\":[{\"marker\":{\"pattern\":{\"fillmode\":\"overlay\",\"size\":10,\"solidity\":0.2}},\"type\":\"histogram\"}],\"histogram2d\":[{\"colorbar\":{\"outlinewidth\":0,\"ticks\":\"\"},\"colorscale\":[[0.0,\"#0d0887\"],[0.1111111111111111,\"#46039f\"],[0.2222222222222222,\"#7201a8\"],[0.3333333333333333,\"#9c179e\"],[0.4444444444444444,\"#bd3786\"],[0.5555555555555556,\"#d8576b\"],[0.6666666666666666,\"#ed7953\"],[0.7777777777777778,\"#fb9f3a\"],[0.8888888888888888,\"#fdca26\"],[1.0,\"#f0f921\"]],\"type\":\"histogram2d\"}],\"histogram2dcontour\":[{\"colorbar\":{\"outlinewidth\":0,\"ticks\":\"\"},\"colorscale\":[[0.0,\"#0d0887\"],[0.1111111111111111,\"#46039f\"],[0.2222222222222222,\"#7201a8\"],[0.3333333333333333,\"#9c179e\"],[0.4444444444444444,\"#bd3786\"],[0.5555555555555556,\"#d8576b\"],[0.6666666666666666,\"#ed7953\"],[0.7777777777777778,\"#fb9f3a\"],[0.8888888888888888,\"#fdca26\"],[1.0,\"#f0f921\"]],\"type\":\"histogram2dcontour\"}],\"mesh3d\":[{\"colorbar\":{\"outlinewidth\":0,\"ticks\":\"\"},\"type\":\"mesh3d\"}],\"parcoords\":[{\"line\":{\"colorbar\":{\"outlinewidth\":0,\"ticks\":\"\"}},\"type\":\"parcoords\"}],\"pie\":[{\"automargin\":true,\"type\":\"pie\"}],\"scatter\":[{\"marker\":{\"colorbar\":{\"outlinewidth\":0,\"ticks\":\"\"}},\"type\":\"scatter\"}],\"scatter3d\":[{\"line\":{\"colorbar\":{\"outlinewidth\":0,\"ticks\":\"\"}},\"marker\":{\"colorbar\":{\"outlinewidth\":0,\"ticks\":\"\"}},\"type\":\"scatter3d\"}],\"scattercarpet\":[{\"marker\":{\"colorbar\":{\"outlinewidth\":0,\"ticks\":\"\"}},\"type\":\"scattercarpet\"}],\"scattergeo\":[{\"marker\":{\"colorbar\":{\"outlinewidth\":0,\"ticks\":\"\"}},\"type\":\"scattergeo\"}],\"scattergl\":[{\"marker\":{\"colorbar\":{\"outlinewidth\":0,\"ticks\":\"\"}},\"type\":\"scattergl\"}],\"scattermapbox\":[{\"marker\":{\"colorbar\":{\"outlinewidth\":0,\"ticks\":\"\"}},\"type\":\"scattermapbox\"}],\"scatterpolar\":[{\"marker\":{\"colorbar\":{\"outlinewidth\":0,\"ticks\":\"\"}},\"type\":\"scatterpolar\"}],\"scatterpolargl\":[{\"marker\":{\"colorbar\":{\"outlinewidth\":0,\"ticks\":\"\"}},\"type\":\"scatterpolargl\"}],\"scatterternary\":[{\"marker\":{\"colorbar\":{\"outlinewidth\":0,\"ticks\":\"\"}},\"type\":\"scatterternary\"}],\"surface\":[{\"colorbar\":{\"outlinewidth\":0,\"ticks\":\"\"},\"colorscale\":[[0.0,\"#0d0887\"],[0.1111111111111111,\"#46039f\"],[0.2222222222222222,\"#7201a8\"],[0.3333333333333333,\"#9c179e\"],[0.4444444444444444,\"#bd3786\"],[0.5555555555555556,\"#d8576b\"],[0.6666666666666666,\"#ed7953\"],[0.7777777777777778,\"#fb9f3a\"],[0.8888888888888888,\"#fdca26\"],[1.0,\"#f0f921\"]],\"type\":\"surface\"}],\"table\":[{\"cells\":{\"fill\":{\"color\":\"#EBF0F8\"},\"line\":{\"color\":\"white\"}},\"header\":{\"fill\":{\"color\":\"#C8D4E3\"},\"line\":{\"color\":\"white\"}},\"type\":\"table\"}]},\"layout\":{\"annotationdefaults\":{\"arrowcolor\":\"#2a3f5f\",\"arrowhead\":0,\"arrowwidth\":1},\"autotypenumbers\":\"strict\",\"coloraxis\":{\"colorbar\":{\"outlinewidth\":0,\"ticks\":\"\"}},\"colorscale\":{\"diverging\":[[0,\"#8e0152\"],[0.1,\"#c51b7d\"],[0.2,\"#de77ae\"],[0.3,\"#f1b6da\"],[0.4,\"#fde0ef\"],[0.5,\"#f7f7f7\"],[0.6,\"#e6f5d0\"],[0.7,\"#b8e186\"],[0.8,\"#7fbc41\"],[0.9,\"#4d9221\"],[1,\"#276419\"]],\"sequential\":[[0.0,\"#0d0887\"],[0.1111111111111111,\"#46039f\"],[0.2222222222222222,\"#7201a8\"],[0.3333333333333333,\"#9c179e\"],[0.4444444444444444,\"#bd3786\"],[0.5555555555555556,\"#d8576b\"],[0.6666666666666666,\"#ed7953\"],[0.7777777777777778,\"#fb9f3a\"],[0.8888888888888888,\"#fdca26\"],[1.0,\"#f0f921\"]],\"sequentialminus\":[[0.0,\"#0d0887\"],[0.1111111111111111,\"#46039f\"],[0.2222222222222222,\"#7201a8\"],[0.3333333333333333,\"#9c179e\"],[0.4444444444444444,\"#bd3786\"],[0.5555555555555556,\"#d8576b\"],[0.6666666666666666,\"#ed7953\"],[0.7777777777777778,\"#fb9f3a\"],[0.8888888888888888,\"#fdca26\"],[1.0,\"#f0f921\"]]},\"colorway\":[\"#636efa\",\"#EF553B\",\"#00cc96\",\"#ab63fa\",\"#FFA15A\",\"#19d3f3\",\"#FF6692\",\"#B6E880\",\"#FF97FF\",\"#FECB52\"],\"font\":{\"color\":\"#2a3f5f\"},\"geo\":{\"bgcolor\":\"white\",\"lakecolor\":\"white\",\"landcolor\":\"#E5ECF6\",\"showlakes\":true,\"showland\":true,\"subunitcolor\":\"white\"},\"hoverlabel\":{\"align\":\"left\"},\"hovermode\":\"closest\",\"mapbox\":{\"style\":\"light\"},\"paper_bgcolor\":\"white\",\"plot_bgcolor\":\"#E5ECF6\",\"polar\":{\"angularaxis\":{\"gridcolor\":\"white\",\"linecolor\":\"white\",\"ticks\":\"\"},\"bgcolor\":\"#E5ECF6\",\"radialaxis\":{\"gridcolor\":\"white\",\"linecolor\":\"white\",\"ticks\":\"\"}},\"scene\":{\"xaxis\":{\"backgroundcolor\":\"#E5ECF6\",\"gridcolor\":\"white\",\"gridwidth\":2,\"linecolor\":\"white\",\"showbackground\":true,\"ticks\":\"\",\"zerolinecolor\":\"white\"},\"yaxis\":{\"backgroundcolor\":\"#E5ECF6\",\"gridcolor\":\"white\",\"gridwidth\":2,\"linecolor\":\"white\",\"showbackground\":true,\"ticks\":\"\",\"zerolinecolor\":\"white\"},\"zaxis\":{\"backgroundcolor\":\"#E5ECF6\",\"gridcolor\":\"white\",\"gridwidth\":2,\"linecolor\":\"white\",\"showbackground\":true,\"ticks\":\"\",\"zerolinecolor\":\"white\"}},\"shapedefaults\":{\"line\":{\"color\":\"#2a3f5f\"}},\"ternary\":{\"aaxis\":{\"gridcolor\":\"white\",\"linecolor\":\"white\",\"ticks\":\"\"},\"baxis\":{\"gridcolor\":\"white\",\"linecolor\":\"white\",\"ticks\":\"\"},\"bgcolor\":\"#E5ECF6\",\"caxis\":{\"gridcolor\":\"white\",\"linecolor\":\"white\",\"ticks\":\"\"}},\"title\":{\"x\":0.05},\"xaxis\":{\"automargin\":true,\"gridcolor\":\"white\",\"linecolor\":\"white\",\"ticks\":\"\",\"title\":{\"standoff\":15},\"zerolinecolor\":\"white\",\"zerolinewidth\":2},\"yaxis\":{\"automargin\":true,\"gridcolor\":\"white\",\"linecolor\":\"white\",\"ticks\":\"\",\"title\":{\"standoff\":15},\"zerolinecolor\":\"white\",\"zerolinewidth\":2}}},\"xaxis\":{\"anchor\":\"y\",\"domain\":[0.0,0.26666666666666666],\"title\":{\"text\":\"Product Frequency\"}},\"yaxis\":{\"anchor\":\"x\",\"domain\":[0.0,1.0],\"title\":{\"text\":\"Price (\\u00a3)\"}},\"xaxis2\":{\"anchor\":\"y2\",\"domain\":[0.3666666666666667,0.6333333333333333],\"title\":{\"text\":\"Rating Stars\"}},\"yaxis2\":{\"anchor\":\"x2\",\"domain\":[0.0,1.0],\"title\":{\"text\":\"Rating Frequency\"}},\"xaxis3\":{\"anchor\":\"y3\",\"domain\":[0.7333333333333334,1.0],\"title\":{\"text\":\"Rating Score\"}},\"yaxis3\":{\"anchor\":\"x3\",\"domain\":[0.0,1.0],\"title\":{\"text\":\"Rating Frequency\"}},\"annotations\":[{\"font\":{\"size\":16},\"showarrow\":false,\"text\":\"Price\",\"x\":0.13333333333333333,\"xanchor\":\"center\",\"xref\":\"paper\",\"y\":1.0,\"yanchor\":\"bottom\",\"yref\":\"paper\"},{\"font\":{\"size\":16},\"showarrow\":false,\"text\":\"Rating Stars\",\"x\":0.5,\"xanchor\":\"center\",\"xref\":\"paper\",\"y\":1.0,\"yanchor\":\"bottom\",\"yref\":\"paper\"},{\"font\":{\"size\":16},\"showarrow\":false,\"text\":\"Rating\",\"x\":0.8666666666666667,\"xanchor\":\"center\",\"xref\":\"paper\",\"y\":1.0,\"yanchor\":\"bottom\",\"yref\":\"paper\"}],\"title\":{\"text\":\"Rating Stuff\",\"x\":0.5},\"font\":{\"family\":\"Century Gothic\",\"size\":18}},                        {\"responsive\": true}                    ).then(function(){\n",
              "                            \n",
              "var gd = document.getElementById('176e3786-dd11-4b68-b8cb-fd64d801cbd8');\n",
              "var x = new MutationObserver(function (mutations, observer) {{\n",
              "        var display = window.getComputedStyle(gd).display;\n",
              "        if (!display || display === 'none') {{\n",
              "            console.log([gd, 'removed!']);\n",
              "            Plotly.purge(gd);\n",
              "            observer.disconnect();\n",
              "        }}\n",
              "}});\n",
              "\n",
              "// Listen for the removal of the full notebook cells\n",
              "var notebookContainer = gd.closest('#notebook-container');\n",
              "if (notebookContainer) {{\n",
              "    x.observe(notebookContainer, {childList: true});\n",
              "}}\n",
              "\n",
              "// Listen for the clearing of the current output cell\n",
              "var outputEl = gd.closest('.output');\n",
              "if (outputEl) {{\n",
              "    x.observe(outputEl, {childList: true});\n",
              "}}\n",
              "\n",
              "                        })                };                            </script>        </div>\n",
              "</body>\n",
              "</html>"
            ]
          },
          "metadata": {}
        }
      ],
      "source": [
        "# histograms of continuous features\n",
        "fig = make_subplots(rows=1, cols=3, subplot_titles=(\"Price\", \"Rating Stars\", \"Rating\"),horizontal_spacing = 0.1)\n",
        "\n",
        "\n",
        "fig.add_trace(\n",
        "    go.Histogram(\n",
        "        x=df[\"Price\"],\n",
        "        name=\"Price\",\n",
        "        hovertemplate=\"<i>Price</i>: £%{y:.2f}\"\n",
        "        \"<br><b>Product Quantity Range:</b>: %{x}<br>\",\n",
        "    ),\n",
        "    row=1,\n",
        "    col=1\n",
        ")\n",
        "\n",
        "fig.add_trace(\n",
        "    go.Histogram(\n",
        "        x=df[\"Rating_Stars\"],\n",
        "        name=\"Rating Stars\",\n",
        "        hovertemplate=\"<i>Rating Stars</i>: %{y}\" \"<br><b>Products:</b>: %{x}<br>\",\n",
        "    ),\n",
        "    row=1,\n",
        "    col=2,\n",
        ")\n",
        "\n",
        "fig.add_trace(\n",
        "    go.Histogram(\n",
        "        x=df[\"Rating\"],\n",
        "        name=\"Rating\",\n",
        "        hovertemplate=\"<i>Rating</i>: %{x}\"\n",
        "        \"<br><b>Product Quantity Range:</b>: %{y}<br>\",\n",
        "    ),\n",
        "    row=1,\n",
        "    col=3,\n",
        ")\n",
        "\n",
        "# edit axis labels\n",
        "fig['layout']['xaxis']['title']='Product Frequency'\n",
        "fig['layout']['xaxis2']['title']='Rating Stars'\n",
        "fig['layout']['xaxis3']['title']='Rating Score'\n",
        "fig['layout']['yaxis']['title']='Price (£)'\n",
        "fig['layout']['yaxis2']['title']='Rating Frequency'\n",
        "fig['layout']['yaxis3']['title']='Rating Frequency'\n",
        "\n",
        "\n",
        "fig.update_layout(title=dict(text=\"Rating Stuff\", x = 0.5),\n",
        "                  font=dict(\n",
        "                    family=\"Century Gothic\",\n",
        "                    size=18\n",
        "                ))\n",
        "fig.show()\n"
      ]
    },
    {
      "cell_type": "markdown",
      "metadata": {
        "id": "tWkGj1zA-YoC"
      },
      "source": [
        "The previous check didn't detect any missing values even though there are some, but in a different format of string that says no data/no info"
      ]
    },
    {
      "cell_type": "code",
      "source": [
        "# plot rating frequency of all movies\n",
        "ax = df \\\n",
        "    .sort_values('count', ascending=False) \\\n",
        "    .reset_index(drop=True) \\\n",
        "    .plot(\n",
        "        figsize=(12, 8),\n",
        "        title='Rating Frequency of All products',\n",
        "        fontsize=12\n",
        "    )\n",
        "ax.set_xlabel(\"Product ID\")\n",
        "ax.set_ylabel(\"number of ratings\")\n"
      ],
      "metadata": {
        "colab": {
          "base_uri": "https://localhost:8080/",
          "height": 533
        },
        "id": "aJcnnMdRUJHU",
        "outputId": "769f5451-3c67-4282-b4d6-9e466b3728b4"
      },
      "execution_count": null,
      "outputs": [
        {
          "output_type": "execute_result",
          "data": {
            "text/plain": [
              "Text(0, 0.5, 'number of ratings')"
            ]
          },
          "metadata": {},
          "execution_count": 23
        },
        {
          "output_type": "display_data",
          "data": {
            "text/plain": [
              "<Figure size 864x576 with 1 Axes>"
            ],
            "image/png": "[encoded data removed]"
          },
          "metadata": {
            "needs_background": "light"
          }
        }
      ]
    },
    {
      "cell_type": "code",
      "execution_count": null,
      "metadata": {
        "colab": {
          "base_uri": "https://localhost:8080/"
        },
        "id": "c8-z3yHQ-h0y",
        "outputId": "3c4204b3-5677-43a4-c629-0a751ea50614"
      },
      "outputs": [
        {
          "output_type": "stream",
          "name": "stdout",
          "text": [
            "Skin_Tone\n",
            "No data      2102\n",
            "Light        1888\n",
            "Fair         1453\n",
            "Medium       1447\n",
            "Olive         463\n",
            "Tan           430\n",
            "Porcelain     426\n",
            "Deep          240\n",
            "Dark          158\n",
            "Ebony          42\n",
            "dtype: int64\n",
            "\t\n",
            "Skin_Type\n",
            "Combination    3567\n",
            "No data        2106\n",
            "Dry            1223\n",
            "Oily            961\n",
            "Normal          792\n",
            "dtype: int64\n",
            "\t\n",
            "Eye_Color\n",
            "Brown      3529\n",
            "No data    2085\n",
            "Blue       1263\n",
            "Hazel       921\n",
            "Green       803\n",
            "Gray         48\n",
            "dtype: int64\n",
            "\t\n",
            "Hair_Color\n",
            "Brunette    3182\n",
            "No data     2092\n",
            "Blonde      1461\n",
            "Black       1459\n",
            "Auburn       220\n",
            "Red          187\n",
            "Gray          48\n",
            "dtype: int64\n",
            "\t\n",
            "Ingredients\n",
            "No Info                                                                                                                                                                                                                                                                                                                                                                                                                                                                                                                                                                                                                                                                                                                                                                                                                                                                                                                                                                                                                                                                                                                                                                                                                                                                                                                                                                                                                                                                                                                                                                                                                                                                                                                                                                                                                                                                                                                                                                                                                                                                                                                                                                                                                                                                                                                                     210\n",
            "Visit the Shiseido boutique                                                                                                                                                                                                                                                                                                                                                                                                                                                                                                                                                                                                                                                                                                                                                                                                                                                                                                                                                                                                                                                                                                                                                                                                                                                                                                                                                                                                                                                                                                                                                                                                                                                                                                                                                                                                                                                                                                                                                                                                                                                                                                                                                                                                                                                                                                                  96\n",
            "Visit the SEPHORA COLLECTION boutique                                                                                                                                                                                                                                                                                                                                                                                                                                                                                                                                                                                                                                                                                                                                                                                                                                                                                                                                                                                                                                                                                                                                                                                                                                                                                                                                                                                                                                                                                                                                                                                                                                                                                                                                                                                                                                                                                                                                                                                                                                                                                                                                                                                                                                                                                                        94\n",
            "Water, Alcohol*, Citrus Aurantium Amara (Bitter Orange) Flower Water*, Parfum (Fragrance)*, Rosmarinus Officinalis (Rosemary) Leaf Oil*, Potassium Alum, Glycerin*, Mentha Piperita (Peppermint) Oil*, Styrax Tonkinensis Resin Extract*, Commiphora Myrrha Resin Extract*, Melissa Officinalis (Balm Mint) Leaf Oil*, Rosa Damascena Flower Oil*, Vitis Vinifera (Grape) Fruit Extract*, Tocopherol*, Citral*, Limonene*, Linalool*, Citronellol*, Geraniol*, Farnesol*, Benzyl Benzoate*, Eugenol*. *Plant origin.                                                                                                                                                                                                                                                                                                                                                                                                                                                                                                                                                                                                                                                                                                                                                                                                                                                                                                                                                                                                                                                                                                                                                                                                                                                                                                                                                                                                                                                                                                                                                                                                                                                                                                                                                                                                                         72\n",
            "Water, Dipropylene Glycol, Peg-7 Glyceryl Cocoate, Methylparaben, Phenoxyethanol, Stearamidopropyl Dimethylamine, Lactic Acid, Arginine, Butylene Glycol, Artemisia Princeps Leaf Extract, Rosmarinus Officinalis (Rosemary) Leaf Extract, Lavandula Angustifolia (Lavender) Extract, Salvia Officinalis (Sage) Leaf Extract, Perilla Ocymoides Leaf Extract, Betula Alba Juice, Zingiber Officinale (Ginger) Root Extract, Glycerin.                                                                                                                                                                                                                                                                                                                                                                                                                                                                                                                                                                                                                                                                                                                                                                                                                                                                                                                                                                                                                                                                                                                                                                                                                                                                                                                                                                                                                                                                                                                                                                                                                                                                                                                                                                                                                                                                                                        72\n",
            "                                                                                                                                                                                                                                                                                                                                                                                                                                                                                                                                                                                                                                                                                                                                                                                                                                                                                                                                                                                                                                                                                                                                                                                                                                                                                                                                                                                                                                                                                                                                                                                                                                                                                                                                                                                                                                                                                                                                                                                                                                                                                                                                                                                                                                                                                                                                           ... \n",
            "Water, Cetearyl Isononanoate*, Butylene Glycol, Glycerin*, Cetyl Alcohol*, Prunus Amygdalus Dulcis (Sweet Almond) Oil*, Simmondsia Chinensis (Jojoba) Seed Oil*, Sodium Cocoyl Glutamate*, Decyl Glucoside*, Butyrospermum Parkii (Shea) Butter Extract*, Maltodextrin*, Carbomer, Potassium Cetyl Phosphate, Caprylyl Glycol, Hydrolyzed Vegetable Protein*, Acrylates/C10-30 Alkyl Acrylate Crosspolymer, Potassium Sorbate, Sodium Hydroxide, Trehalose*, Tocopherol*, Fragrance, Avena Sativa (Oat) Kernel Extract*, Centaurea Cyanus Flower Extract*, Palmitoyl Grape Seed Extract*, Hexyl Cinnamal, Linalool, Limonene. *Plant origin.                                                                                                                                                                                                                                                                                                                                                                                                                                                                                                                                                                                                                                                                                                                                                                                                                                                                                                                                                                                                                                                                                                                                                                                                                                                                                                                                                                                                                                                                                                                                                                                                                                                                                                 23\n",
            "Cyclopentasiloxane, Water, Dimethicone/Vinyl Dimethicone Crosspolymer, Peg/Ppg-18/18 Dimethicone, Isododecane, Silica, Propanediol, Dimethicone, Lauryl Peg/Ppg-18/18 Methicone, Polysilicone-11, Peg-10 Dimethicone, Magnesium Aluminum Silicate, Sodium Chloride, Polyglyceryl-4 Isostearate, Butylene Glycol, Decyl Glucoside, Cetyl Peg/Ppg-10/1 Dimethicone, Disteardimonium Hectorite, Methicone, Hexyl Laurate, Melaleuca Alternifolia (Tea Tree) Leaf Water, Zinc Oxide, Rubus Idaeus (Raspberry) Fruit Extract, Gentiana Lutea Root Extract, Saccharum Officinarum (Sugar Cane) Extract, Lithospermum Erythrorhizon Root Extract, Colloidal Oatmeal, Sodium Hyaluronate, Caprylic/Capric Triglyceride, Glycolic Acid, Salicylic Acid, Allyl Methacrylates Crosspolymer, Kaolin, Hydrolyzed Collagen, Hydrolyzed Silk, Acetyl Octapeptide-3, Acetyl Hexapeptide-8, Sulfur, Retinyl Palmitate, Ascorbyl Palmitate, Tocopheryl Acetate, Glycerin, Caprylyl Glycol, Beta-Glucan, Camellia Sinensis Leaf Extract, Aloe Barbadensis Leaf Extract, Cucumis Sativus (Cucumber) Fruit Extract, Glycyrrhiza Glabra (Licorice) Root Extract, Chamomilla Recutita (Matricaria) Flower Extract, Hamamelis Virginiana (Witch Hazel) Leaf Extract, Calendula Officinalis Flower Extract, Salix Alba (Willow) Bark Extract, Mentha Viridis (Spearmint) Leaf Extract, Curcuma Longa (Turmeric) Root Extract, C12-15 Alkyl Benzoate, Tribehenin, Ceramide Ng, Peg-10 Rapeseed Sterol, Palmitoyl Hexapeptide-12, Steareth-20, N-Hydroxysuccinimide, Chrysin, Palmitoyl Tripeptide-1, Palmitoyl Tetrapeptide-7, Magnolia Acuminata Bark Extract, Chrysanthemum Parthenium (Feverfew) Extract, Agaricus Bisporus Extract, Potassium Sorbate, Phenoxyethanol, Ethylhexylglycerin, [+/-: Titanium Dioxide (Ci 77891), Iron Oxides (Ci 77492, Ci 77491, Ci 77499)].                                                                                                                                                                                                                                                                                                                                                                                                                                                                                         22\n",
            "Water, Glycerin, Propanediol, Chondrus Crispus (Red Algae) Extract, Alcohol, Methyl Gluceth-¬‐20, Polyglyceryl-¬‐10 Eicosanedioate/Tetradecanedioate, Camellia Sinensis Leaf (Green Tea) Extract, Gold, Algae Extract, Sodium Hyaluronate, Carrageenan (Red Algae Origin), Lycium Barbarum Fruit Extract, Stearyl Glycyrrhetinate (Licorice Extract), Inositol (Rice Extract), Royal Jelly Extract, Sericin (Silk Extract), Squalane (Olive Derived), Chamomilla Recutita (Matricaria) Flower Extract, Hydrogenated Lecithin (Soy Derived), Xanthan Gum, Hydroxyethylcellulose, Silica, Sodium Dilauramidoglutamide Lysine, Titanium Dioxide, Synthetic Fluorphlogopite, Polyglyceryl-¬‐10 Myristate, Disodium Edta, Hdi/Trimethylol Hexyllactone Crosspolymer, Ethylhexylglycerin, Fragrance (Natural), Phenoxyethanol.                                                                                                                                                                                                                                                                                                                                                                                                                                                                                                                                                                                                                                                                                                                                                                                                                                                                                                                                                                                                                                                                                                                                                                                                                                                                                                                                                                                                                                                                                                                     22\n",
            "Water , Alcohol Denat. , Salicylic Acid , Hamamelis Virginiana (Witch Hazel) , Butylene Glycol , Glycerin , Trehalose , Sodium Hyaluronate , Citric Acid , Sodium Hydroxide , Disodium Edta , Bht , Phenoxyethanol , Benzophenone-4 , Ext. Violet 2 (Ci 60730) , Red 6 (Ci 15850) , Orange 4 (Ci 15510)                                                                                                                                                                                                                                                                                                                                                                                                                                                                                                                                                                                                                                                                                                                                                                                                                                                                                                                                                                                                                                                                                                                                                                                                                                                                                                                                                                                                                                                                                                                                                                                                                                                                                                                                                                                                                                                                                                                                                                                                                                      21\n",
            "Declustered Water (-)/Aqua/Eau De-Structuree (-), Declustered Water (+)/Aqua/Eau De-Structuree (+), Butylene Glycol, Glycerin, Algae (Seaweed) Extract, Bis-Peg-12 Dimethicone, Hydrogenated Lecithin, Caprylic/Capric Triglyceride, Sucrose, Limnanthes Alba (Meadowfoam) Seed Oil, Sesamum Indicum (Sesame) Seed Oil, Medicago Sativa (Alfalfa) Seed Powder, Helianthus Annuus (Sunflower) Seedcake, Prunus Amygdalus Dulcis (Sweet Almond) Seed Meal, Eucalyptus Globulus (Eucalyptus) Leaf Oil, Sodium Gluconate, Copper Gluconate, Calcium Gluconate, Magnesium Gluconate, Zinc Gluconate, Tocopheryl Succinate, Niacin, Sesamum Indicum (Sesame) Seed Powder, Citrus Aurantifolia (Lime) Peel Extract, Commiphora Mukul Resin Extract, Codium Tomentosum Extract, Polygonum Cuspidatum Root Extract, Vitis Vinifera (Grape) Seed Extract, Humulus Lupulus (Hops) Extract, Citrus Reticulata (Tangerine) Peel Extract, Asparagopsis Armata Extract, Salicornia Herbacea Extract, Alcaligenes Polysaccharides, Glucose, Porphyridium Cruentum Extract, Sigesbeckia Orientalis (St. Paul'S Wort) Extract, Squalane, Cholesterol, Caffeine, Undaria Pinnatifida Extract, Ascophyllum Nodosum Extract, Laminaria Digitata Extract, Sea Salt/Maris Sal/Sel Marin, Castanea Sativa (Chestnut) Seed Extract, Plankton Extract, Glycine Soja (Soybean) Seed Extract, Acetyl Hexapeptide-8, Trehalose, Lactoperoxidase, Dimethicone, Lecithin, Dipotassium Glycyrrhizate, Glycine Soja (Soybean) Protein, Rosmarinus Officinalis (Rosemary) Leaf Extract, Punica Granatum (Pomegranate) Fruit Juice, Glucose Oxidase, Linolenic Acid, Hydrolyzed Rice Extract, Laminaria Saccharina Extract, Yeast Extract/Faex/Extrait De Levure, Acetyl Glucosamine, Bisabolol, Glycosaminoglycans, Ethylhexylglycerin, Sodium Pca, Tourmaline, Linoleic Acid, Sorbitol, Urea, Tocopheryl Acetate, Pentylene Glycol, Sodium Hyaluronate, Polyquaternium-51, Ethylbisiminomethylguaiacol Manganese Chloride, Hydroxypropyl Cyclodextrin, Magnesium Ascorbyl Phosphate, Nordihydroguaiaretic Acid, Sodium Hydroxide, Alcohol Denat., Carbomer, Xanthan Gum, Potassium Sorbate, Fragrance, Disodium Edta, Bht, Phenoxyethanol, Amyl Cinnamal, Hexyl Cinnamal, Benzyl Benzoate, Citronellol, Limonene, Coumarin, Linalool, Blue 1 (Ci 42090), Red 4 (Ci 14700)     19\n",
            "Length: 299, dtype: int64\n"
          ]
        }
      ],
      "source": [
        "print(df.value_counts('Skin_Tone', ascending=False))\n",
        "print('\\t')\n",
        "print(df.value_counts('Skin_Type', ascending=False))\n",
        "print('\\t')\n",
        "print(df.value_counts('Eye_Color', ascending=False))\n",
        "print('\\t')\n",
        "print(df.value_counts('Hair_Color', ascending=False))\n",
        "print('\\t')\n",
        "print(df.value_counts('Ingredients', ascending=False))"
      ]
    },
    {
      "cell_type": "code",
      "execution_count": null,
      "metadata": {
        "colab": {
          "base_uri": "https://localhost:8080/",
          "height": 834
        },
        "id": "apx511f-Lj5t",
        "outputId": "020c353f-2448-4abf-fc55-139fb88a3589"
      },
      "outputs": [
        {
          "output_type": "stream",
          "name": "stdout",
          "text": [
            "['No data', 'Light', 'Fair', 'Medium', 'Olive', 'Tan', 'Porcelain', 'Deep', 'Dark', 'Ebony']\n"
          ]
        },
        {
          "output_type": "display_data",
          "data": {
            "text/html": [
              "<html>\n",
              "<head><meta charset=\"utf-8\" /></head>\n",
              "<body>\n",
              "    <div>            <script src=\"https://cdnjs.cloudflare.com/ajax/libs/mathjax/2.7.5/MathJax.js?config=TeX-AMS-MML_SVG\"></script><script type=\"text/javascript\">if (window.MathJax) {MathJax.Hub.Config({SVG: {font: \"STIX-Web\"}});}</script>                <script type=\"text/javascript\">window.PlotlyConfig = {MathJaxConfig: 'local'};</script>\n",
              "        <script src=\"https://cdn.plot.ly/plotly-2.8.3.min.js\"></script>                <div id=\"4faa293a-415e-41b7-ae38-77bad66f9a9d\" class=\"plotly-graph-div\" style=\"height:800px; width:1000px;\"></div>            <script type=\"text/javascript\">                                    window.PLOTLYENV=window.PLOTLYENV || {};                                    if (document.getElementById(\"4faa293a-415e-41b7-ae38-77bad66f9a9d\")) {                    Plotly.newPlot(                        \"4faa293a-415e-41b7-ae38-77bad66f9a9d\",                        [{\"hole\":0.4,\"hovertemplate\":\"%{label} <br><b>Population</b>&nbsp; %{value:,}\",\"labels\":[\"No data\",\"Light\",\"Fair\",\"Medium\",\"Olive\",\"Tan\",\"Porcelain\",\"Deep\",\"Dark\",\"Ebony\"],\"marker\":{\"colors\":[\"Red\",\"#F0DDD7\",\"#F3CFBB\",\"#c08e62\",\"#C68642\",\"#D2B48C\",\"#F0DDD7\",\"#9c7248\",\"#000000\",\"#7c501a\"]},\"name\":\"Skin Tone\",\"title\":{\"text\":\"Skin Tone\"},\"values\":[2102,1888,1453,1447,463,430,426,240,158,42],\"type\":\"pie\",\"domain\":{\"x\":[0.0,0.45],\"y\":[0.575,1.0]}},{\"hole\":0.4,\"hovertemplate\":\"%{label} <br><b>Population</b>&nbsp; %{value:,}\",\"labels\":[\"Combination\",\"No data\",\"Dry\",\"Oily\",\"Normal\"],\"name\":\"Skin Type\",\"title\":{\"text\":\"Skin Type\"},\"values\":[3567,2106,1223,961,792],\"type\":\"pie\",\"domain\":{\"x\":[0.55,1.0],\"y\":[0.575,1.0]}},{\"hole\":0.4,\"hovertemplate\":\"%{label} <br><b>Population</b>&nbsp; %{value:,}\",\"labels\":[\"Brown\",\"No data\",\"Blue\",\"Hazel\",\"Green\",\"Gray\"],\"name\":\"Eye Colour\",\"title\":{\"text\":\"Eye Colour\"},\"values\":[3529,2085,1263,921,803,48],\"type\":\"pie\",\"domain\":{\"x\":[0.0,0.45],\"y\":[0.0,0.425]}},{\"hole\":0.4,\"hovertemplate\":\"%{label} <br><b>Population</b>&nbsp; %{value:,}\",\"labels\":[\"Brunette\",\"No data\",\"Blonde\",\"Black\",\"Auburn\",\"Red\",\"Gray\"],\"name\":\"Hair Colour\",\"title\":{\"text\":\"Hair Colour\"},\"values\":[3182,2092,1461,1459,220,187,48],\"type\":\"pie\",\"domain\":{\"x\":[0.55,1.0],\"y\":[0.0,0.425]}}],                        {\"template\":{\"data\":{\"bar\":[{\"error_x\":{\"color\":\"#2a3f5f\"},\"error_y\":{\"color\":\"#2a3f5f\"},\"marker\":{\"line\":{\"color\":\"#E5ECF6\",\"width\":0.5},\"pattern\":{\"fillmode\":\"overlay\",\"size\":10,\"solidity\":0.2}},\"type\":\"bar\"}],\"barpolar\":[{\"marker\":{\"line\":{\"color\":\"#E5ECF6\",\"width\":0.5},\"pattern\":{\"fillmode\":\"overlay\",\"size\":10,\"solidity\":0.2}},\"type\":\"barpolar\"}],\"carpet\":[{\"aaxis\":{\"endlinecolor\":\"#2a3f5f\",\"gridcolor\":\"white\",\"linecolor\":\"white\",\"minorgridcolor\":\"white\",\"startlinecolor\":\"#2a3f5f\"},\"baxis\":{\"endlinecolor\":\"#2a3f5f\",\"gridcolor\":\"white\",\"linecolor\":\"white\",\"minorgridcolor\":\"white\",\"startlinecolor\":\"#2a3f5f\"},\"type\":\"carpet\"}],\"choropleth\":[{\"colorbar\":{\"outlinewidth\":0,\"ticks\":\"\"},\"type\":\"choropleth\"}],\"contour\":[{\"colorbar\":{\"outlinewidth\":0,\"ticks\":\"\"},\"colorscale\":[[0.0,\"#0d0887\"],[0.1111111111111111,\"#46039f\"],[0.2222222222222222,\"#7201a8\"],[0.3333333333333333,\"#9c179e\"],[0.4444444444444444,\"#bd3786\"],[0.5555555555555556,\"#d8576b\"],[0.6666666666666666,\"#ed7953\"],[0.7777777777777778,\"#fb9f3a\"],[0.8888888888888888,\"#fdca26\"],[1.0,\"#f0f921\"]],\"type\":\"contour\"}],\"contourcarpet\":[{\"colorbar\":{\"outlinewidth\":0,\"ticks\":\"\"},\"type\":\"contourcarpet\"}],\"heatmap\":[{\"colorbar\":{\"outlinewidth\":0,\"ticks\":\"\"},\"colorscale\":[[0.0,\"#0d0887\"],[0.1111111111111111,\"#46039f\"],[0.2222222222222222,\"#7201a8\"],[0.3333333333333333,\"#9c179e\"],[0.4444444444444444,\"#bd3786\"],[0.5555555555555556,\"#d8576b\"],[0.6666666666666666,\"#ed7953\"],[0.7777777777777778,\"#fb9f3a\"],[0.8888888888888888,\"#fdca26\"],[1.0,\"#f0f921\"]],\"type\":\"heatmap\"}],\"heatmapgl\":[{\"colorbar\":{\"outlinewidth\":0,\"ticks\":\"\"},\"colorscale\":[[0.0,\"#0d0887\"],[0.1111111111111111,\"#46039f\"],[0.2222222222222222,\"#7201a8\"],[0.3333333333333333,\"#9c179e\"],[0.4444444444444444,\"#bd3786\"],[0.5555555555555556,\"#d8576b\"],[0.6666666666666666,\"#ed7953\"],[0.7777777777777778,\"#fb9f3a\"],[0.8888888888888888,\"#fdca26\"],[1.0,\"#f0f921\"]],\"type\":\"heatmapgl\"}],\"histogram\":[{\"marker\":{\"pattern\":{\"fillmode\":\"overlay\",\"size\":10,\"solidity\":0.2}},\"type\":\"histogram\"}],\"histogram2d\":[{\"colorbar\":{\"outlinewidth\":0,\"ticks\":\"\"},\"colorscale\":[[0.0,\"#0d0887\"],[0.1111111111111111,\"#46039f\"],[0.2222222222222222,\"#7201a8\"],[0.3333333333333333,\"#9c179e\"],[0.4444444444444444,\"#bd3786\"],[0.5555555555555556,\"#d8576b\"],[0.6666666666666666,\"#ed7953\"],[0.7777777777777778,\"#fb9f3a\"],[0.8888888888888888,\"#fdca26\"],[1.0,\"#f0f921\"]],\"type\":\"histogram2d\"}],\"histogram2dcontour\":[{\"colorbar\":{\"outlinewidth\":0,\"ticks\":\"\"},\"colorscale\":[[0.0,\"#0d0887\"],[0.1111111111111111,\"#46039f\"],[0.2222222222222222,\"#7201a8\"],[0.3333333333333333,\"#9c179e\"],[0.4444444444444444,\"#bd3786\"],[0.5555555555555556,\"#d8576b\"],[0.6666666666666666,\"#ed7953\"],[0.7777777777777778,\"#fb9f3a\"],[0.8888888888888888,\"#fdca26\"],[1.0,\"#f0f921\"]],\"type\":\"histogram2dcontour\"}],\"mesh3d\":[{\"colorbar\":{\"outlinewidth\":0,\"ticks\":\"\"},\"type\":\"mesh3d\"}],\"parcoords\":[{\"line\":{\"colorbar\":{\"outlinewidth\":0,\"ticks\":\"\"}},\"type\":\"parcoords\"}],\"pie\":[{\"automargin\":true,\"type\":\"pie\"}],\"scatter\":[{\"marker\":{\"colorbar\":{\"outlinewidth\":0,\"ticks\":\"\"}},\"type\":\"scatter\"}],\"scatter3d\":[{\"line\":{\"colorbar\":{\"outlinewidth\":0,\"ticks\":\"\"}},\"marker\":{\"colorbar\":{\"outlinewidth\":0,\"ticks\":\"\"}},\"type\":\"scatter3d\"}],\"scattercarpet\":[{\"marker\":{\"colorbar\":{\"outlinewidth\":0,\"ticks\":\"\"}},\"type\":\"scattercarpet\"}],\"scattergeo\":[{\"marker\":{\"colorbar\":{\"outlinewidth\":0,\"ticks\":\"\"}},\"type\":\"scattergeo\"}],\"scattergl\":[{\"marker\":{\"colorbar\":{\"outlinewidth\":0,\"ticks\":\"\"}},\"type\":\"scattergl\"}],\"scattermapbox\":[{\"marker\":{\"colorbar\":{\"outlinewidth\":0,\"ticks\":\"\"}},\"type\":\"scattermapbox\"}],\"scatterpolar\":[{\"marker\":{\"colorbar\":{\"outlinewidth\":0,\"ticks\":\"\"}},\"type\":\"scatterpolar\"}],\"scatterpolargl\":[{\"marker\":{\"colorbar\":{\"outlinewidth\":0,\"ticks\":\"\"}},\"type\":\"scatterpolargl\"}],\"scatterternary\":[{\"marker\":{\"colorbar\":{\"outlinewidth\":0,\"ticks\":\"\"}},\"type\":\"scatterternary\"}],\"surface\":[{\"colorbar\":{\"outlinewidth\":0,\"ticks\":\"\"},\"colorscale\":[[0.0,\"#0d0887\"],[0.1111111111111111,\"#46039f\"],[0.2222222222222222,\"#7201a8\"],[0.3333333333333333,\"#9c179e\"],[0.4444444444444444,\"#bd3786\"],[0.5555555555555556,\"#d8576b\"],[0.6666666666666666,\"#ed7953\"],[0.7777777777777778,\"#fb9f3a\"],[0.8888888888888888,\"#fdca26\"],[1.0,\"#f0f921\"]],\"type\":\"surface\"}],\"table\":[{\"cells\":{\"fill\":{\"color\":\"#EBF0F8\"},\"line\":{\"color\":\"white\"}},\"header\":{\"fill\":{\"color\":\"#C8D4E3\"},\"line\":{\"color\":\"white\"}},\"type\":\"table\"}]},\"layout\":{\"annotationdefaults\":{\"arrowcolor\":\"#2a3f5f\",\"arrowhead\":0,\"arrowwidth\":1},\"autotypenumbers\":\"strict\",\"coloraxis\":{\"colorbar\":{\"outlinewidth\":0,\"ticks\":\"\"}},\"colorscale\":{\"diverging\":[[0,\"#8e0152\"],[0.1,\"#c51b7d\"],[0.2,\"#de77ae\"],[0.3,\"#f1b6da\"],[0.4,\"#fde0ef\"],[0.5,\"#f7f7f7\"],[0.6,\"#e6f5d0\"],[0.7,\"#b8e186\"],[0.8,\"#7fbc41\"],[0.9,\"#4d9221\"],[1,\"#276419\"]],\"sequential\":[[0.0,\"#0d0887\"],[0.1111111111111111,\"#46039f\"],[0.2222222222222222,\"#7201a8\"],[0.3333333333333333,\"#9c179e\"],[0.4444444444444444,\"#bd3786\"],[0.5555555555555556,\"#d8576b\"],[0.6666666666666666,\"#ed7953\"],[0.7777777777777778,\"#fb9f3a\"],[0.8888888888888888,\"#fdca26\"],[1.0,\"#f0f921\"]],\"sequentialminus\":[[0.0,\"#0d0887\"],[0.1111111111111111,\"#46039f\"],[0.2222222222222222,\"#7201a8\"],[0.3333333333333333,\"#9c179e\"],[0.4444444444444444,\"#bd3786\"],[0.5555555555555556,\"#d8576b\"],[0.6666666666666666,\"#ed7953\"],[0.7777777777777778,\"#fb9f3a\"],[0.8888888888888888,\"#fdca26\"],[1.0,\"#f0f921\"]]},\"colorway\":[\"#636efa\",\"#EF553B\",\"#00cc96\",\"#ab63fa\",\"#FFA15A\",\"#19d3f3\",\"#FF6692\",\"#B6E880\",\"#FF97FF\",\"#FECB52\"],\"font\":{\"color\":\"#2a3f5f\"},\"geo\":{\"bgcolor\":\"white\",\"lakecolor\":\"white\",\"landcolor\":\"#E5ECF6\",\"showlakes\":true,\"showland\":true,\"subunitcolor\":\"white\"},\"hoverlabel\":{\"align\":\"left\"},\"hovermode\":\"closest\",\"mapbox\":{\"style\":\"light\"},\"paper_bgcolor\":\"white\",\"plot_bgcolor\":\"#E5ECF6\",\"polar\":{\"angularaxis\":{\"gridcolor\":\"white\",\"linecolor\":\"white\",\"ticks\":\"\"},\"bgcolor\":\"#E5ECF6\",\"radialaxis\":{\"gridcolor\":\"white\",\"linecolor\":\"white\",\"ticks\":\"\"}},\"scene\":{\"xaxis\":{\"backgroundcolor\":\"#E5ECF6\",\"gridcolor\":\"white\",\"gridwidth\":2,\"linecolor\":\"white\",\"showbackground\":true,\"ticks\":\"\",\"zerolinecolor\":\"white\"},\"yaxis\":{\"backgroundcolor\":\"#E5ECF6\",\"gridcolor\":\"white\",\"gridwidth\":2,\"linecolor\":\"white\",\"showbackground\":true,\"ticks\":\"\",\"zerolinecolor\":\"white\"},\"zaxis\":{\"backgroundcolor\":\"#E5ECF6\",\"gridcolor\":\"white\",\"gridwidth\":2,\"linecolor\":\"white\",\"showbackground\":true,\"ticks\":\"\",\"zerolinecolor\":\"white\"}},\"shapedefaults\":{\"line\":{\"color\":\"#2a3f5f\"}},\"ternary\":{\"aaxis\":{\"gridcolor\":\"white\",\"linecolor\":\"white\",\"ticks\":\"\"},\"baxis\":{\"gridcolor\":\"white\",\"linecolor\":\"white\",\"ticks\":\"\"},\"bgcolor\":\"#E5ECF6\",\"caxis\":{\"gridcolor\":\"white\",\"linecolor\":\"white\",\"ticks\":\"\"}},\"title\":{\"x\":0.05},\"xaxis\":{\"automargin\":true,\"gridcolor\":\"white\",\"linecolor\":\"white\",\"ticks\":\"\",\"title\":{\"standoff\":15},\"zerolinecolor\":\"white\",\"zerolinewidth\":2},\"yaxis\":{\"automargin\":true,\"gridcolor\":\"white\",\"linecolor\":\"white\",\"ticks\":\"\",\"title\":{\"standoff\":15},\"zerolinecolor\":\"white\",\"zerolinewidth\":2}}},\"margin\":{\"t\":0,\"b\":0,\"l\":0,\"r\":0},\"width\":1000,\"height\":800,\"paper_bgcolor\":\"rgb(160,160,160)\",\"plot_bgcolor\":\"rgb(160,160,160)\"},                        {\"responsive\": true}                    ).then(function(){\n",
              "                            \n",
              "var gd = document.getElementById('4faa293a-415e-41b7-ae38-77bad66f9a9d');\n",
              "var x = new MutationObserver(function (mutations, observer) {{\n",
              "        var display = window.getComputedStyle(gd).display;\n",
              "        if (!display || display === 'none') {{\n",
              "            console.log([gd, 'removed!']);\n",
              "            Plotly.purge(gd);\n",
              "            observer.disconnect();\n",
              "        }}\n",
              "}});\n",
              "\n",
              "// Listen for the removal of the full notebook cells\n",
              "var notebookContainer = gd.closest('#notebook-container');\n",
              "if (notebookContainer) {{\n",
              "    x.observe(notebookContainer, {childList: true});\n",
              "}}\n",
              "\n",
              "// Listen for the clearing of the current output cell\n",
              "var outputEl = gd.closest('.output');\n",
              "if (outputEl) {{\n",
              "    x.observe(outputEl, {childList: true});\n",
              "}}\n",
              "\n",
              "                        })                };                            </script>        </div>\n",
              "</body>\n",
              "</html>"
            ]
          },
          "metadata": {}
        }
      ],
      "source": [
        "\n",
        "fig = make_subplots(rows = 2, cols = 2,\n",
        "                    specs=[[{\"type\": \"pie\"}, {\"type\": \"pie\"}],\n",
        "                           [{\"type\": \"pie\"}, {\"type\": \"pie\"}]])\n",
        "print(df['Skin_Tone'].value_counts().index.tolist())\n",
        "skin_color_palette = [\"Red\", \"#F0DDD7\", \"#F3CFBB\", \"#c08e62\", \"#C68642\", \"#D2B48C\", \"#F0DDD7\", \"#9c7248\", \"#000000\", \"#7c501a\"]\n",
        "fig.add_trace(go.Pie(\n",
        "     values= df['Skin_Tone'].value_counts(),\n",
        "     labels = df['Skin_Tone'].value_counts().index.tolist(),\n",
        "     name=\"Skin Tone\", title = dict(text = \"Skin Tone\"),\n",
        "     hovertemplate = \"%{label} <br><b>Population</b>&nbsp; %{value:,}\",\n",
        "     hole = 0.4,\n",
        "     marker_colors = skin_color_palette\n",
        "     ), \n",
        "     row=1, col=1)\n",
        "\n",
        "\n",
        "fig.add_trace(go.Pie(\n",
        "     values=df['Skin_Type'].value_counts(),\n",
        "     labels = df['Skin_Type'].value_counts().index.tolist(),\n",
        "     name=\"Skin Type\", title =\"Skin Type\",\n",
        "     hovertemplate = \"%{label} <br><b>Population</b>&nbsp; %{value:,}\",\n",
        "     hole = 0.4), \n",
        "     row=1, col=2)\n",
        "\n",
        "fig.add_trace(go.Pie(\n",
        "     values=df['Eye_Color'].value_counts(),\n",
        "     labels =df['Eye_Color'].value_counts().index.tolist(),\n",
        "     name=\"Eye Colour\", title =\"Eye Colour\",\n",
        "     hovertemplate = \"%{label} <br><b>Population</b>&nbsp; %{value:,}\",\n",
        "     hole = 0.4 ), \n",
        "     row=2, col=1)\n",
        "\n",
        "fig.add_trace(go.Pie(\n",
        "     values=df['Hair_Color'].value_counts(),\n",
        "     labels = df['Hair_Color'].value_counts().index.tolist(),\n",
        "     name=\"Hair Colour\", title =\"Hair Colour\",\n",
        "     hovertemplate = \"%{label} <br><b>Population</b>&nbsp; %{value:,}\",\n",
        "     hole = 0.4 ), \n",
        "     row=2, col=2)\n",
        "\n",
        "fig.update_layout(width = 1000, height = 800, margin=dict(t=0, b=0, l=0, r=0), paper_bgcolor='rgb(160,160,160)',\n",
        "    plot_bgcolor='rgb(160,160,160)')\n",
        "fig.show()"
      ]
    },
    {
      "cell_type": "markdown",
      "metadata": {
        "id": "PEQ-pnw7ITI7"
      },
      "source": [
        "As we can see from this breakdown there is a significant amount of missing values\n",
        "\n",
        "Skin_Tone\n",
        "No data      2102\n",
        "\n",
        "Skin_Type\n",
        "No data        2106\n",
        "\n",
        "Eye_Color\n",
        "No data    2085\n",
        "\n",
        "Hair_Color\n",
        "No data     2092\n",
        "\n",
        "The Ingredients column displays some missing data as well as some odd strings that are not ingredients:\n",
        "\n",
        "Visit the Shiseido boutique\n",
        "Visit the SEPHORA COLLECTION boutique "
      ]
    },
    {
      "cell_type": "markdown",
      "metadata": {
        "id": "-x1pL-qvLHg6"
      },
      "source": [
        "## 1. Removing missing data"
      ]
    },
    {
      "cell_type": "code",
      "execution_count": null,
      "metadata": {
        "id": "rjwuzYC55wc4"
      },
      "outputs": [],
      "source": [
        "# Basic EDA\n",
        "\n",
        "def basic_eda(df, df_name):\n",
        "    print(df_name.upper())\n",
        "    print()\n",
        "    print(f\"Rows: {df.shape[0]} \\t Columns: {df.shape[1]}\")\n",
        "    print()\n",
        "    \n",
        "    print(f\"Total null rows: {df.isnull().sum().sum()}\")\n",
        "    print(f\"Percentage null rows: {round(df.isnull().sum().sum() / df.shape[0] * 100, 2)}%\")\n",
        "    print()\n",
        "    \n",
        "    print(f\"Total duplicate rows: {df[df.duplicated(keep=False)].shape[0]}\")\n",
        "    print(f\"Percentage dupe rows: {round(df[df.duplicated(keep=False)].shape[0] / df.shape[0] * 100, 2)}%\")\n",
        "    print()\n",
        "    \n",
        "    print(df.dtypes)\n",
        "    print(\"-----\\n\")"
      ]
    },
    {
      "cell_type": "code",
      "execution_count": null,
      "metadata": {
        "colab": {
          "base_uri": "https://localhost:8080/"
        },
        "id": "nOxXWrzDSht4",
        "outputId": "391a30ed-ae79-4b17-94bb-d96cdb5e0ddd"
      },
      "outputs": [
        {
          "output_type": "stream",
          "name": "stdout",
          "text": [
            "             Username  ...                                          Ing_Tfidf\n",
            "400          Biggie88  ...  polysorbate, hamamelis, virginiana, witch, haz...\n",
            "424          Biggie88  ...  polysorbate, hamamelis, virginiana, witch, haz...\n",
            "853           epaz101  ...  cocamidopropyl, hydroxysultaine, juglans, regi...\n",
            "877           epaz101  ...  cocamidopropyl, hydroxysultaine, juglans, regi...\n",
            "1523     lakedweller2  ...  glycerin, vitis, vinifera, grape, seed, oil, c...\n",
            "1980      Aurore2nuit  ...  c, alkyl, benzoate, carthamus, tinctorius, saf...\n",
            "1989        Danni8427  ...  c, alkyl, benzoate, carthamus, tinctorius, saf...\n",
            "2276      Jesscorners  ...  caprylic, capric, triglyceride, polyglyceryl, ...\n",
            "2300      Jesscorners  ...  caprylic, capric, triglyceride, polyglyceryl, ...\n",
            "2681       SamtheScot  ...  propanediol, glycerin, camellia, sinensis, lea...\n",
            "2816       mekupmaven  ...                             visit, fresh, boutique\n",
            "2822        NolanPaul  ...                             visit, fresh, boutique\n",
            "3609            HydeV  ...  isododecane, methylpropanediol, pentylene, gly...\n",
            "3780          EatCrow  ...  sodium, laureth, sulfate, cocamidopropyl, beta...\n",
            "3957         lilyange  ...                                               info\n",
            "4170          Nurseit  ...                                               info\n",
            "4310           gregdw  ...  sodium, c, olefin, sulfonate, disodium, cocoam...\n",
            "4451   beautycontessa  ...  disodium, laureth, sulfosuccinate, octyldoecan...\n",
            "4791          anas123  ...  alumina, paraffinum, liquidum, mineral, oil, g...\n",
            "5159    BKfashionista  ...  glycolic, acid, alcohol, denat, methyl, glucet...\n",
            "5372            NkayM  ...                          visit, shiseido, boutique\n",
            "5556           AaNash  ...  glycereth, alcohol, butylene, glycol, peg, ppg...\n",
            "5989  Marinaxfilipina  ...  coco, glucoside, propylene, glycol, ammonium, ...\n",
            "6045      KaraReviews  ...                          visit, eve, lom, boutique\n",
            "6061             tdem  ...                              visit, lanc, boutique\n",
            "6068       Raindogs22  ...                              visit, lanc, boutique\n",
            "6178         ForRealz  ...  sodium, cocoyl, isethionate, behenyl, alcohol,...\n",
            "6508           Nikimr  ...  isodecyl, neopentanoate, polymethylsilsesquiox...\n",
            "7214        Anita2626  ...                              visit, lanc, boutique\n",
            "7451         IamRaine  ...                                      plant, origin\n",
            "7937     jenimichelle  ...  cyclopentasiloxane, squalane, retinol, tocophe...\n",
            "8316          ciciyaz  ...  alcohol, denat, aloe, barbadensis, leaf, juice...\n",
            "8655         marcal78  ...  microdelivery, peel, step, peg, sodium, bicarb...\n",
            "\n",
            "[33 rows x 25 columns]\n",
            "Total null rows after cleaning : 0\n"
          ]
        }
      ],
      "source": [
        "# Drop columns\n",
        "# Removing the missing data from those columns\n",
        "skincare_data = df[df['Skin_Type'] != 'No data']\n",
        "skincare_data = df[df['Eye_Color'] != 'No data']\n",
        "# Replace missing value with nan, then drop the rows and reset the index.\n",
        "\n",
        "skincare_data = skincare_data.replace(to_replace=\"No data\", value=np.nan)\n",
        "skincare_data.isna().values.any()\n",
        "isNaValues= skincare_data.isnull()\n",
        "NaN_rows = skincare_data[isNaValues.any(axis=1)]\n",
        "print(NaN_rows)\n",
        "\n",
        "skincare_data = skincare_data.dropna()\n",
        "skincare_data = skincare_data.reset_index(drop=True)\n",
        "print(f'Total null rows after cleaning : {skincare_data.isnull().sum().sum()}')\n",
        "\n",
        "    "
      ]
    },
    {
      "cell_type": "code",
      "execution_count": null,
      "metadata": {
        "colab": {
          "base_uri": "https://localhost:8080/",
          "height": 834
        },
        "id": "KPDLj7uzIUwP",
        "outputId": "153c8d93-ae49-449b-9896-9cdfc65bb3cd"
      },
      "outputs": [
        {
          "output_type": "stream",
          "name": "stdout",
          "text": [
            "['Light', 'Fair', 'Medium', 'Olive', 'Tan', 'Porcelain', 'Deep', 'Dark', 'Ebony']\n"
          ]
        },
        {
          "output_type": "display_data",
          "data": {
            "text/html": [
              "<html>\n",
              "<head><meta charset=\"utf-8\" /></head>\n",
              "<body>\n",
              "    <div>            <script src=\"https://cdnjs.cloudflare.com/ajax/libs/mathjax/2.7.5/MathJax.js?config=TeX-AMS-MML_SVG\"></script><script type=\"text/javascript\">if (window.MathJax) {MathJax.Hub.Config({SVG: {font: \"STIX-Web\"}});}</script>                <script type=\"text/javascript\">window.PlotlyConfig = {MathJaxConfig: 'local'};</script>\n",
              "        <script src=\"https://cdn.plot.ly/plotly-2.8.3.min.js\"></script>                <div id=\"381a7894-7ef0-4cab-b1b3-dc0694490d1b\" class=\"plotly-graph-div\" style=\"height:800px; width:1000px;\"></div>            <script type=\"text/javascript\">                                    window.PLOTLYENV=window.PLOTLYENV || {};                                    if (document.getElementById(\"381a7894-7ef0-4cab-b1b3-dc0694490d1b\")) {                    Plotly.newPlot(                        \"381a7894-7ef0-4cab-b1b3-dc0694490d1b\",                        [{\"hole\":0.4,\"hovertemplate\":\"%{label} <br><b>Population</b>&nbsp; %{value:,}<extra></extra>\",\"labels\":[\"Light\",\"Fair\",\"Medium\",\"Olive\",\"Tan\",\"Porcelain\",\"Deep\",\"Dark\",\"Ebony\"],\"marker\":{\"colors\":[\"#F0DDD7\",\"#F3CFBB\",\"#c08e62\",\"#C68642\",\"#D2B48C\",\"#F0DDD7\",\"#9c7248\",\"#000000\",\"#7c501a\"]},\"name\":\"Skin Tone\",\"title\":{\"text\":\"Skin Tone\"},\"values\":[1882,1450,1444,461,430,424,240,158,42],\"type\":\"pie\",\"domain\":{\"x\":[0.0,0.45],\"y\":[0.575,1.0]}},{\"hole\":0.4,\"hovertemplate\":\"%{label} <br><b>Population</b>&nbsp; %{value:,}<extra></extra>\",\"labels\":[\"Combination\",\"Dry\",\"Oily\",\"Normal\"],\"name\":\"Skin Type\",\"title\":{\"text\":\"Skin Type\"},\"values\":[3557,1222,961,791],\"type\":\"pie\",\"domain\":{\"x\":[0.55,1.0],\"y\":[0.575,1.0]}},{\"hole\":0.4,\"hovertemplate\":\"%{label} <br><b>Population</b>&nbsp; %{value:,}<extra></extra>\",\"labels\":[\"Brown\",\"Blue\",\"Hazel\",\"Green\",\"Gray\"],\"name\":\"Eye Colour\",\"title\":{\"text\":\"Eye Colour\"},\"values\":[3514,1254,919,799,45],\"type\":\"pie\",\"domain\":{\"x\":[0.0,0.45],\"y\":[0.0,0.425]}},{\"hole\":0.4,\"hovertemplate\":\"%{label} <br><b>Population</b>&nbsp; %{value:,}<extra></extra>\",\"labels\":[\"Brunette\",\"Black\",\"Blonde\",\"Auburn\",\"Red\",\"Gray\"],\"name\":\"Hair Colour\",\"title\":{\"text\":\"Hair Colour\"},\"values\":[3178,1456,1450,220,186,41],\"type\":\"pie\",\"domain\":{\"x\":[0.55,1.0],\"y\":[0.0,0.425]}}],                        {\"template\":{\"data\":{\"bar\":[{\"error_x\":{\"color\":\"#2a3f5f\"},\"error_y\":{\"color\":\"#2a3f5f\"},\"marker\":{\"line\":{\"color\":\"#E5ECF6\",\"width\":0.5},\"pattern\":{\"fillmode\":\"overlay\",\"size\":10,\"solidity\":0.2}},\"type\":\"bar\"}],\"barpolar\":[{\"marker\":{\"line\":{\"color\":\"#E5ECF6\",\"width\":0.5},\"pattern\":{\"fillmode\":\"overlay\",\"size\":10,\"solidity\":0.2}},\"type\":\"barpolar\"}],\"carpet\":[{\"aaxis\":{\"endlinecolor\":\"#2a3f5f\",\"gridcolor\":\"white\",\"linecolor\":\"white\",\"minorgridcolor\":\"white\",\"startlinecolor\":\"#2a3f5f\"},\"baxis\":{\"endlinecolor\":\"#2a3f5f\",\"gridcolor\":\"white\",\"linecolor\":\"white\",\"minorgridcolor\":\"white\",\"startlinecolor\":\"#2a3f5f\"},\"type\":\"carpet\"}],\"choropleth\":[{\"colorbar\":{\"outlinewidth\":0,\"ticks\":\"\"},\"type\":\"choropleth\"}],\"contour\":[{\"colorbar\":{\"outlinewidth\":0,\"ticks\":\"\"},\"colorscale\":[[0.0,\"#0d0887\"],[0.1111111111111111,\"#46039f\"],[0.2222222222222222,\"#7201a8\"],[0.3333333333333333,\"#9c179e\"],[0.4444444444444444,\"#bd3786\"],[0.5555555555555556,\"#d8576b\"],[0.6666666666666666,\"#ed7953\"],[0.7777777777777778,\"#fb9f3a\"],[0.8888888888888888,\"#fdca26\"],[1.0,\"#f0f921\"]],\"type\":\"contour\"}],\"contourcarpet\":[{\"colorbar\":{\"outlinewidth\":0,\"ticks\":\"\"},\"type\":\"contourcarpet\"}],\"heatmap\":[{\"colorbar\":{\"outlinewidth\":0,\"ticks\":\"\"},\"colorscale\":[[0.0,\"#0d0887\"],[0.1111111111111111,\"#46039f\"],[0.2222222222222222,\"#7201a8\"],[0.3333333333333333,\"#9c179e\"],[0.4444444444444444,\"#bd3786\"],[0.5555555555555556,\"#d8576b\"],[0.6666666666666666,\"#ed7953\"],[0.7777777777777778,\"#fb9f3a\"],[0.8888888888888888,\"#fdca26\"],[1.0,\"#f0f921\"]],\"type\":\"heatmap\"}],\"heatmapgl\":[{\"colorbar\":{\"outlinewidth\":0,\"ticks\":\"\"},\"colorscale\":[[0.0,\"#0d0887\"],[0.1111111111111111,\"#46039f\"],[0.2222222222222222,\"#7201a8\"],[0.3333333333333333,\"#9c179e\"],[0.4444444444444444,\"#bd3786\"],[0.5555555555555556,\"#d8576b\"],[0.6666666666666666,\"#ed7953\"],[0.7777777777777778,\"#fb9f3a\"],[0.8888888888888888,\"#fdca26\"],[1.0,\"#f0f921\"]],\"type\":\"heatmapgl\"}],\"histogram\":[{\"marker\":{\"pattern\":{\"fillmode\":\"overlay\",\"size\":10,\"solidity\":0.2}},\"type\":\"histogram\"}],\"histogram2d\":[{\"colorbar\":{\"outlinewidth\":0,\"ticks\":\"\"},\"colorscale\":[[0.0,\"#0d0887\"],[0.1111111111111111,\"#46039f\"],[0.2222222222222222,\"#7201a8\"],[0.3333333333333333,\"#9c179e\"],[0.4444444444444444,\"#bd3786\"],[0.5555555555555556,\"#d8576b\"],[0.6666666666666666,\"#ed7953\"],[0.7777777777777778,\"#fb9f3a\"],[0.8888888888888888,\"#fdca26\"],[1.0,\"#f0f921\"]],\"type\":\"histogram2d\"}],\"histogram2dcontour\":[{\"colorbar\":{\"outlinewidth\":0,\"ticks\":\"\"},\"colorscale\":[[0.0,\"#0d0887\"],[0.1111111111111111,\"#46039f\"],[0.2222222222222222,\"#7201a8\"],[0.3333333333333333,\"#9c179e\"],[0.4444444444444444,\"#bd3786\"],[0.5555555555555556,\"#d8576b\"],[0.6666666666666666,\"#ed7953\"],[0.7777777777777778,\"#fb9f3a\"],[0.8888888888888888,\"#fdca26\"],[1.0,\"#f0f921\"]],\"type\":\"histogram2dcontour\"}],\"mesh3d\":[{\"colorbar\":{\"outlinewidth\":0,\"ticks\":\"\"},\"type\":\"mesh3d\"}],\"parcoords\":[{\"line\":{\"colorbar\":{\"outlinewidth\":0,\"ticks\":\"\"}},\"type\":\"parcoords\"}],\"pie\":[{\"automargin\":true,\"type\":\"pie\"}],\"scatter\":[{\"marker\":{\"colorbar\":{\"outlinewidth\":0,\"ticks\":\"\"}},\"type\":\"scatter\"}],\"scatter3d\":[{\"line\":{\"colorbar\":{\"outlinewidth\":0,\"ticks\":\"\"}},\"marker\":{\"colorbar\":{\"outlinewidth\":0,\"ticks\":\"\"}},\"type\":\"scatter3d\"}],\"scattercarpet\":[{\"marker\":{\"colorbar\":{\"outlinewidth\":0,\"ticks\":\"\"}},\"type\":\"scattercarpet\"}],\"scattergeo\":[{\"marker\":{\"colorbar\":{\"outlinewidth\":0,\"ticks\":\"\"}},\"type\":\"scattergeo\"}],\"scattergl\":[{\"marker\":{\"colorbar\":{\"outlinewidth\":0,\"ticks\":\"\"}},\"type\":\"scattergl\"}],\"scattermapbox\":[{\"marker\":{\"colorbar\":{\"outlinewidth\":0,\"ticks\":\"\"}},\"type\":\"scattermapbox\"}],\"scatterpolar\":[{\"marker\":{\"colorbar\":{\"outlinewidth\":0,\"ticks\":\"\"}},\"type\":\"scatterpolar\"}],\"scatterpolargl\":[{\"marker\":{\"colorbar\":{\"outlinewidth\":0,\"ticks\":\"\"}},\"type\":\"scatterpolargl\"}],\"scatterternary\":[{\"marker\":{\"colorbar\":{\"outlinewidth\":0,\"ticks\":\"\"}},\"type\":\"scatterternary\"}],\"surface\":[{\"colorbar\":{\"outlinewidth\":0,\"ticks\":\"\"},\"colorscale\":[[0.0,\"#0d0887\"],[0.1111111111111111,\"#46039f\"],[0.2222222222222222,\"#7201a8\"],[0.3333333333333333,\"#9c179e\"],[0.4444444444444444,\"#bd3786\"],[0.5555555555555556,\"#d8576b\"],[0.6666666666666666,\"#ed7953\"],[0.7777777777777778,\"#fb9f3a\"],[0.8888888888888888,\"#fdca26\"],[1.0,\"#f0f921\"]],\"type\":\"surface\"}],\"table\":[{\"cells\":{\"fill\":{\"color\":\"#EBF0F8\"},\"line\":{\"color\":\"white\"}},\"header\":{\"fill\":{\"color\":\"#C8D4E3\"},\"line\":{\"color\":\"white\"}},\"type\":\"table\"}]},\"layout\":{\"annotationdefaults\":{\"arrowcolor\":\"#2a3f5f\",\"arrowhead\":0,\"arrowwidth\":1},\"autotypenumbers\":\"strict\",\"coloraxis\":{\"colorbar\":{\"outlinewidth\":0,\"ticks\":\"\"}},\"colorscale\":{\"diverging\":[[0,\"#8e0152\"],[0.1,\"#c51b7d\"],[0.2,\"#de77ae\"],[0.3,\"#f1b6da\"],[0.4,\"#fde0ef\"],[0.5,\"#f7f7f7\"],[0.6,\"#e6f5d0\"],[0.7,\"#b8e186\"],[0.8,\"#7fbc41\"],[0.9,\"#4d9221\"],[1,\"#276419\"]],\"sequential\":[[0.0,\"#0d0887\"],[0.1111111111111111,\"#46039f\"],[0.2222222222222222,\"#7201a8\"],[0.3333333333333333,\"#9c179e\"],[0.4444444444444444,\"#bd3786\"],[0.5555555555555556,\"#d8576b\"],[0.6666666666666666,\"#ed7953\"],[0.7777777777777778,\"#fb9f3a\"],[0.8888888888888888,\"#fdca26\"],[1.0,\"#f0f921\"]],\"sequentialminus\":[[0.0,\"#0d0887\"],[0.1111111111111111,\"#46039f\"],[0.2222222222222222,\"#7201a8\"],[0.3333333333333333,\"#9c179e\"],[0.4444444444444444,\"#bd3786\"],[0.5555555555555556,\"#d8576b\"],[0.6666666666666666,\"#ed7953\"],[0.7777777777777778,\"#fb9f3a\"],[0.8888888888888888,\"#fdca26\"],[1.0,\"#f0f921\"]]},\"colorway\":[\"#636efa\",\"#EF553B\",\"#00cc96\",\"#ab63fa\",\"#FFA15A\",\"#19d3f3\",\"#FF6692\",\"#B6E880\",\"#FF97FF\",\"#FECB52\"],\"font\":{\"color\":\"#2a3f5f\"},\"geo\":{\"bgcolor\":\"white\",\"lakecolor\":\"white\",\"landcolor\":\"#E5ECF6\",\"showlakes\":true,\"showland\":true,\"subunitcolor\":\"white\"},\"hoverlabel\":{\"align\":\"left\"},\"hovermode\":\"closest\",\"mapbox\":{\"style\":\"light\"},\"paper_bgcolor\":\"white\",\"plot_bgcolor\":\"#E5ECF6\",\"polar\":{\"angularaxis\":{\"gridcolor\":\"white\",\"linecolor\":\"white\",\"ticks\":\"\"},\"bgcolor\":\"#E5ECF6\",\"radialaxis\":{\"gridcolor\":\"white\",\"linecolor\":\"white\",\"ticks\":\"\"}},\"scene\":{\"xaxis\":{\"backgroundcolor\":\"#E5ECF6\",\"gridcolor\":\"white\",\"gridwidth\":2,\"linecolor\":\"white\",\"showbackground\":true,\"ticks\":\"\",\"zerolinecolor\":\"white\"},\"yaxis\":{\"backgroundcolor\":\"#E5ECF6\",\"gridcolor\":\"white\",\"gridwidth\":2,\"linecolor\":\"white\",\"showbackground\":true,\"ticks\":\"\",\"zerolinecolor\":\"white\"},\"zaxis\":{\"backgroundcolor\":\"#E5ECF6\",\"gridcolor\":\"white\",\"gridwidth\":2,\"linecolor\":\"white\",\"showbackground\":true,\"ticks\":\"\",\"zerolinecolor\":\"white\"}},\"shapedefaults\":{\"line\":{\"color\":\"#2a3f5f\"}},\"ternary\":{\"aaxis\":{\"gridcolor\":\"white\",\"linecolor\":\"white\",\"ticks\":\"\"},\"baxis\":{\"gridcolor\":\"white\",\"linecolor\":\"white\",\"ticks\":\"\"},\"bgcolor\":\"#E5ECF6\",\"caxis\":{\"gridcolor\":\"white\",\"linecolor\":\"white\",\"ticks\":\"\"}},\"title\":{\"x\":0.05},\"xaxis\":{\"automargin\":true,\"gridcolor\":\"white\",\"linecolor\":\"white\",\"ticks\":\"\",\"title\":{\"standoff\":15},\"zerolinecolor\":\"white\",\"zerolinewidth\":2},\"yaxis\":{\"automargin\":true,\"gridcolor\":\"white\",\"linecolor\":\"white\",\"ticks\":\"\",\"title\":{\"standoff\":15},\"zerolinecolor\":\"white\",\"zerolinewidth\":2}}},\"margin\":{\"t\":0,\"b\":0,\"l\":0,\"r\":0},\"width\":1000,\"height\":800,\"paper_bgcolor\":\"rgb(160,160,160)\",\"plot_bgcolor\":\"rgb(160,160,160)\"},                        {\"responsive\": true}                    ).then(function(){\n",
              "                            \n",
              "var gd = document.getElementById('381a7894-7ef0-4cab-b1b3-dc0694490d1b');\n",
              "var x = new MutationObserver(function (mutations, observer) {{\n",
              "        var display = window.getComputedStyle(gd).display;\n",
              "        if (!display || display === 'none') {{\n",
              "            console.log([gd, 'removed!']);\n",
              "            Plotly.purge(gd);\n",
              "            observer.disconnect();\n",
              "        }}\n",
              "}});\n",
              "\n",
              "// Listen for the removal of the full notebook cells\n",
              "var notebookContainer = gd.closest('#notebook-container');\n",
              "if (notebookContainer) {{\n",
              "    x.observe(notebookContainer, {childList: true});\n",
              "}}\n",
              "\n",
              "// Listen for the clearing of the current output cell\n",
              "var outputEl = gd.closest('.output');\n",
              "if (outputEl) {{\n",
              "    x.observe(outputEl, {childList: true});\n",
              "}}\n",
              "\n",
              "                        })                };                            </script>        </div>\n",
              "</body>\n",
              "</html>"
            ]
          },
          "metadata": {}
        }
      ],
      "source": [
        "fig = make_subplots(rows = 2, cols = 2,\n",
        "                    specs=[[{\"type\": \"pie\"}, {\"type\": \"pie\"}],\n",
        "                           [{\"type\": \"pie\"}, {\"type\": \"pie\"}]])\n",
        "print(skincare_data['Skin_Tone'].value_counts().index.tolist())\n",
        "skin_color_palette = [\"#F0DDD7\", \"#F3CFBB\", \"#c08e62\", \"#C68642\", \"#D2B48C\", \"#F0DDD7\", \"#9c7248\", \"#000000\", \"#7c501a\"]\n",
        "fig.add_trace(go.Pie(\n",
        "     values= skincare_data['Skin_Tone'].value_counts(),\n",
        "     labels = skincare_data['Skin_Tone'].value_counts().index.tolist(),\n",
        "     name=\"Skin Tone\", title = dict(text = \"Skin Tone\"),\n",
        "     hovertemplate = \"%{label} <br><b>Population</b>&nbsp; %{value:,}<extra></extra>\",\n",
        "     hole = 0.4,\n",
        "     marker_colors = skin_color_palette\n",
        "     ), \n",
        "     row=1, col=1)\n",
        "\n",
        "\n",
        "fig.add_trace(go.Pie(\n",
        "     values=skincare_data['Skin_Type'].value_counts(),\n",
        "     labels = skincare_data['Skin_Type'].value_counts().index.tolist(),\n",
        "     name=\"Skin Type\", title =\"Skin Type\",\n",
        "     hovertemplate = \"%{label} <br><b>Population</b>&nbsp; %{value:,}<extra></extra>\",\n",
        "     hole = 0.4), \n",
        "     row=1, col=2)\n",
        "\n",
        "fig.add_trace(go.Pie(\n",
        "     values=skincare_data['Eye_Color'].value_counts(),\n",
        "     labels =skincare_data['Eye_Color'].value_counts().index.tolist(),\n",
        "     name=\"Eye Colour\", title =\"Eye Colour\",\n",
        "     hovertemplate = \"%{label} <br><b>Population</b>&nbsp; %{value:,}<extra></extra>\",\n",
        "     hole = 0.4 ), \n",
        "     row=2, col=1)\n",
        "\n",
        "fig.add_trace(go.Pie(\n",
        "     values=skincare_data['Hair_Color'].value_counts(),\n",
        "     labels = skincare_data['Hair_Color'].value_counts().index.tolist(),\n",
        "     name=\"Hair Colour\", title =\"Hair Colour\",\n",
        "     hovertemplate = \"%{label} <br><b>Population</b>&nbsp; %{value:,}<extra></extra>\",\n",
        "     hole = 0.4 ), \n",
        "     row=2, col=2)\n",
        "\n",
        "fig.update_layout(width = 1000, height = 800, margin=dict(t=0, b=0, l=0, r=0), paper_bgcolor='rgb(160,160,160)',\n",
        "    plot_bgcolor='rgb(160,160,160)')\n",
        "fig.show()"
      ]
    },
    {
      "cell_type": "markdown",
      "metadata": {
        "id": "oGeNBXPkLP_c"
      },
      "source": [
        "## 2. Ingredients NLP"
      ]
    },
    {
      "cell_type": "code",
      "execution_count": null,
      "metadata": {
        "id": "xdxDhfiEMFZM"
      },
      "outputs": [],
      "source": [
        "# tokenize ingredients\n",
        "# The first step will be tokenizing the list of ingredients in Ingredients column. After splitting them into tokens, we'll make a binary bag of words.\n",
        "# the separated parts are put in a list\n",
        "import re \n",
        "def ing_delimiter(ingredients_row):\n",
        "    delimiter = [',', ':', ';', '/', '\\r', '\\n', '\\t', 'and', '-+', '_+', '[^\\w\\s]', 'ingredients', 'ingredient', ' no Info', 'visit', 'active/singredients']\n",
        "    return re.split('|'.join(delimiter), ingredients_row.lower())\n",
        "\n",
        "def tokenizer(x) -> list: \n",
        "    x = x.replace('(', '')\n",
        "    x = x.replace(')', '')\n",
        "    x = x.replace(\"\\xa0\", \" \")\n",
        "    x = x.replace(\".\", \",\")\n",
        "    x = x.replace(\" & \", \", \")\n",
        "    x = re.split(', ', x)\n",
        "    return x\n",
        "\n",
        "def water_parser(ingredients_list):\n",
        "    water = ['water' if ('water' in ingredient and 'water-binding' not in ingredient) else ingredient for ingredient in ingredients_list]\n",
        "    return water"
      ]
    },
    {
      "cell_type": "code",
      "execution_count": null,
      "metadata": {
        "id": "LCSrNQGGJZrl",
        "colab": {
          "base_uri": "https://localhost:8080/"
        },
        "outputId": "c425b405-aad5-48d1-805e-d335c8fd9be8"
      },
      "outputs": [
        {
          "output_type": "stream",
          "name": "stdout",
          "text": [
            "[nltk_data] Downloading package punkt to /root/nltk_data...\n",
            "[nltk_data]   Unzipping tokenizers/punkt.zip.\n",
            "[nltk_data] Downloading package stopwords to /root/nltk_data...\n",
            "[nltk_data]   Unzipping corpora/stopwords.zip.\n"
          ]
        }
      ],
      "source": [
        "import re\n",
        "import nltk\n",
        "nltk.download('punkt')\n",
        "nltk.download('stopwords')\n",
        "from nltk.corpus import stopwords\n",
        "from nltk.stem import WordNetLemmatizer\n",
        "# Function to clean and tokenize text data:\n",
        "\n",
        "def processing(data):\n",
        "    # Everything in column to lowercase\n",
        "    lower_data = data['Ingredients'].dropna(inplace=True)\n",
        "    lower_data = data[\"Ingredients\"].str.lower()\n",
        "    # Remove punctuation chars\n",
        "    processed = re.sub(r\"[^a-zA-Z0-9]\", \" \", str(lower_data))\n",
        "    processed = processed.strip('\\n')\n",
        "    # Tokenize\n",
        "    tokenize = nltk.word_tokenize(processed)\n",
        "    # Remove stopwords\n",
        "    stop_words= ['ingredients', 'ingredient', 'other', 'no', 'info', 'please', ]\n",
        "    stop_words = [x for x in tokenize if x not in stopwords.words(stop_words)]\n",
        "    # Lemmatize, do not remove 'sls' and 'sles' ingredients \n",
        "    lemmantize = WordNetLemmatizer()\n",
        "    lemmatized = [lemmantize.lemantize(word) if word not in ['sls', 'sles'] else word for word in stopwords]\n",
        "    return lemmatized"
      ]
    },
    {
      "cell_type": "code",
      "execution_count": null,
      "metadata": {
        "id": "v3chJygv4zOo",
        "colab": {
          "base_uri": "https://localhost:8080/"
        },
        "outputId": "0227686c-c339-479c-af88-6110ea6df2f8"
      },
      "outputs": [
        {
          "output_type": "stream",
          "name": "stdout",
          "text": [
            "<class 'pandas.core.frame.DataFrame'>\n"
          ]
        }
      ],
      "source": [
        "# Ingredients NLP\n",
        "# Ingredients droping missing data\n",
        "# Water was also removed from each ingredients list because it appeared in almost all products and isn't important in defining a product's function.\n",
        "cleaned_df = skincare_data[skincare_data['Ingredients'].str.contains(\"No Info\") == False]\n",
        "cleaned_df = cleaned_df[cleaned_df['Ingredients'].str.contains(\"Visit\") == False]\n",
        "cleaned_df = cleaned_df[cleaned_df['Ingredients'].str.contains(\"Please\") == False]\n",
        "print(type(cleaned_df))\n",
        "\n",
        "# refactor this: take only ingredients column, NLP then append it back to the dataset."
      ]
    },
    {
      "cell_type": "code",
      "execution_count": null,
      "metadata": {
        "id": "dIJIH0egsf58"
      },
      "outputs": [],
      "source": [
        "# Declustered Water (+)/Aqua/Eau De-Structuree (+)  - convert this to just water"
      ]
    },
    {
      "cell_type": "code",
      "execution_count": null,
      "metadata": {
        "id": "DGeHBY4dDlgk"
      },
      "outputs": [],
      "source": [
        "# Drop Face Mask category as there is very little count and it would produce noise\n",
        "skincare_data = skincare_data[skincare_data.Category != 'Face Mask']"
      ]
    },
    {
      "cell_type": "code",
      "execution_count": null,
      "metadata": {
        "id": "UUVZSV1uBebP",
        "colab": {
          "base_uri": "https://localhost:8080/",
          "height": 445
        },
        "outputId": "c5658651-2f1e-4cb6-a362-fc3d82399631"
      },
      "outputs": [
        {
          "output_type": "display_data",
          "data": {
            "image/png": "[encoded data removed]",
            "text/plain": [
              "<Figure size 864x432 with 1 Axes>"
            ]
          },
          "metadata": {
            "needs_background": "light"
          }
        }
      ],
      "source": [
        "# show distrubution of categories\n",
        "plt.figure(figsize=(12,6))\n",
        "sns.set_style('dark')\n",
        "\n",
        "plot = sns.countplot(data=skincare_data, x='Category', order=skincare_data.Category.value_counts().index)\n",
        "plt.setp(plot.get_xticklabels(), rotation=45)\n",
        "plt.xlabel('Categories', size=12)\n",
        "plt.ylabel('Count', size=12)\n",
        "plt.title('Number of Products Per Category', size=15)\n",
        "plt.show()"
      ]
    },
    {
      "cell_type": "code",
      "execution_count": null,
      "metadata": {
        "id": "uBemh2PGta4x",
        "colab": {
          "base_uri": "https://localhost:8080/",
          "height": 1000
        },
        "outputId": "24382fd9-9d63-48df-d39b-9f8f7e8bb587"
      },
      "outputs": [
        {
          "output_type": "display_data",
          "data": {
            "image/png": "[encoded data removed]",
            "text/plain": [
              "<Figure size 1440x864 with 1 Axes>"
            ]
          },
          "metadata": {}
        },
        {
          "output_type": "stream",
          "name": "stdout",
          "text": [
            "<bound method Series.count of 0       Combination\n",
            "1       Combination\n",
            "2           No data\n",
            "3               Dry\n",
            "4            Normal\n",
            "           ...     \n",
            "8698    Combination\n",
            "8699    Combination\n",
            "8700    Combination\n",
            "8701        No data\n",
            "8702        No data\n",
            "Name: Skin_Type, Length: 8649, dtype: object>\n",
            "<bound method Series.count of 0       Combination\n",
            "1       Combination\n",
            "2               Dry\n",
            "3            Normal\n",
            "4              Oily\n",
            "           ...     \n",
            "6526    Combination\n",
            "6527           Oily\n",
            "6528    Combination\n",
            "6529    Combination\n",
            "6530    Combination\n",
            "Name: Skin_Type, Length: 5878, dtype: object>\n"
          ]
        }
      ],
      "source": [
        "plt.figure(figsize=(20,12))\n",
        "sns.set_style('dark')\n",
        "plot = sns.countplot(data=skincare_data,\n",
        "                     x='Skin_Type',\n",
        "                     palette='YlOrBr',\n",
        "                     order=skincare_data.Skin_Type.value_counts().index)\n",
        "plt.xlabel('Skin Types', size=12)\n",
        "plt.ylabel('Count', size=12)\n",
        "plt.title('Distribution over Skin types')\n",
        "plt.show()\n",
        "\n",
        "print(df['Skin_Type'].count)\n",
        "print(cleaned_df['Skin_Type'].count)"
      ]
    },
    {
      "cell_type": "code",
      "execution_count": null,
      "metadata": {
        "id": "ecyLR8V73qYi"
      },
      "outputs": [],
      "source": [
        "# Create another df with new users to compare ot old users\n"
      ]
    },
    {
      "cell_type": "code",
      "execution_count": null,
      "metadata": {
        "id": "y8IlmRNyz8z7"
      },
      "outputs": [],
      "source": [
        "# There are two columns relating to ratings, visualising should show what the differences are between them\n",
        "\n",
        "\n",
        "# fig = make_subplots(rows=1, cols=2,\n",
        "#                     subplot_titles=('Rating Stars', 'Rating'))\n",
        "# fig.add_trace(go.Bar(y=skincare_data['Rating_Stars'].value_counts(), \n",
        "#                      name='Rating Stars'), \n",
        "#               row=1, col=1)\n",
        "\n",
        "# rating_bars = go.Bar(y=skincare_data.groupby('Rating')['Product_id'].count(), \n",
        "#                      name='Rating', \n",
        "#                      marker = dict(color = 'red'), \n",
        "#                      hovertemplate=\"<br>\".join([\n",
        "#                         \"Rating: %{y}\",\n",
        "#                         '<extra></extra>'])\n",
        "#                      )\n",
        "# rating_bars.update_layout(xaxis = dict(\n",
        "#                           tickmode = 'array',\n",
        "#                           tickvals = [1, 3, 5, 7, 9, 11],\n",
        "#                           ticktext = ['One', 'Three', 'Five', 'Seven', 'Nine', 'Eleven']))\n",
        "# fig.add_trace(rating_bars, \n",
        "#               row=1, col=2)\n",
        "# fig.update_layout(height=600, \n",
        "#                   width=800, \n",
        "#                   title_text=\"Side By Side Subplots\"\n",
        "# )\n",
        "# fig.show()"
      ]
    },
    {
      "cell_type": "code",
      "execution_count": null,
      "metadata": {
        "id": "vsS8X_sqGnkJ",
        "colab": {
          "base_uri": "https://localhost:8080/",
          "height": 1000
        },
        "outputId": "4d366755-f7e1-4159-d324-a283cf3a049b"
      },
      "outputs": [
        {
          "output_type": "display_data",
          "data": {
            "image/png": "[encoded data removed]",
            "text/plain": [
              "<Figure size 1440x864 with 1 Axes>"
            ]
          },
          "metadata": {}
        },
        {
          "output_type": "stream",
          "name": "stdout",
          "text": [
            "<bound method Series.count of 0        Medium\n",
            "1        Medium\n",
            "2       No data\n",
            "3          Fair\n",
            "4          Fair\n",
            "         ...   \n",
            "8698       Fair\n",
            "8699      Light\n",
            "8700       Dark\n",
            "8701    No data\n",
            "8702    No data\n",
            "Name: Skin_Tone, Length: 8649, dtype: object>\n",
            "<bound method Series.count of 0          Medium\n",
            "1          Medium\n",
            "2            Fair\n",
            "3            Fair\n",
            "4       Porcelain\n",
            "          ...    \n",
            "6526        Light\n",
            "6527    Porcelain\n",
            "6528         Fair\n",
            "6529        Light\n",
            "6530         Dark\n",
            "Name: Skin_Tone, Length: 6510, dtype: object>\n"
          ]
        }
      ],
      "source": [
        "# Plot skin tone\n",
        "plt.figure(figsize=(20,12))\n",
        "sns.set_style('dark')\n",
        "plot = sns.countplot(data=skincare_data,\n",
        "                     x='Skin_Tone',\n",
        "                     palette='YlOrBr',\n",
        "                     order=skincare_data.Skin_Tone.value_counts().index)\n",
        "plt.xlabel('Skin Tones', size=12)\n",
        "plt.ylabel('Count', size=12)\n",
        "plt.title('Distribution over Skin tones')\n",
        "plt.show()\n",
        "\n",
        "print(df['Skin_Tone'].count)\n",
        "print(skincare_data['Skin_Tone'].count)"
      ]
    },
    {
      "cell_type": "code",
      "execution_count": null,
      "metadata": {
        "id": "-rHpBpGSyc0n",
        "colab": {
          "base_uri": "https://localhost:8080/",
          "height": 1000
        },
        "outputId": "408384b6-008b-468a-9def-57b31f5bbf9d"
      },
      "outputs": [
        {
          "output_type": "display_data",
          "data": {
            "image/png": "[encoded data removed]",
            "text/plain": [
              "<Figure size 1440x864 with 1 Axes>"
            ]
          },
          "metadata": {}
        },
        {
          "output_type": "stream",
          "name": "stdout",
          "text": [
            "<bound method Series.count of 0         Brown\n",
            "1         Brown\n",
            "2       No data\n",
            "3          Blue\n",
            "4         Green\n",
            "         ...   \n",
            "8698      Hazel\n",
            "8699       Blue\n",
            "8700      Brown\n",
            "8701    No data\n",
            "8702    No data\n",
            "Name: Eye_Color, Length: 8649, dtype: object>\n",
            "<bound method Series.count of 0       Brown\n",
            "1       Brown\n",
            "2        Blue\n",
            "3       Green\n",
            "4        Blue\n",
            "        ...  \n",
            "6526    Green\n",
            "6527     Blue\n",
            "6528    Hazel\n",
            "6529     Blue\n",
            "6530    Brown\n",
            "Name: Eye_Color, Length: 6510, dtype: object>\n"
          ]
        }
      ],
      "source": [
        "# Plot eye colour\n",
        "plt.figure(figsize=(20,12))\n",
        "sns.set_style('dark')\n",
        "plot = sns.countplot(data=skincare_data,\n",
        "                     x='Eye_Color',\n",
        "                     palette='YlOrBr',\n",
        "                     order=skincare_data.Eye_Color.value_counts().index)\n",
        "plt.xlabel('Eye Color', size=12)\n",
        "plt.ylabel('Count', size=12)\n",
        "plt.title('Distribution over Eye Colors')\n",
        "plt.show()\n",
        "\n",
        "print(df['Eye_Color'].count)\n",
        "print(skincare_data['Eye_Color'].count)"
      ]
    },
    {
      "cell_type": "code",
      "execution_count": null,
      "metadata": {
        "id": "oL0XG2aPH6ry",
        "colab": {
          "base_uri": "https://localhost:8080/",
          "height": 407
        },
        "outputId": "2b78919a-8615-4673-de13-cbdd9411c35d"
      },
      "outputs": [
        {
          "output_type": "display_data",
          "data": {
            "image/png": "[encoded data removed]",
            "text/plain": [
              "<Figure size 1800x432 with 1 Axes>"
            ]
          },
          "metadata": {}
        }
      ],
      "source": [
        "# Plot hair colour\n",
        "plt.figure(figsize=(25,6))\n",
        "plot = sns.countplot(data=skincare_data,\n",
        "                     x='Hair_Color',\n",
        "                     palette='YlOrBr',\n",
        "                     order=skincare_data.Hair_Color.value_counts().index)\n",
        "plt.xlabel('Hair Colour', size=12)\n",
        "plt.ylabel('Hair Colour Frequency', size=12)\n",
        "plt.title('Distribution over Hair Colours')\n",
        "plt.show()\n",
        "\n",
        "# print(df['Hair_Color'].count)\n",
        "# print(skincare_data['Hair_Color'].count)"
      ]
    },
    {
      "cell_type": "code",
      "execution_count": null,
      "metadata": {
        "id": "R4Oc0hBZE7kb",
        "colab": {
          "base_uri": "https://localhost:8080/",
          "height": 375
        },
        "outputId": "5314035a-58bc-4d34-d80f-eaef377fb8c2"
      },
      "outputs": [
        {
          "output_type": "display_data",
          "data": {
            "image/png": "[encoded data removed]",
            "text/plain": [
              "<Figure size 1440x864 with 2 Axes>"
            ]
          },
          "metadata": {}
        }
      ],
      "source": [
        "# There are two columns relating to ratings, visualising should show what the differences are between them\n",
        "plt.subplot(221)\n",
        "plt.title('Rating Stars')\n",
        "plt.ylabel('Product Frequency', size=12)\n",
        "skincare_data.groupby('Rating_Stars')['Product_id'].count().plot.bar(color='skyblue', figsize=(20,12))\n",
        "plt.xticks(rotation=0)\n",
        "\n",
        "plt.subplot(222)\n",
        "plt.title('Rating')\n",
        "plt.ylabel('Product Frequency', size=12)\n",
        "skincare_data.groupby('Rating')['Product_id'].count().plot.bar(color='lightskyblue', figsize=(20,12));\n",
        "plt.xticks(rotation=0)\n",
        "plt.show()"
      ]
    },
    {
      "cell_type": "markdown",
      "metadata": {
        "id": "aDFL9ATwWTh3"
      },
      "source": [
        "On the official Sephora website you can see that Rating_Star refers to individual product review and Rating refers to the Rating of the product.\n",
        "When modelling we will be focused on user feature therefore individual product review is more relevant and thus will be using Rating_Star column to categorise the quality of the product."
      ]
    },
    {
      "cell_type": "markdown",
      "metadata": {
        "id": "PDy5pwBuJGS4"
      },
      "source": [
        "# Part 2 - Modelling "
      ]
    },
    {
      "cell_type": "markdown",
      "metadata": {
        "id": "XtUp46d3YQia"
      },
      "source": [
        "One of the reasons why it's so important to model a recommendation system is because on most websites such as Sephora you have different categories such as 'top sellers' 'recommended for you' but if you are a new member you wouldn't get a recommendation as such.\n",
        "Therefore, one way to start recommending a more personalised selection for customers would be to have a way for them to filter the products they could see.\n",
        "As such a user could use their skin type, moisturiser, skin colour etc."
      ]
    },
    {
      "cell_type": "code",
      "execution_count": null,
      "metadata": {
        "id": "jgb4ytr4JKNW",
        "colab": {
          "base_uri": "https://localhost:8080/"
        },
        "outputId": "2094de61-e0d8-4eec-ca3b-f81a15e03b14"
      },
      "outputs": [
        {
          "output_type": "stream",
          "name": "stdout",
          "text": [
            "Unique Products : 314\n"
          ]
        }
      ],
      "source": [
        "# Number of unique products\n",
        "print(f\"Unique Products : {skincare_data['Product'].nunique()}\") "
      ]
    },
    {
      "cell_type": "code",
      "execution_count": null,
      "metadata": {
        "id": "mg0yKCevZiUP"
      },
      "outputs": [],
      "source": [
        "import nltk # natural language processing\n",
        "from os import path\n",
        "from PIL import Image\n",
        "from wordcloud import WordCloud, STOPWORDS, ImageColorGenerator\n",
        "\n",
        "# Create function to assign each rating to a group\n",
        "\n",
        "def select_rating(df, column, value1, value2, new_df):\n",
        "    new_df = df[df[column].between(value1, value2)] #inclusive of the values\n",
        "    print(f'The new DataFrame conists of the value and the value count:')\n",
        "    print(new_df[column].value_counts()) # check results\n",
        "    return new_df\n",
        "\n",
        "#sample calling function:\n",
        "#rating_t1 = select_rating(df_drop1,'Rating_Stars', 1.0, 5.0, 'rating_t1')\n",
        "\n",
        "def select_col(df, column, value, new_df):\n",
        "    new_df = df[df[column] == value] #inclusive of the values\n",
        "    print(f'The new DataFrame conists of the value and the value count:')\n",
        "    print(new_df[column].value_counts()) # check results\n",
        "    return new_df\n",
        "\n",
        "#sample calling function:\n",
        "#column_1 = select_col(df_drop1,'Category', 'Cleanser', 'cleanser')\n",
        "\n",
        "def join_str(new_str, series, name):\n",
        "    new_str = \" \".join(item for item in series)\n",
        "    print(f'The String {name} has:')\n",
        "    print('\\n')\n",
        "    print(new_str) # check results\n",
        "    print('\\n')\n",
        "    return new_str\n",
        "\n",
        "#sample calling function:\n",
        "# new_r1 = join_str('new_r1', rating_t1.Review, 'reviews_rt1')"
      ]
    },
    {
      "cell_type": "code",
      "execution_count": null,
      "metadata": {
        "id": "4jBwHJfng2vM",
        "colab": {
          "base_uri": "https://localhost:8080/"
        },
        "outputId": "fb1aeae8-bbd3-4a24-bfb0-763a88f1a7bb"
      },
      "outputs": [
        {
          "output_type": "stream",
          "name": "stdout",
          "text": [
            "Collecting surprise\n",
            "  Downloading surprise-0.1-py2.py3-none-any.whl (1.8 kB)\n",
            "Collecting scikit-surprise\n",
            "  Downloading scikit-surprise-1.1.1.tar.gz (11.8 MB)\n",
            "\u001b[K     |████████████████████████████████| 11.8 MB 11.1 MB/s \n",
            "\u001b[?25hRequirement already satisfied: joblib>=0.11 in /usr/local/lib/python3.7/dist-packages (from scikit-surprise->surprise) (1.1.0)\n",
            "Requirement already satisfied: numpy>=1.11.2 in /usr/local/lib/python3.7/dist-packages (from scikit-surprise->surprise) (1.21.5)\n",
            "Requirement already satisfied: scipy>=1.0.0 in /usr/local/lib/python3.7/dist-packages (from scikit-surprise->surprise) (1.4.1)\n",
            "Requirement already satisfied: six>=1.10.0 in /usr/local/lib/python3.7/dist-packages (from scikit-surprise->surprise) (1.15.0)\n",
            "Building wheels for collected packages: scikit-surprise\n",
            "  Building wheel for scikit-surprise (setup.py) ... \u001b[?25l\u001b[?25hdone\n",
            "  Created wheel for scikit-surprise: filename=scikit_surprise-1.1.1-cp37-cp37m-linux_x86_64.whl size=1630206 sha256=e8121997a5af7eac121eb7c992faab16253aa380faaccf2b303db9a0dec62271\n",
            "  Stored in directory: /root/.cache/pip/wheels/76/44/74/b498c42be47b2406bd27994e16c5188e337c657025ab400c1c\n",
            "Successfully built scikit-surprise\n",
            "Installing collected packages: scikit-surprise, surprise\n",
            "Successfully installed scikit-surprise-1.1.1 surprise-0.1\n",
            "Number of users: 4369\n",
            "Number of items: 314\n"
          ]
        }
      ],
      "source": [
        "!pip install surprise\n",
        "from surprise import Dataset, Reader\n",
        "from surprise.model_selection import train_test_split, cross_validate\n",
        "from surprise.prediction_algorithms import SVD\n",
        "from surprise.prediction_algorithms import knns\n",
        "from surprise.model_selection import GridSearchCV\n",
        "from surprise.similarities import cosine, msd, pearson\n",
        "from surprise import accuracy\n",
        "\n",
        "# Reading the given dataset points\n",
        "reader = Reader(rating_scale=(1, 5))\n",
        "data = Dataset.load_from_df(skincare_data[['User_id', 'Product_id', 'Rating_Stars']], reader=reader)\n",
        "\n",
        "# Split the dataset\n",
        "trainset, testset = train_test_split(data, test_size=0.2)\n",
        "print(f'Number of users: {trainset.n_users}')\n",
        "print(f'Number of items: {trainset.n_items}')"
      ]
    },
    {
      "cell_type": "markdown",
      "metadata": {
        "id": "R4XvPF2GNrFl"
      },
      "source": [
        "Because we want to explore the item-to-item relationship we only used the users and items features as we want to keep them together.\n",
        "Therefore, there isn't a usual split of X_train, Y_train. the dataset is split in 20% test set and 80% train. \n",
        "From the print statement above it can be observed there are more users then there are items, so we will calculate the similarity between the ones we have fewer of.\n"
      ]
    },
    {
      "cell_type": "markdown",
      "metadata": {
        "id": "Cki6CbrLkSWX"
      },
      "source": [
        "1. Item based collaborative filtering using KNN model"
      ]
    },
    {
      "cell_type": "code",
      "execution_count": null,
      "metadata": {
        "id": "xpF94xxUQ6t8",
        "colab": {
          "base_uri": "https://localhost:8080/"
        },
        "outputId": "ce6680a4-b3c2-446d-d2ea-3ee87a23496e"
      },
      "outputs": [
        {
          "output_type": "stream",
          "name": "stdout",
          "text": [
            "Computing the cosine similarity matrix...\n",
            "Done computing similarity matrix.\n",
            "RMSE: 1.1917\n"
          ]
        },
        {
          "output_type": "execute_result",
          "data": {
            "text/plain": [
              "1.191714751600857"
            ]
          },
          "metadata": {},
          "execution_count": 32
        }
      ],
      "source": [
        "# knn basic using cosine\n",
        "similarity_cosine = {'name': 'cosine', 'user_based': False}\n",
        "#train the model\n",
        "basic_knn = knns.KNNBasic(sim_options =similarity_cosine)\n",
        "basic_knn.fit(trainset)\n",
        "\n",
        "#test model and see prediction performance\n",
        "predictions = basic_knn.test(testset)\n",
        "accuracy.rmse(predictions)"
      ]
    },
    {
      "cell_type": "code",
      "execution_count": null,
      "metadata": {
        "id": "yyKsnMZpZK0p",
        "colab": {
          "base_uri": "https://localhost:8080/"
        },
        "outputId": "d9a1f46b-209e-44cf-e7cd-0d109f6f1d7b"
      },
      "outputs": [
        {
          "output_type": "stream",
          "name": "stdout",
          "text": [
            "Computing the pearson similarity matrix...\n",
            "Done computing similarity matrix.\n",
            "RMSE: 1.1785\n"
          ]
        },
        {
          "output_type": "execute_result",
          "data": {
            "text/plain": [
              "1.1785006941042848"
            ]
          },
          "metadata": {},
          "execution_count": 33
        }
      ],
      "source": [
        "#knn basic using pearson\n",
        "similarity_pearson = {'name': 'pearson', 'user_based': False}\n",
        "basic_knn = knns.KNNBasic(sim_options =similarity_pearson)\n",
        "basic_knn.fit(trainset)\n",
        "\n",
        "#test predictions\n",
        "predictions2= basic_knn.test(testset)\n",
        "accuracy.rmse(predictions2)\n",
        "# from surprise import evaluate\n",
        "#algo = KNNBasic()\n",
        "# evaluate(algo, data, measures=['RMSE', 'MAE'])"
      ]
    },
    {
      "cell_type": "markdown",
      "metadata": {
        "id": "gMZNVcqtbugI"
      },
      "source": [
        "From comparing the two scores it can be observed that using pearson to calculate similarity gives a slightly better performance compared to cosine, so it will be used in following itterations. \n",
        "The next step is to compare the performance of other KNN variations."
      ]
    },
    {
      "cell_type": "code",
      "execution_count": null,
      "metadata": {
        "id": "m-UNoC1tbpuj",
        "colab": {
          "base_uri": "https://localhost:8080/"
        },
        "outputId": "8c3aa1f0-d6d7-4623-b29a-c2a7ce3c7160"
      },
      "outputs": [
        {
          "output_type": "stream",
          "name": "stdout",
          "text": [
            "Computing the pearson similarity matrix...\n",
            "Done computing similarity matrix.\n",
            "RMSE: 1.1772\n"
          ]
        },
        {
          "output_type": "execute_result",
          "data": {
            "text/plain": [
              "1.1771787046015785"
            ]
          },
          "metadata": {},
          "execution_count": 34
        }
      ],
      "source": [
        "# knn means using pearson\n",
        "similarity_pearson = {'name': 'pearson', 'user_based': False}\n",
        "knn_means = knns.KNNWithMeans(sim_options = similarity_pearson)\n",
        "knn_means.fit(trainset)\n",
        "predictions_means = knn_means.test(testset)\n",
        "accuracy.rmse(predictions_means)"
      ]
    },
    {
      "cell_type": "code",
      "execution_count": null,
      "metadata": {
        "id": "jVjtuZYVcqCK",
        "colab": {
          "base_uri": "https://localhost:8080/"
        },
        "outputId": "1d8de334-ce65-4a31-d394-8239f7bc61ae"
      },
      "outputs": [
        {
          "output_type": "stream",
          "name": "stdout",
          "text": [
            "Estimating biases using als...\n",
            "Computing the pearson similarity matrix...\n",
            "Done computing similarity matrix.\n",
            "RMSE: 1.1658\n"
          ]
        },
        {
          "output_type": "execute_result",
          "data": {
            "text/plain": [
              "1.1657997145688128"
            ]
          },
          "metadata": {},
          "execution_count": 35
        }
      ],
      "source": [
        "# knn baseline using perason\n",
        "knn_baseline = knns.KNNBaseline(sim_options= similarity_pearson)\n",
        "knn_baseline.fit(trainset)\n",
        "predictions_baseline= knn_baseline.test(testset)\n",
        "accuracy.rmse(predictions_baseline)"
      ]
    },
    {
      "cell_type": "code",
      "execution_count": null,
      "metadata": {
        "id": "pureR2ENdHgj",
        "colab": {
          "base_uri": "https://localhost:8080/"
        },
        "outputId": "f1dcdc85-c5c4-4bb4-ce80-2c68fc875ef9"
      },
      "outputs": [
        {
          "output_type": "stream",
          "name": "stdout",
          "text": [
            "Estimating biases using als...\n",
            "Computing the pearson similarity matrix...\n",
            "Done computing similarity matrix.\n",
            "Estimating biases using als...\n",
            "Computing the pearson similarity matrix...\n",
            "Done computing similarity matrix.\n",
            "Estimating biases using als...\n",
            "Computing the pearson similarity matrix...\n",
            "Done computing similarity matrix.\n",
            "Estimating biases using als...\n",
            "Computing the pearson similarity matrix...\n",
            "Done computing similarity matrix.\n",
            "Estimating biases using als...\n",
            "Computing the pearson similarity matrix...\n",
            "Done computing similarity matrix.\n",
            "folds: (0, ('test_rmse', array([1.22677942, 1.1854873 , 1.21826177, 1.16490524, 1.19593039])))\n",
            "folds: (1, ('test_mae', array([0.87457544, 0.84982971, 0.87548288, 0.85577177, 0.86911664])))\n",
            "folds: (2, ('fit_time', (0.02771472930908203, 0.02398371696472168, 0.023595809936523438, 0.024190425872802734, 0.025902986526489258)))\n",
            "folds: (3, ('test_time', (0.011201143264770508, 0.010628461837768555, 0.010988950729370117, 0.010990142822265625, 0.010857105255126953)))\n",
            "Cross Validation : 1.198\n"
          ]
        }
      ],
      "source": [
        "# cross-validation with KNN baseline\n",
        "\n",
        "cv_knn_baseline = cross_validate(knn_baseline, data)\n",
        "\n",
        "for i in enumerate(cv_knn_baseline.items()):\n",
        "        print(f'folds: {i}')\n",
        "\n",
        "print(\"Cross Validation : %.3f\" % (np.mean(cv_knn_baseline['test_rmse'])))"
      ]
    },
    {
      "cell_type": "markdown",
      "metadata": {
        "id": "cq5V5sV2i5fb"
      },
      "source": [
        "Using cross validation on the baseline method resulted in the lowest RMSE 1.14 using pearson correlation. After cross-validation the model performs with RMSE of 1.2 which is better than other KNN models.\n",
        "There are some downsides of using memory-based methods which will be explored in the report therefore, I will try to use some model based methods."
      ]
    },
    {
      "cell_type": "markdown",
      "metadata": {
        "id": "aMW_INh2kocH"
      },
      "source": [
        "2. Matrix Factorisation using SVD and ALS"
      ]
    },
    {
      "cell_type": "code",
      "execution_count": null,
      "metadata": {
        "id": "H7G8MhcBkPYy",
        "colab": {
          "base_uri": "https://localhost:8080/"
        },
        "outputId": "94d4fbe0-9ca1-4518-e654-ad61bbc19c7e"
      },
      "outputs": [
        {
          "output_type": "stream",
          "name": "stdout",
          "text": [
            "RMSE: 1.2408\n"
          ]
        },
        {
          "output_type": "execute_result",
          "data": {
            "text/plain": [
              "1.2407914307518038"
            ]
          },
          "metadata": {},
          "execution_count": 37
        }
      ],
      "source": [
        "#initialising algorithm\n",
        "svd = SVD()\n",
        "svd.fit(trainset)\n",
        "#predict and calculate RMSE\n",
        "predictions= svd.test(testset)\n",
        "accuracy.rmse(predictions)"
      ]
    },
    {
      "cell_type": "code",
      "execution_count": null,
      "metadata": {
        "id": "qP1y40jSejQk",
        "colab": {
          "base_uri": "https://localhost:8080/",
          "height": 206
        },
        "outputId": "fd756fb4-de91-4ebf-a1ec-9fc125e3ac68"
      },
      "outputs": [
        {
          "output_type": "execute_result",
          "data": {
            "text/html": [
              "\n",
              "  <div id=\"df-09f49ef3-10a3-4311-bf66-b4674e9f5a88\">\n",
              "    <div class=\"colab-df-container\">\n",
              "      <div>\n",
              "<style scoped>\n",
              "    .dataframe tbody tr th:only-of-type {\n",
              "        vertical-align: middle;\n",
              "    }\n",
              "\n",
              "    .dataframe tbody tr th {\n",
              "        vertical-align: top;\n",
              "    }\n",
              "\n",
              "    .dataframe thead th {\n",
              "        text-align: right;\n",
              "    }\n",
              "</style>\n",
              "<table border=\"1\" class=\"dataframe\">\n",
              "  <thead>\n",
              "    <tr style=\"text-align: right;\">\n",
              "      <th></th>\n",
              "      <th>test_rmse</th>\n",
              "      <th>fit_time</th>\n",
              "      <th>test_time</th>\n",
              "    </tr>\n",
              "    <tr>\n",
              "      <th>Algorithm</th>\n",
              "      <th></th>\n",
              "      <th></th>\n",
              "      <th></th>\n",
              "    </tr>\n",
              "  </thead>\n",
              "  <tbody>\n",
              "    <tr>\n",
              "      <th>SlopeOne</th>\n",
              "      <td>1.25</td>\n",
              "      <td>0.05</td>\n",
              "      <td>0.01</td>\n",
              "    </tr>\n",
              "    <tr>\n",
              "      <th>NMF</th>\n",
              "      <td>1.25</td>\n",
              "      <td>0.80</td>\n",
              "      <td>0.01</td>\n",
              "    </tr>\n",
              "    <tr>\n",
              "      <th>CoClustering</th>\n",
              "      <td>1.25</td>\n",
              "      <td>0.58</td>\n",
              "      <td>0.01</td>\n",
              "    </tr>\n",
              "    <tr>\n",
              "      <th>SVD</th>\n",
              "      <td>1.26</td>\n",
              "      <td>0.33</td>\n",
              "      <td>0.03</td>\n",
              "    </tr>\n",
              "  </tbody>\n",
              "</table>\n",
              "</div>\n",
              "      <button class=\"colab-df-convert\" onclick=\"convertToInteractive('df-09f49ef3-10a3-4311-bf66-b4674e9f5a88')\"\n",
              "              title=\"Convert this dataframe to an interactive table.\"\n",
              "              style=\"display:none;\">\n",
              "        \n",
              "  <svg xmlns=\"http://www.w3.org/2000/svg\" height=\"24px\"viewBox=\"0 0 24 24\"\n",
              "       width=\"24px\">\n",
              "    <path d=\"M0 0h24v24H0V0z\" fill=\"none\"/>\n",
              "    <path d=\"M18.56 5.44l.94 2.06.94-2.06 2.06-.94-2.06-.94-.94-2.06-.94 2.06-2.06.94zm-11 1L8.5 8.5l.94-2.06 2.06-.94-2.06-.94L8.5 2.5l-.94 2.06-2.06.94zm10 10l.94 2.06.94-2.06 2.06-.94-2.06-.94-.94-2.06-.94 2.06-2.06.94z\"/><path d=\"M17.41 7.96l-1.37-1.37c-.4-.4-.92-.59-1.43-.59-.52 0-1.04.2-1.43.59L10.3 9.45l-7.72 7.72c-.78.78-.78 2.05 0 2.83L4 21.41c.39.39.9.59 1.41.59.51 0 1.02-.2 1.41-.59l7.78-7.78 2.81-2.81c.8-.78.8-2.07 0-2.86zM5.41 20L4 18.59l7.72-7.72 1.47 1.35L5.41 20z\"/>\n",
              "  </svg>\n",
              "      </button>\n",
              "      \n",
              "  <style>\n",
              "    .colab-df-container {\n",
              "      display:flex;\n",
              "      flex-wrap:wrap;\n",
              "      gap: 12px;\n",
              "    }\n",
              "\n",
              "    .colab-df-convert {\n",
              "      background-color: #E8F0FE;\n",
              "      border: none;\n",
              "      border-radius: 50%;\n",
              "      cursor: pointer;\n",
              "      display: none;\n",
              "      fill: #1967D2;\n",
              "      height: 32px;\n",
              "      padding: 0 0 0 0;\n",
              "      width: 32px;\n",
              "    }\n",
              "\n",
              "    .colab-df-convert:hover {\n",
              "      background-color: #E2EBFA;\n",
              "      box-shadow: 0px 1px 2px rgba(60, 64, 67, 0.3), 0px 1px 3px 1px rgba(60, 64, 67, 0.15);\n",
              "      fill: #174EA6;\n",
              "    }\n",
              "\n",
              "    [theme=dark] .colab-df-convert {\n",
              "      background-color: #3B4455;\n",
              "      fill: #D2E3FC;\n",
              "    }\n",
              "\n",
              "    [theme=dark] .colab-df-convert:hover {\n",
              "      background-color: #434B5C;\n",
              "      box-shadow: 0px 1px 3px 1px rgba(0, 0, 0, 0.15);\n",
              "      filter: drop-shadow(0px 1px 2px rgba(0, 0, 0, 0.3));\n",
              "      fill: #FFFFFF;\n",
              "    }\n",
              "  </style>\n",
              "\n",
              "      <script>\n",
              "        const buttonEl =\n",
              "          document.querySelector('#df-09f49ef3-10a3-4311-bf66-b4674e9f5a88 button.colab-df-convert');\n",
              "        buttonEl.style.display =\n",
              "          google.colab.kernel.accessAllowed ? 'block' : 'none';\n",
              "\n",
              "        async function convertToInteractive(key) {\n",
              "          const element = document.querySelector('#df-09f49ef3-10a3-4311-bf66-b4674e9f5a88');\n",
              "          const dataTable =\n",
              "            await google.colab.kernel.invokeFunction('convertToInteractive',\n",
              "                                                     [key], {});\n",
              "          if (!dataTable) return;\n",
              "\n",
              "          const docLinkHtml = 'Like what you see? Visit the ' +\n",
              "            '<a target=\"_blank\" href=https://colab.research.google.com/notebooks/data_table.ipynb>data table notebook</a>'\n",
              "            + ' to learn more about interactive tables.';\n",
              "          element.innerHTML = '';\n",
              "          dataTable['output_type'] = 'display_data';\n",
              "          await google.colab.output.renderOutput(dataTable, element);\n",
              "          const docLink = document.createElement('div');\n",
              "          docLink.innerHTML = docLinkHtml;\n",
              "          element.appendChild(docLink);\n",
              "        }\n",
              "      </script>\n",
              "    </div>\n",
              "  </div>\n",
              "  "
            ],
            "text/plain": [
              "              test_rmse  fit_time  test_time\n",
              "Algorithm                                   \n",
              "SlopeOne           1.25      0.05       0.01\n",
              "NMF                1.25      0.80       0.01\n",
              "CoClustering       1.25      0.58       0.01\n",
              "SVD                1.26      0.33       0.03"
            ]
          },
          "metadata": {},
          "execution_count": 38
        }
      ],
      "source": [
        "from surprise.prediction_algorithms import SlopeOne\n",
        "from surprise.prediction_algorithms import NMF\n",
        "from surprise.prediction_algorithms import CoClustering\n",
        "scores = []\n",
        "algorithms = [SVD(), SlopeOne(), NMF(), CoClustering()]\n",
        "for algorithm in algorithms:\n",
        "    results = cross_validate(algorithm, data, measures=['rmse'], cv=5)\n",
        "\n",
        "    #store result and append to a df\n",
        "    temp= pd.DataFrame.from_dict(results).mean(axis=0)\n",
        "    temp = temp.append(pd.Series([str(algorithm).split(' ')[0].split('.')[-1]], index=['Algorithm']))\n",
        "    scores.append(temp)\n",
        "pd.DataFrame(scores).set_index('Algorithm').sort_values(by='test_rmse',ascending=True)"
      ]
    },
    {
      "cell_type": "markdown",
      "metadata": {
        "id": "QlHNIga4jB2B"
      },
      "source": [
        "Before proceeding with Matrix factorisation I decided to test some other algorithms to see how they perform. As it can be seen from the dataframe NMF performed well with 1.23 RMSE but took longer than SVD which was behind by a small amount. So moving forward I decided to do some hyper-parameter tuning for the CVD algorithm."
      ]
    },
    {
      "cell_type": "code",
      "execution_count": null,
      "metadata": {
        "id": "RYHWKHzZlak4",
        "colab": {
          "base_uri": "https://localhost:8080/"
        },
        "outputId": "da8512aa-fcc8-4146-9a57-47fbdb293e09"
      },
      "outputs": [
        {
          "output_type": "stream",
          "name": "stdout",
          "text": [
            "{'n_factors': 150, 'n_epochs': 30, 'lr_all': 0.01, 'reg_all': 0.02}\n"
          ]
        }
      ],
      "source": [
        "param_grid = {\n",
        "        'n_factors':[50,100,150],\n",
        "        'n_epochs':[20,30],  \n",
        "        'lr_all':[0.005,0.01],\n",
        "        'reg_all':[0.02,0.1]\n",
        "    }\n",
        "\n",
        "grids_svd = GridSearchCV(SVD, param_grid=param_grid, n_jobs =-1, measures=['rmse'])\n",
        "grids_svd.fit(data)\n",
        "\n",
        "print(grids_svd.best_params['rmse'])"
      ]
    },
    {
      "cell_type": "code",
      "execution_count": null,
      "metadata": {
        "id": "yjNWwYLHpfsv",
        "colab": {
          "base_uri": "https://localhost:8080/"
        },
        "outputId": "b89217a4-3e2b-4cdc-c154-4341b4f0af63"
      },
      "outputs": [
        {
          "output_type": "stream",
          "name": "stdout",
          "text": [
            "RMSE: 1.1775\n"
          ]
        },
        {
          "output_type": "execute_result",
          "data": {
            "text/plain": [
              "1.1774928542318084"
            ]
          },
          "metadata": {},
          "execution_count": 40
        }
      ],
      "source": [
        "svd = SVD(n_factors= 150, n_epochs= 30, lr_all= 0.01, reg_all= 0.02)\n",
        "svd.fit(trainset)\n",
        "#predict and calculate RMSE\n",
        "predictions= svd.test(testset)\n",
        "accuracy.rmse(predictions)"
      ]
    },
    {
      "cell_type": "markdown",
      "metadata": {
        "id": "H4w1boKarB_p"
      },
      "source": [
        "Before the grid search method to find the best parameters, SCD had an RMSE of 1.25. Consequently, after parameter tuning the performance has increased slightly with the RMSE of 1.17. Comparatively KNN baseline had a RMSE of 1.2 which is very close to the results I got here.\n"
      ]
    },
    {
      "cell_type": "markdown",
      "metadata": {
        "id": "0ifywAi7kI5R"
      },
      "source": [
        "## Alternating Least Squares\n",
        " - ALS work well for solving scalability and sparseness of the Ratings data, it's simple and scales well to large datasets."
      ]
    },
    {
      "cell_type": "code",
      "execution_count": null,
      "metadata": {
        "id": "TkgMqEfYj8hp"
      },
      "outputs": [],
      "source": [
        "# Creating a spark environment to use Alternating Least Square Matrix Factorization\n",
        "from pyspark.ml.recommendation import ALS\n",
        "from pyspark.sql import SparkSession\n",
        "appName= 'Skincare Recommender'\n",
        "spark = SparkSession.builder.appName(appName).config('spark.driver.host', 'localhost').getOrCreate()"
      ]
    },
    {
      "cell_type": "code",
      "execution_count": null,
      "metadata": {
        "id": "lQktbUOXvn8F",
        "colab": {
          "base_uri": "https://localhost:8080/"
        },
        "outputId": "22a52dd7-7010-43a0-c295-97eb86ba13cd"
      },
      "outputs": [
        {
          "output_type": "stream",
          "name": "stdout",
          "text": [
            "+---------------+---------+-----------+---------+----------+------------+--------------------+--------------------+-------------------+-----+------+--------------------+-----------+---+------+----+---------+--------+--------------------+-------+----------+--------------------+--------------------+----------+--------------------+\n",
            "|       Username|Skin_Tone|  Skin_Type|Eye_Color|Hair_Color|Rating_Stars|              Review|             Product|              Brand|Price|Rating|         Ingredients|Combination|Dry|Normal|Oily|Sensitive|Category|         Product_Url|User_id|Product_id| Ingredients_Cleaned|      Review_Cleaned|Good_Stuff|           Ing_Tfidf|\n",
            "+---------------+---------+-----------+---------+----------+------------+--------------------+--------------------+-------------------+-----+------+--------------------+-----------+---+------+----+---------+--------+--------------------+-------+----------+--------------------+--------------------+----------+--------------------+\n",
            "|         allyp3|   Medium|Combination|    Brown|  Brunette|           5|This is hands dow...|Superfood Antioxi...|YOUTH TO THE PEOPLE|   36|   4.4|Water, Sodium Coc...|          0|  0|     0|   0|        0|Cleanser|https://www.sepho...|   3420|       157|['sodium', 'cocoy...|['hand', 'best', ...|         1|sodium, cocoyl, g...|\n",
            "|         PatTea|   Medium|Combination|    Brown|       Red|           1|Unfortunately thi...|Superfood Antioxi...|YOUTH TO THE PEOPLE|   36|   4.4|Water, Sodium Coc...|          0|  0|     0|   0|        0|Cleanser|https://www.sepho...|   2483|       157|['sodium', 'cocoy...|['unfortunately',...|         0|sodium, cocoyl, g...|\n",
            "|       Sabi1991|  No data|    No data|  No data|   No data|           5|My favorite clean...|Superfood Antioxi...|YOUTH TO THE PEOPLE|   36|   4.4|Water, Sodium Coc...|          0|  0|     0|   0|        0|Cleanser|https://www.sepho...|   2715|       157|['sodium', 'cocoy...|['favorite', 'cle...|         1|sodium, cocoyl, g...|\n",
            "|     happyface2|     Fair|        Dry|     Blue|    Blonde|           5|I love all things...|Superfood Antioxi...|YOUTH TO THE PEOPLE|   36|   4.4|Water, Sodium Coc...|          0|  0|     0|   0|        0|Cleanser|https://www.sepho...|   4497|       157|['sodium', 'cocoy...|['love', 'thing',...|         1|sodium, cocoyl, g...|\n",
            "|       kimkix34|     Fair|     Normal|    Green|    Blonde|           5|I had a trial siz...|Superfood Antioxi...|YOUTH TO THE PEOPLE|   36|   4.4|Water, Sodium Coc...|          0|  0|     0|   0|        0|Cleanser|https://www.sepho...|   5017|       157|['sodium', 'cocoy...|['trial', 'size',...|         1|sodium, cocoyl, g...|\n",
            "|        TABrown|  No data|    No data|  No data|   No data|           2|There is nothing ...|Superfood Antioxi...|YOUTH TO THE PEOPLE|   36|   4.4|Water, Sodium Coc...|          0|  0|     0|   0|        0|Cleanser|https://www.sepho...|   3008|       157|['sodium', 'cocoy...|['nothing', 'grea...|         0|sodium, cocoyl, g...|\n",
            "|       britcorm|Porcelain|       Oily|     Blue|  Brunette|           1|Been trying this ...|Superfood Antioxi...|YOUTH TO THE PEOPLE|   36|   4.4|Water, Sodium Coc...|          0|  0|     0|   0|        0|Cleanser|https://www.sepho...|   3776|       157|['sodium', 'cocoy...|['trying', 'clean...|         0|sodium, cocoyl, g...|\n",
            "|        jenn887|      Tan|        Dry|    Brown|     Black|           5|loveeeeeee this c...|Superfood Antioxi...|YOUTH TO THE PEOPLE|   36|   4.4|Water, Sodium Coc...|          0|  0|     0|   0|        0|Cleanser|https://www.sepho...|   4742|       157|['sodium', 'cocoy...|['loveeeeeee', 'c...|         1|sodium, cocoyl, g...|\n",
            "|   kimmydoodles|     Fair|Combination|    Hazel|  Brunette|           5|Like the fact tha...|Superfood Antioxi...|YOUTH TO THE PEOPLE|   36|   4.4|Water, Sodium Coc...|          0|  0|     0|   0|        0|Cleanser|https://www.sepho...|   5021|       157|['sodium', 'cocoy...|['like', 'fact', ...|         1|sodium, cocoyl, g...|\n",
            "| taylorashudson|    Light|Combination|     Blue|    Blonde|           5|I like it so far!...|Superfood Antioxi...|YOUTH TO THE PEOPLE|   36|   4.4|Water, Sodium Coc...|          0|  0|     0|   0|        0|Cleanser|https://www.sepho...|   6594|       157|['sodium', 'cocoy...|['like', 'far', '...|         1|sodium, cocoyl, g...|\n",
            "|        Melliey|     Fair|Combination|     Gray|    Blonde|           5|I’m in love with ...|Superfood Antioxi...|YOUTH TO THE PEOPLE|   36|   4.4|Water, Sodium Coc...|          0|  0|     0|   0|        0|Cleanser|https://www.sepho...|   2107|       157|['sodium', 'cocoy...|['love', 'first',...|         1|sodium, cocoyl, g...|\n",
            "|   TreversGirl6|  No data|    No data|  No data|   No data|           5|I bought this cle...|Superfood Antioxi...|YOUTH TO THE PEOPLE|   36|   4.4|Water, Sodium Coc...|          0|  0|     0|   0|        0|Cleanser|https://www.sepho...|   3157|       157|['sodium', 'cocoy...|['bought', 'clean...|         1|sodium, cocoyl, g...|\n",
            "|        kindlyD|   Medium|Combination|    Brown|  Brunette|           5|This is my second...|Superfood Antioxi...|YOUTH TO THE PEOPLE|   36|   4.4|Water, Sodium Coc...|          0|  0|     0|   0|        0|Cleanser|https://www.sepho...|   5026|       157|['sodium', 'cocoy...|['second', 'time'...|         1|sodium, cocoyl, g...|\n",
            "|    jazzminrose|    Olive|        Dry|    Brown|    Auburn|           5|Honestly, Since t...|Superfood Antioxi...|YOUTH TO THE PEOPLE|   36|   4.4|Water, Sodium Coc...|          0|  0|     0|   0|        0|Cleanser|https://www.sepho...|   4709|       157|['sodium', 'cocoy...|['honestly', 'sin...|         1|sodium, cocoyl, g...|\n",
            "|        meya123|      Tan|       Oily|    Brown|     Black|           5|I have oily skin,...|Superfood Antioxi...|YOUTH TO THE PEOPLE|   36|   4.4|Water, Sodium Coc...|          0|  0|     0|   0|        0|Cleanser|https://www.sepho...|   5544|       157|['sodium', 'cocoy...|['oily', 'skin', ...|         1|sodium, cocoyl, g...|\n",
            "|     shannopher|    Light|Combination|    Brown|  Brunette|           5|My new go to - I ...|Superfood Antioxi...|YOUTH TO THE PEOPLE|   36|   4.4|Water, Sodium Coc...|          0|  0|     0|   0|        0|Cleanser|https://www.sepho...|   6330|       157|['sodium', 'cocoy...|['new', 'go', 'lo...|         1|sodium, cocoyl, g...|\n",
            "|      Rosaleena|     Deep|       Oily|    Brown|  Brunette|           5|This is the best ...|Superfood Antioxi...|YOUTH TO THE PEOPLE|   36|   4.4|Water, Sodium Coc...|          0|  0|     0|   0|        0|Cleanser|https://www.sepho...|   2655|       157|['sodium', 'cocoy...|['best', 'cleanse...|         1|sodium, cocoyl, g...|\n",
            "|   AlexandraP27|Porcelain|        Dry|    Hazel|  Brunette|           5|I found this clea...|Superfood Antioxi...|YOUTH TO THE PEOPLE|   36|   4.4|Water, Sodium Coc...|          0|  0|     0|   0|        0|Cleanser|https://www.sepho...|    129|       157|['sodium', 'cocoy...|['found', 'cleans...|         1|sodium, cocoyl, g...|\n",
            "|   keyz2thejeep|     Dark|Combination|    Brown|    Blonde|           4|Best cleaner I’ve...|Superfood Antioxi...|YOUTH TO THE PEOPLE|   36|   4.4|Water, Sodium Coc...|          0|  0|     0|   0|        0|Cleanser|https://www.sepho...|   4996|       157|['sodium', 'cocoy...|['best', 'cleaner...|         0|sodium, cocoyl, g...|\n",
            "|CuriousAboutNew|  No data|    No data|  No data|   No data|           5|I received a tiny...|Superfood Antioxi...|YOUTH TO THE PEOPLE|   36|   4.4|Water, Sodium Coc...|          0|  0|     0|   0|        0|Cleanser|https://www.sepho...|    741|       157|['sodium', 'cocoy...|['received', 'tin...|         1|sodium, cocoyl, g...|\n",
            "+---------------+---------+-----------+---------+----------+------------+--------------------+--------------------+-------------------+-----+------+--------------------+-----------+---+------+----+---------+--------+--------------------+-------+----------+--------------------+--------------------+----------+--------------------+\n",
            "only showing top 20 rows\n",
            "\n"
          ]
        }
      ],
      "source": [
        "#load dataset into spark\n",
        "spark_data=spark.createDataFrame(df) \n",
        "# spark_data.printSchema()\n",
        "spark_data.show()"
      ]
    },
    {
      "cell_type": "code",
      "source": [
        "products_columns = ['Product', 'Brand', 'Product_id', 'Rating_Stars']\n",
        "products = spark_data.select(products_columns).drop_duplicates()"
      ],
      "metadata": {
        "id": "eSZCEi7H3qJ_"
      },
      "execution_count": null,
      "outputs": []
    },
    {
      "cell_type": "code",
      "execution_count": null,
      "metadata": {
        "id": "8prY9JxIwQGo",
        "colab": {
          "base_uri": "https://localhost:8080/"
        },
        "outputId": "cee4056f-25cf-4a24-89af-294eb3fa2d22"
      },
      "outputs": [
        {
          "output_type": "execute_result",
          "data": {
            "text/plain": [
              "DataFrame[User_id: bigint, Product_id: bigint, Rating_Stars: bigint]"
            ]
          },
          "metadata": {},
          "execution_count": 44
        }
      ],
      "source": [
        "#select features to use\n",
        "spark_data.select('User_id', 'Product_id', 'Rating_Stars')"
      ]
    },
    {
      "cell_type": "code",
      "execution_count": null,
      "metadata": {
        "id": "RFoeubxByL_x"
      },
      "outputs": [],
      "source": [
        "# Transform the columns to be the right type, as ALS only accepts integers\n",
        "from pyspark.sql.types import ShortType, ByteType\n",
        "\n",
        "spark_data = spark_data.withColumn('User_id', spark_data['User_id'].cast(ShortType()))\n",
        "spark_data = spark_data.withColumn('Product_id', spark_data['Product_id'].cast(ShortType()))\n",
        "spark_data = spark_data.withColumn('Rating_Stars', spark_data['Rating_Stars'].cast(ByteType()))\n",
        "# Fill any NaNs with the value\n",
        "spark_data = spark_data.select(['User_id', 'Product_id', 'Rating_Stars']).fillna(0)"
      ]
    },
    {
      "cell_type": "code",
      "execution_count": null,
      "metadata": {
        "id": "GWz_-w3Z3qz3"
      },
      "outputs": [],
      "source": [
        "# Import the required packages to model\n",
        "from pyspark.ml.tuning import ParamGridBuilder, CrossValidator\n",
        "from pyspark.ml.evaluation import RegressionEvaluator"
      ]
    },
    {
      "cell_type": "code",
      "execution_count": null,
      "metadata": {
        "id": "53Hq3PCX4ith",
        "colab": {
          "base_uri": "https://localhost:8080/"
        },
        "outputId": "78241b2c-61ac-4b94-d115-6f58d0ac5b11"
      },
      "outputs": [
        {
          "output_type": "stream",
          "name": "stdout",
          "text": [
            "Rank = 100\n",
            "RegParam = 0.05\n",
            "1.2134514426024339\n"
          ]
        }
      ],
      "source": [
        "# credit goes towards data scientist Snehal Nair whos implementation was used as a guide\n",
        "# Create train and test set\n",
        "(train, test)=spark_data.randomSplit([0.8, 0.2])\n",
        "# Initialise ALS and fit train set\n",
        "# Note we set cold start strategy to 'drop' to ensure we don't get NaN evaluation metrics\n",
        "als=ALS(userCol='User_id',\n",
        "        itemCol='Product_id',\n",
        "        ratingCol='Rating_Stars',\n",
        "        nonnegative=True,\n",
        "        coldStartStrategy='drop'\n",
        ")\n",
        "\n",
        "# Setup parameter grid\n",
        "params = ParamGridBuilder().addGrid(als.regParam, [.01, .05, .1, .15])\\\n",
        "            .addGrid(als.rank, [2, 25, 50, 100]).build()\n",
        "\n",
        "reg_evaluator = RegressionEvaluator(metricName='rmse',\n",
        "                                labelCol='Rating_Stars',\n",
        "                                predictionCol='prediction')\n",
        "\n",
        "# Initiate cross validation\n",
        "# Allow for more than one model to be trained and evaluated at the same time and make better use of cluster resources\n",
        "cv = CrossValidator(estimator=als, estimatorParamMaps=params, evaluator=reg_evaluator, parallelism=3)\n",
        "model = cv.fit(train)\n",
        "best_model = model.bestModel\n",
        "# The easiest way to return the best parameters\n",
        "print(f\"Rank = {best_model._java_obj.parent().getRank()}\")\n",
        "print(f\"RegParam = {best_model._java_obj.parent().getRegParam()}\")\n",
        "\n",
        "# View the predictions\n",
        "test_predictions = best_model.transform(test)\n",
        "RMSE = reg_evaluator.evaluate(test_predictions)\n",
        "print(RMSE)\n",
        "\n"
      ]
    },
    {
      "cell_type": "code",
      "execution_count": null,
      "metadata": {
        "id": "3QNQlAoPG3zC",
        "colab": {
          "base_uri": "https://localhost:8080/"
        },
        "outputId": "bdada305-9dd2-47d5-c3af-c50baff36307"
      },
      "outputs": [
        {
          "output_type": "stream",
          "name": "stdout",
          "text": [
            "+-------+----------+------------+----------+\n",
            "|User_id|Product_id|Rating_Stars|prediction|\n",
            "+-------+----------+------------+----------+\n",
            "|   3488|       257|           5|  4.991057|\n",
            "|   2231|       182|           5|  4.989299|\n",
            "|   2392|       257|           5| 4.9905066|\n",
            "|   6154|       108|           5| 1.4444566|\n",
            "|   1653|        36|           4| 3.9768755|\n",
            "|   2797|       257|           5| 4.9831805|\n",
            "|   4796|        52|           5|  4.991088|\n",
            "|   2606|       210|           1| 0.9983669|\n",
            "|   2739|       257|           5| 4.9917912|\n",
            "|    126|       257|           5| 4.9917912|\n",
            "|   3026|       172|           5| 4.9910436|\n",
            "|   3538|        55|           4| 0.7814661|\n",
            "|   1489|       113|           5| 4.9915314|\n",
            "|   2386|        81|           5| 4.9910846|\n",
            "|   3582|       255|           4|  2.748846|\n",
            "|   3582|       255|           4|  2.748846|\n",
            "|   1574|       249|           3| 2.9939134|\n",
            "|    667|       310|           2| 1.9967066|\n",
            "|   3595|        57|           5| 4.9907455|\n",
            "|   1493|       144|           5|  4.991882|\n",
            "+-------+----------+------------+----------+\n",
            "only showing top 20 rows\n",
            "\n"
          ]
        }
      ],
      "source": [
        "# fit ALS with new parameters\n",
        "als_new = ALS(maxIter=5,\n",
        "        rank= 100,\n",
        "        regParam=0.05,\n",
        "        userCol='User_id',\n",
        "        itemCol='Product_id',\n",
        "        ratingCol='Rating_Stars',\n",
        "        nonnegative=True,\n",
        "        implicitPrefs=False,\n",
        "        coldStartStrategy='drop')\n",
        "#fit ALS to train set\n",
        "new_model = als_new.fit(train)\n",
        "predictions= new_model.transform(test)\n",
        "evaluator = RegressionEvaluator(metricName='rmse',\n",
        "                                labelCol='Rating_Stars',\n",
        "                                predictionCol='prediction')\n",
        "rmse = evaluator.evaluate(predictions)\n",
        "rmse\n",
        "predictions.show()"
      ]
    },
    {
      "cell_type": "code",
      "execution_count": null,
      "metadata": {
        "id": "s8qMNQTfawQr",
        "colab": {
          "base_uri": "https://localhost:8080/"
        },
        "outputId": "6eaf6a13-0f36-41cf-e2fc-fd72a9b31e60"
      },
      "outputs": [
        {
          "output_type": "stream",
          "name": "stderr",
          "text": [
            "/usr/local/lib/python3.7/dist-packages/pyspark/sql/context.py:127: FutureWarning:\n",
            "\n",
            "Deprecated in 3.0.0. Use SparkSession.builder.getOrCreate() instead.\n",
            "\n"
          ]
        },
        {
          "output_type": "stream",
          "name": "stdout",
          "text": [
            "+-------+--------------------+\n",
            "|User_id|     recommendations|\n",
            "+-------+--------------------+\n",
            "|     12|[{31, 4.9909415},...|\n",
            "|     13|[{156, 4.9886518}...|\n",
            "|     22|[{243, 4.9902725}...|\n",
            "|     26|[{211, 1.9958627}...|\n",
            "|     27|[{190, 1.9960902}...|\n",
            "|     28|[{28, 4.990902}, ...|\n",
            "|     44|[{114, 4.9917984}...|\n",
            "|     47|[{256, 3.9922564}...|\n",
            "|     52|[{289, 4.9904594}...|\n",
            "|     53|[{19, 4.9925437},...|\n",
            "+-------+--------------------+\n",
            "\n"
          ]
        }
      ],
      "source": [
        "from pyspark.sql.functions import col, explode, lit\n",
        "rec_all = new_model.recommendForAllUsers(10)\n",
        "# displays 10 recommendations\n",
        "rec_all.limit(10).show()"
      ]
    },
    {
      "cell_type": "code",
      "source": [
        "# Displays 10 recommendations with the 'recommendations' column split up\n",
        "rec_all = rec_all.withColumn('rec_exp', explode('recommendations')).select('User_id', col('rec_exp.Product_id'), col('rec_exp.rating'))\n",
        "rec_all.limit(10).show()"
      ],
      "metadata": {
        "id": "jCRuB6XB7z9O",
        "colab": {
          "base_uri": "https://localhost:8080/"
        },
        "outputId": "ecff15c1-ba8d-44d9-dc9c-f1550c671369"
      },
      "execution_count": null,
      "outputs": [
        {
          "output_type": "stream",
          "name": "stdout",
          "text": [
            "+-------+----------+---------+\n",
            "|User_id|Product_id|   rating|\n",
            "+-------+----------+---------+\n",
            "|     12|        31|4.9909415|\n",
            "|     12|       132| 3.812664|\n",
            "|     12|       111|3.7200198|\n",
            "|     12|       297|3.6222563|\n",
            "|     12|       261|  3.60571|\n",
            "|     12|       294|  3.58912|\n",
            "|     12|       266|3.5846827|\n",
            "|     12|        51|3.5428479|\n",
            "|     12|       265|3.4976828|\n",
            "|     12|       109|3.4882717|\n",
            "+-------+----------+---------+\n",
            "\n"
          ]
        }
      ]
    },
    {
      "cell_type": "code",
      "source": [
        "# username = input(\"Enter username: \")\n",
        "# category = input('Enter skincare category: ')\n",
        "# skinType = input('Enter skin type: ')\n",
        "# test = rec_all.filter(f'User_id =={username}').withColumn('Category'==category , 'Skin_Type'== skinType)\n",
        "user = input('Enter user id: ')\n",
        "# join products and user_feature df's on product_id column and order by rating *highest to lowest)\n",
        "rec_all.join(products, on='Product_id', how= 'inner').filter(f\"User_id == {user}\").orderBy('rating', ascending= False).show(truncate= False)\n"
      ],
      "metadata": {
        "id": "y3kXRU-h8Ge7",
        "colab": {
          "base_uri": "https://localhost:8080/"
        },
        "outputId": "758799d4-b98f-4d73-f8a6-3dda4bdf61be"
      },
      "execution_count": null,
      "outputs": [
        {
          "output_type": "stream",
          "name": "stdout",
          "text": [
            "Enter user id: 23\n",
            "+----------+-------+---------+-----------------------------------+------------------+------------+\n",
            "|Product_id|User_id|rating   |Product                            |Brand             |Rating_Stars|\n",
            "+----------+-------+---------+-----------------------------------+------------------+------------+\n",
            "|204       |23     |4.9903927|Problem Solution Toner             |BELIF             |2           |\n",
            "|204       |23     |4.9903927|Problem Solution Toner             |BELIF             |3           |\n",
            "|204       |23     |4.9903927|Problem Solution Toner             |BELIF             |4           |\n",
            "|204       |23     |4.9903927|Problem Solution Toner             |BELIF             |1           |\n",
            "|204       |23     |4.9903927|Problem Solution Toner             |BELIF             |5           |\n",
            "|285       |23     |2.8724337|U.F.O. Ultra-Clarifying Face Oil   |SUNDAY RILEY      |1           |\n",
            "|285       |23     |2.8724337|U.F.O. Ultra-Clarifying Face Oil   |SUNDAY RILEY      |3           |\n",
            "|285       |23     |2.8724337|U.F.O. Ultra-Clarifying Face Oil   |SUNDAY RILEY      |5           |\n",
            "|285       |23     |2.8724337|U.F.O. Ultra-Clarifying Face Oil   |SUNDAY RILEY      |4           |\n",
            "|285       |23     |2.8724337|U.F.O. Ultra-Clarifying Face Oil   |SUNDAY RILEY      |2           |\n",
            "|297       |23     |2.8098109|Vine[activ] Overnight Detox Oil    |CAUDALIE          |4           |\n",
            "|297       |23     |2.8098109|Vine[activ] Overnight Detox Oil    |CAUDALIE          |3           |\n",
            "|297       |23     |2.8098109|Vine[activ] Overnight Detox Oil    |CAUDALIE          |5           |\n",
            "|33        |23     |2.7551873|Benefiance NutriPerfect Night Cream|SHISEIDO          |3           |\n",
            "|33        |23     |2.7551873|Benefiance NutriPerfect Night Cream|SHISEIDO          |4           |\n",
            "|33        |23     |2.7551873|Benefiance NutriPerfect Night Cream|SHISEIDO          |5           |\n",
            "|87        |23     |2.7322216|Daily Reviving Concentrate         |KIEHL'S SINCE 1851|4           |\n",
            "|87        |23     |2.7322216|Daily Reviving Concentrate         |KIEHL'S SINCE 1851|1           |\n",
            "|87        |23     |2.7322216|Daily Reviving Concentrate         |KIEHL'S SINCE 1851|5           |\n",
            "|87        |23     |2.7322216|Daily Reviving Concentrate         |KIEHL'S SINCE 1851|3           |\n",
            "+----------+-------+---------+-----------------------------------+------------------+------------+\n",
            "only showing top 20 rows\n",
            "\n"
          ]
        }
      ]
    },
    {
      "cell_type": "code",
      "source": [
        "# recommend things the users hasn't rated yet\n",
        "user = int(input('Enter user id: '))\n",
        "\n",
        "# Skincare not rated by the selected user\n",
        "products_to_be_rated = (predictions\n",
        "                      .filter(f\"User_id != {user}\")\n",
        "                      .select(\"Product_id\").distinct()\n",
        "                    .withColumn(\"User_id\", lit(user))\n",
        ")\n",
        "# Predictions on skincare products they haven't tried yet\n",
        "user_product_predic = new_model.transform(products_to_be_rated)\n",
        "\n",
        "# Movie recommendations for selected user \n",
        "((user_product_predic\n",
        ".dropna()\n",
        ".orderBy(\"prediction\",ascending = False)\n",
        ".limit(10)\n",
        ".join(products,[\"Product_id\"])\n",
        ".select(\"User_id\",\"Product_id\",\"Product\",'Brand','Rating_Stars',col(\"prediction\").alias(\"rating\"))\n",
        ".orderBy(\"rating\",ascending = False)\n",
        ").drop_duplicates()).show(truncate=False)\n"
      ],
      "metadata": {
        "id": "GVQ3QTG01zvV",
        "colab": {
          "base_uri": "https://localhost:8080/"
        },
        "outputId": "404646ab-b8fc-4c10-86d3-60769c7065a6"
      },
      "execution_count": null,
      "outputs": [
        {
          "output_type": "stream",
          "name": "stdout",
          "text": [
            "Enter user id: 20\n",
            "+-------+----------+-------------------------------------------+------------------+------------+---------+\n",
            "|User_id|Product_id|Product                                    |Brand             |Rating_Stars|rating   |\n",
            "+-------+----------+-------------------------------------------+------------------+------------+---------+\n",
            "|20     |57        |Checks and Balances™ Frothy Face Wash      |ORIGINS           |3           |2.950057 |\n",
            "|20     |272       |The True Cream Moisturizing Bomb           |BELIF             |3           |3.112266 |\n",
            "|20     |270       |The Treatment Lotion                       |LA MER            |5           |2.6263113|\n",
            "|20     |55        |Ceramidin™ Cream                           |DR. JART+         |3           |3.0235791|\n",
            "|20     |297       |Vine[activ] Overnight Detox Oil            |CAUDALIE          |4           |3.2648578|\n",
            "|20     |36        |Bi-Facil Double-Action Eye Makeup Remover  |LANCÔME           |4           |3.0610688|\n",
            "|20     |272       |The True Cream Moisturizing Bomb           |BELIF             |5           |3.112266 |\n",
            "|20     |55        |Ceramidin™ Cream                           |DR. JART+         |2           |3.0235791|\n",
            "|20     |51        |Calendula Deep Clean Foaming Face Wash     |KIEHL'S SINCE 1851|5           |2.8538535|\n",
            "|20     |294       |Umbrian Clay Pore Purifying Face Exfoliator|FRESH             |4           |3.038356 |\n",
            "|20     |145       |Hungarian Water Essence                    |BELIF             |2           |2.6740963|\n",
            "|20     |145       |Hungarian Water Essence                    |BELIF             |4           |2.6740963|\n",
            "|20     |272       |The True Cream Moisturizing Bomb           |BELIF             |4           |3.112266 |\n",
            "|20     |51        |Calendula Deep Clean Foaming Face Wash     |KIEHL'S SINCE 1851|1           |2.8538535|\n",
            "|20     |57        |Checks and Balances™ Frothy Face Wash      |ORIGINS           |4           |2.950057 |\n",
            "|20     |145       |Hungarian Water Essence                    |BELIF             |1           |2.6740963|\n",
            "|20     |297       |Vine[activ] Overnight Detox Oil            |CAUDALIE          |3           |3.2648578|\n",
            "|20     |62        |Clarifying Toner                           |MURAD             |4           |2.8666432|\n",
            "|20     |57        |Checks and Balances™ Frothy Face Wash      |ORIGINS           |5           |2.950057 |\n",
            "|20     |297       |Vine[activ] Overnight Detox Oil            |CAUDALIE          |5           |3.2648578|\n",
            "+-------+----------+-------------------------------------------+------------------+------------+---------+\n",
            "only showing top 20 rows\n",
            "\n"
          ]
        }
      ]
    },
    {
      "cell_type": "markdown",
      "metadata": {
        "id": "BL0IuePuKaJs"
      },
      "source": [
        "# 4. Recommendation system"
      ]
    },
    {
      "cell_type": "code",
      "execution_count": null,
      "metadata": {
        "id": "rjF9oaN-KmMs",
        "colab": {
          "base_uri": "https://localhost:8080/",
          "height": 206
        },
        "outputId": "72c62416-a9f7-46f1-e4f7-2b1abbd077d1"
      },
      "outputs": [
        {
          "output_type": "execute_result",
          "data": {
            "text/html": [
              "\n",
              "  <div id=\"df-0e50225b-56d5-4a9c-aac4-089d4f9b0bb7\">\n",
              "    <div class=\"colab-df-container\">\n",
              "      <div>\n",
              "<style scoped>\n",
              "    .dataframe tbody tr th:only-of-type {\n",
              "        vertical-align: middle;\n",
              "    }\n",
              "\n",
              "    .dataframe tbody tr th {\n",
              "        vertical-align: top;\n",
              "    }\n",
              "\n",
              "    .dataframe thead th {\n",
              "        text-align: right;\n",
              "    }\n",
              "</style>\n",
              "<table border=\"1\" class=\"dataframe\">\n",
              "  <thead>\n",
              "    <tr style=\"text-align: right;\">\n",
              "      <th></th>\n",
              "      <th>Rating</th>\n",
              "      <th>Product</th>\n",
              "      <th>Brand</th>\n",
              "    </tr>\n",
              "  </thead>\n",
              "  <tbody>\n",
              "    <tr>\n",
              "      <th>3526</th>\n",
              "      <td>5.00</td>\n",
              "      <td>Epidermal Re-Texturizing Micro-Dermabrasion</td>\n",
              "      <td>KIEHL'S SINCE 1851</td>\n",
              "    </tr>\n",
              "    <tr>\n",
              "      <th>3898</th>\n",
              "      <td>4.90</td>\n",
              "      <td>Exfoilating Wipes - Papaya - Glow</td>\n",
              "      <td>SEPHORA COLLECTION</td>\n",
              "    </tr>\n",
              "    <tr>\n",
              "      <th>4786</th>\n",
              "      <td>4.90</td>\n",
              "      <td>Fresh Pressed Renewing Powder Cleanser with Pu...</td>\n",
              "      <td>CLINIQUE</td>\n",
              "    </tr>\n",
              "    <tr>\n",
              "      <th>4488</th>\n",
              "      <td>4.90</td>\n",
              "      <td>Multi-Miracle Glow Cleansing Balm</td>\n",
              "      <td>CHARLOTTE TILBURY</td>\n",
              "    </tr>\n",
              "    <tr>\n",
              "      <th>433</th>\n",
              "      <td>4.90</td>\n",
              "      <td>Facial Cotton</td>\n",
              "      <td>SHISEIDO</td>\n",
              "    </tr>\n",
              "  </tbody>\n",
              "</table>\n",
              "</div>\n",
              "      <button class=\"colab-df-convert\" onclick=\"convertToInteractive('df-0e50225b-56d5-4a9c-aac4-089d4f9b0bb7')\"\n",
              "              title=\"Convert this dataframe to an interactive table.\"\n",
              "              style=\"display:none;\">\n",
              "        \n",
              "  <svg xmlns=\"http://www.w3.org/2000/svg\" height=\"24px\"viewBox=\"0 0 24 24\"\n",
              "       width=\"24px\">\n",
              "    <path d=\"M0 0h24v24H0V0z\" fill=\"none\"/>\n",
              "    <path d=\"M18.56 5.44l.94 2.06.94-2.06 2.06-.94-2.06-.94-.94-2.06-.94 2.06-2.06.94zm-11 1L8.5 8.5l.94-2.06 2.06-.94-2.06-.94L8.5 2.5l-.94 2.06-2.06.94zm10 10l.94 2.06.94-2.06 2.06-.94-2.06-.94-.94-2.06-.94 2.06-2.06.94z\"/><path d=\"M17.41 7.96l-1.37-1.37c-.4-.4-.92-.59-1.43-.59-.52 0-1.04.2-1.43.59L10.3 9.45l-7.72 7.72c-.78.78-.78 2.05 0 2.83L4 21.41c.39.39.9.59 1.41.59.51 0 1.02-.2 1.41-.59l7.78-7.78 2.81-2.81c.8-.78.8-2.07 0-2.86zM5.41 20L4 18.59l7.72-7.72 1.47 1.35L5.41 20z\"/>\n",
              "  </svg>\n",
              "      </button>\n",
              "      \n",
              "  <style>\n",
              "    .colab-df-container {\n",
              "      display:flex;\n",
              "      flex-wrap:wrap;\n",
              "      gap: 12px;\n",
              "    }\n",
              "\n",
              "    .colab-df-convert {\n",
              "      background-color: #E8F0FE;\n",
              "      border: none;\n",
              "      border-radius: 50%;\n",
              "      cursor: pointer;\n",
              "      display: none;\n",
              "      fill: #1967D2;\n",
              "      height: 32px;\n",
              "      padding: 0 0 0 0;\n",
              "      width: 32px;\n",
              "    }\n",
              "\n",
              "    .colab-df-convert:hover {\n",
              "      background-color: #E2EBFA;\n",
              "      box-shadow: 0px 1px 2px rgba(60, 64, 67, 0.3), 0px 1px 3px 1px rgba(60, 64, 67, 0.15);\n",
              "      fill: #174EA6;\n",
              "    }\n",
              "\n",
              "    [theme=dark] .colab-df-convert {\n",
              "      background-color: #3B4455;\n",
              "      fill: #D2E3FC;\n",
              "    }\n",
              "\n",
              "    [theme=dark] .colab-df-convert:hover {\n",
              "      background-color: #434B5C;\n",
              "      box-shadow: 0px 1px 3px 1px rgba(0, 0, 0, 0.15);\n",
              "      filter: drop-shadow(0px 1px 2px rgba(0, 0, 0, 0.3));\n",
              "      fill: #FFFFFF;\n",
              "    }\n",
              "  </style>\n",
              "\n",
              "      <script>\n",
              "        const buttonEl =\n",
              "          document.querySelector('#df-0e50225b-56d5-4a9c-aac4-089d4f9b0bb7 button.colab-df-convert');\n",
              "        buttonEl.style.display =\n",
              "          google.colab.kernel.accessAllowed ? 'block' : 'none';\n",
              "\n",
              "        async function convertToInteractive(key) {\n",
              "          const element = document.querySelector('#df-0e50225b-56d5-4a9c-aac4-089d4f9b0bb7');\n",
              "          const dataTable =\n",
              "            await google.colab.kernel.invokeFunction('convertToInteractive',\n",
              "                                                     [key], {});\n",
              "          if (!dataTable) return;\n",
              "\n",
              "          const docLinkHtml = 'Like what you see? Visit the ' +\n",
              "            '<a target=\"_blank\" href=https://colab.research.google.com/notebooks/data_table.ipynb>data table notebook</a>'\n",
              "            + ' to learn more about interactive tables.';\n",
              "          element.innerHTML = '';\n",
              "          dataTable['output_type'] = 'display_data';\n",
              "          await google.colab.output.renderOutput(dataTable, element);\n",
              "          const docLink = document.createElement('div');\n",
              "          docLink.innerHTML = docLinkHtml;\n",
              "          element.appendChild(docLink);\n",
              "        }\n",
              "      </script>\n",
              "    </div>\n",
              "  </div>\n",
              "  "
            ],
            "text/plain": [
              "      Rating  ...               Brand\n",
              "3526    5.00  ...  KIEHL'S SINCE 1851\n",
              "3898    4.90  ...  SEPHORA COLLECTION\n",
              "4786    4.90  ...            CLINIQUE\n",
              "4488    4.90  ...   CHARLOTTE TILBURY\n",
              "433     4.90  ...            SHISEIDO\n",
              "\n",
              "[5 rows x 3 columns]"
            ]
          },
          "metadata": {},
          "execution_count": 53
        }
      ],
      "source": [
        "# Recommend products based on users features\n",
        "def rec_by_user_features(skin_type, category_type):\n",
        "    rec_df= skincare_data[(skincare_data['Skin_Type']==skin_type) & (skincare_data['Category'] ==category_type)]\n",
        "    product_rec = rec_df[['Rating', 'Product', 'Brand']]\n",
        "    product_rec = product_rec.sort_values('Rating', ascending=False).drop_duplicates().head()\n",
        "    # Return the best rated items for the features selected\n",
        "    return product_rec\n",
        "\n",
        "rec_by_user_features('Oily', 'Cleanser')"
      ]
    },
    {
      "cell_type": "markdown",
      "metadata": {
        "id": "kW97LBZfPgZa"
      },
      "source": [
        "This is a very basic way of predicting what a customer would like so to further recommend products that are more personalised towards customer preferences, I will use KNN Baseline model to make these recommendations."
      ]
    },
    {
      "cell_type": "code",
      "execution_count": null,
      "metadata": {
        "id": "A7VNTSI8Rcw-",
        "colab": {
          "base_uri": "https://localhost:8080/",
          "height": 206
        },
        "outputId": "9962f882-404a-4ab3-c879-dac21225faed"
      },
      "outputs": [
        {
          "output_type": "execute_result",
          "data": {
            "text/html": [
              "\n",
              "  <div id=\"df-e6391500-05ce-48f7-9509-46ddd73d2758\">\n",
              "    <div class=\"colab-df-container\">\n",
              "      <div>\n",
              "<style scoped>\n",
              "    .dataframe tbody tr th:only-of-type {\n",
              "        vertical-align: middle;\n",
              "    }\n",
              "\n",
              "    .dataframe tbody tr th {\n",
              "        vertical-align: top;\n",
              "    }\n",
              "\n",
              "    .dataframe thead th {\n",
              "        text-align: right;\n",
              "    }\n",
              "</style>\n",
              "<table border=\"1\" class=\"dataframe\">\n",
              "  <thead>\n",
              "    <tr style=\"text-align: right;\">\n",
              "      <th></th>\n",
              "      <th>User_id</th>\n",
              "      <th>Skin_Tone</th>\n",
              "      <th>Skin_Type</th>\n",
              "      <th>Eye_Color</th>\n",
              "      <th>Hair_Color</th>\n",
              "      <th>Product_id</th>\n",
              "      <th>Product</th>\n",
              "      <th>Brand</th>\n",
              "      <th>Category</th>\n",
              "      <th>Rating_Stars</th>\n",
              "      <th>combined_features</th>\n",
              "    </tr>\n",
              "  </thead>\n",
              "  <tbody>\n",
              "    <tr>\n",
              "      <th>0</th>\n",
              "      <td>3420</td>\n",
              "      <td>Medium</td>\n",
              "      <td>Combination</td>\n",
              "      <td>Brown</td>\n",
              "      <td>Brunette</td>\n",
              "      <td>157</td>\n",
              "      <td>Superfood Antioxidant Cleanser</td>\n",
              "      <td>YOUTH TO THE PEOPLE</td>\n",
              "      <td>Cleanser</td>\n",
              "      <td>5</td>\n",
              "      <td>Combination, Medium, Brown, Brunette</td>\n",
              "    </tr>\n",
              "    <tr>\n",
              "      <th>1</th>\n",
              "      <td>2483</td>\n",
              "      <td>Medium</td>\n",
              "      <td>Combination</td>\n",
              "      <td>Brown</td>\n",
              "      <td>Red</td>\n",
              "      <td>157</td>\n",
              "      <td>Superfood Antioxidant Cleanser</td>\n",
              "      <td>YOUTH TO THE PEOPLE</td>\n",
              "      <td>Cleanser</td>\n",
              "      <td>1</td>\n",
              "      <td>Combination, Medium, Brown, Red</td>\n",
              "    </tr>\n",
              "    <tr>\n",
              "      <th>2</th>\n",
              "      <td>4497</td>\n",
              "      <td>Fair</td>\n",
              "      <td>Dry</td>\n",
              "      <td>Blue</td>\n",
              "      <td>Blonde</td>\n",
              "      <td>157</td>\n",
              "      <td>Superfood Antioxidant Cleanser</td>\n",
              "      <td>YOUTH TO THE PEOPLE</td>\n",
              "      <td>Cleanser</td>\n",
              "      <td>5</td>\n",
              "      <td>Dry, Fair, Blue, Blonde</td>\n",
              "    </tr>\n",
              "    <tr>\n",
              "      <th>3</th>\n",
              "      <td>5017</td>\n",
              "      <td>Fair</td>\n",
              "      <td>Normal</td>\n",
              "      <td>Green</td>\n",
              "      <td>Blonde</td>\n",
              "      <td>157</td>\n",
              "      <td>Superfood Antioxidant Cleanser</td>\n",
              "      <td>YOUTH TO THE PEOPLE</td>\n",
              "      <td>Cleanser</td>\n",
              "      <td>5</td>\n",
              "      <td>Normal, Fair, Green, Blonde</td>\n",
              "    </tr>\n",
              "    <tr>\n",
              "      <th>4</th>\n",
              "      <td>3776</td>\n",
              "      <td>Porcelain</td>\n",
              "      <td>Oily</td>\n",
              "      <td>Blue</td>\n",
              "      <td>Brunette</td>\n",
              "      <td>157</td>\n",
              "      <td>Superfood Antioxidant Cleanser</td>\n",
              "      <td>YOUTH TO THE PEOPLE</td>\n",
              "      <td>Cleanser</td>\n",
              "      <td>1</td>\n",
              "      <td>Oily, Porcelain, Blue, Brunette</td>\n",
              "    </tr>\n",
              "  </tbody>\n",
              "</table>\n",
              "</div>\n",
              "      <button class=\"colab-df-convert\" onclick=\"convertToInteractive('df-e6391500-05ce-48f7-9509-46ddd73d2758')\"\n",
              "              title=\"Convert this dataframe to an interactive table.\"\n",
              "              style=\"display:none;\">\n",
              "        \n",
              "  <svg xmlns=\"http://www.w3.org/2000/svg\" height=\"24px\"viewBox=\"0 0 24 24\"\n",
              "       width=\"24px\">\n",
              "    <path d=\"M0 0h24v24H0V0z\" fill=\"none\"/>\n",
              "    <path d=\"M18.56 5.44l.94 2.06.94-2.06 2.06-.94-2.06-.94-.94-2.06-.94 2.06-2.06.94zm-11 1L8.5 8.5l.94-2.06 2.06-.94-2.06-.94L8.5 2.5l-.94 2.06-2.06.94zm10 10l.94 2.06.94-2.06 2.06-.94-2.06-.94-.94-2.06-.94 2.06-2.06.94z\"/><path d=\"M17.41 7.96l-1.37-1.37c-.4-.4-.92-.59-1.43-.59-.52 0-1.04.2-1.43.59L10.3 9.45l-7.72 7.72c-.78.78-.78 2.05 0 2.83L4 21.41c.39.39.9.59 1.41.59.51 0 1.02-.2 1.41-.59l7.78-7.78 2.81-2.81c.8-.78.8-2.07 0-2.86zM5.41 20L4 18.59l7.72-7.72 1.47 1.35L5.41 20z\"/>\n",
              "  </svg>\n",
              "      </button>\n",
              "      \n",
              "  <style>\n",
              "    .colab-df-container {\n",
              "      display:flex;\n",
              "      flex-wrap:wrap;\n",
              "      gap: 12px;\n",
              "    }\n",
              "\n",
              "    .colab-df-convert {\n",
              "      background-color: #E8F0FE;\n",
              "      border: none;\n",
              "      border-radius: 50%;\n",
              "      cursor: pointer;\n",
              "      display: none;\n",
              "      fill: #1967D2;\n",
              "      height: 32px;\n",
              "      padding: 0 0 0 0;\n",
              "      width: 32px;\n",
              "    }\n",
              "\n",
              "    .colab-df-convert:hover {\n",
              "      background-color: #E2EBFA;\n",
              "      box-shadow: 0px 1px 2px rgba(60, 64, 67, 0.3), 0px 1px 3px 1px rgba(60, 64, 67, 0.15);\n",
              "      fill: #174EA6;\n",
              "    }\n",
              "\n",
              "    [theme=dark] .colab-df-convert {\n",
              "      background-color: #3B4455;\n",
              "      fill: #D2E3FC;\n",
              "    }\n",
              "\n",
              "    [theme=dark] .colab-df-convert:hover {\n",
              "      background-color: #434B5C;\n",
              "      box-shadow: 0px 1px 3px 1px rgba(0, 0, 0, 0.15);\n",
              "      filter: drop-shadow(0px 1px 2px rgba(0, 0, 0, 0.3));\n",
              "      fill: #FFFFFF;\n",
              "    }\n",
              "  </style>\n",
              "\n",
              "      <script>\n",
              "        const buttonEl =\n",
              "          document.querySelector('#df-e6391500-05ce-48f7-9509-46ddd73d2758 button.colab-df-convert');\n",
              "        buttonEl.style.display =\n",
              "          google.colab.kernel.accessAllowed ? 'block' : 'none';\n",
              "\n",
              "        async function convertToInteractive(key) {\n",
              "          const element = document.querySelector('#df-e6391500-05ce-48f7-9509-46ddd73d2758');\n",
              "          const dataTable =\n",
              "            await google.colab.kernel.invokeFunction('convertToInteractive',\n",
              "                                                     [key], {});\n",
              "          if (!dataTable) return;\n",
              "\n",
              "          const docLinkHtml = 'Like what you see? Visit the ' +\n",
              "            '<a target=\"_blank\" href=https://colab.research.google.com/notebooks/data_table.ipynb>data table notebook</a>'\n",
              "            + ' to learn more about interactive tables.';\n",
              "          element.innerHTML = '';\n",
              "          dataTable['output_type'] = 'display_data';\n",
              "          await google.colab.output.renderOutput(dataTable, element);\n",
              "          const docLink = document.createElement('div');\n",
              "          docLink.innerHTML = docLinkHtml;\n",
              "          element.appendChild(docLink);\n",
              "        }\n",
              "      </script>\n",
              "    </div>\n",
              "  </div>\n",
              "  "
            ],
            "text/plain": [
              "   User_id  Skin_Tone  ... Rating_Stars                     combined_features\n",
              "0     3420     Medium  ...            5  Combination, Medium, Brown, Brunette\n",
              "1     2483     Medium  ...            1       Combination, Medium, Brown, Red\n",
              "2     4497       Fair  ...            5               Dry, Fair, Blue, Blonde\n",
              "3     5017       Fair  ...            5           Normal, Fair, Green, Blonde\n",
              "4     3776  Porcelain  ...            1       Oily, Porcelain, Blue, Brunette\n",
              "\n",
              "[5 rows x 11 columns]"
            ]
          },
          "metadata": {},
          "execution_count": 54
        }
      ],
      "source": [
        "user_features = ['User_id', 'Skin_Tone', 'Skin_Type', 'Eye_Color', 'Hair_Color', \n",
        "                   'Product_id', 'Product', 'Brand', 'Category', 'Rating_Stars']\n",
        "user_set = skincare_data[user_features].copy()\n",
        "\n",
        "physical_features = ['Skin_Type', 'Skin_Tone', 'Eye_Color', 'Hair_Color']\n",
        "user_set['combined_features'] = user_set['Skin_Type'] + \", \" +  user_set['Skin_Tone'] + \", \" +  user_set['Eye_Color'] + \", \" +  user_set['Hair_Color']\n",
        "user_set.head()"
      ]
    },
    {
      "cell_type": "code",
      "execution_count": null,
      "metadata": {
        "id": "cl2ytc0KttGP",
        "colab": {
          "base_uri": "https://localhost:8080/",
          "height": 1000
        },
        "outputId": "315cfb06-2ebf-4446-e9e8-15265919b13c"
      },
      "outputs": [
        {
          "output_type": "display_data",
          "data": {
            "image/png": "[encoded data removed]",
            "text/plain": [
              "<Figure size 1584x1080 with 1 Axes>"
            ]
          },
          "metadata": {}
        }
      ],
      "source": [
        "plt.figure(figsize=(22,15))\n",
        "cvalues = user_set['combined_features'].value_counts().head(20)\n",
        "x_axis= cvalues.plot(kind = 'bar', color='pink', title='User features')\n",
        "\n",
        "plt.xticks(rotation=90)\n",
        "plt.show(x_axis)"
      ]
    },
    {
      "cell_type": "markdown",
      "metadata": {
        "id": "V4Qpp_v12OKZ"
      },
      "source": [
        "The plot above shows a dominance whithin people with combination skin and it is not surprising to see as the majority of people will deal with skin type/texture changes throughout their lifes, more typically being oily or combination during their 20-30s and moving towards a dry skin type later in life as certain hormones change."
      ]
    },
    {
      "cell_type": "code",
      "execution_count": null,
      "metadata": {
        "id": "x5kbpSAP4TSP",
        "colab": {
          "base_uri": "https://localhost:8080/",
          "height": 452
        },
        "outputId": "3865f2fd-06d7-42b2-95ae-4b0409e218ce"
      },
      "outputs": [
        {
          "output_type": "execute_result",
          "data": {
            "text/html": [
              "\n",
              "  <div id=\"df-6c2a6eec-5bd7-42e1-abb5-585d26af1b01\">\n",
              "    <div class=\"colab-df-container\">\n",
              "      <div>\n",
              "<style scoped>\n",
              "    .dataframe tbody tr th:only-of-type {\n",
              "        vertical-align: middle;\n",
              "    }\n",
              "\n",
              "    .dataframe tbody tr th {\n",
              "        vertical-align: top;\n",
              "    }\n",
              "\n",
              "    .dataframe thead th {\n",
              "        text-align: right;\n",
              "    }\n",
              "</style>\n",
              "<table border=\"1\" class=\"dataframe\">\n",
              "  <thead>\n",
              "    <tr style=\"text-align: right;\">\n",
              "      <th>combined_features</th>\n",
              "      <th>Combination, Dark, Brown, Auburn</th>\n",
              "      <th>Combination, Dark, Brown, Black</th>\n",
              "      <th>Combination, Dark, Brown, Blonde</th>\n",
              "      <th>Combination, Dark, Brown, Brunette</th>\n",
              "      <th>Combination, Deep, Brown, Auburn</th>\n",
              "      <th>Combination, Deep, Brown, Black</th>\n",
              "      <th>Combination, Deep, Brown, Blonde</th>\n",
              "      <th>Combination, Deep, Brown, Brunette</th>\n",
              "      <th>Combination, Deep, Green, Auburn</th>\n",
              "      <th>Combination, Deep, Hazel, Black</th>\n",
              "      <th>Combination, Deep, Hazel, Brunette</th>\n",
              "      <th>Combination, Ebony, Blue, Gray</th>\n",
              "      <th>Combination, Ebony, Brown, Auburn</th>\n",
              "      <th>Combination, Ebony, Brown, Black</th>\n",
              "      <th>Combination, Ebony, Brown, Brunette</th>\n",
              "      <th>Combination, Fair, Blue, Auburn</th>\n",
              "      <th>Combination, Fair, Blue, Black</th>\n",
              "      <th>Combination, Fair, Blue, Blonde</th>\n",
              "      <th>Combination, Fair, Blue, Brunette</th>\n",
              "      <th>Combination, Fair, Blue, Gray</th>\n",
              "      <th>Combination, Fair, Blue, Red</th>\n",
              "      <th>Combination, Fair, Brown, Auburn</th>\n",
              "      <th>Combination, Fair, Brown, Black</th>\n",
              "      <th>Combination, Fair, Brown, Blonde</th>\n",
              "      <th>Combination, Fair, Brown, Brunette</th>\n",
              "      <th>Combination, Fair, Brown, Gray</th>\n",
              "      <th>Combination, Fair, Brown, Red</th>\n",
              "      <th>Combination, Fair, Gray, Black</th>\n",
              "      <th>Combination, Fair, Gray, Blonde</th>\n",
              "      <th>Combination, Fair, Gray, Brunette</th>\n",
              "      <th>Combination, Fair, Gray, Red</th>\n",
              "      <th>Combination, Fair, Green, Auburn</th>\n",
              "      <th>Combination, Fair, Green, Black</th>\n",
              "      <th>Combination, Fair, Green, Blonde</th>\n",
              "      <th>Combination, Fair, Green, Brunette</th>\n",
              "      <th>Combination, Fair, Green, Gray</th>\n",
              "      <th>Combination, Fair, Green, Red</th>\n",
              "      <th>Combination, Fair, Hazel, Auburn</th>\n",
              "      <th>Combination, Fair, Hazel, Black</th>\n",
              "      <th>Combination, Fair, Hazel, Blonde</th>\n",
              "      <th>...</th>\n",
              "      <th>Oily, Medium, Hazel, Auburn</th>\n",
              "      <th>Oily, Medium, Hazel, Black</th>\n",
              "      <th>Oily, Medium, Hazel, Blonde</th>\n",
              "      <th>Oily, Medium, Hazel, Brunette</th>\n",
              "      <th>Oily, Medium, Hazel, Red</th>\n",
              "      <th>Oily, Olive, Blue, Blonde</th>\n",
              "      <th>Oily, Olive, Blue, Brunette</th>\n",
              "      <th>Oily, Olive, Brown, Black</th>\n",
              "      <th>Oily, Olive, Brown, Blonde</th>\n",
              "      <th>Oily, Olive, Brown, Brunette</th>\n",
              "      <th>Oily, Olive, Gray, Black</th>\n",
              "      <th>Oily, Olive, Gray, Brunette</th>\n",
              "      <th>Oily, Olive, Green, Brunette</th>\n",
              "      <th>Oily, Olive, Hazel, Black</th>\n",
              "      <th>Oily, Olive, Hazel, Blonde</th>\n",
              "      <th>Oily, Olive, Hazel, Brunette</th>\n",
              "      <th>Oily, Porcelain, Blue, Auburn</th>\n",
              "      <th>Oily, Porcelain, Blue, Blonde</th>\n",
              "      <th>Oily, Porcelain, Blue, Brunette</th>\n",
              "      <th>Oily, Porcelain, Brown, Auburn</th>\n",
              "      <th>Oily, Porcelain, Brown, Black</th>\n",
              "      <th>Oily, Porcelain, Brown, Blonde</th>\n",
              "      <th>Oily, Porcelain, Brown, Brunette</th>\n",
              "      <th>Oily, Porcelain, Brown, Red</th>\n",
              "      <th>Oily, Porcelain, Green, Black</th>\n",
              "      <th>Oily, Porcelain, Green, Blonde</th>\n",
              "      <th>Oily, Porcelain, Green, Brunette</th>\n",
              "      <th>Oily, Porcelain, Green, Red</th>\n",
              "      <th>Oily, Porcelain, Hazel, Auburn</th>\n",
              "      <th>Oily, Porcelain, Hazel, Blonde</th>\n",
              "      <th>Oily, Porcelain, Hazel, Brunette</th>\n",
              "      <th>Oily, Porcelain, Hazel, Red</th>\n",
              "      <th>Oily, Tan, Blue, Blonde</th>\n",
              "      <th>Oily, Tan, Blue, Brunette</th>\n",
              "      <th>Oily, Tan, Brown, Black</th>\n",
              "      <th>Oily, Tan, Brown, Blonde</th>\n",
              "      <th>Oily, Tan, Brown, Brunette</th>\n",
              "      <th>Oily, Tan, Green, Blonde</th>\n",
              "      <th>Oily, Tan, Green, Brunette</th>\n",
              "      <th>Oily, Tan, Hazel, Blonde</th>\n",
              "    </tr>\n",
              "    <tr>\n",
              "      <th>Product</th>\n",
              "      <th></th>\n",
              "      <th></th>\n",
              "      <th></th>\n",
              "      <th></th>\n",
              "      <th></th>\n",
              "      <th></th>\n",
              "      <th></th>\n",
              "      <th></th>\n",
              "      <th></th>\n",
              "      <th></th>\n",
              "      <th></th>\n",
              "      <th></th>\n",
              "      <th></th>\n",
              "      <th></th>\n",
              "      <th></th>\n",
              "      <th></th>\n",
              "      <th></th>\n",
              "      <th></th>\n",
              "      <th></th>\n",
              "      <th></th>\n",
              "      <th></th>\n",
              "      <th></th>\n",
              "      <th></th>\n",
              "      <th></th>\n",
              "      <th></th>\n",
              "      <th></th>\n",
              "      <th></th>\n",
              "      <th></th>\n",
              "      <th></th>\n",
              "      <th></th>\n",
              "      <th></th>\n",
              "      <th></th>\n",
              "      <th></th>\n",
              "      <th></th>\n",
              "      <th></th>\n",
              "      <th></th>\n",
              "      <th></th>\n",
              "      <th></th>\n",
              "      <th></th>\n",
              "      <th></th>\n",
              "      <th></th>\n",
              "      <th></th>\n",
              "      <th></th>\n",
              "      <th></th>\n",
              "      <th></th>\n",
              "      <th></th>\n",
              "      <th></th>\n",
              "      <th></th>\n",
              "      <th></th>\n",
              "      <th></th>\n",
              "      <th></th>\n",
              "      <th></th>\n",
              "      <th></th>\n",
              "      <th></th>\n",
              "      <th></th>\n",
              "      <th></th>\n",
              "      <th></th>\n",
              "      <th></th>\n",
              "      <th></th>\n",
              "      <th></th>\n",
              "      <th></th>\n",
              "      <th></th>\n",
              "      <th></th>\n",
              "      <th></th>\n",
              "      <th></th>\n",
              "      <th></th>\n",
              "      <th></th>\n",
              "      <th></th>\n",
              "      <th></th>\n",
              "      <th></th>\n",
              "      <th></th>\n",
              "      <th></th>\n",
              "      <th></th>\n",
              "      <th></th>\n",
              "      <th></th>\n",
              "      <th></th>\n",
              "      <th></th>\n",
              "      <th></th>\n",
              "      <th></th>\n",
              "      <th></th>\n",
              "      <th></th>\n",
              "    </tr>\n",
              "  </thead>\n",
              "  <tbody>\n",
              "    <tr>\n",
              "      <th>+Retinol Vita C Power Serum</th>\n",
              "      <td>NaN</td>\n",
              "      <td>NaN</td>\n",
              "      <td>NaN</td>\n",
              "      <td>NaN</td>\n",
              "      <td>NaN</td>\n",
              "      <td>NaN</td>\n",
              "      <td>NaN</td>\n",
              "      <td>NaN</td>\n",
              "      <td>NaN</td>\n",
              "      <td>NaN</td>\n",
              "      <td>NaN</td>\n",
              "      <td>NaN</td>\n",
              "      <td>NaN</td>\n",
              "      <td>NaN</td>\n",
              "      <td>NaN</td>\n",
              "      <td>NaN</td>\n",
              "      <td>NaN</td>\n",
              "      <td>NaN</td>\n",
              "      <td>NaN</td>\n",
              "      <td>NaN</td>\n",
              "      <td>NaN</td>\n",
              "      <td>NaN</td>\n",
              "      <td>NaN</td>\n",
              "      <td>NaN</td>\n",
              "      <td>NaN</td>\n",
              "      <td>NaN</td>\n",
              "      <td>NaN</td>\n",
              "      <td>NaN</td>\n",
              "      <td>NaN</td>\n",
              "      <td>NaN</td>\n",
              "      <td>NaN</td>\n",
              "      <td>NaN</td>\n",
              "      <td>NaN</td>\n",
              "      <td>NaN</td>\n",
              "      <td>1.00</td>\n",
              "      <td>NaN</td>\n",
              "      <td>NaN</td>\n",
              "      <td>NaN</td>\n",
              "      <td>NaN</td>\n",
              "      <td>NaN</td>\n",
              "      <td>...</td>\n",
              "      <td>NaN</td>\n",
              "      <td>NaN</td>\n",
              "      <td>NaN</td>\n",
              "      <td>NaN</td>\n",
              "      <td>NaN</td>\n",
              "      <td>NaN</td>\n",
              "      <td>NaN</td>\n",
              "      <td>NaN</td>\n",
              "      <td>NaN</td>\n",
              "      <td>NaN</td>\n",
              "      <td>NaN</td>\n",
              "      <td>NaN</td>\n",
              "      <td>NaN</td>\n",
              "      <td>NaN</td>\n",
              "      <td>NaN</td>\n",
              "      <td>NaN</td>\n",
              "      <td>NaN</td>\n",
              "      <td>NaN</td>\n",
              "      <td>NaN</td>\n",
              "      <td>NaN</td>\n",
              "      <td>NaN</td>\n",
              "      <td>NaN</td>\n",
              "      <td>NaN</td>\n",
              "      <td>NaN</td>\n",
              "      <td>NaN</td>\n",
              "      <td>NaN</td>\n",
              "      <td>NaN</td>\n",
              "      <td>NaN</td>\n",
              "      <td>NaN</td>\n",
              "      <td>NaN</td>\n",
              "      <td>NaN</td>\n",
              "      <td>NaN</td>\n",
              "      <td>NaN</td>\n",
              "      <td>NaN</td>\n",
              "      <td>NaN</td>\n",
              "      <td>NaN</td>\n",
              "      <td>NaN</td>\n",
              "      <td>NaN</td>\n",
              "      <td>NaN</td>\n",
              "      <td>NaN</td>\n",
              "    </tr>\n",
              "    <tr>\n",
              "      <th>100 percent Pure Argan Oil</th>\n",
              "      <td>NaN</td>\n",
              "      <td>1.00</td>\n",
              "      <td>NaN</td>\n",
              "      <td>NaN</td>\n",
              "      <td>NaN</td>\n",
              "      <td>NaN</td>\n",
              "      <td>NaN</td>\n",
              "      <td>NaN</td>\n",
              "      <td>NaN</td>\n",
              "      <td>NaN</td>\n",
              "      <td>NaN</td>\n",
              "      <td>NaN</td>\n",
              "      <td>NaN</td>\n",
              "      <td>NaN</td>\n",
              "      <td>NaN</td>\n",
              "      <td>NaN</td>\n",
              "      <td>NaN</td>\n",
              "      <td>NaN</td>\n",
              "      <td>NaN</td>\n",
              "      <td>NaN</td>\n",
              "      <td>NaN</td>\n",
              "      <td>NaN</td>\n",
              "      <td>NaN</td>\n",
              "      <td>NaN</td>\n",
              "      <td>NaN</td>\n",
              "      <td>NaN</td>\n",
              "      <td>NaN</td>\n",
              "      <td>NaN</td>\n",
              "      <td>NaN</td>\n",
              "      <td>NaN</td>\n",
              "      <td>NaN</td>\n",
              "      <td>NaN</td>\n",
              "      <td>NaN</td>\n",
              "      <td>NaN</td>\n",
              "      <td>NaN</td>\n",
              "      <td>NaN</td>\n",
              "      <td>NaN</td>\n",
              "      <td>NaN</td>\n",
              "      <td>NaN</td>\n",
              "      <td>NaN</td>\n",
              "      <td>...</td>\n",
              "      <td>NaN</td>\n",
              "      <td>NaN</td>\n",
              "      <td>NaN</td>\n",
              "      <td>NaN</td>\n",
              "      <td>NaN</td>\n",
              "      <td>NaN</td>\n",
              "      <td>NaN</td>\n",
              "      <td>NaN</td>\n",
              "      <td>NaN</td>\n",
              "      <td>NaN</td>\n",
              "      <td>NaN</td>\n",
              "      <td>NaN</td>\n",
              "      <td>NaN</td>\n",
              "      <td>NaN</td>\n",
              "      <td>NaN</td>\n",
              "      <td>NaN</td>\n",
              "      <td>NaN</td>\n",
              "      <td>NaN</td>\n",
              "      <td>NaN</td>\n",
              "      <td>NaN</td>\n",
              "      <td>NaN</td>\n",
              "      <td>NaN</td>\n",
              "      <td>NaN</td>\n",
              "      <td>NaN</td>\n",
              "      <td>NaN</td>\n",
              "      <td>NaN</td>\n",
              "      <td>NaN</td>\n",
              "      <td>NaN</td>\n",
              "      <td>NaN</td>\n",
              "      <td>NaN</td>\n",
              "      <td>NaN</td>\n",
              "      <td>NaN</td>\n",
              "      <td>NaN</td>\n",
              "      <td>NaN</td>\n",
              "      <td>NaN</td>\n",
              "      <td>NaN</td>\n",
              "      <td>NaN</td>\n",
              "      <td>NaN</td>\n",
              "      <td>NaN</td>\n",
              "      <td>NaN</td>\n",
              "    </tr>\n",
              "    <tr>\n",
              "      <th>100 percent Pure Argan Oil Light</th>\n",
              "      <td>NaN</td>\n",
              "      <td>NaN</td>\n",
              "      <td>NaN</td>\n",
              "      <td>NaN</td>\n",
              "      <td>NaN</td>\n",
              "      <td>NaN</td>\n",
              "      <td>NaN</td>\n",
              "      <td>NaN</td>\n",
              "      <td>NaN</td>\n",
              "      <td>NaN</td>\n",
              "      <td>NaN</td>\n",
              "      <td>NaN</td>\n",
              "      <td>NaN</td>\n",
              "      <td>NaN</td>\n",
              "      <td>NaN</td>\n",
              "      <td>NaN</td>\n",
              "      <td>NaN</td>\n",
              "      <td>NaN</td>\n",
              "      <td>NaN</td>\n",
              "      <td>NaN</td>\n",
              "      <td>NaN</td>\n",
              "      <td>NaN</td>\n",
              "      <td>NaN</td>\n",
              "      <td>NaN</td>\n",
              "      <td>3.50</td>\n",
              "      <td>NaN</td>\n",
              "      <td>NaN</td>\n",
              "      <td>NaN</td>\n",
              "      <td>NaN</td>\n",
              "      <td>NaN</td>\n",
              "      <td>NaN</td>\n",
              "      <td>5.00</td>\n",
              "      <td>NaN</td>\n",
              "      <td>NaN</td>\n",
              "      <td>NaN</td>\n",
              "      <td>NaN</td>\n",
              "      <td>3.00</td>\n",
              "      <td>NaN</td>\n",
              "      <td>NaN</td>\n",
              "      <td>NaN</td>\n",
              "      <td>...</td>\n",
              "      <td>NaN</td>\n",
              "      <td>NaN</td>\n",
              "      <td>NaN</td>\n",
              "      <td>NaN</td>\n",
              "      <td>NaN</td>\n",
              "      <td>NaN</td>\n",
              "      <td>NaN</td>\n",
              "      <td>NaN</td>\n",
              "      <td>NaN</td>\n",
              "      <td>NaN</td>\n",
              "      <td>NaN</td>\n",
              "      <td>NaN</td>\n",
              "      <td>NaN</td>\n",
              "      <td>NaN</td>\n",
              "      <td>NaN</td>\n",
              "      <td>NaN</td>\n",
              "      <td>NaN</td>\n",
              "      <td>NaN</td>\n",
              "      <td>NaN</td>\n",
              "      <td>NaN</td>\n",
              "      <td>NaN</td>\n",
              "      <td>NaN</td>\n",
              "      <td>NaN</td>\n",
              "      <td>NaN</td>\n",
              "      <td>NaN</td>\n",
              "      <td>NaN</td>\n",
              "      <td>NaN</td>\n",
              "      <td>NaN</td>\n",
              "      <td>NaN</td>\n",
              "      <td>NaN</td>\n",
              "      <td>NaN</td>\n",
              "      <td>NaN</td>\n",
              "      <td>NaN</td>\n",
              "      <td>NaN</td>\n",
              "      <td>NaN</td>\n",
              "      <td>NaN</td>\n",
              "      <td>NaN</td>\n",
              "      <td>NaN</td>\n",
              "      <td>NaN</td>\n",
              "      <td>NaN</td>\n",
              "    </tr>\n",
              "    <tr>\n",
              "      <th>3 Muslin Cloths</th>\n",
              "      <td>NaN</td>\n",
              "      <td>NaN</td>\n",
              "      <td>NaN</td>\n",
              "      <td>NaN</td>\n",
              "      <td>NaN</td>\n",
              "      <td>NaN</td>\n",
              "      <td>NaN</td>\n",
              "      <td>5.00</td>\n",
              "      <td>NaN</td>\n",
              "      <td>NaN</td>\n",
              "      <td>NaN</td>\n",
              "      <td>NaN</td>\n",
              "      <td>NaN</td>\n",
              "      <td>4.00</td>\n",
              "      <td>5.00</td>\n",
              "      <td>NaN</td>\n",
              "      <td>NaN</td>\n",
              "      <td>5.00</td>\n",
              "      <td>NaN</td>\n",
              "      <td>NaN</td>\n",
              "      <td>NaN</td>\n",
              "      <td>NaN</td>\n",
              "      <td>NaN</td>\n",
              "      <td>NaN</td>\n",
              "      <td>5.00</td>\n",
              "      <td>NaN</td>\n",
              "      <td>NaN</td>\n",
              "      <td>NaN</td>\n",
              "      <td>NaN</td>\n",
              "      <td>NaN</td>\n",
              "      <td>NaN</td>\n",
              "      <td>NaN</td>\n",
              "      <td>NaN</td>\n",
              "      <td>5.00</td>\n",
              "      <td>NaN</td>\n",
              "      <td>NaN</td>\n",
              "      <td>NaN</td>\n",
              "      <td>NaN</td>\n",
              "      <td>NaN</td>\n",
              "      <td>NaN</td>\n",
              "      <td>...</td>\n",
              "      <td>NaN</td>\n",
              "      <td>NaN</td>\n",
              "      <td>NaN</td>\n",
              "      <td>NaN</td>\n",
              "      <td>NaN</td>\n",
              "      <td>NaN</td>\n",
              "      <td>NaN</td>\n",
              "      <td>NaN</td>\n",
              "      <td>NaN</td>\n",
              "      <td>NaN</td>\n",
              "      <td>NaN</td>\n",
              "      <td>NaN</td>\n",
              "      <td>NaN</td>\n",
              "      <td>NaN</td>\n",
              "      <td>NaN</td>\n",
              "      <td>NaN</td>\n",
              "      <td>NaN</td>\n",
              "      <td>NaN</td>\n",
              "      <td>NaN</td>\n",
              "      <td>NaN</td>\n",
              "      <td>NaN</td>\n",
              "      <td>NaN</td>\n",
              "      <td>NaN</td>\n",
              "      <td>NaN</td>\n",
              "      <td>NaN</td>\n",
              "      <td>NaN</td>\n",
              "      <td>NaN</td>\n",
              "      <td>NaN</td>\n",
              "      <td>NaN</td>\n",
              "      <td>NaN</td>\n",
              "      <td>NaN</td>\n",
              "      <td>NaN</td>\n",
              "      <td>NaN</td>\n",
              "      <td>NaN</td>\n",
              "      <td>NaN</td>\n",
              "      <td>NaN</td>\n",
              "      <td>NaN</td>\n",
              "      <td>NaN</td>\n",
              "      <td>NaN</td>\n",
              "      <td>NaN</td>\n",
              "    </tr>\n",
              "    <tr>\n",
              "      <th>3% Glycolic Solutions Cleanser</th>\n",
              "      <td>NaN</td>\n",
              "      <td>5.00</td>\n",
              "      <td>NaN</td>\n",
              "      <td>NaN</td>\n",
              "      <td>NaN</td>\n",
              "      <td>NaN</td>\n",
              "      <td>NaN</td>\n",
              "      <td>NaN</td>\n",
              "      <td>NaN</td>\n",
              "      <td>NaN</td>\n",
              "      <td>NaN</td>\n",
              "      <td>NaN</td>\n",
              "      <td>NaN</td>\n",
              "      <td>NaN</td>\n",
              "      <td>NaN</td>\n",
              "      <td>NaN</td>\n",
              "      <td>NaN</td>\n",
              "      <td>NaN</td>\n",
              "      <td>NaN</td>\n",
              "      <td>NaN</td>\n",
              "      <td>NaN</td>\n",
              "      <td>NaN</td>\n",
              "      <td>NaN</td>\n",
              "      <td>NaN</td>\n",
              "      <td>NaN</td>\n",
              "      <td>NaN</td>\n",
              "      <td>NaN</td>\n",
              "      <td>NaN</td>\n",
              "      <td>NaN</td>\n",
              "      <td>NaN</td>\n",
              "      <td>NaN</td>\n",
              "      <td>NaN</td>\n",
              "      <td>NaN</td>\n",
              "      <td>NaN</td>\n",
              "      <td>NaN</td>\n",
              "      <td>NaN</td>\n",
              "      <td>NaN</td>\n",
              "      <td>NaN</td>\n",
              "      <td>NaN</td>\n",
              "      <td>NaN</td>\n",
              "      <td>...</td>\n",
              "      <td>NaN</td>\n",
              "      <td>NaN</td>\n",
              "      <td>NaN</td>\n",
              "      <td>NaN</td>\n",
              "      <td>NaN</td>\n",
              "      <td>NaN</td>\n",
              "      <td>NaN</td>\n",
              "      <td>NaN</td>\n",
              "      <td>NaN</td>\n",
              "      <td>NaN</td>\n",
              "      <td>NaN</td>\n",
              "      <td>NaN</td>\n",
              "      <td>NaN</td>\n",
              "      <td>NaN</td>\n",
              "      <td>NaN</td>\n",
              "      <td>NaN</td>\n",
              "      <td>NaN</td>\n",
              "      <td>NaN</td>\n",
              "      <td>NaN</td>\n",
              "      <td>NaN</td>\n",
              "      <td>NaN</td>\n",
              "      <td>NaN</td>\n",
              "      <td>NaN</td>\n",
              "      <td>NaN</td>\n",
              "      <td>NaN</td>\n",
              "      <td>NaN</td>\n",
              "      <td>NaN</td>\n",
              "      <td>NaN</td>\n",
              "      <td>NaN</td>\n",
              "      <td>NaN</td>\n",
              "      <td>NaN</td>\n",
              "      <td>NaN</td>\n",
              "      <td>NaN</td>\n",
              "      <td>NaN</td>\n",
              "      <td>2.00</td>\n",
              "      <td>NaN</td>\n",
              "      <td>NaN</td>\n",
              "      <td>NaN</td>\n",
              "      <td>NaN</td>\n",
              "      <td>NaN</td>\n",
              "    </tr>\n",
              "  </tbody>\n",
              "</table>\n",
              "<p>5 rows × 437 columns</p>\n",
              "</div>\n",
              "      <button class=\"colab-df-convert\" onclick=\"convertToInteractive('df-6c2a6eec-5bd7-42e1-abb5-585d26af1b01')\"\n",
              "              title=\"Convert this dataframe to an interactive table.\"\n",
              "              style=\"display:none;\">\n",
              "        \n",
              "  <svg xmlns=\"http://www.w3.org/2000/svg\" height=\"24px\"viewBox=\"0 0 24 24\"\n",
              "       width=\"24px\">\n",
              "    <path d=\"M0 0h24v24H0V0z\" fill=\"none\"/>\n",
              "    <path d=\"M18.56 5.44l.94 2.06.94-2.06 2.06-.94-2.06-.94-.94-2.06-.94 2.06-2.06.94zm-11 1L8.5 8.5l.94-2.06 2.06-.94-2.06-.94L8.5 2.5l-.94 2.06-2.06.94zm10 10l.94 2.06.94-2.06 2.06-.94-2.06-.94-.94-2.06-.94 2.06-2.06.94z\"/><path d=\"M17.41 7.96l-1.37-1.37c-.4-.4-.92-.59-1.43-.59-.52 0-1.04.2-1.43.59L10.3 9.45l-7.72 7.72c-.78.78-.78 2.05 0 2.83L4 21.41c.39.39.9.59 1.41.59.51 0 1.02-.2 1.41-.59l7.78-7.78 2.81-2.81c.8-.78.8-2.07 0-2.86zM5.41 20L4 18.59l7.72-7.72 1.47 1.35L5.41 20z\"/>\n",
              "  </svg>\n",
              "      </button>\n",
              "      \n",
              "  <style>\n",
              "    .colab-df-container {\n",
              "      display:flex;\n",
              "      flex-wrap:wrap;\n",
              "      gap: 12px;\n",
              "    }\n",
              "\n",
              "    .colab-df-convert {\n",
              "      background-color: #E8F0FE;\n",
              "      border: none;\n",
              "      border-radius: 50%;\n",
              "      cursor: pointer;\n",
              "      display: none;\n",
              "      fill: #1967D2;\n",
              "      height: 32px;\n",
              "      padding: 0 0 0 0;\n",
              "      width: 32px;\n",
              "    }\n",
              "\n",
              "    .colab-df-convert:hover {\n",
              "      background-color: #E2EBFA;\n",
              "      box-shadow: 0px 1px 2px rgba(60, 64, 67, 0.3), 0px 1px 3px 1px rgba(60, 64, 67, 0.15);\n",
              "      fill: #174EA6;\n",
              "    }\n",
              "\n",
              "    [theme=dark] .colab-df-convert {\n",
              "      background-color: #3B4455;\n",
              "      fill: #D2E3FC;\n",
              "    }\n",
              "\n",
              "    [theme=dark] .colab-df-convert:hover {\n",
              "      background-color: #434B5C;\n",
              "      box-shadow: 0px 1px 3px 1px rgba(0, 0, 0, 0.15);\n",
              "      filter: drop-shadow(0px 1px 2px rgba(0, 0, 0, 0.3));\n",
              "      fill: #FFFFFF;\n",
              "    }\n",
              "  </style>\n",
              "\n",
              "      <script>\n",
              "        const buttonEl =\n",
              "          document.querySelector('#df-6c2a6eec-5bd7-42e1-abb5-585d26af1b01 button.colab-df-convert');\n",
              "        buttonEl.style.display =\n",
              "          google.colab.kernel.accessAllowed ? 'block' : 'none';\n",
              "\n",
              "        async function convertToInteractive(key) {\n",
              "          const element = document.querySelector('#df-6c2a6eec-5bd7-42e1-abb5-585d26af1b01');\n",
              "          const dataTable =\n",
              "            await google.colab.kernel.invokeFunction('convertToInteractive',\n",
              "                                                     [key], {});\n",
              "          if (!dataTable) return;\n",
              "\n",
              "          const docLinkHtml = 'Like what you see? Visit the ' +\n",
              "            '<a target=\"_blank\" href=https://colab.research.google.com/notebooks/data_table.ipynb>data table notebook</a>'\n",
              "            + ' to learn more about interactive tables.';\n",
              "          element.innerHTML = '';\n",
              "          dataTable['output_type'] = 'display_data';\n",
              "          await google.colab.output.renderOutput(dataTable, element);\n",
              "          const docLink = document.createElement('div');\n",
              "          docLink.innerHTML = docLinkHtml;\n",
              "          element.appendChild(docLink);\n",
              "        }\n",
              "      </script>\n",
              "    </div>\n",
              "  </div>\n",
              "  "
            ],
            "text/plain": [
              "combined_features                 Combination, Dark, Brown, Auburn  ...  Oily, Tan, Hazel, Blonde\n",
              "Product                                                             ...                          \n",
              "+Retinol Vita C Power Serum                                    NaN  ...                       NaN\n",
              "100 percent Pure Argan Oil                                     NaN  ...                       NaN\n",
              "100 percent Pure Argan Oil Light                               NaN  ...                       NaN\n",
              "3 Muslin Cloths                                                NaN  ...                       NaN\n",
              "3% Glycolic Solutions Cleanser                                 NaN  ...                       NaN\n",
              "\n",
              "[5 rows x 437 columns]"
            ]
          },
          "metadata": {},
          "execution_count": 56
        }
      ],
      "source": [
        "matrix = user_set.pivot_table(index='Product',columns='combined_features', values='Rating_Stars')\n",
        "matrix.head()"
      ]
    },
    {
      "cell_type": "markdown",
      "metadata": {
        "id": "a9MT4COAI30Z"
      },
      "source": [
        "# 1. Correlation model"
      ]
    },
    {
      "cell_type": "code",
      "execution_count": null,
      "metadata": {
        "id": "_guj1Lj_6BPK",
        "colab": {
          "base_uri": "https://localhost:8080/",
          "height": 345
        },
        "outputId": "27645a5c-dd9d-4205-a817-f23280fc7def"
      },
      "outputs": [
        {
          "output_type": "stream",
          "name": "stderr",
          "text": [
            "/usr/local/lib/python3.7/dist-packages/numpy/lib/function_base.py:2683: RuntimeWarning:\n",
            "\n",
            "Degrees of freedom <= 0 for slice\n",
            "\n",
            "/usr/local/lib/python3.7/dist-packages/numpy/lib/function_base.py:2542: RuntimeWarning:\n",
            "\n",
            "divide by zero encountered in true_divide\n",
            "\n"
          ]
        },
        {
          "output_type": "execute_result",
          "data": {
            "text/html": [
              "\n",
              "  <div id=\"df-28eb04fb-81fd-4299-b922-98b9f058e433\">\n",
              "    <div class=\"colab-df-container\">\n",
              "      <div>\n",
              "<style scoped>\n",
              "    .dataframe tbody tr th:only-of-type {\n",
              "        vertical-align: middle;\n",
              "    }\n",
              "\n",
              "    .dataframe tbody tr th {\n",
              "        vertical-align: top;\n",
              "    }\n",
              "\n",
              "    .dataframe thead th {\n",
              "        text-align: right;\n",
              "    }\n",
              "</style>\n",
              "<table border=\"1\" class=\"dataframe\">\n",
              "  <thead>\n",
              "    <tr style=\"text-align: right;\">\n",
              "      <th></th>\n",
              "      <th>Product</th>\n",
              "      <th>Category</th>\n",
              "      <th>combined_features</th>\n",
              "      <th>correlation</th>\n",
              "      <th>Rating_Stars</th>\n",
              "    </tr>\n",
              "  </thead>\n",
              "  <tbody>\n",
              "    <tr>\n",
              "      <th>2867</th>\n",
              "      <td>Aqua Bomb Sleeping Mask</td>\n",
              "      <td>Moisturizer</td>\n",
              "      <td>Dry, Medium, Brown, Brunette</td>\n",
              "      <td>1.00</td>\n",
              "      <td>5</td>\n",
              "    </tr>\n",
              "    <tr>\n",
              "      <th>2885</th>\n",
              "      <td>Benefiance WrinkleResist24 Balancing Softener ...</td>\n",
              "      <td>Moisturizer</td>\n",
              "      <td>Dry, Medium, Brown, Brunette</td>\n",
              "      <td>1.00</td>\n",
              "      <td>5</td>\n",
              "    </tr>\n",
              "    <tr>\n",
              "      <th>2894</th>\n",
              "      <td>Bio Retinoid Anti-Wrinkle Concentrate Oil</td>\n",
              "      <td>Treatment</td>\n",
              "      <td>Dry, Medium, Brown, Brunette</td>\n",
              "      <td>1.00</td>\n",
              "      <td>5</td>\n",
              "    </tr>\n",
              "    <tr>\n",
              "      <th>2859</th>\n",
              "      <td>Black Tea Corset Cream Firming Moisturizer</td>\n",
              "      <td>Moisturizer</td>\n",
              "      <td>Dry, Medium, Brown, Brunette</td>\n",
              "      <td>1.00</td>\n",
              "      <td>5</td>\n",
              "    </tr>\n",
              "    <tr>\n",
              "      <th>2879</th>\n",
              "      <td>Cleansing Spa Water Cloths</td>\n",
              "      <td>Cleanser</td>\n",
              "      <td>Dry, Medium, Brown, Brunette</td>\n",
              "      <td>1.00</td>\n",
              "      <td>5</td>\n",
              "    </tr>\n",
              "  </tbody>\n",
              "</table>\n",
              "</div>\n",
              "      <button class=\"colab-df-convert\" onclick=\"convertToInteractive('df-28eb04fb-81fd-4299-b922-98b9f058e433')\"\n",
              "              title=\"Convert this dataframe to an interactive table.\"\n",
              "              style=\"display:none;\">\n",
              "        \n",
              "  <svg xmlns=\"http://www.w3.org/2000/svg\" height=\"24px\"viewBox=\"0 0 24 24\"\n",
              "       width=\"24px\">\n",
              "    <path d=\"M0 0h24v24H0V0z\" fill=\"none\"/>\n",
              "    <path d=\"M18.56 5.44l.94 2.06.94-2.06 2.06-.94-2.06-.94-.94-2.06-.94 2.06-2.06.94zm-11 1L8.5 8.5l.94-2.06 2.06-.94-2.06-.94L8.5 2.5l-.94 2.06-2.06.94zm10 10l.94 2.06.94-2.06 2.06-.94-2.06-.94-.94-2.06-.94 2.06-2.06.94z\"/><path d=\"M17.41 7.96l-1.37-1.37c-.4-.4-.92-.59-1.43-.59-.52 0-1.04.2-1.43.59L10.3 9.45l-7.72 7.72c-.78.78-.78 2.05 0 2.83L4 21.41c.39.39.9.59 1.41.59.51 0 1.02-.2 1.41-.59l7.78-7.78 2.81-2.81c.8-.78.8-2.07 0-2.86zM5.41 20L4 18.59l7.72-7.72 1.47 1.35L5.41 20z\"/>\n",
              "  </svg>\n",
              "      </button>\n",
              "      \n",
              "  <style>\n",
              "    .colab-df-container {\n",
              "      display:flex;\n",
              "      flex-wrap:wrap;\n",
              "      gap: 12px;\n",
              "    }\n",
              "\n",
              "    .colab-df-convert {\n",
              "      background-color: #E8F0FE;\n",
              "      border: none;\n",
              "      border-radius: 50%;\n",
              "      cursor: pointer;\n",
              "      display: none;\n",
              "      fill: #1967D2;\n",
              "      height: 32px;\n",
              "      padding: 0 0 0 0;\n",
              "      width: 32px;\n",
              "    }\n",
              "\n",
              "    .colab-df-convert:hover {\n",
              "      background-color: #E2EBFA;\n",
              "      box-shadow: 0px 1px 2px rgba(60, 64, 67, 0.3), 0px 1px 3px 1px rgba(60, 64, 67, 0.15);\n",
              "      fill: #174EA6;\n",
              "    }\n",
              "\n",
              "    [theme=dark] .colab-df-convert {\n",
              "      background-color: #3B4455;\n",
              "      fill: #D2E3FC;\n",
              "    }\n",
              "\n",
              "    [theme=dark] .colab-df-convert:hover {\n",
              "      background-color: #434B5C;\n",
              "      box-shadow: 0px 1px 3px 1px rgba(0, 0, 0, 0.15);\n",
              "      filter: drop-shadow(0px 1px 2px rgba(0, 0, 0, 0.3));\n",
              "      fill: #FFFFFF;\n",
              "    }\n",
              "  </style>\n",
              "\n",
              "      <script>\n",
              "        const buttonEl =\n",
              "          document.querySelector('#df-28eb04fb-81fd-4299-b922-98b9f058e433 button.colab-df-convert');\n",
              "        buttonEl.style.display =\n",
              "          google.colab.kernel.accessAllowed ? 'block' : 'none';\n",
              "\n",
              "        async function convertToInteractive(key) {\n",
              "          const element = document.querySelector('#df-28eb04fb-81fd-4299-b922-98b9f058e433');\n",
              "          const dataTable =\n",
              "            await google.colab.kernel.invokeFunction('convertToInteractive',\n",
              "                                                     [key], {});\n",
              "          if (!dataTable) return;\n",
              "\n",
              "          const docLinkHtml = 'Like what you see? Visit the ' +\n",
              "            '<a target=\"_blank\" href=https://colab.research.google.com/notebooks/data_table.ipynb>data table notebook</a>'\n",
              "            + ' to learn more about interactive tables.';\n",
              "          element.innerHTML = '';\n",
              "          dataTable['output_type'] = 'display_data';\n",
              "          await google.colab.output.renderOutput(dataTable, element);\n",
              "          const docLink = document.createElement('div');\n",
              "          docLink.innerHTML = docLinkHtml;\n",
              "          element.appendChild(docLink);\n",
              "        }\n",
              "      </script>\n",
              "    </div>\n",
              "  </div>\n",
              "  "
            ],
            "text/plain": [
              "                                                Product  ... Rating_Stars\n",
              "2867                            Aqua Bomb Sleeping Mask  ...            5\n",
              "2885  Benefiance WrinkleResist24 Balancing Softener ...  ...            5\n",
              "2894          Bio Retinoid Anti-Wrinkle Concentrate Oil  ...            5\n",
              "2859         Black Tea Corset Cream Firming Moisturizer  ...            5\n",
              "2879                         Cleansing Spa Water Cloths  ...            5\n",
              "\n",
              "[5 rows x 5 columns]"
            ]
          },
          "metadata": {},
          "execution_count": 57
        }
      ],
      "source": [
        "#Correlation model using matrix factorisation\n",
        "def user_rec_bline_model(combined_features, recommendations=5, data=user_set):\n",
        "    \n",
        "    similarity = matrix.corrwith(matrix[combined_features])\n",
        "    correlation = pd.DataFrame(similarity, columns=['correlation'])\n",
        "    correlation.dropna(inplace=True)\n",
        "    skincare_copy = data.copy()\n",
        "\n",
        "    corr_features = pd.merge(\n",
        "        left=correlation, right=skincare_copy, on='combined_features')[['Product', 'Category', 'combined_features', 'correlation', 'Rating_Stars']].drop_duplicates().reset_index(drop=True)\n",
        "    result = corr_features[corr_features['correlation']==1.0].sort_values(by=['Rating_Stars', 'Product'], ascending=[False,True])\n",
        "    return result.head(recommendations)\n",
        "#testing the recommendations\n",
        "user_rec_bline_model('Dry, Medium, Brown, Brunette')"
      ]
    },
    {
      "cell_type": "code",
      "execution_count": null,
      "metadata": {
        "id": "HhyAs-0mP-I2"
      },
      "outputs": [],
      "source": [
        "# https://github.com/toscatle/skincare_recommender/blob/main/skincare_recommender_notebook.ipynb\n",
        "def skincare_rec(num, product_df, category=None, skin_type=None):\n",
        "    raw_userid = input('Enter ID: ')\n",
        "    rating_list = []\n",
        "    #filter df based on skin type/category and get new ratings\n",
        "    while num > 0:\n",
        "        if skin_type:\n",
        "            product_df = product_df[product_df[skin_type] == 1]\n",
        "        else:\n",
        "            product_df = product_df\n",
        "        if category:\n",
        "            product_df = product_df[product_df['Category'] == category]\n",
        "            product = product_df.sample(1)\n",
        "        else:\n",
        "            product = product_df.sample(1)\n",
        "        print(product[['Product', 'Brand', 'Price', 'Product_Url']])\n",
        "        rating = input(\n",
        "            'How do you rate this product on a scale of 1-5, press n if you have not used this before:\\n'\n",
        "        )\n",
        "        if rating == 'n':\n",
        "            continue\n",
        "        else:\n",
        "            rating_one_product = {\n",
        "                'User_id': raw_userid,\n",
        "                'Product_id': product['Product_id'].values[0],\n",
        "                'Rating_Stars': rating\n",
        "            }\n",
        "            rating_list.append(rating_one_product)\n",
        "            num -= 1\n",
        "\n",
        "    #add the new ratings to the original df\n",
        "    new_ratings_df = product_df[['User_id', 'Product_id',\n",
        "                                 'Rating_Stars']].append(rating_list,\n",
        "                                                         ignore_index=True)\n",
        "    new_data = Dataset.load_from_df(new_ratings_df, reader)\n",
        "    #train model on the new combined df\n",
        "    knn_baseline = knns.KNNBaseline(sim_options={\n",
        "        'name': 'pearson',\n",
        "        'user_based': False\n",
        "    })\n",
        "    knn_baseline.fit(new_data.build_full_trainset())\n",
        "    #make predictions for the customer; order the predictions from high to low\n",
        "    list_of_prods = []\n",
        "    for prod_id in product_df['Product_id'].unique():\n",
        "        list_of_prods.append(\n",
        "            (prod_id, knn_baseline.predict(raw_userid, prod_id)[3]))\n",
        "    ranked_prods = sorted(list_of_prods, key=lambda x: x[1], reverse=True)\n",
        "    #return the top n recommendations\n",
        "    num_prods = int(\n",
        "        input('How many products would you like to be recommended to you?\\n'))\n",
        "    for idx, rec in enumerate(ranked_prods):\n",
        "        name = product_df.loc[product_df['Product_id'] == int(\n",
        "            rec[0])]['Product']\n",
        "        print('Recommendation #', idx + 1, ': ', name.drop_duplicates(), '\\n')\n",
        "        num_prods -= 1\n",
        "        if num_prods == 0:\n",
        "            break"
      ]
    },
    {
      "cell_type": "code",
      "execution_count": null,
      "metadata": {
        "id": "tBNjAsn9UuuI",
        "colab": {
          "base_uri": "https://localhost:8080/"
        },
        "outputId": "5016509f-5351-4af3-eb16-3f77fdc170a8"
      },
      "outputs": [
        {
          "output_type": "stream",
          "name": "stdout",
          "text": [
            "Enter ID: 20\n",
            "                                  Product  ...                                        Product_Url\n",
            "1074  Water Drench Hyaluronic Cloud Cream  ...  https://www.sephora.com/product/water-drench-h...\n",
            "\n",
            "[1 rows x 4 columns]\n",
            "How do you rate this product on a scale of 1-5, press n if you have not used this before:\n",
            "4\n",
            "Estimating biases using als...\n",
            "Computing the pearson similarity matrix...\n",
            "Done computing similarity matrix.\n",
            "How many products would you like to be recommended to you?\n",
            "5\n",
            "Recommendation # 1 :  2206    Vine[activ] Overnight Detox Oil\n",
            "Name: Product, dtype: object \n",
            "\n",
            "Recommendation # 2 :  1826    Daily Reviving Concentrate\n",
            "Name: Product, dtype: object \n",
            "\n",
            "Recommendation # 3 :  988    Midnight Recovery Concentrate\n",
            "Name: Product, dtype: object \n",
            "\n",
            "Recommendation # 4 :  5158    POWER Recharging Night Pressed Serum\n",
            "Name: Product, dtype: object \n",
            "\n",
            "Recommendation # 5 :  769    The True Cream Aqua Bomb\n",
            "Name: Product, dtype: object \n",
            "\n"
          ]
        }
      ],
      "source": [
        "skincare_rec(1, skincare_data, 'Moisturizer', 'Oily')"
      ]
    },
    {
      "cell_type": "markdown",
      "source": [
        "Density-based clustering methods typically\n",
        "search for dense clusters of objects separated by sparse\n",
        "regions that represent noise. DBSCAN [79] and OPTICS\n",
        "[80] are well-known density-based clustering methods.\n",
        "\n",
        "\\textbf{consider Tree Augmented Naive Bayes by extended Logistic Regression}"
      ],
      "metadata": {
        "id": "z8heZqoMvEqQ"
      }
    },
    {
      "cell_type": "markdown",
      "source": [
        "## Streamlit app implementation"
      ],
      "metadata": {
        "id": "_sFJ55eFMfvi"
      }
    },
    {
      "cell_type": "code",
      "source": [
        "!pip install streamlit\n",
        "import streamlit as st"
      ],
      "metadata": {
        "colab": {
          "base_uri": "https://localhost:8080/",
          "height": 1000
        },
        "id": "XghzJJMWMkOq",
        "outputId": "5d370c69-c95f-48d0-ac71-949817409711"
      },
      "execution_count": null,
      "outputs": [
        {
          "output_type": "stream",
          "name": "stdout",
          "text": [
            "Collecting streamlit\n",
            "  Downloading streamlit-1.6.0-py2.py3-none-any.whl (9.7 MB)\n",
            "\u001b[K     |████████████████████████████████| 9.7 MB 14.5 MB/s \n",
            "\u001b[?25hCollecting gitpython!=3.1.19\n",
            "  Downloading GitPython-3.1.27-py3-none-any.whl (181 kB)\n",
            "\u001b[K     |████████████████████████████████| 181 kB 58.9 MB/s \n",
            "\u001b[?25hCollecting toml\n",
            "  Downloading toml-0.10.2-py2.py3-none-any.whl (16 kB)\n",
            "Collecting validators\n",
            "  Downloading validators-0.18.2-py3-none-any.whl (19 kB)\n",
            "Requirement already satisfied: packaging in /usr/local/lib/python3.7/dist-packages (from streamlit) (21.3)\n",
            "Requirement already satisfied: numpy in /usr/local/lib/python3.7/dist-packages (from streamlit) (1.21.5)\n",
            "Requirement already satisfied: requests in /usr/local/lib/python3.7/dist-packages (from streamlit) (2.23.0)\n",
            "Requirement already satisfied: python-dateutil in /usr/local/lib/python3.7/dist-packages (from streamlit) (2.8.2)\n",
            "Collecting pydeck>=0.1.dev5\n",
            "  Downloading pydeck-0.7.1-py2.py3-none-any.whl (4.3 MB)\n",
            "\u001b[K     |████████████████████████████████| 4.3 MB 47.4 MB/s \n",
            "\u001b[?25hRequirement already satisfied: click>=7.0 in /usr/local/lib/python3.7/dist-packages (from streamlit) (7.1.2)\n",
            "Requirement already satisfied: astor in /usr/local/lib/python3.7/dist-packages (from streamlit) (0.8.1)\n",
            "Requirement already satisfied: tornado>=5.0 in /usr/local/lib/python3.7/dist-packages (from streamlit) (5.1.1)\n",
            "Requirement already satisfied: importlib-metadata>=1.4 in /usr/local/lib/python3.7/dist-packages (from streamlit) (4.11.1)\n",
            "Requirement already satisfied: cachetools>=4.0 in /usr/local/lib/python3.7/dist-packages (from streamlit) (4.2.4)\n",
            "Requirement already satisfied: pyarrow in /usr/local/lib/python3.7/dist-packages (from streamlit) (6.0.1)\n",
            "Requirement already satisfied: pandas>=0.21.0 in /usr/local/lib/python3.7/dist-packages (from streamlit) (1.3.5)\n",
            "Requirement already satisfied: altair>=3.2.0 in /usr/local/lib/python3.7/dist-packages (from streamlit) (4.2.0)\n",
            "Requirement already satisfied: tzlocal in /usr/local/lib/python3.7/dist-packages (from streamlit) (1.5.1)\n",
            "Requirement already satisfied: pillow>=6.2.0 in /usr/local/lib/python3.7/dist-packages (from streamlit) (7.1.2)\n",
            "Requirement already satisfied: attrs in /usr/local/lib/python3.7/dist-packages (from streamlit) (21.4.0)\n",
            "Collecting base58\n",
            "  Downloading base58-2.1.1-py3-none-any.whl (5.6 kB)\n",
            "Requirement already satisfied: typing-extensions in /usr/local/lib/python3.7/dist-packages (from streamlit) (3.10.0.2)\n",
            "Collecting blinker\n",
            "  Downloading blinker-1.4.tar.gz (111 kB)\n",
            "\u001b[K     |████████████████████████████████| 111 kB 74.4 MB/s \n",
            "\u001b[?25hCollecting watchdog\n",
            "  Downloading watchdog-2.1.6-py3-none-manylinux2014_x86_64.whl (76 kB)\n",
            "\u001b[K     |████████████████████████████████| 76 kB 5.2 MB/s \n",
            "\u001b[?25hRequirement already satisfied: semver in /usr/local/lib/python3.7/dist-packages (from streamlit) (2.13.0)\n",
            "Collecting pympler>=0.9\n",
            "  Downloading Pympler-1.0.1-py3-none-any.whl (164 kB)\n",
            "\u001b[K     |████████████████████████████████| 164 kB 75.8 MB/s \n",
            "\u001b[?25hRequirement already satisfied: protobuf!=3.11,>=3.6.0 in /usr/local/lib/python3.7/dist-packages (from streamlit) (3.17.3)\n",
            "Requirement already satisfied: entrypoints in /usr/local/lib/python3.7/dist-packages (from altair>=3.2.0->streamlit) (0.4)\n",
            "Requirement already satisfied: toolz in /usr/local/lib/python3.7/dist-packages (from altair>=3.2.0->streamlit) (0.11.2)\n",
            "Requirement already satisfied: jinja2 in /usr/local/lib/python3.7/dist-packages (from altair>=3.2.0->streamlit) (2.11.3)\n",
            "Requirement already satisfied: jsonschema>=3.0 in /usr/local/lib/python3.7/dist-packages (from altair>=3.2.0->streamlit) (4.3.3)\n",
            "Collecting gitdb<5,>=4.0.1\n",
            "  Downloading gitdb-4.0.9-py3-none-any.whl (63 kB)\n",
            "\u001b[K     |████████████████████████████████| 63 kB 1.7 MB/s \n",
            "\u001b[?25hCollecting smmap<6,>=3.0.1\n",
            "  Downloading smmap-5.0.0-py3-none-any.whl (24 kB)\n",
            "Requirement already satisfied: zipp>=0.5 in /usr/local/lib/python3.7/dist-packages (from importlib-metadata>=1.4->streamlit) (3.7.0)\n",
            "Requirement already satisfied: importlib-resources>=1.4.0 in /usr/local/lib/python3.7/dist-packages (from jsonschema>=3.0->altair>=3.2.0->streamlit) (5.4.0)\n",
            "Requirement already satisfied: pyrsistent!=0.17.0,!=0.17.1,!=0.17.2,>=0.14.0 in /usr/local/lib/python3.7/dist-packages (from jsonschema>=3.0->altair>=3.2.0->streamlit) (0.18.1)\n",
            "Requirement already satisfied: pytz>=2017.3 in /usr/local/lib/python3.7/dist-packages (from pandas>=0.21.0->streamlit) (2018.9)\n",
            "Requirement already satisfied: six>=1.9 in /usr/local/lib/python3.7/dist-packages (from protobuf!=3.11,>=3.6.0->streamlit) (1.15.0)\n",
            "Requirement already satisfied: ipywidgets>=7.0.0 in /usr/local/lib/python3.7/dist-packages (from pydeck>=0.1.dev5->streamlit) (7.6.5)\n",
            "Requirement already satisfied: traitlets>=4.3.2 in /usr/local/lib/python3.7/dist-packages (from pydeck>=0.1.dev5->streamlit) (5.1.1)\n",
            "Collecting ipykernel>=5.1.2\n",
            "  Downloading ipykernel-6.9.1-py3-none-any.whl (128 kB)\n",
            "\u001b[K     |████████████████████████████████| 128 kB 72.3 MB/s \n",
            "\u001b[?25hCollecting ipython>=7.23.1\n",
            "  Downloading ipython-7.32.0-py3-none-any.whl (793 kB)\n",
            "\u001b[K     |████████████████████████████████| 793 kB 65.5 MB/s \n",
            "\u001b[?25hRequirement already satisfied: debugpy<2.0,>=1.0.0 in /usr/local/lib/python3.7/dist-packages (from ipykernel>=5.1.2->pydeck>=0.1.dev5->streamlit) (1.0.0)\n",
            "Requirement already satisfied: matplotlib-inline<0.2.0,>=0.1.0 in /usr/local/lib/python3.7/dist-packages (from ipykernel>=5.1.2->pydeck>=0.1.dev5->streamlit) (0.1.3)\n",
            "Requirement already satisfied: nest-asyncio in /usr/local/lib/python3.7/dist-packages (from ipykernel>=5.1.2->pydeck>=0.1.dev5->streamlit) (1.5.4)\n",
            "Requirement already satisfied: jupyter-client<8.0 in /usr/local/lib/python3.7/dist-packages (from ipykernel>=5.1.2->pydeck>=0.1.dev5->streamlit) (5.3.5)\n",
            "Requirement already satisfied: decorator in /usr/local/lib/python3.7/dist-packages (from ipython>=7.23.1->ipykernel>=5.1.2->pydeck>=0.1.dev5->streamlit) (4.4.2)\n",
            "Requirement already satisfied: pexpect>4.3 in /usr/local/lib/python3.7/dist-packages (from ipython>=7.23.1->ipykernel>=5.1.2->pydeck>=0.1.dev5->streamlit) (4.8.0)\n",
            "Requirement already satisfied: backcall in /usr/local/lib/python3.7/dist-packages (from ipython>=7.23.1->ipykernel>=5.1.2->pydeck>=0.1.dev5->streamlit) (0.2.0)\n",
            "Requirement already satisfied: jedi>=0.16 in /usr/local/lib/python3.7/dist-packages (from ipython>=7.23.1->ipykernel>=5.1.2->pydeck>=0.1.dev5->streamlit) (0.18.1)\n",
            "Requirement already satisfied: pickleshare in /usr/local/lib/python3.7/dist-packages (from ipython>=7.23.1->ipykernel>=5.1.2->pydeck>=0.1.dev5->streamlit) (0.7.5)\n",
            "Requirement already satisfied: setuptools>=18.5 in /usr/local/lib/python3.7/dist-packages (from ipython>=7.23.1->ipykernel>=5.1.2->pydeck>=0.1.dev5->streamlit) (57.4.0)\n",
            "Collecting prompt-toolkit!=3.0.0,!=3.0.1,<3.1.0,>=2.0.0\n",
            "  Downloading prompt_toolkit-3.0.28-py3-none-any.whl (380 kB)\n",
            "\u001b[K     |████████████████████████████████| 380 kB 77.6 MB/s \n",
            "\u001b[?25hRequirement already satisfied: pygments in /usr/local/lib/python3.7/dist-packages (from ipython>=7.23.1->ipykernel>=5.1.2->pydeck>=0.1.dev5->streamlit) (2.6.1)\n",
            "Requirement already satisfied: jupyterlab-widgets>=1.0.0 in /usr/local/lib/python3.7/dist-packages (from ipywidgets>=7.0.0->pydeck>=0.1.dev5->streamlit) (1.0.2)\n",
            "Requirement already satisfied: nbformat>=4.2.0 in /usr/local/lib/python3.7/dist-packages (from ipywidgets>=7.0.0->pydeck>=0.1.dev5->streamlit) (5.1.3)\n",
            "Requirement already satisfied: ipython-genutils~=0.2.0 in /usr/local/lib/python3.7/dist-packages (from ipywidgets>=7.0.0->pydeck>=0.1.dev5->streamlit) (0.2.0)\n",
            "Requirement already satisfied: widgetsnbextension~=3.5.0 in /usr/local/lib/python3.7/dist-packages (from ipywidgets>=7.0.0->pydeck>=0.1.dev5->streamlit) (3.5.2)\n",
            "Requirement already satisfied: parso<0.9.0,>=0.8.0 in /usr/local/lib/python3.7/dist-packages (from jedi>=0.16->ipython>=7.23.1->ipykernel>=5.1.2->pydeck>=0.1.dev5->streamlit) (0.8.3)\n",
            "Requirement already satisfied: MarkupSafe>=0.23 in /usr/local/lib/python3.7/dist-packages (from jinja2->altair>=3.2.0->streamlit) (2.0.1)\n",
            "Requirement already satisfied: jupyter-core>=4.6.0 in /usr/local/lib/python3.7/dist-packages (from jupyter-client<8.0->ipykernel>=5.1.2->pydeck>=0.1.dev5->streamlit) (4.9.2)\n",
            "Requirement already satisfied: pyzmq>=13 in /usr/local/lib/python3.7/dist-packages (from jupyter-client<8.0->ipykernel>=5.1.2->pydeck>=0.1.dev5->streamlit) (22.3.0)\n",
            "Requirement already satisfied: ptyprocess>=0.5 in /usr/local/lib/python3.7/dist-packages (from pexpect>4.3->ipython>=7.23.1->ipykernel>=5.1.2->pydeck>=0.1.dev5->streamlit) (0.7.0)\n",
            "Requirement already satisfied: wcwidth in /usr/local/lib/python3.7/dist-packages (from prompt-toolkit!=3.0.0,!=3.0.1,<3.1.0,>=2.0.0->ipython>=7.23.1->ipykernel>=5.1.2->pydeck>=0.1.dev5->streamlit) (0.2.5)\n",
            "Requirement already satisfied: notebook>=4.4.1 in /usr/local/lib/python3.7/dist-packages (from widgetsnbextension~=3.5.0->ipywidgets>=7.0.0->pydeck>=0.1.dev5->streamlit) (5.3.1)\n",
            "Requirement already satisfied: nbconvert in /usr/local/lib/python3.7/dist-packages (from notebook>=4.4.1->widgetsnbextension~=3.5.0->ipywidgets>=7.0.0->pydeck>=0.1.dev5->streamlit) (5.6.1)\n",
            "Requirement already satisfied: Send2Trash in /usr/local/lib/python3.7/dist-packages (from notebook>=4.4.1->widgetsnbextension~=3.5.0->ipywidgets>=7.0.0->pydeck>=0.1.dev5->streamlit) (1.8.0)\n",
            "Requirement already satisfied: terminado>=0.8.1 in /usr/local/lib/python3.7/dist-packages (from notebook>=4.4.1->widgetsnbextension~=3.5.0->ipywidgets>=7.0.0->pydeck>=0.1.dev5->streamlit) (0.13.1)\n",
            "Requirement already satisfied: pandocfilters>=1.4.1 in /usr/local/lib/python3.7/dist-packages (from nbconvert->notebook>=4.4.1->widgetsnbextension~=3.5.0->ipywidgets>=7.0.0->pydeck>=0.1.dev5->streamlit) (1.5.0)\n",
            "Requirement already satisfied: bleach in /usr/local/lib/python3.7/dist-packages (from nbconvert->notebook>=4.4.1->widgetsnbextension~=3.5.0->ipywidgets>=7.0.0->pydeck>=0.1.dev5->streamlit) (4.1.0)\n",
            "Requirement already satisfied: mistune<2,>=0.8.1 in /usr/local/lib/python3.7/dist-packages (from nbconvert->notebook>=4.4.1->widgetsnbextension~=3.5.0->ipywidgets>=7.0.0->pydeck>=0.1.dev5->streamlit) (0.8.4)\n",
            "Requirement already satisfied: defusedxml in /usr/local/lib/python3.7/dist-packages (from nbconvert->notebook>=4.4.1->widgetsnbextension~=3.5.0->ipywidgets>=7.0.0->pydeck>=0.1.dev5->streamlit) (0.7.1)\n",
            "Requirement already satisfied: testpath in /usr/local/lib/python3.7/dist-packages (from nbconvert->notebook>=4.4.1->widgetsnbextension~=3.5.0->ipywidgets>=7.0.0->pydeck>=0.1.dev5->streamlit) (0.5.0)\n",
            "Requirement already satisfied: webencodings in /usr/local/lib/python3.7/dist-packages (from bleach->nbconvert->notebook>=4.4.1->widgetsnbextension~=3.5.0->ipywidgets>=7.0.0->pydeck>=0.1.dev5->streamlit) (0.5.1)\n",
            "Requirement already satisfied: pyparsing!=3.0.5,>=2.0.2 in /usr/local/lib/python3.7/dist-packages (from packaging->streamlit) (3.0.7)\n",
            "Requirement already satisfied: idna<3,>=2.5 in /usr/local/lib/python3.7/dist-packages (from requests->streamlit) (2.10)\n",
            "Requirement already satisfied: certifi>=2017.4.17 in /usr/local/lib/python3.7/dist-packages (from requests->streamlit) (2021.10.8)\n",
            "Requirement already satisfied: chardet<4,>=3.0.2 in /usr/local/lib/python3.7/dist-packages (from requests->streamlit) (3.0.4)\n",
            "Requirement already satisfied: urllib3!=1.25.0,!=1.25.1,<1.26,>=1.21.1 in /usr/local/lib/python3.7/dist-packages (from requests->streamlit) (1.24.3)\n",
            "Building wheels for collected packages: blinker\n",
            "  Building wheel for blinker (setup.py) ... \u001b[?25l\u001b[?25hdone\n",
            "  Created wheel for blinker: filename=blinker-1.4-py3-none-any.whl size=13478 sha256=73994f0e32629e644c4002237ff54b5873f32e2756739c43945f75f38f8586e7\n",
            "  Stored in directory: /root/.cache/pip/wheels/22/f5/18/df711b66eb25b21325c132757d4314db9ac5e8dabeaf196eab\n",
            "Successfully built blinker\n",
            "Installing collected packages: prompt-toolkit, ipython, ipykernel, smmap, gitdb, watchdog, validators, toml, pympler, pydeck, gitpython, blinker, base58, streamlit\n",
            "  Attempting uninstall: prompt-toolkit\n",
            "    Found existing installation: prompt-toolkit 1.0.18\n",
            "    Uninstalling prompt-toolkit-1.0.18:\n",
            "      Successfully uninstalled prompt-toolkit-1.0.18\n",
            "  Attempting uninstall: ipython\n",
            "    Found existing installation: ipython 5.5.0\n",
            "    Uninstalling ipython-5.5.0:\n",
            "      Successfully uninstalled ipython-5.5.0\n",
            "  Attempting uninstall: ipykernel\n",
            "    Found existing installation: ipykernel 4.10.1\n",
            "    Uninstalling ipykernel-4.10.1:\n",
            "      Successfully uninstalled ipykernel-4.10.1\n",
            "\u001b[31mERROR: pip's dependency resolver does not currently take into account all the packages that are installed. This behaviour is the source of the following dependency conflicts.\n",
            "jupyter-console 5.2.0 requires prompt-toolkit<2.0.0,>=1.0.0, but you have prompt-toolkit 3.0.28 which is incompatible.\n",
            "google-colab 1.0.0 requires ipykernel~=4.10, but you have ipykernel 6.9.1 which is incompatible.\n",
            "google-colab 1.0.0 requires ipython~=5.5.0, but you have ipython 7.32.0 which is incompatible.\u001b[0m\n",
            "Successfully installed base58-2.1.1 blinker-1.4 gitdb-4.0.9 gitpython-3.1.27 ipykernel-6.9.1 ipython-7.32.0 prompt-toolkit-3.0.28 pydeck-0.7.1 pympler-1.0.1 smmap-5.0.0 streamlit-1.6.0 toml-0.10.2 validators-0.18.2 watchdog-2.1.6\n"
          ]
        },
        {
          "output_type": "display_data",
          "data": {
            "application/vnd.colab-display-data+json": {
              "pip_warning": {
                "packages": [
                  "IPython",
                  "ipykernel",
                  "prompt_toolkit"
                ]
              }
            }
          },
          "metadata": {}
        }
      ]
    }
  ],
  "metadata": {
    "colab": {
      "collapsed_sections": [
        "3B57rc0RAYQZ"
      ],
      "machine_shape": "hm",
      "name": "Skincare_Recommender_System_CL",
      "provenance": [],
      "include_colab_link": true
    },
    "kernelspec": {
      "display_name": "Python 3",
      "name": "python3"
    },
    "language_info": {
      "name": "python"
    }
  },
  "nbformat": 4,
  "nbformat_minor": 0
}